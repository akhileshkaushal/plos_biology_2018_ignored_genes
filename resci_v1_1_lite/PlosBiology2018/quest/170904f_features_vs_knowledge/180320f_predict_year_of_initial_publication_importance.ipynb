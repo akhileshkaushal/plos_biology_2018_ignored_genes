{
 "cells": [
  {
   "cell_type": "code",
   "execution_count": 1,
   "metadata": {},
   "outputs": [],
   "source": [
    "%matplotlib inline  \n",
    "%reload_ext autoreload\n",
    "%autoreload 2"
   ]
  },
  {
   "cell_type": "code",
   "execution_count": 2,
   "metadata": {},
   "outputs": [],
   "source": [
    "import os\n",
    "import sys\n",
    "\n",
    "import numpy as np\n",
    "import pandas as pd\n",
    "\n",
    "from access_science_shared import standardizer\n",
    "from access_literature_data import medline\n",
    "\n",
    "sys.path.append('./../../src')\n",
    "\n",
    "import resci_inout as inout\n",
    "import nar170902_discovery_year as nar_discovery\n",
    "import nar170823f_prediction_datasets as pred\n",
    "import nar170830f_predictions as pred_manager"
   ]
  },
  {
   "cell_type": "markdown",
   "metadata": {},
   "source": [
    "# Shared settings"
   ]
  },
  {
   "cell_type": "code",
   "execution_count": 3,
   "metadata": {},
   "outputs": [],
   "source": [
    "project_base = '180320f_predict_year_of_initial_publication_importance'\n",
    "date_stamp = '180320'"
   ]
  },
  {
   "cell_type": "code",
   "execution_count": 4,
   "metadata": {},
   "outputs": [],
   "source": [
    "taxon_id = 9606\n",
    "ref_genes = standardizer.reference_genes(taxon_id, 'orp')\n",
    "df_targets = nar_discovery.get_year_of_discovery(taxon_id, ref_genes)\n",
    "\n",
    "\n",
    "def maker(sub_name, u_features, df_target):\n",
    "    pred_manager.make_base(\n",
    "        project_base = project_base,\n",
    "        sub_name = sub_name,\n",
    "        ref_genes = ref_genes,\n",
    "        u_features = u_features,\n",
    "        df_target = df_target)"
   ]
  },
  {
   "cell_type": "markdown",
   "metadata": {},
   "source": [
    "# Specific datasets"
   ]
  },
  {
   "cell_type": "code",
   "execution_count": 5,
   "metadata": {},
   "outputs": [
    {
     "name": "stderr",
     "output_type": "stream",
     "text": [
      "./../../src/resci_formatting_language.py:49: FutureWarning: \n",
      "Passing list-likes to .loc or [] with any missing label will raise\n",
      "KeyError in the future, you can use .reindex() as an alternative.\n",
      "\n",
      "See the documentation here:\n",
      "http://pandas.pydata.org/pandas-docs/stable/indexing.html#deprecate-loc-reindex-listlike\n",
      "  df = df.loc[ref_index, :]\n",
      "/Users/tstoeger/apps/anaconda/anaconda3/lib/python3.6/site-packages/pandas/core/indexing.py:1367: FutureWarning: \n",
      "Passing list-likes to .loc or [] with any missing label will raise\n",
      "KeyError in the future, you can use .reindex() as an alternative.\n",
      "\n",
      "See the documentation here:\n",
      "http://pandas.pydata.org/pandas-docs/stable/indexing.html#deprecate-loc-reindex-listlike\n",
      "  return self._getitem_tuple(key)\n"
     ]
    }
   ],
   "source": [
    "for feature_to_predict in ['first_year', 'first_solo_year']:\n",
    "        \n",
    "\n",
    "\n",
    "\n",
    "    sub_name = '{}_human_BioExp_{}'.format(date_stamp, feature_to_predict)\n",
    "    u = {\n",
    "         **pred.retreive_biophysics(ref_genes, taxon_id),\n",
    "         **pred.retreive_human_experiments(ref_genes, taxon_id)\n",
    "    }\n",
    "    maker(\n",
    "        sub_name = sub_name,\n",
    "        u_features = u,\n",
    "        df_target = df_targets[[feature_to_predict]]\n",
    "    )\n",
    "\n",
    "\n",
    "\n"
   ]
  },
  {
   "cell_type": "code",
   "execution_count": null,
   "metadata": {},
   "outputs": [],
   "source": []
  }
 ],
 "metadata": {
  "kernelspec": {
   "display_name": "Python 3",
   "language": "python",
   "name": "python3"
  },
  "language_info": {
   "codemirror_mode": {
    "name": "ipython",
    "version": 3
   },
   "file_extension": ".py",
   "mimetype": "text/x-python",
   "name": "python",
   "nbconvert_exporter": "python",
   "pygments_lexer": "ipython3",
   "version": "3.6.4"
  }
 },
 "nbformat": 4,
 "nbformat_minor": 2
}
