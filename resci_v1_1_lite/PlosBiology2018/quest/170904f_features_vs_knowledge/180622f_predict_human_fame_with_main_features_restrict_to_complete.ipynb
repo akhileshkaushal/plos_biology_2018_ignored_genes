{
 "cells": [
  {
   "cell_type": "code",
   "execution_count": 1,
   "metadata": {},
   "outputs": [],
   "source": [
    "%matplotlib inline  \n",
    "%reload_ext autoreload\n",
    "%autoreload 2"
   ]
  },
  {
   "cell_type": "code",
   "execution_count": 2,
   "metadata": {},
   "outputs": [],
   "source": [
    "import os\n",
    "import sys\n",
    "\n",
    "import numpy as np\n",
    "import pandas as pd\n",
    "\n",
    "from access_science_shared import standardizer\n",
    "from access_literature_data import medline\n",
    "\n",
    "sys.path.append('./../../src')\n",
    "\n",
    "import resci_inout as inout\n",
    "import nar170604f_occurences as nar_attention\n",
    "import nar170823f_prediction_datasets as pred\n",
    "import nar170830f_predictions as pred_manager"
   ]
  },
  {
   "cell_type": "markdown",
   "metadata": {},
   "source": [
    "# Shared settings"
   ]
  },
  {
   "cell_type": "code",
   "execution_count": 3,
   "metadata": {},
   "outputs": [],
   "source": [
    "project_base = '180622f_predict_human_fame_with_main_features_restrict_to_complete'\n",
    "date_stamp = '180622'"
   ]
  },
  {
   "cell_type": "code",
   "execution_count": 4,
   "metadata": {},
   "outputs": [],
   "source": [
    "taxon_id = 9606\n",
    "ref_genes = standardizer.reference_genes(taxon_id, 'orp')"
   ]
  },
  {
   "cell_type": "code",
   "execution_count": 5,
   "metadata": {},
   "outputs": [],
   "source": [
    "p = (\n",
    "    '/Users/tstoeger/Dropbox/Work/dynamic/resci_support_data/'\n",
    "    '170923f_predict_human_fame/170923_human_BioExp_log_papers/input/target.csv.gz')"
   ]
  },
  {
   "cell_type": "code",
   "execution_count": 6,
   "metadata": {},
   "outputs": [],
   "source": [
    "df = pd.read_csv(p)"
   ]
  },
  {
   "cell_type": "code",
   "execution_count": 7,
   "metadata": {},
   "outputs": [],
   "source": [
    "ref_genes = list(df['gene_ncbi'].values)"
   ]
  },
  {
   "cell_type": "code",
   "execution_count": 8,
   "metadata": {},
   "outputs": [],
   "source": [
    "# taxon_id = 9606\n",
    "# ref_genes = standardizer.reference_genes(taxon_id, 'orp')\n",
    "\n",
    "gene2pubmed = medline.gene2pubmed(taxon_id, paper_kind='research', ref_genes = ref_genes)\n",
    "df_targets = nar_attention.count_papers_and_attention(ref_genes, gene2pubmed)\n",
    "\n",
    "target_normalizer = lambda x: np.log10(x)\n",
    "\n",
    "def maker(sub_name, u_features, df_target, target_normalizer):\n",
    "    pred_manager.make_base(\n",
    "        project_base = project_base,\n",
    "        sub_name = sub_name,\n",
    "        ref_genes = ref_genes,\n",
    "        u_features = u_features,\n",
    "        df_target = df_target.applymap(target_normalizer))\n",
    "    \n",
    "def get_u(list_of_categories, allowed_features):\n",
    "    u = {}\n",
    "    for x in list_of_categories:\n",
    "        u.update(features[x])\n",
    "        \n",
    "    if allowed_features != 'any':\n",
    "        n = {}\n",
    "        for k, v in u.items():\n",
    "            f = v.columns.isin(allowed_features)\n",
    "            if any(f):\n",
    "                n[k] = v.loc[:, f]      \n",
    "        u = n\n",
    "\n",
    "    return u\n",
    "\n",
    "def supermaker(of_interest, feature_to_predict, allowed_features):\n",
    "    sub_name = '{}_human_{}_log_{}'.format(date_stamp, ''.join(of_interest), feature_to_predict)\n",
    "    u_all = get_u(of_interest, allowed_features)\n",
    "    maker(sub_name, u_all, df_targets[[feature_to_predict]], target_normalizer)"
   ]
  },
  {
   "cell_type": "markdown",
   "metadata": {},
   "source": [
    "# Specific datasets"
   ]
  },
  {
   "cell_type": "code",
   "execution_count": 9,
   "metadata": {},
   "outputs": [],
   "source": [
    "# The fifteen features identified to be most important\n",
    "features_to_use = [\n",
    "    'Population variability Lek mis_z',\n",
    "    'SignalP_swiss_or_trembl: cmax',\n",
    "    'uhlen_2015_cells_log10fpkm: appendices_4b',\n",
    "    'Population variability Lek lof_z',\n",
    "    'uhlen_2015_cells_log10fpkm: liver_c',\n",
    "    'Genbank__gene: SumACGT',\n",
    "    'uhlen_2015_cells_log10fpkm: brain_3c',\n",
    "    'uhlen_2015_fraction_detection_tissues',\n",
    "    'Population variability Lek pNull',\n",
    "    'Protein Itzhak Itzhak2016_Contribution to cell protein mass [ppm]',\n",
    "    'uhlen_2015_cells_log10fpkm: adrenal_4d',\n",
    "    'Aminoacids_swiss_or_trembl: gravy_ignoring_O_and_U',\n",
    "    'Wang2015: KBM7 CS', 'Aminoacids_swiss_or_trembl: basic',\n",
    "    'Genbank_validated_RNA: full_SumACGT']"
   ]
  },
  {
   "cell_type": "code",
   "execution_count": 10,
   "metadata": {},
   "outputs": [
    {
     "name": "stderr",
     "output_type": "stream",
     "text": [
      "/Users/tstoeger/apps/anaconda/anaconda3/lib/python3.6/site-packages/pandas/core/indexing.py:1472: FutureWarning: \n",
      "Passing list-likes to .loc or [] with any missing label will raise\n",
      "KeyError in the future, you can use .reindex() as an alternative.\n",
      "\n",
      "See the documentation here:\n",
      "https://pandas.pydata.org/pandas-docs/stable/indexing.html#deprecate-loc-reindex-listlike\n",
      "  return self._getitem_tuple(key)\n"
     ]
    },
    {
     "name": "stdout",
     "output_type": "stream",
     "text": [
      "CPU times: user 22 s, sys: 1.38 s, total: 23.4 s\n",
      "Wall time: 16.9 s\n"
     ]
    }
   ],
   "source": [
    "%%time\n",
    "features = {\n",
    "    'Bio': pred.retreive_biophysics(ref_genes, taxon_id),\n",
    "    'Exp': pred.retreive_human_experiments(ref_genes, taxon_id),\n",
    "}"
   ]
  },
  {
   "cell_type": "code",
   "execution_count": 11,
   "metadata": {},
   "outputs": [
    {
     "name": "stdout",
     "output_type": "stream",
     "text": [
      "CPU times: user 1.38 s, sys: 38.3 ms, total: 1.41 s\n",
      "Wall time: 862 ms\n"
     ]
    }
   ],
   "source": [
    "%%time\n",
    "for feature_to_predict in ['papers']:\n",
    "\n",
    "    supermaker([\n",
    "        'Bio',\n",
    "        'Exp',\n",
    "    ], feature_to_predict, features_to_use)\n",
    "    "
   ]
  },
  {
   "cell_type": "code",
   "execution_count": 12,
   "metadata": {},
   "outputs": [
    {
     "name": "stdout",
     "output_type": "stream",
     "text": [
      "done\n"
     ]
    }
   ],
   "source": [
    "print('done')"
   ]
  },
  {
   "cell_type": "code",
   "execution_count": null,
   "metadata": {},
   "outputs": [],
   "source": []
  }
 ],
 "metadata": {
  "kernelspec": {
   "display_name": "Python 3",
   "language": "python",
   "name": "python3"
  },
  "language_info": {
   "codemirror_mode": {
    "name": "ipython",
    "version": 3
   },
   "file_extension": ".py",
   "mimetype": "text/x-python",
   "name": "python",
   "nbconvert_exporter": "python",
   "pygments_lexer": "ipython3",
   "version": "3.6.5"
  }
 },
 "nbformat": 4,
 "nbformat_minor": 2
}
