{
 "cells": [
  {
   "cell_type": "code",
   "execution_count": 1,
   "metadata": {
    "collapsed": true
   },
   "outputs": [],
   "source": [
    "%matplotlib inline  \n",
    "%reload_ext autoreload\n",
    "%autoreload 2"
   ]
  },
  {
   "cell_type": "code",
   "execution_count": 2,
   "metadata": {
    "collapsed": true
   },
   "outputs": [],
   "source": [
    "import os\n",
    "import sys\n",
    "\n",
    "import numpy as np\n",
    "import pandas as pd\n",
    "\n",
    "from access_science_shared import standardizer\n",
    "from access_literature_data import medline\n",
    "\n",
    "sys.path.append('./../../src')\n",
    "\n",
    "import resci_inout as inout\n",
    "import nar170604f_occurences as nar_attention\n",
    "import nar170823f_prediction_datasets as pred\n",
    "import nar170830f_predictions as pred_manager"
   ]
  },
  {
   "cell_type": "markdown",
   "metadata": {},
   "source": [
    "# Shared settings"
   ]
  },
  {
   "cell_type": "code",
   "execution_count": 3,
   "metadata": {
    "collapsed": true
   },
   "outputs": [],
   "source": [
    "project_base = '170919f_predict_human_fame'\n",
    "date_stamp = '170919'"
   ]
  },
  {
   "cell_type": "code",
   "execution_count": 4,
   "metadata": {
    "collapsed": true
   },
   "outputs": [],
   "source": [
    "taxon_id = 9606\n",
    "ref_genes = standardizer.reference_genes(taxon_id, 'orp')\n",
    "\n",
    "gene2pubmed = medline.gene2pubmed(taxon_id, paper_kind='research', ref_genes = ref_genes)\n",
    "df_targets = nar_attention.count_papers_and_attention(ref_genes, gene2pubmed)\n",
    "\n",
    "target_normalizer = lambda x: np.log10(x)\n",
    "\n",
    "def maker(sub_name, u_features, df_target, target_normalizer):\n",
    "    pred_manager.make_base(\n",
    "        project_base = project_base,\n",
    "        sub_name = sub_name,\n",
    "        ref_genes = ref_genes,\n",
    "        u_features = u_features,\n",
    "        df_target = df_target.applymap(target_normalizer))\n",
    "    \n",
    "def get_u(list_of_categories):\n",
    "    u = {}\n",
    "    for x in list_of_categories:\n",
    "        u.update(features[x])\n",
    "    return u\n",
    "\n",
    "def supermaker(of_interest, feature_to_predict):\n",
    "    sub_name = '{}_human_{}_log_{}'.format(date_stamp, ''.join(of_interest), feature_to_predict)\n",
    "    u_all = get_u(of_interest)\n",
    "    maker(sub_name, u_all, df_targets[[feature_to_predict]], target_normalizer)"
   ]
  },
  {
   "cell_type": "markdown",
   "metadata": {},
   "source": [
    "# Specific datasets"
   ]
  },
  {
   "cell_type": "code",
   "execution_count": 5,
   "metadata": {},
   "outputs": [
    {
     "name": "stdout",
     "output_type": "stream",
     "text": [
      "CPU times: user 2min 36s, sys: 50.3 s, total: 3min 27s\n",
      "Wall time: 3min 27s\n"
     ]
    }
   ],
   "source": [
    "%%time\n",
    "features = {\n",
    "    'Bio': pred.retreive_biophysics(ref_genes, taxon_id),\n",
    "    'Exp': pred.retreive_human_experiments(ref_genes, taxon_id),\n",
    "    'Reg': pred.retreive_human_regulators(ref_genes, taxon_id),\n",
    "    # 'Rel': pred.retreive_related_genes(ref_genes, taxon_id),\n",
    "    'Relhom': pred.retreive_related_homologenes(ref_genes, taxon_id),\n",
    "    'Relint': pred.retreive_related_interactors(ref_genes, taxon_id),\n",
    "    # 'Dis': pred.retreive_human_disease(ref_genes, taxon_id),\n",
    "    # 'Dom': pred.retreive_domains(ref_genes, taxon_id),\n",
    "    'Yearhomprec': pred.retreive_homologene_discoveries(ref_genes, taxon_id),\n",
    "    'Yearhomall': pred.retreive_homologene_description(ref_genes, taxon_id),\n",
    "    'Yearfirstpaper': pred.retreive_years_of_first_paper(ref_genes, taxon_id),\n",
    "    'Lithom': pred.retreive_homologene_literature(ref_genes, taxon_id),\n",
    "    'Litint': pred.retreive_literature_of_rolland_2014_interactors(ref_genes, taxon_id),\n",
    "}"
   ]
  },
  {
   "cell_type": "code",
   "execution_count": 6,
   "metadata": {},
   "outputs": [
    {
     "name": "stdout",
     "output_type": "stream",
     "text": [
      "CPU times: user 9min 25s, sys: 13.9 s, total: 9min 39s\n",
      "Wall time: 9min 41s\n"
     ]
    }
   ],
   "source": [
    "%%time\n",
    "for feature_to_predict in ['attention', 'papers']:\n",
    "       \n",
    "    supermaker([\n",
    "        'Bio'       \n",
    "    ], feature_to_predict)\n",
    "    \n",
    "    supermaker([\n",
    "        'Exp'       \n",
    "    ], feature_to_predict)\n",
    "        \n",
    "    supermaker([\n",
    "        'Reg'       \n",
    "    ], feature_to_predict)\n",
    "    \n",
    "    supermaker([\n",
    "        'Relhom'       \n",
    "    ], feature_to_predict)\n",
    "    \n",
    "    supermaker([\n",
    "        'Relint'       \n",
    "    ], feature_to_predict)\n",
    "    \n",
    "    supermaker([\n",
    "        'Yearhomall'       \n",
    "    ], feature_to_predict)\n",
    "\n",
    "    supermaker([\n",
    "        'Yearfirstpaper'       \n",
    "    ], feature_to_predict)\n",
    "    \n",
    "    supermaker([\n",
    "        'Lithom'       \n",
    "    ], feature_to_predict)\n",
    "        \n",
    "    supermaker([\n",
    "        'Litint'       \n",
    "    ], feature_to_predict)\n",
    "        \n",
    "    supermaker([\n",
    "        'Bio',\n",
    "        'Exp',\n",
    "    ], feature_to_predict)\n",
    "    \n",
    "    \n",
    "    for g in ['Relhom', 'Relint']:\n",
    "        supermaker([\n",
    "            'Bio',\n",
    "            'Exp',\n",
    "            g,\n",
    "        ], feature_to_predict)\n",
    "\n",
    "\n",
    "    for g in ['Yearhomprec', 'Yearhomall', 'Yearfirstpaper']:\n",
    "        supermaker([\n",
    "            'Bio',\n",
    "            'Exp',\n",
    "            g,\n",
    "        ], feature_to_predict)\n",
    "    \n",
    "    \n",
    "    for g in ['Lithom', 'Litint']:\n",
    "        supermaker([\n",
    "            'Bio',\n",
    "            'Exp',\n",
    "            g,\n",
    "        ], feature_to_predict)\n",
    "    \n",
    "    supermaker([\n",
    "        'Bio',\n",
    "        'Exp',\n",
    "        'Yearfirstpaper',\n",
    "        'Lithom',\n",
    "    ], feature_to_predict)\n"
   ]
  },
  {
   "cell_type": "code",
   "execution_count": 7,
   "metadata": {},
   "outputs": [
    {
     "name": "stdout",
     "output_type": "stream",
     "text": [
      "done\n"
     ]
    }
   ],
   "source": [
    "print('done')"
   ]
  },
  {
   "cell_type": "code",
   "execution_count": null,
   "metadata": {
    "collapsed": true
   },
   "outputs": [],
   "source": []
  }
 ],
 "metadata": {
  "kernelspec": {
   "display_name": "Python 3",
   "language": "python",
   "name": "python3"
  },
  "language_info": {
   "codemirror_mode": {
    "name": "ipython",
    "version": 3
   },
   "file_extension": ".py",
   "mimetype": "text/x-python",
   "name": "python",
   "nbconvert_exporter": "python",
   "pygments_lexer": "ipython3",
   "version": "3.6.1"
  }
 },
 "nbformat": 4,
 "nbformat_minor": 2
}
