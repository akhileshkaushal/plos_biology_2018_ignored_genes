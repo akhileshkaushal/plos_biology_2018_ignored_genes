{
 "cells": [
  {
   "cell_type": "code",
   "execution_count": 1,
   "metadata": {
    "collapsed": true
   },
   "outputs": [],
   "source": [
    "%matplotlib inline  \n",
    "%reload_ext autoreload\n",
    "%autoreload 2"
   ]
  },
  {
   "cell_type": "code",
   "execution_count": 2,
   "metadata": {
    "collapsed": true
   },
   "outputs": [],
   "source": [
    "import os\n",
    "import sys\n",
    "\n",
    "import numpy as np\n",
    "import pandas as pd\n",
    "\n",
    "from access_science_shared import standardizer\n",
    "from access_literature_data import medline\n",
    "\n",
    "sys.path.append('./../../src')\n",
    "\n",
    "import resci_inout as inout\n",
    "import nar170604f_occurences as nar_attention\n",
    "import nar170823f_prediction_datasets as pred\n",
    "import nar170830f_predictions as pred_manager"
   ]
  },
  {
   "cell_type": "markdown",
   "metadata": {},
   "source": [
    "# Shared settings"
   ]
  },
  {
   "cell_type": "code",
   "execution_count": 3,
   "metadata": {
    "collapsed": true
   },
   "outputs": [],
   "source": [
    "project_base = '170923f_predict_human_fame_within_subcategories'\n",
    "date_stamp = '170923'"
   ]
  },
  {
   "cell_type": "code",
   "execution_count": 4,
   "metadata": {
    "collapsed": true
   },
   "outputs": [],
   "source": [
    "taxon_id = 9606\n",
    "ref_genes = standardizer.reference_genes(taxon_id, 'orp')\n",
    "\n",
    "gene2pubmed = medline.gene2pubmed(taxon_id, paper_kind='research', ref_genes = ref_genes)\n",
    "df_targets = nar_attention.count_papers_and_attention(ref_genes, gene2pubmed)\n",
    "\n",
    "target_normalizer = lambda x: np.log10(x)\n",
    "\n",
    "def maker(sub_name, u_features, df_target, target_normalizer):\n",
    "    pred_manager.make_base(\n",
    "        project_base = project_base,\n",
    "        sub_name = sub_name,\n",
    "        ref_genes = ref_genes,\n",
    "        u_features = u_features,\n",
    "        df_target = df_target.applymap(target_normalizer))\n",
    "    \n",
    "def get_u(list_of_categories):\n",
    "    u = {}\n",
    "    for x in list_of_categories:\n",
    "        u.update(features[x])\n",
    "    return u\n",
    "\n",
    "def supermaker(of_interest, feature_to_predict):\n",
    "    sub_name = '{}_human_{}_log_{}'.format(date_stamp, ''.join(of_interest), feature_to_predict)\n",
    "    u_all = get_u(of_interest)\n",
    "    maker(sub_name, u_all, df_targets[[feature_to_predict]], target_normalizer)"
   ]
  },
  {
   "cell_type": "markdown",
   "metadata": {},
   "source": [
    "# Specific datasets"
   ]
  },
  {
   "cell_type": "code",
   "execution_count": 5,
   "metadata": {},
   "outputs": [
    {
     "name": "stdout",
     "output_type": "stream",
     "text": [
      "InputTerm has 2 ambiguous entries\n",
      "InputTerm has 2 ambiguous entries\n",
      "InputTerm has 2 ambiguous entries\n",
      "InputTerm has 2 ambiguous entries\n",
      "InputTerm has 2 ambiguous entries\n",
      "InputTerm has 2 ambiguous entries\n",
      "CPU times: user 4min 42s, sys: 52.9 s, total: 5min 35s\n",
      "Wall time: 5min 43s\n"
     ]
    }
   ],
   "source": [
    "%%time\n",
    "pool = pred.retreive_single_sets(ref_genes, taxon_id)"
   ]
  },
  {
   "cell_type": "code",
   "execution_count": 6,
   "metadata": {},
   "outputs": [],
   "source": [
    "# create organization that mimicks individual sets\n",
    "features = dict()\n",
    "for k in pool.keys():\n",
    "    d = pool[k]\n",
    "    flat = {k: d}\n",
    "    features[k] = flat"
   ]
  },
  {
   "cell_type": "code",
   "execution_count": 7,
   "metadata": {},
   "outputs": [
    {
     "name": "stdout",
     "output_type": "stream",
     "text": [
      "CPU times: user 4min 49s, sys: 5.84 s, total: 4min 55s\n",
      "Wall time: 4min 56s\n"
     ]
    }
   ],
   "source": [
    "%%time\n",
    "for feature_to_predict in ['attention', 'papers']:\n",
    "    \n",
    "    for k in pool.keys():\n",
    "            \n",
    "        supermaker([\n",
    "            k       \n",
    "        ], feature_to_predict)\n"
   ]
  },
  {
   "cell_type": "code",
   "execution_count": 8,
   "metadata": {},
   "outputs": [
    {
     "name": "stdout",
     "output_type": "stream",
     "text": [
      "done\n"
     ]
    }
   ],
   "source": [
    "print('done')"
   ]
  },
  {
   "cell_type": "code",
   "execution_count": null,
   "metadata": {
    "collapsed": true
   },
   "outputs": [],
   "source": []
  }
 ],
 "metadata": {
  "kernelspec": {
   "display_name": "Python 3",
   "language": "python",
   "name": "python3"
  },
  "language_info": {
   "codemirror_mode": {
    "name": "ipython",
    "version": 3
   },
   "file_extension": ".py",
   "mimetype": "text/x-python",
   "name": "python",
   "nbconvert_exporter": "python",
   "pygments_lexer": "ipython3",
   "version": "3.6.1"
  }
 },
 "nbformat": 4,
 "nbformat_minor": 2
}
