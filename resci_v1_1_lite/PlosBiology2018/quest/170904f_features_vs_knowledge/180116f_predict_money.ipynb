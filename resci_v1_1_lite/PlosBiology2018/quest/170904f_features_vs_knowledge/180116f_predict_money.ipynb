{
 "cells": [
  {
   "cell_type": "code",
   "execution_count": 1,
   "metadata": {
    "collapsed": true
   },
   "outputs": [],
   "source": [
    "%matplotlib inline  \n",
    "%reload_ext autoreload\n",
    "%autoreload 2"
   ]
  },
  {
   "cell_type": "code",
   "execution_count": 2,
   "metadata": {
    "collapsed": true
   },
   "outputs": [],
   "source": [
    "import os\n",
    "import sys\n",
    "\n",
    "import numpy as np\n",
    "import pandas as pd\n",
    "\n",
    "from access_science_shared import standardizer\n",
    "from access_literature_data import medline\n",
    "\n",
    "sys.path.append('./../../src')\n",
    "\n",
    "import resci_inout as inout\n",
    "import nar170604f_occurences as nar_attention\n",
    "import nar170823f_prediction_datasets as pred\n",
    "import nar170830f_predictions as pred_manager\n",
    "\n",
    "\n",
    "import nar170605f_funding as funding"
   ]
  },
  {
   "cell_type": "code",
   "execution_count": 3,
   "metadata": {},
   "outputs": [
    {
     "name": "stdout",
     "output_type": "stream",
     "text": [
      "Multiplier: 3.690837118213259\n",
      "Amount of MedLine articles: 118362\n"
     ]
    }
   ],
   "source": [
    "earliest_year = 1985  # time span of analysis \n",
    "latest_year = 2015\n",
    "taxon_id = 9606\n",
    "\n",
    "m_full = funding.get_extended_funding_info(taxon_id, earliest_year, latest_year)"
   ]
  },
  {
   "cell_type": "markdown",
   "metadata": {},
   "source": [
    "# Shared settings"
   ]
  },
  {
   "cell_type": "code",
   "execution_count": 4,
   "metadata": {
    "collapsed": true
   },
   "outputs": [],
   "source": [
    "project_base = '180116f_predict_money'\n",
    "date_stamp = '180116'"
   ]
  },
  {
   "cell_type": "code",
   "execution_count": 5,
   "metadata": {
    "collapsed": true
   },
   "outputs": [],
   "source": [
    "taxon_id = 9606\n",
    "ref_genes = standardizer.reference_genes(taxon_id, 'orp')\n",
    "\n",
    "gene2pubmed = medline.gene2pubmed(taxon_id, paper_kind='research', ref_genes = ref_genes)\n",
    "f = m_full.index.isin(ref_genes)\n",
    "df_targets = m_full.loc[f, ['budget_for_attention']]\n",
    "\n",
    "\n",
    "target_normalizer = lambda x: np.log10(x)\n",
    "\n",
    "def maker(sub_name, u_features, df_target, target_normalizer):\n",
    "    pred_manager.make_base(\n",
    "        project_base = project_base,\n",
    "        sub_name = sub_name,\n",
    "        ref_genes = ref_genes,\n",
    "        u_features = u_features,\n",
    "        df_target = df_target.applymap(target_normalizer))\n",
    "    \n",
    "def get_u(list_of_categories):\n",
    "    u = {}\n",
    "    for x in list_of_categories:\n",
    "        u.update(features[x])\n",
    "    return u\n",
    "\n",
    "def supermaker(of_interest, feature_to_predict):\n",
    "    sub_name = '{}_human_{}_log_{}'.format(date_stamp, ''.join(of_interest), feature_to_predict)\n",
    "    u_all = get_u(of_interest)\n",
    "    maker(sub_name, u_all, df_targets[[feature_to_predict]], target_normalizer)"
   ]
  },
  {
   "cell_type": "markdown",
   "metadata": {},
   "source": [
    "# Specific datasets"
   ]
  },
  {
   "cell_type": "code",
   "execution_count": 6,
   "metadata": {},
   "outputs": [
    {
     "name": "stdout",
     "output_type": "stream",
     "text": [
      "CPU times: user 3min 56s, sys: 1min 4s, total: 5min 1s\n",
      "Wall time: 5min 10s\n"
     ]
    }
   ],
   "source": [
    "%%time\n",
    "features = {\n",
    "    'Bio': pred.retreive_biophysics(ref_genes, taxon_id),\n",
    "    'Exp': pred.retreive_human_experiments(ref_genes, taxon_id),\n",
    "\n",
    "    'Yearhomprec': pred.retreive_homologene_discoveries(ref_genes, taxon_id),\n",
    "    'Yearhomall': pred.retreive_homologene_description(ref_genes, taxon_id),\n",
    "    'Yearfirstpaper': pred.retreive_years_of_first_paper(ref_genes, taxon_id),\n",
    "    'Lithom': pred.retreive_homologene_literature(ref_genes, taxon_id),\n",
    "#     'Litint': pred.retreive_literature_of_rolland_2014_interactors(ref_genes, taxon_id),\n",
    "#    'Dis': pred.retreive_human_disease(ref_genes, taxon_id)\n",
    "    'Omim': pred.retreive_all_omim_disease(ref_genes, taxon_id),\n",
    "    'Unifieddiseases': pred.retreive_all_unified_disease(ref_genes, taxon_id),\n",
    "}"
   ]
  },
  {
   "cell_type": "code",
   "execution_count": 7,
   "metadata": {},
   "outputs": [
    {
     "name": "stdout",
     "output_type": "stream",
     "text": [
      "CPU times: user 5min 7s, sys: 19.4 s, total: 5min 26s\n",
      "Wall time: 5min 33s\n"
     ]
    }
   ],
   "source": [
    "%%time\n",
    "for feature_to_predict in ['budget_for_attention']:\n",
    "       \n",
    "    supermaker([\n",
    "        'Lithom'       \n",
    "    ], feature_to_predict)\n",
    "\n",
    "    supermaker([\n",
    "        'Yearhomall'       \n",
    "    ], feature_to_predict)\n",
    "    \n",
    "    supermaker([\n",
    "        'Omim'       \n",
    "    ], feature_to_predict)\n",
    "    \n",
    "    supermaker([\n",
    "        'Unifieddiseases'       \n",
    "    ], feature_to_predict)\n",
    "    \n",
    "    supermaker([\n",
    "        'Bio',\n",
    "        'Exp',\n",
    "    ], feature_to_predict)\n",
    "    \n",
    "    supermaker([\n",
    "        'Bio',\n",
    "        'Exp',\n",
    "        'Yearhomall',\n",
    "    ], feature_to_predict)\n",
    "    \n",
    "\n",
    "    for g in ['Omim', 'Unifieddiseases']:\n",
    "        supermaker([\n",
    "            'Bio',\n",
    "            'Exp',\n",
    "            'Yearhomall',\n",
    "            g,\n",
    "        ], feature_to_predict)"
   ]
  },
  {
   "cell_type": "code",
   "execution_count": 8,
   "metadata": {},
   "outputs": [
    {
     "name": "stdout",
     "output_type": "stream",
     "text": [
      "done\n"
     ]
    }
   ],
   "source": [
    "print('done')"
   ]
  }
 ],
 "metadata": {
  "kernelspec": {
   "display_name": "Python 3",
   "language": "python",
   "name": "python3"
  },
  "language_info": {
   "codemirror_mode": {
    "name": "ipython",
    "version": 3
   },
   "file_extension": ".py",
   "mimetype": "text/x-python",
   "name": "python",
   "nbconvert_exporter": "python",
   "pygments_lexer": "ipython3",
   "version": "3.6.3"
  }
 },
 "nbformat": 4,
 "nbformat_minor": 2
}
