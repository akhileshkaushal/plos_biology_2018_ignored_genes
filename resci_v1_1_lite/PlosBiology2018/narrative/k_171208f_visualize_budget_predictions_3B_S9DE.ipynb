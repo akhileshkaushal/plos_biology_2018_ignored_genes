{
 "cells": [
  {
   "cell_type": "code",
   "execution_count": null,
   "metadata": {},
   "outputs": [],
   "source": [
    "%matplotlib inline"
   ]
  },
  {
   "cell_type": "code",
   "execution_count": null,
   "metadata": {},
   "outputs": [],
   "source": [
    "import matplotlib as mpl\n",
    "mpl.rcParams['pdf.fonttype'] = 42\n",
    "mpl.rcParams['font.family'] = 'Arial'"
   ]
  },
  {
   "cell_type": "code",
   "execution_count": null,
   "metadata": {},
   "outputs": [],
   "source": [
    "import sys\n",
    "sys.path.append('./../src/')"
   ]
  },
  {
   "cell_type": "code",
   "execution_count": null,
   "metadata": {},
   "outputs": [],
   "source": [
    "import glob\n",
    "import os\n",
    "\n",
    "import numpy as np\n",
    "import pandas as pd\n",
    "import seaborn as sns\n",
    "\n",
    "import matplotlib.pyplot as plt\n",
    "\n",
    "from scipy.stats import spearmanr\n",
    "\n",
    "import nar170830f_predictions as forec\n",
    "import resci_inout as rinout\n",
    "import resci_tools as ret"
   ]
  },
  {
   "cell_type": "code",
   "execution_count": null,
   "metadata": {},
   "outputs": [],
   "source": [
    "save_images = False\n",
    "save_tables = True"
   ]
  },
  {
   "cell_type": "code",
   "execution_count": null,
   "metadata": {},
   "outputs": [],
   "source": [
    "category_of_interest = 'budget_for_attention'"
   ]
  },
  {
   "cell_type": "code",
   "execution_count": null,
   "metadata": {},
   "outputs": [],
   "source": [
    "# prediction_folders = glob.glob(\n",
    "#     os.path.join(\n",
    "#         rinout.get_internal_path(\n",
    "#             '171202f_predict_money'), \n",
    "#         '171015_human_*{}'.format(category_of_interest)))\n",
    "model_name = 'zgbrh_p90_e300'"
   ]
  },
  {
   "cell_type": "code",
   "execution_count": null,
   "metadata": {},
   "outputs": [],
   "source": [
    "def get_predictions(comparison):\n",
    "\n",
    "    p = os.path.join(\n",
    "        rinout.get_internal_path(\n",
    "                '171202f_predict_money'),\n",
    "        comparison,\n",
    "        'zgbrh_p90_e300',\n",
    "        'pooled_target_and_prediciton.csv.gz'\n",
    "    )\n",
    "    df = pd.read_csv(p)\n",
    "    df = df.set_index('gene_ncbi')\n",
    "    target = df.pop('target')\n",
    "    predictions = df\n",
    "    \n",
    "    return target, predictions\n",
    "\n",
    "\n",
    "def pooling_fun(x):\n",
    "    return np.nanmedian(x)"
   ]
  },
  {
   "cell_type": "code",
   "execution_count": null,
   "metadata": {},
   "outputs": [],
   "source": [
    "c = [\n",
    " '171202_human_BioExpYearhomallDis_log_budget_for_attention',\n",
    " '171202_human_BioExpDis_log_budget_for_attention',\n",
    " '171202_human_BioExpYearhomall_log_budget_for_attention',\n",
    " '171202_human_BioExp_log_budget_for_attention',\n",
    " '171202_human_Dis_log_budget_for_attention',\n",
    "]"
   ]
  },
  {
   "cell_type": "code",
   "execution_count": null,
   "metadata": {},
   "outputs": [],
   "source": [
    "def make_plot(df):\n",
    "#     years_to_display = (1960, 2015)\n",
    "    sns.jointplot(\n",
    "        x='target',\n",
    "        y='predicted',\n",
    "        kind='reg',\n",
    "        data=df,\n",
    "#         xlim=years_to_display,\n",
    "#         ylim=years_to_display,\n",
    "        joint_kws={\n",
    "            'line_kws':{'color':'gray'},\n",
    "            'lowess': True,\n",
    "            'scatter_kws':{'s':1}},\n",
    "        stat_func=spearmanr)"
   ]
  },
  {
   "cell_type": "code",
   "execution_count": null,
   "metadata": {},
   "outputs": [],
   "source": [
    "for comparison in c:\n",
    "    print(comparison)\n",
    "    ta, po = get_predictions(comparison)\n",
    "    po = po.apply(pooling_fun, axis=1)\n",
    "    df = pd.concat(\n",
    "            [ta, po], axis=1, join='inner').rename(\n",
    "            columns={0: 'predicted'})\n",
    "\n",
    "    hexplot = sns.jointplot(\n",
    "        x='target',\n",
    "        y='predicted',\n",
    "        kind='hex',\n",
    "        data=df,\n",
    "        gridsize=30,\n",
    "        stat_func=spearmanr\n",
    "    )\n",
    "\n",
    "    plt.subplots_adjust(left=0.2, right=0.8, top=0.8, bottom=0.2)  # shrink fig so cbar is visible\n",
    "    cax = hexplot.fig.add_axes([.85, .25, .05, .4])  # x, y, width, height\n",
    "    plt.colorbar(cax=cax)\n",
    "        \n",
    "    if save_images:\n",
    "        ret.export_image('171208f_visualize_budget_predictions/{}_hex_{}.pdf'.format(\n",
    "            category_of_interest, comparison))\n",
    "   \n",
    "    plt.close()\n",
    "    \n",
    "    \n",
    "    \n",
    "    \n",
    "    \n",
    "    make_plot(df)\n",
    "    if save_images:\n",
    "        ret.export_image('171208f_visualize_budget_predictions/{}_scatter_fixed_y_{}.pdf'.format(\n",
    "            category_of_interest, comparison))\n",
    "    plt.ylim(2.5, 9.5)\n",
    "    plt.close()\n",
    "\n",
    "    \n",
    "    \n",
    "    \n",
    "    make_plot(df)\n",
    "    if save_images:\n",
    "        ret.export_image('171208f_visualize_budget_predictions/{}_scatter_{}.pdf'.format(\n",
    "            category_of_interest, comparison))\n",
    "        \n",
    "    if save_tables:\n",
    "        ret.export_full_frame(\n",
    "            '171208f_visualize_budget_predictions/{}_{}_data.csv'.format(\n",
    "                category_of_interest,\n",
    "                comparison),\n",
    "        df\n",
    "        )\n",
    "\n",
    "        \n",
    "    plt.close()"
   ]
  },
  {
   "cell_type": "code",
   "execution_count": null,
   "metadata": {},
   "outputs": [],
   "source": [
    "# df.head()"
   ]
  },
  {
   "cell_type": "code",
   "execution_count": null,
   "metadata": {},
   "outputs": [],
   "source": [
    "# sns.jointplot(x='target', y='predicted', data=df, kind='reg')"
   ]
  },
  {
   "cell_type": "code",
   "execution_count": null,
   "metadata": {},
   "outputs": [],
   "source": []
  },
  {
   "cell_type": "code",
   "execution_count": null,
   "metadata": {},
   "outputs": [],
   "source": []
  },
  {
   "cell_type": "code",
   "execution_count": null,
   "metadata": {},
   "outputs": [],
   "source": []
  },
  {
   "cell_type": "code",
   "execution_count": null,
   "metadata": {},
   "outputs": [],
   "source": []
  }
 ],
 "metadata": {
  "kernelspec": {
   "display_name": "Python 3",
   "language": "python",
   "name": "python3"
  },
  "language_info": {
   "codemirror_mode": {
    "name": "ipython",
    "version": 3
   },
   "file_extension": ".py",
   "mimetype": "text/x-python",
   "name": "python",
   "nbconvert_exporter": "python",
   "pygments_lexer": "ipython3",
   "version": "3.6.5"
  }
 },
 "nbformat": 4,
 "nbformat_minor": 2
}
