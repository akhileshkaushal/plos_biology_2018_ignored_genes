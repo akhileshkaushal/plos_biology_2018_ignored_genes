{
 "cells": [
  {
   "cell_type": "code",
   "execution_count": null,
   "metadata": {},
   "outputs": [],
   "source": [
    "%matplotlib inline  \n",
    "%reload_ext autoreload\n",
    "%autoreload 2\n",
    "\n",
    "import matplotlib as mpl\n",
    "mpl.rcParams['pdf.fonttype'] = 42\n",
    "mpl.rcParams['font.family'] = 'Arial'\n",
    "\n",
    "import numpy as np\n",
    "import pandas as pd\n",
    "# import seaborn as sns\n",
    "\n",
    "from access_literature_data import medline\n",
    "from access_science_shared import standardizer\n",
    "\n",
    "import matplotlib.pyplot as plt"
   ]
  },
  {
   "cell_type": "code",
   "execution_count": null,
   "metadata": {},
   "outputs": [],
   "source": [
    "import sys\n",
    "sys.path.append('./../src/')\n",
    "import nar171107f_citation_network as cit\n",
    "import resci_tools as ret"
   ]
  },
  {
   "cell_type": "code",
   "execution_count": null,
   "metadata": {},
   "outputs": [],
   "source": [
    "save_images = False\n",
    "save_tables = True"
   ]
  },
  {
   "cell_type": "code",
   "execution_count": null,
   "metadata": {},
   "outputs": [],
   "source": [
    "# get full citation network of research publications linked to pubmed\n",
    "pmid_2_pmid = cit.gene_pmid_research_gene_pmid_research()"
   ]
  },
  {
   "cell_type": "code",
   "execution_count": null,
   "metadata": {},
   "outputs": [],
   "source": [
    "# get publication years of pubmed IDs\n",
    "df_m = medline.select_medline_wos_records(\n",
    "    columns_sql='''\n",
    "        medline.pubmed_id,\n",
    "        medline.pubdate_year''',\n",
    "    taxon_id='all',\n",
    "    kind='research',\n",
    "    unambiguous=True\n",
    ")"
   ]
  },
  {
   "cell_type": "code",
   "execution_count": null,
   "metadata": {},
   "outputs": [],
   "source": [
    "# pubmed, and whether pmid has a human and/or not-human\n",
    "gene2pubmed = medline.gene2pubmed(taxon_id='all')\n",
    "taxon_pubmed = gene2pubmed.copy()\n",
    "taxon_pubmed.loc[:, 'has_human'] = taxon_pubmed['taxon_ncbi'] == 9606\n",
    "taxon_pubmed.loc[:, 'has_not_human'] = taxon_pubmed['taxon_ncbi'] != 9606\n",
    "taxon_pubmed = taxon_pubmed[['pubmed_id', 'has_human', 'has_not_human']].drop_duplicates()"
   ]
  },
  {
   "cell_type": "code",
   "execution_count": null,
   "metadata": {},
   "outputs": [],
   "source": [
    "taxon_id = 9606\n",
    "ref_genes = standardizer.reference_genes(taxon_id, 'orp')  # offical nomenclature, liteature, protein-coding\n",
    "ref_gene2pubmed = medline.gene2pubmed(taxon_id, ['pubmed_id', 'gene_ncbi'], paper_kind='research')"
   ]
  },
  {
   "cell_type": "code",
   "execution_count": null,
   "metadata": {},
   "outputs": [],
   "source": [
    "# get year of initial report\n",
    "import nar170902_discovery_year as yr\n",
    "initial_year = yr.get_year_of_discovery(taxon_id, ref_genes).reset_index()\n",
    "initial = initial_year[['gene_ncbi', 'first_year']].rename(columns={'first_year': 'pubdate_year'})\n",
    "initial.loc[:, 'initial_report'] = True"
   ]
  },
  {
   "cell_type": "code",
   "execution_count": null,
   "metadata": {},
   "outputs": [],
   "source": [
    "df_m_human_gene = pd.merge(df_m, ref_gene2pubmed)"
   ]
  },
  {
   "cell_type": "code",
   "execution_count": null,
   "metadata": {},
   "outputs": [],
   "source": [
    "df_m_human_gene = pd.merge(\n",
    "    df_m_human_gene,\n",
    "    initial,\n",
    "    left_on=['pubdate_year', 'gene_ncbi'],\n",
    "    right_on=['pubdate_year', 'gene_ncbi'],\n",
    "    how='left'\n",
    ")"
   ]
  },
  {
   "cell_type": "code",
   "execution_count": null,
   "metadata": {},
   "outputs": [],
   "source": [
    "df_m_human_gene['initial_report'] = df_m_human_gene['initial_report'].fillna(False)"
   ]
  },
  {
   "cell_type": "code",
   "execution_count": null,
   "metadata": {},
   "outputs": [],
   "source": [
    "df_m_human = df_m_human_gene[['pubmed_id', 'pubdate_year', 'initial_report']].drop_duplicates()"
   ]
  },
  {
   "cell_type": "code",
   "execution_count": null,
   "metadata": {},
   "outputs": [],
   "source": [
    "df_m_human = df_m_human.groupby(['pubmed_id', 'pubdate_year']).agg(any).reset_index()"
   ]
  },
  {
   "cell_type": "code",
   "execution_count": null,
   "metadata": {},
   "outputs": [],
   "source": [
    "master = pd.merge(pmid_2_pmid, df_m_human_gene, left_on='citing', right_on='pubmed_id').drop('pubmed_id', 1)"
   ]
  },
  {
   "cell_type": "code",
   "execution_count": null,
   "metadata": {},
   "outputs": [],
   "source": [
    "master = pd.merge(\n",
    "    master,\n",
    "    taxon_pubmed,\n",
    "    left_on='cited',\n",
    "    right_on='pubmed_id',\n",
    "    how='left'\n",
    ")"
   ]
  },
  {
   "cell_type": "code",
   "execution_count": null,
   "metadata": {},
   "outputs": [],
   "source": [
    "m = master[['citing', 'initial_report', 'has_human', 'has_not_human']].groupby(\n",
    "    ['citing']).agg(sum).reset_index()"
   ]
  },
  {
   "cell_type": "code",
   "execution_count": null,
   "metadata": {},
   "outputs": [],
   "source": [
    "m['excess_not_human'] =  m['has_not_human'] > m['has_human']"
   ]
  },
  {
   "cell_type": "code",
   "execution_count": null,
   "metadata": {},
   "outputs": [],
   "source": [
    "a = pd.merge(\n",
    "    (m.set_index('citing') >0).reset_index(),\n",
    "    master[['citing', 'pubdate_year']].drop_duplicates())"
   ]
  },
  {
   "cell_type": "code",
   "execution_count": null,
   "metadata": {},
   "outputs": [],
   "source": [
    "import seaborn as sns"
   ]
  },
  {
   "cell_type": "code",
   "execution_count": null,
   "metadata": {},
   "outputs": [],
   "source": [
    "sns.barplot(\n",
    "    x='pubdate_year',\n",
    "    y='excess_not_human',\n",
    "    data=a[a['pubdate_year'].isin(np.arange(1980, 2001))],\n",
    "    hue='initial_report'\n",
    ")\n",
    "\n",
    "if save_images:\n",
    "    ret.export_image('171107_citations_between_organisms/more_non_human_by_year.pdf')"
   ]
  },
  {
   "cell_type": "code",
   "execution_count": null,
   "metadata": {},
   "outputs": [],
   "source": [
    "sns.barplot(x='initial_report', y='excess_not_human',data=a)\n",
    "\n",
    "if save_images:\n",
    "    ret.export_image('171107_citations_between_organisms/more_non_human.pdf')"
   ]
  },
  {
   "cell_type": "code",
   "execution_count": null,
   "metadata": {},
   "outputs": [],
   "source": [
    "out = a[['citing', 'initial_report', 'excess_not_human', 'pubdate_year']].rename(columns={'citing': 'pubmed_id'})\n",
    "\n",
    "if save_tables:\n",
    "    ret.export_full_frame(\n",
    "        '171107_citations_between_organisms/data.csv',\n",
    "        out,\n",
    "        save_index=False       \n",
    "    )"
   ]
  },
  {
   "cell_type": "code",
   "execution_count": null,
   "metadata": {},
   "outputs": [],
   "source": []
  },
  {
   "cell_type": "code",
   "execution_count": null,
   "metadata": {},
   "outputs": [],
   "source": []
  },
  {
   "cell_type": "code",
   "execution_count": null,
   "metadata": {},
   "outputs": [],
   "source": []
  }
 ],
 "metadata": {
  "kernelspec": {
   "display_name": "Python 3",
   "language": "python",
   "name": "python3"
  },
  "language_info": {
   "codemirror_mode": {
    "name": "ipython",
    "version": 3
   },
   "file_extension": ".py",
   "mimetype": "text/x-python",
   "name": "python",
   "nbconvert_exporter": "python",
   "pygments_lexer": "ipython3",
   "version": "3.6.5"
  }
 },
 "nbformat": 4,
 "nbformat_minor": 2
}
