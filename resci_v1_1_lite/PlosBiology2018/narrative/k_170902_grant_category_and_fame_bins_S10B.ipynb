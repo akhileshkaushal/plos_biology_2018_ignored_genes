{
 "cells": [
  {
   "cell_type": "code",
   "execution_count": null,
   "metadata": {},
   "outputs": [],
   "source": [
    "%matplotlib inline\n",
    "%load_ext autoreload\n",
    "%autoreload 2"
   ]
  },
  {
   "cell_type": "code",
   "execution_count": null,
   "metadata": {},
   "outputs": [],
   "source": [
    "import sys\n",
    "\n",
    "import numpy as np\n",
    "import pandas as pd\n",
    "import seaborn as sns\n",
    "\n",
    "import matplotlib.pyplot as plt\n",
    "\n",
    "from access_economic_data import nih\n",
    "from access_literature_data import medline, wos\n",
    "from access_science_shared import standardizer"
   ]
  },
  {
   "cell_type": "code",
   "execution_count": null,
   "metadata": {},
   "outputs": [],
   "source": [
    "sys.path.append('./../src/')\n",
    "# import nar170605f_funding as nar_funding\n",
    "import nar170604f_occurences as nar_attention\n",
    "import ana170508f_human_citations as ana\n",
    "import resci_tools as ret"
   ]
  },
  {
   "cell_type": "code",
   "execution_count": null,
   "metadata": {},
   "outputs": [],
   "source": [
    "sns.set(font_scale=2)"
   ]
  },
  {
   "cell_type": "code",
   "execution_count": null,
   "metadata": {},
   "outputs": [],
   "source": [
    "taxon_id = 9606\n",
    "# years_for_citation = 3\n",
    "fame_of_interest = 'attention'\n",
    "\n",
    "span = np.arange(1980, 2016)\n",
    "num_bins = 20\n",
    "minimal_amount_of_publications_per_year_and_category = 100"
   ]
  },
  {
   "cell_type": "code",
   "execution_count": null,
   "metadata": {},
   "outputs": [],
   "source": [
    "save_images = False\n",
    "save_table = True"
   ]
  },
  {
   "cell_type": "markdown",
   "metadata": {},
   "source": [
    "# Load datasets"
   ]
  },
  {
   "cell_type": "code",
   "execution_count": null,
   "metadata": {},
   "outputs": [],
   "source": [
    "ref_genes = standardizer.reference_genes(taxon_id, 'rpo')\n",
    "gene2pubmed = medline.gene2pubmed(taxon_id, paper_kind='research', ref_genes = ref_genes)\n",
    "\n",
    "\n",
    "df_m = medline.select_medline_records(\n",
    "    columns_sql='''\n",
    "        medline.pubmed_id,\n",
    "        medline.pubdate_year,\n",
    "        medline.amount_of_authors''',\n",
    "    taxon_id=taxon_id,\n",
    "    kind='research',\n",
    ")\n",
    "\n",
    "# df_m = medline.select_medline_wos_records(\n",
    "#     columns_sql='''\n",
    "#             medline.pubmed_id,\n",
    "#             medline.pubdate_year,\n",
    "#             medline.amount_of_authors''',\n",
    "#     years_range='all',\n",
    "#     taxon_id=taxon_id,\n",
    "#     kind='research',\n",
    "#     unambiguous=True)\n",
    "\n",
    "df_m = df_m[df_m['amount_of_authors']>0]   # exclude consortia paper (-1)\n",
    "# df_m = ana.add_citations(df_m, years_to_include=years_for_citation)\n",
    "# df_m = df_m[['pubmed_id', 'pubdate_year', 'amount_of_authors', 'citations']]\n",
    "df_m = df_m[['pubmed_id', 'pubdate_year', 'amount_of_authors']]\n",
    "df_m = df_m[df_m['pubmed_id'].isin(gene2pubmed['pubmed_id'])].drop_duplicates()\n",
    "# df_m = ana.add_yearly_citation_rank(df_m)\n",
    "\n",
    "genes_per_paper = gene2pubmed['pubmed_id'].value_counts().to_frame('genes_per_paper')\n",
    "df_m = pd.merge(df_m, genes_per_paper, left_on='pubmed_id', right_index=True, how='left')"
   ]
  },
  {
   "cell_type": "code",
   "execution_count": null,
   "metadata": {},
   "outputs": [],
   "source": [
    "gene2pubmed_and_year = pd.merge(gene2pubmed, df_m[['pubmed_id', 'pubdate_year']])\n",
    "agg = []\n",
    "for y in span: \n",
    "    pa = nar_attention.count_papers_and_attention(\n",
    "        ref_genes,\n",
    "        gene2pubmed_and_year[gene2pubmed_and_year['pubdate_year']<=y])\n",
    "\n",
    "    pa = pa[fame_of_interest]\n",
    "    pa.name = y\n",
    "    agg.append(pa)\n",
    "\n",
    "historic_fame = pd.concat(agg, axis=1)"
   ]
  },
  {
   "cell_type": "code",
   "execution_count": null,
   "metadata": {},
   "outputs": [],
   "source": [
    "num_genes = len(ref_genes)\n",
    "\n",
    "historic_bin = (historic_fame.rank(ascending=False) / (num_genes + 1) * num_bins).apply(lambda x: np.floor(x))"
   ]
  },
  {
   "cell_type": "markdown",
   "metadata": {},
   "source": [
    "NOte that for biomedical litearture pre 2002, only a small subset was actually covered. Thus it might not be fair to use all bins."
   ]
  },
  {
   "cell_type": "code",
   "execution_count": null,
   "metadata": {},
   "outputs": [],
   "source": [
    "# Define NIH categories\n",
    "codes = {\n",
    "    'high_impact_or_innovation': ['RC2', 'RC4', 'DP2', 'DP4', 'RC2', 'RC4', 'UC2', 'UC4'],\n",
    "    'exploratory':['P20', 'R33', 'R21', 'R61', 'RL2', 'U56', 'UG3', 'UH2', 'UH3'],\n",
    "    'training':['F05', 'F30', 'F31', 'F32', 'F33','F37', 'F38','F99'],\n",
    "    'R01':['R01'],\n",
    "    'full_medine': ['iml']\n",
    "#     'career':['K43', 'K76', 'K99', 'R00']    # very small\n",
    "}"
   ]
  },
  {
   "cell_type": "code",
   "execution_count": null,
   "metadata": {},
   "outputs": [],
   "source": [
    "# df_projects, df_prj_budget, df_nih_papers = nar_funding.get_paper_funding_through_nih()"
   ]
  },
  {
   "cell_type": "code",
   "execution_count": null,
   "metadata": {},
   "outputs": [],
   "source": [
    "df_nih_papers = nih.publnk().rename(columns={\n",
    "    'CORE_PROJECT_NUM': 'project_num',\n",
    "    'PROJECT_NUMBER': 'project_num',\n",
    "    'TOTAL_COST': 'budget'})"
   ]
  },
  {
   "cell_type": "code",
   "execution_count": null,
   "metadata": {},
   "outputs": [],
   "source": [
    "nih_papers_plus = pd.merge(\n",
    "    df_nih_papers,\n",
    "    df_m[['pubmed_id', 'pubdate_year']])\n",
    "\n",
    "nih_papers_plus['funding_category'] = nih_papers_plus['project_num'].apply(lambda x: x[:3])"
   ]
  },
  {
   "cell_type": "code",
   "execution_count": null,
   "metadata": {},
   "outputs": [],
   "source": [
    "out = pd.DataFrame(index = codes.keys(), columns=span)"
   ]
  },
  {
   "cell_type": "code",
   "execution_count": null,
   "metadata": {},
   "outputs": [],
   "source": [
    "nih_papers_plus.head()"
   ]
  },
  {
   "cell_type": "code",
   "execution_count": null,
   "metadata": {},
   "outputs": [],
   "source": [
    "# append fake category with all medline (to allow consistent processing)\n",
    "appendix = df_m[['pubmed_id', 'pubdate_year']].drop_duplicates()\n",
    "appendix.loc[:, 'project_num'] = 'iml' # in medline\n",
    "appendix.loc[:, 'funding_category'] = 'iml' # in medline\n",
    "nih_papers_plus = pd.concat([nih_papers_plus, appendix], ignore_index=True)"
   ]
  },
  {
   "cell_type": "code",
   "execution_count": null,
   "metadata": {},
   "outputs": [],
   "source": [
    "for c in codes.keys():\n",
    "\n",
    "    for y in span[1::]:\n",
    "        current_pubmed_ids = nih_papers_plus[\n",
    "            (nih_papers_plus['pubdate_year']==y) & (\n",
    "            nih_papers_plus['funding_category'].isin(\n",
    "                codes[c]))]['pubmed_id'].drop_duplicates().values\n",
    "\n",
    "        if len(current_pubmed_ids)>=minimal_amount_of_publications_per_year_and_category:\n",
    "            current_fame = nar_attention.count_papers_and_attention(\n",
    "                ref_genes,\n",
    "                gene2pubmed[gene2pubmed['pubmed_id'].isin(\n",
    "                    current_pubmed_ids)])[fame_of_interest]\n",
    "\n",
    "            last_year_top = historic_bin.loc[:, y-1] == 0\n",
    "            last_year_top = historic_bin.index[last_year_top]\n",
    "\n",
    "            fraction = current_fame.loc[last_year_top].sum() / current_fame.sum()\n",
    "    \n",
    "            out.loc[c, y] = fraction\n",
    "        \n",
    "        else:\n",
    "            out.loc[c, y] = np.nan"
   ]
  },
  {
   "cell_type": "code",
   "execution_count": null,
   "metadata": {},
   "outputs": [],
   "source": [
    "out"
   ]
  },
  {
   "cell_type": "code",
   "execution_count": null,
   "metadata": {},
   "outputs": [],
   "source": [
    "ax = out.transpose().plot()\n",
    "\n",
    "ax.set_xlabel('Year')\n",
    "ax.set_ylabel('Fraction within {}%'.format(100/num_bins))\n",
    "\n",
    "ax.set_ylim(0,1)\n",
    "\n",
    "if save_images:\n",
    "    ret.export_image('170902_grant_category_and_fame_bins/nih_research_on_top_studied.pdf')"
   ]
  },
  {
   "cell_type": "markdown",
   "metadata": {},
   "source": [
    "note that the statement on 80ies would even be stronger, if more genes would have been researched:"
   ]
  },
  {
   "cell_type": "code",
   "execution_count": null,
   "metadata": {},
   "outputs": [],
   "source": [
    "(historic_bin == 0).sum()     "
   ]
  },
  {
   "cell_type": "code",
   "execution_count": null,
   "metadata": {},
   "outputs": [],
   "source": [
    "u = out.transpose()\n",
    "u.index.name = 'year'\n",
    "u = u.rename(columns={'full_medine': 'full medline'})\n",
    "\n",
    "if save_table:\n",
    "    ret.export_full_frame(\n",
    "        '170902_grant_category_and_fame_bins/nih_research_on_top_studied_data.csv',\n",
    "        u,\n",
    "        save_index=True\n",
    "    )"
   ]
  },
  {
   "cell_type": "code",
   "execution_count": null,
   "metadata": {},
   "outputs": [],
   "source": []
  },
  {
   "cell_type": "code",
   "execution_count": null,
   "metadata": {},
   "outputs": [],
   "source": []
  },
  {
   "cell_type": "code",
   "execution_count": null,
   "metadata": {},
   "outputs": [],
   "source": []
  },
  {
   "cell_type": "code",
   "execution_count": null,
   "metadata": {},
   "outputs": [],
   "source": []
  },
  {
   "cell_type": "code",
   "execution_count": null,
   "metadata": {},
   "outputs": [],
   "source": []
  }
 ],
 "metadata": {
  "kernelspec": {
   "display_name": "Python 3",
   "language": "python",
   "name": "python3"
  },
  "language_info": {
   "codemirror_mode": {
    "name": "ipython",
    "version": 3
   },
   "file_extension": ".py",
   "mimetype": "text/x-python",
   "name": "python",
   "nbconvert_exporter": "python",
   "pygments_lexer": "ipython3",
   "version": "3.6.5"
  }
 },
 "nbformat": 4,
 "nbformat_minor": 2
}
