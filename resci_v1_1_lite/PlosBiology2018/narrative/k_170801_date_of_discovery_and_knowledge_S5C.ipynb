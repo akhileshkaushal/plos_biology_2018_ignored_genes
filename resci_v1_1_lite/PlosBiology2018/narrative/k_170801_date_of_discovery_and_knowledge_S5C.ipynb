{
 "cells": [
  {
   "cell_type": "code",
   "execution_count": null,
   "metadata": {},
   "outputs": [],
   "source": [
    "%matplotlib inline\n",
    "%load_ext autoreload\n",
    "%autoreload 2"
   ]
  },
  {
   "cell_type": "code",
   "execution_count": null,
   "metadata": {},
   "outputs": [],
   "source": [
    "import re\n",
    "import sys\n",
    "\n",
    "import numpy as np\n",
    "import pandas as pd\n",
    "import seaborn as sns\n",
    "\n",
    "from access_biology_data import meta\n",
    "from access_literature_data import medline\n",
    "from access_science_shared import standardizer\n",
    "\n",
    "sys.path.append('./../src/')\n",
    "import ana170508f_human_citations as ana\n",
    "import nar170604f_occurences as nar\n",
    "\n",
    "import matplotlib.pyplot as plt\n",
    "\n",
    "import resci_tools as ret\n",
    "\n",
    "\n",
    "from scipy.stats import spearmanr\n",
    "\n",
    "\n",
    "import seaborn as sns"
   ]
  },
  {
   "cell_type": "code",
   "execution_count": null,
   "metadata": {},
   "outputs": [],
   "source": [
    "import matplotlib as mpl\n",
    "mpl.rcParams['pdf.fonttype'] = 42\n",
    "mpl.rcParams['font.family'] = 'Arial'"
   ]
  },
  {
   "cell_type": "code",
   "execution_count": null,
   "metadata": {},
   "outputs": [],
   "source": [
    "taxon_id = 9606\n",
    "ref_genes = standardizer.reference_genes(taxon_id, 'rpo')\n",
    "\n",
    "# taxon_id = 559292\n",
    "# ref_genes = standardizer.reference_genes(taxon_id, 'rp')\n",
    "\n",
    "save_images = False\n",
    "save_table = True"
   ]
  },
  {
   "cell_type": "code",
   "execution_count": null,
   "metadata": {},
   "outputs": [],
   "source": [
    "def make_hex(df_x_y):\n",
    "    hexplot = sns.jointplot(\n",
    "        x=df_x_y.columns[0],\n",
    "        y=df_x_y.columns[1],\n",
    "        data=df_x_y.dropna(),\n",
    "        kind='hex',\n",
    "        gridsize=15,\n",
    "        stat_func=spearmanr)\n",
    "    \n",
    "    plt.subplots_adjust(left=0.2, right=0.8, top=0.8, bottom=0.2)  # shrink fig so cbar is visible\n",
    "    cax = hexplot.fig.add_axes([.85, .25, .05, .4])  # x, y, width, height\n",
    "    plt.colorbar(cax=cax)"
   ]
  },
  {
   "cell_type": "code",
   "execution_count": null,
   "metadata": {},
   "outputs": [],
   "source": [
    "gene2pubmed = medline.gene2pubmed(taxon_id, paper_kind='research', ref_genes = ref_genes)"
   ]
  },
  {
   "cell_type": "code",
   "execution_count": null,
   "metadata": {},
   "outputs": [],
   "source": [
    "df_m = medline.select_medline_wos_records(\n",
    "    columns_sql='''\n",
    "            medline.pubmed_id,\n",
    "            medline.pubdate_year,\n",
    "            ut2pmid.ut AS wos_id''',\n",
    "    taxon_id=taxon_id,\n",
    "    kind='research',\n",
    "    unambiguous=True)\n",
    "\n",
    "# df_m = df_m[df_m['authors']>0]   # exclude consortia paper (-1)\n",
    "df_m = df_m[['pubmed_id', 'wos_id', 'pubdate_year']]\n",
    "df_m = df_m[df_m['pubmed_id'].isin(gene2pubmed['pubmed_id'])].drop_duplicates()\n",
    "\n",
    "genes_per_paper = gene2pubmed['pubmed_id'].value_counts().to_frame('genes')\n",
    "df_m = pd.merge(df_m, genes_per_paper, left_on='pubmed_id', right_index=True, how='inner')\n",
    "\n",
    "# fame = nar.count_papers_and_attention(ref_genes, gene2pubmed[gene2pubmed['pubmed_id'].isin(df_l['pubmed_id'])])"
   ]
  },
  {
   "cell_type": "code",
   "execution_count": null,
   "metadata": {},
   "outputs": [],
   "source": [
    "df_pm = pd.merge(\n",
    "    df_m[['pubmed_id', 'pubdate_year']],\n",
    "    gene2pubmed[['pubmed_id', 'gene_ncbi']])[['pubdate_year', 'gene_ncbi']].drop_duplicates()\n",
    "\n",
    "first_publication_year = df_pm.groupby('gene_ncbi').agg(min).rename(columns={'pubdate_year': 'first_year'})"
   ]
  },
  {
   "cell_type": "code",
   "execution_count": null,
   "metadata": {},
   "outputs": [],
   "source": [
    "f = df_m['genes'] == 1\n",
    "\n",
    "df_pm = pd.merge(\n",
    "    df_m.loc[f, ['pubmed_id', 'pubdate_year']],\n",
    "    gene2pubmed[['pubmed_id', 'gene_ncbi']])[['pubdate_year', 'gene_ncbi']].drop_duplicates()\n",
    "\n",
    "first_single_publication_year = df_pm.groupby('gene_ncbi').agg(min).rename(columns={'pubdate_year': 'first_single_year'})"
   ]
  },
  {
   "cell_type": "code",
   "execution_count": null,
   "metadata": {},
   "outputs": [],
   "source": [
    "time_span_to_observe_discovery = np.arange(1970, 2006)\n",
    "time_span_to_observe_publications = np.arange(2006, 2016)\n",
    "\n",
    "initial_years = pd.concat([first_publication_year, first_single_publication_year], axis=1)\n",
    "for c in initial_years.columns:\n",
    "    f = initial_years.loc[:, c].isin(time_span_to_observe_discovery)\n",
    "    initial_years.loc[~f, c] = np.nan\n",
    "\n",
    "df_l = df_m[df_m['pubdate_year'].isin(time_span_to_observe_publications)]\n",
    "fame = nar.count_papers_and_attention(ref_genes, gene2pubmed[gene2pubmed['pubmed_id'].isin(df_l['pubmed_id'])])\n",
    "\n",
    "fun = lambda x: np.log10(x+1)\n",
    "master = pd.concat([fame, initial_years], axis=1)\n",
    "master['log_papers'] = fun(master['papers'])\n",
    "master['log_attention'] = fun(master['attention'])"
   ]
  },
  {
   "cell_type": "code",
   "execution_count": null,
   "metadata": {},
   "outputs": [],
   "source": [
    "master.corr('spearman')"
   ]
  },
  {
   "cell_type": "code",
   "execution_count": null,
   "metadata": {},
   "outputs": [],
   "source": [
    "make_hex(master[['first_year', 'log_papers']])\n",
    "\n",
    "if save_images:\n",
    "    ret.export_image('170801_date_of_discovery_and_knowledge/till_and_after_2005_fy_vs_p.pdf')"
   ]
  },
  {
   "cell_type": "code",
   "execution_count": null,
   "metadata": {},
   "outputs": [],
   "source": [
    "if save_table:\n",
    "    ret.export_full_frame(\n",
    "        '170801_date_of_discovery_and_knowledge/till_and_after_2005_fy_vs_p_data.csv',\n",
    "        master[['first_year', 'log_papers']],\n",
    "        save_index=True\n",
    "    )"
   ]
  },
  {
   "cell_type": "code",
   "execution_count": null,
   "metadata": {},
   "outputs": [],
   "source": [
    "make_hex(master[['first_year', 'log_attention']])\n",
    "\n",
    "if save_images:\n",
    "    ret.export_image('170801_date_of_discovery_and_knowledge/till_and_after_2005_fy_vs_a.pdf')"
   ]
  },
  {
   "cell_type": "code",
   "execution_count": null,
   "metadata": {},
   "outputs": [],
   "source": [
    "make_hex(master[['first_single_year', 'log_papers']])\n",
    "\n",
    "if save_images:\n",
    "    ret.export_image('170801_date_of_discovery_and_knowledge/till_and_after_2005_fsy_vs_p.pdf')"
   ]
  },
  {
   "cell_type": "code",
   "execution_count": null,
   "metadata": {},
   "outputs": [],
   "source": [
    "make_hex(master[['first_single_year', 'log_attention']])\n",
    "\n",
    "if save_images:\n",
    "    ret.export_image('170801_date_of_discovery_and_knowledge/till_and_after_2005_fsy_vs_a.pdf')"
   ]
  },
  {
   "cell_type": "code",
   "execution_count": null,
   "metadata": {},
   "outputs": [],
   "source": [
    "time_span_to_observe_discovery = np.arange(1970, 2016)\n",
    "time_span_to_observe_publications = np.arange(1970, 2016)\n",
    "\n",
    "initial_years = pd.concat([first_publication_year, first_single_publication_year], axis=1)\n",
    "for c in initial_years.columns:\n",
    "    f = initial_years.loc[:, c].isin(time_span_to_observe_discovery)\n",
    "    initial_years.loc[~f, c] = np.nan\n",
    "\n",
    "df_l = df_m[df_m['pubdate_year'].isin(time_span_to_observe_publications)]\n",
    "fame = nar.count_papers_and_attention(ref_genes, gene2pubmed[gene2pubmed['pubmed_id'].isin(df_l['pubmed_id'])])\n",
    "\n",
    "fun = lambda x: np.log10(x+1)\n",
    "master = pd.concat([fame, initial_years], axis=1)\n",
    "master['log_papers'] = fun(master['papers'])\n",
    "master['log_attention'] = fun(master['attention'])"
   ]
  },
  {
   "cell_type": "code",
   "execution_count": null,
   "metadata": {},
   "outputs": [],
   "source": [
    "master.corr('spearman')"
   ]
  },
  {
   "cell_type": "code",
   "execution_count": null,
   "metadata": {},
   "outputs": [],
   "source": [
    "make_hex(master[['first_year', 'log_papers']])\n",
    "\n",
    "if save_images:\n",
    "    ret.export_image('170801_date_of_discovery_and_knowledge/pooledyears_fy_vs_p.pdf')"
   ]
  },
  {
   "cell_type": "code",
   "execution_count": null,
   "metadata": {},
   "outputs": [],
   "source": [
    "make_hex(master[['first_year', 'log_attention']])\n",
    "\n",
    "if save_images:\n",
    "    ret.export_image('170801_date_of_discovery_and_knowledge/pooledyears_fy_vs_a.pdf')"
   ]
  },
  {
   "cell_type": "code",
   "execution_count": null,
   "metadata": {},
   "outputs": [],
   "source": [
    "make_hex(master[['first_single_year', 'log_papers']])\n",
    "\n",
    "if save_images:\n",
    "    ret.export_image('170801_date_of_discovery_and_knowledge/pooledyears_fsy_vs_p.pdf')"
   ]
  },
  {
   "cell_type": "code",
   "execution_count": null,
   "metadata": {},
   "outputs": [],
   "source": [
    "make_hex(master[['first_single_year', 'log_attention']])\n",
    "\n",
    "if save_images:\n",
    "    ret.export_image('170801_date_of_discovery_and_knowledge/pooledyears_fsy_vs_a.pdf')"
   ]
  },
  {
   "cell_type": "code",
   "execution_count": null,
   "metadata": {},
   "outputs": [],
   "source": []
  },
  {
   "cell_type": "code",
   "execution_count": null,
   "metadata": {},
   "outputs": [],
   "source": []
  },
  {
   "cell_type": "code",
   "execution_count": null,
   "metadata": {},
   "outputs": [],
   "source": []
  }
 ],
 "metadata": {
  "kernelspec": {
   "display_name": "Python 3",
   "language": "python",
   "name": "python3"
  },
  "language_info": {
   "codemirror_mode": {
    "name": "ipython",
    "version": 3
   },
   "file_extension": ".py",
   "mimetype": "text/x-python",
   "name": "python",
   "nbconvert_exporter": "python",
   "pygments_lexer": "ipython3",
   "version": "3.6.5"
  }
 },
 "nbformat": 4,
 "nbformat_minor": 2
}
