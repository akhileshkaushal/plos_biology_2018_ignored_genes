{
 "cells": [
  {
   "cell_type": "code",
   "execution_count": null,
   "metadata": {},
   "outputs": [],
   "source": [
    "%matplotlib inline\n",
    "%load_ext autoreload\n",
    "%autoreload 2"
   ]
  },
  {
   "cell_type": "code",
   "execution_count": null,
   "metadata": {},
   "outputs": [],
   "source": [
    "from IPython.core.display import display, HTML\n",
    "display(HTML(\"<style>.container { width:100% !important; }</style>\"))"
   ]
  },
  {
   "cell_type": "code",
   "execution_count": null,
   "metadata": {},
   "outputs": [],
   "source": [
    "import sys\n",
    "\n",
    "import numpy as np\n",
    "import pandas as pd\n",
    "import seaborn as sns\n",
    "\n",
    "import matplotlib.pyplot as plt\n",
    "\n",
    "from access_literature_data import medline, wos\n",
    "from access_science_shared import standardizer"
   ]
  },
  {
   "cell_type": "code",
   "execution_count": null,
   "metadata": {},
   "outputs": [],
   "source": [
    "sys.path.append('./../src/')\n",
    "import nar170604f_occurences as nar\n",
    "\n",
    "import ana170508f_human_citations as ana\n",
    "import resci_tools as ret"
   ]
  },
  {
   "cell_type": "markdown",
   "metadata": {},
   "source": [
    "# Settings"
   ]
  },
  {
   "cell_type": "code",
   "execution_count": null,
   "metadata": {},
   "outputs": [],
   "source": [
    "taxon_id = 9606"
   ]
  },
  {
   "cell_type": "code",
   "execution_count": null,
   "metadata": {},
   "outputs": [],
   "source": [
    "save_images = False\n",
    "save_table = True\n",
    "\n",
    "fame_years_of_interest = np.arange(2015, 2016)   # e.g. only last year\n",
    "year_category = 'first_year'    #  'first_solo_year'\n",
    "fame_of_interest = 'attention'"
   ]
  },
  {
   "cell_type": "code",
   "execution_count": null,
   "metadata": {},
   "outputs": [],
   "source": [
    "# Import genes, and pubmed for a given taxon. Note that\n",
    "# this is done on a per-taxon level as some lesser\n",
    "# model organisms do not support official nomeclature\n",
    "# (and thus might return less confident genes)\n",
    "ref_genes = standardizer.reference_genes(taxon_id, 'rpo')\n",
    "gene2pubmed = medline.gene2pubmed(\n",
    "    taxon_id= taxon_id,\n",
    "    paper_kind='research',\n",
    "    ref_genes=ref_genes)"
   ]
  },
  {
   "cell_type": "code",
   "execution_count": null,
   "metadata": {},
   "outputs": [],
   "source": [
    "\n",
    "\n",
    "df_m = medline.select_medline_wos_records(\n",
    "    columns_sql='''\n",
    "            medline.pubmed_id,\n",
    "            medline.pubdate_year,\n",
    "            medline.amount_of_authors AS authors,\n",
    "            ut2pmid.ut AS wos_id''',\n",
    "    years_range=None,\n",
    "    taxon_id = taxon_id,\n",
    "    kind='research',\n",
    "    unambiguous=True)\n",
    "\n",
    "df_m = df_m[df_m['pubmed_id'].isin(gene2pubmed['pubmed_id'])]\n",
    "columns_to_use = ['pubmed_id', 'wos_id', 'pubdate_year', 'authors']\n",
    "df_m = df_m.loc[:,columns_to_use].drop_duplicates()\n",
    "    \n",
    "genes_per_paper = gene2pubmed['pubmed_id'].value_counts().to_frame('genes')\n",
    "df_m_specified_taxon = pd.merge(df_m, genes_per_paper, left_on='pubmed_id', right_index=True, how='inner')"
   ]
  },
  {
   "cell_type": "markdown",
   "metadata": {},
   "source": [
    "### Taxon specific cumulative annual fame of genes"
   ]
  },
  {
   "cell_type": "code",
   "execution_count": null,
   "metadata": {},
   "outputs": [],
   "source": [
    "span = np.arange(1980, 2016)\n",
    "fame_of_interest = 'attention'\n",
    "\n",
    "df_h = medline.select_medline_records(\n",
    "    columns_sql='''\n",
    "        medline.pubmed_id,\n",
    "        medline.pubdate_year''',\n",
    "    taxon_id=taxon_id,\n",
    "    kind='research',\n",
    ")\n",
    "\n",
    "gene2pubmed_and_year = pd.merge(gene2pubmed, df_h[['pubmed_id', 'pubdate_year']])\n"
   ]
  },
  {
   "cell_type": "code",
   "execution_count": null,
   "metadata": {},
   "outputs": [],
   "source": [
    "d = pd.merge(\n",
    "    df_m_specified_taxon[['pubmed_id', 'pubdate_year', 'genes']],\n",
    "    gene2pubmed[['gene_ncbi', 'pubmed_id']])\n",
    "\n",
    "is_single_gene_paper = d['genes'] == 1\n",
    "\n",
    "genes_earliest_years = pd.merge(\n",
    "    d.loc[\n",
    "        :,\n",
    "        ['gene_ncbi', 'pubdate_year']].groupby(\n",
    "            'gene_ncbi').agg(min).reset_index().rename(\n",
    "                columns={'pubdate_year':'first_year'}),\n",
    "    d.loc[\n",
    "        is_single_gene_paper,\n",
    "        ['gene_ncbi', 'pubdate_year']].groupby(\n",
    "            'gene_ncbi').agg(min).reset_index().rename(\n",
    "                columns={'pubdate_year':'first_solo_year'}),\n",
    "    left_on = 'gene_ncbi',\n",
    "    right_on = 'gene_ncbi',\n",
    "    how = 'outer'\n",
    ")"
   ]
  },
  {
   "cell_type": "markdown",
   "metadata": {},
   "source": [
    "## Personalized author statistics"
   ]
  },
  {
   "cell_type": "markdown",
   "metadata": {},
   "source": [
    "# Analyses"
   ]
  },
  {
   "cell_type": "code",
   "execution_count": null,
   "metadata": {},
   "outputs": [],
   "source": [
    "fame_in_interest = nar.count_papers_and_attention(\n",
    "    ref_genes,\n",
    "    gene2pubmed_and_year[gene2pubmed_and_year['pubdate_year'].isin(fame_years_of_interest)])"
   ]
  },
  {
   "cell_type": "code",
   "execution_count": null,
   "metadata": {},
   "outputs": [],
   "source": [
    "master = pd.merge(fame_in_interest, genes_earliest_years, left_index=True, right_on='gene_ncbi', how='left')"
   ]
  },
  {
   "cell_type": "code",
   "execution_count": null,
   "metadata": {},
   "outputs": [],
   "source": [
    "g = master[['attention', year_category]].groupby(year_category)\n",
    "annual = g.agg(sum)\n",
    "annual = pd.concat([annual, g.size().to_frame('genes')], axis=1)\n",
    "annual['cum_attention'] = np.cumsum(annual['attention']) / annual['attention'].sum()\n",
    "annual['cum_genes'] = np.cumsum(annual['genes']) / annual['genes'].sum()\n",
    "annual = annual.reset_index()"
   ]
  },
  {
   "cell_type": "code",
   "execution_count": null,
   "metadata": {},
   "outputs": [],
   "source": [
    "sns.jointplot(x='cum_genes', y='cum_attention', data=annual)\n",
    "\n",
    "if save_images:\n",
    "    ret.export_image('170807_year_and_fraction_current_research/cumulative_genes_vs_{}.pdf'.format(\n",
    "        fame_of_interest))"
   ]
  },
  {
   "cell_type": "code",
   "execution_count": null,
   "metadata": {},
   "outputs": [],
   "source": [
    "if save_table:\n",
    "    ret.export_full_frame(\n",
    "        '170807_year_and_fraction_current_research/cumulative_genes_vs_{}_data.csv'.format(\n",
    "        fame_of_interest),\n",
    "        annual[['first_year', 'cum_genes', 'cum_attention']],\n",
    "        save_index=False\n",
    "    )"
   ]
  },
  {
   "cell_type": "code",
   "execution_count": null,
   "metadata": {},
   "outputs": [],
   "source": [
    "annual[annual[year_category].isin(np.arange(1960, 2020, 10))]"
   ]
  },
  {
   "cell_type": "code",
   "execution_count": null,
   "metadata": {},
   "outputs": [],
   "source": [
    "annual.sort_values(year_category).iloc[::2, :]"
   ]
  },
  {
   "cell_type": "code",
   "execution_count": null,
   "metadata": {},
   "outputs": [],
   "source": [
    "annual.sort_values(year_category).iloc[1::2, :]"
   ]
  },
  {
   "cell_type": "code",
   "execution_count": null,
   "metadata": {},
   "outputs": [],
   "source": [
    "sns.barplot(\n",
    "    x=year_category,\n",
    "    y='attention',\n",
    "    estimator=lambda x: np.median(x),\n",
    "    data=master[master[year_category].isin(np.arange(1970, 2001))]\n",
    ")"
   ]
  },
  {
   "cell_type": "code",
   "execution_count": null,
   "metadata": {},
   "outputs": [],
   "source": []
  }
 ],
 "metadata": {
  "kernelspec": {
   "display_name": "Python 3",
   "language": "python",
   "name": "python3"
  },
  "language_info": {
   "codemirror_mode": {
    "name": "ipython",
    "version": 3
   },
   "file_extension": ".py",
   "mimetype": "text/x-python",
   "name": "python",
   "nbconvert_exporter": "python",
   "pygments_lexer": "ipython3",
   "version": "3.6.5"
  }
 },
 "nbformat": 4,
 "nbformat_minor": 2
}
