{
 "cells": [
  {
   "cell_type": "code",
   "execution_count": null,
   "metadata": {},
   "outputs": [],
   "source": [
    "%load_ext autoreload\n",
    "%autoreload 2"
   ]
  },
  {
   "cell_type": "code",
   "execution_count": null,
   "metadata": {},
   "outputs": [],
   "source": [
    "%matplotlib inline"
   ]
  },
  {
   "cell_type": "code",
   "execution_count": null,
   "metadata": {},
   "outputs": [],
   "source": [
    "import matplotlib as mpl\n",
    "mpl.rcParams['pdf.fonttype'] = 42\n",
    "mpl.rcParams['font.family'] = 'Arial'"
   ]
  },
  {
   "cell_type": "code",
   "execution_count": null,
   "metadata": {},
   "outputs": [],
   "source": []
  },
  {
   "cell_type": "code",
   "execution_count": null,
   "metadata": {},
   "outputs": [],
   "source": [
    "from IPython.core.display import display, HTML\n",
    "display(HTML(\"<style>.container { width:80% !important; }</style>\"))"
   ]
  },
  {
   "cell_type": "code",
   "execution_count": null,
   "metadata": {},
   "outputs": [],
   "source": [
    "import glob\n",
    "import os\n",
    "\n",
    "import numpy as np\n",
    "import pandas as pd\n",
    "import seaborn as sns\n",
    "\n",
    "import matplotlib.pyplot as plt"
   ]
  },
  {
   "cell_type": "code",
   "execution_count": null,
   "metadata": {},
   "outputs": [],
   "source": [
    "from access_biology_data import annotation, gwas_studies, meta, phenotype_collections, properties, relations\n",
    "from access_literature_data import medline\n",
    "from access_mixed_data import genealacart\n",
    "from access_science_shared import standardizer, utils"
   ]
  },
  {
   "cell_type": "code",
   "execution_count": null,
   "metadata": {},
   "outputs": [],
   "source": [
    "import sys\n",
    "sys.path.append('./../src/')\n",
    "\n",
    "import nar170604f_occurences as nar_attention\n",
    "import nar170830f_predictions as forec\n",
    "import resci_inout as rinout\n",
    "import resci_tools as ret\n",
    "\n",
    "import nar180310_mega_integrator as mega"
   ]
  },
  {
   "cell_type": "code",
   "execution_count": null,
   "metadata": {},
   "outputs": [],
   "source": [
    "save_images = False\n",
    "save_late_images = False"
   ]
  },
  {
   "cell_type": "code",
   "execution_count": null,
   "metadata": {},
   "outputs": [],
   "source": []
  },
  {
   "cell_type": "code",
   "execution_count": null,
   "metadata": {},
   "outputs": [],
   "source": [
    "taxon_id = 9606"
   ]
  },
  {
   "cell_type": "code",
   "execution_count": null,
   "metadata": {},
   "outputs": [],
   "source": [
    "ref_genes = mega.get_ref_genes()"
   ]
  },
  {
   "cell_type": "code",
   "execution_count": null,
   "metadata": {},
   "outputs": [],
   "source": [
    "papers = mega.get_publications()"
   ]
  },
  {
   "cell_type": "markdown",
   "metadata": {},
   "source": [
    "# Collect interesting summary statistics"
   ]
  },
  {
   "cell_type": "code",
   "execution_count": null,
   "metadata": {},
   "outputs": [],
   "source": [
    "summary_statistics = dict()"
   ]
  },
  {
   "cell_type": "code",
   "execution_count": null,
   "metadata": {},
   "outputs": [],
   "source": [
    "taxon_id=9606"
   ]
  },
  {
   "cell_type": "code",
   "execution_count": null,
   "metadata": {},
   "outputs": [],
   "source": [
    "\n",
    "def get_ref_genes():\n",
    "    ref_genes = standardizer.reference_genes(\n",
    "        taxon_id=9606,\n",
    "        ref_code='orp')\n",
    "    return ref_genes\n",
    "\n",
    "\n",
    "def get_publications():\n",
    "    ref_genes = get_ref_genes()\n",
    "    ref_gene2pubmed = medline.gene2pubmed(\n",
    "        taxon_id=9606,\n",
    "        paper_kind='research',\n",
    "        ref_genes=ref_genes)\n",
    "\n",
    "    papers = nar_attention.count_papers_and_attention(\n",
    "        ref_genes,\n",
    "        ref_gene2pubmed)\n",
    "\n",
    "    return papers"
   ]
  },
  {
   "cell_type": "code",
   "execution_count": null,
   "metadata": {},
   "outputs": [],
   "source": [
    "%%time\n",
    "\n",
    "cl = dict()\n",
    "dd = dict()\n",
    "ge = dict()\n",
    "\n",
    "\n",
    "categs = {\n",
    "    'gwas': mega.frequent_gwas,\n",
    "    'gtx': mega.gtx,\n",
    "    'lof': mega.LoF,\n",
    "    'duf': mega.DUF,\n",
    "    'extreme_swissprot': mega.extreme_swissprot,\n",
    "    'orphan_disease': mega.orphan_disease,\n",
    "    'rare_go': mega.rare_go,\n",
    "    'signal_peptide': mega.signal_peptide,\n",
    "    'rnai': mega.rnai_phenotypes,\n",
    "    'rare_compounds': mega.rare_compounds,\n",
    "    'bioplex_fame': mega.fame_in_bioplex,\n",
    "    'challenged_proteins': mega.challenged_proteins,\n",
    "    'detection_in_tissues': mega.detection_in_tissues,\n",
    "    'detection_in_cells': mega.detection_in_cells,\n",
    "    'westernblot_in_biogrid': mega.biogrid_western_blot,\n",
    "    'presence_of_homologs': mega.presence_of_homologs,\n",
    "    'fame_of_homologs': mega.fame_of_homologs,\n",
    "    'pi_transition': mega.pi_transition,\n",
    "    'supporting_nih_institutes': mega.supporting_nih_institutes,\n",
    "    'fame_rank': mega.fame_rank,\n",
    "    'any_gwas': mega.any_gwas,\n",
    "}\n",
    "\n",
    "for k, i in categs.items():\n",
    "    print(k)\n",
    "    a, b, c = i()\n",
    "    cl[k] = a\n",
    "    dd[k] = b\n",
    "    ge[k] = c"
   ]
  },
  {
   "cell_type": "code",
   "execution_count": null,
   "metadata": {},
   "outputs": [],
   "source": [
    "# def export(file_base):\n",
    "#     p = '180310_mega_integrator/{}'.format(file_base)\n",
    "\n",
    "#     ret.export_raster_image(p + '.png', dpi=300, insert_date_time=False)\n",
    "#     ret.export_image(p + '.pdf', insert_date_time=False)\n"
   ]
  },
  {
   "cell_type": "code",
   "execution_count": null,
   "metadata": {},
   "outputs": [],
   "source": [
    "su = pd.concat(cl.values(), axis=1, join='outer').rename_axis('gene_ncbi')\n",
    "\n"
   ]
  },
  {
   "cell_type": "code",
   "execution_count": null,
   "metadata": {},
   "outputs": [],
   "source": [
    "su['in_most_tissues_1'] = su['fraction_of_tissues_1'] > 0.5\n",
    "su['in_most_cells_1'] = su['fraction_of_cells_1'] > 0.5\n",
    "su['in_most_1']  = su['in_most_tissues_1'] | su['in_most_cells_1']\n",
    "\n",
    "su['in_most_tissues_10'] = su['fraction_of_tissues_10'] > 0.5\n",
    "su['in_most_cells_10'] = su['fraction_of_cells_10'] > 0.5\n",
    "su['in_most_10']  = su['in_most_tissues_10'] | su['in_most_cells_10']\n",
    "\n",
    "su['in_any_tissues_1'] = su['fraction_of_tissues_1'] > 0\n",
    "su['in_any_cells_1'] = su['fraction_of_cells_1'] > 0\n",
    "su['in_any_1']  = su['in_any_tissues_1'] | su['in_any_cells_1']\n",
    "\n",
    "su['in_any_tissues_10'] = su['fraction_of_tissues_10'] > 0\n",
    "su['in_any_cells_10'] = su['fraction_of_cells_10'] > 0\n",
    "su['in_any_10']  = su['in_any_tissues_10'] | su['in_any_cells_10']\n",
    "\n",
    "su['in_any_tissues_100'] = su['fraction_of_tissues_100'] > 0\n",
    "su['in_any_cells_100'] = su['fraction_of_cells_100'] > 0\n",
    "su['in_any_100']  = su['in_any_tissues_100'] | su['in_any_cells_100']\n",
    "\n",
    "\n",
    "\n",
    "\n",
    "su['yeast'] = su['presence_Schizosaccharomyces pombe 972h-'] | su['presence_Saccharomyces cerevisiae S288c']\n",
    "su['worm_fly'] = su['presence_Drosophila melanogaster'] | su['presence_Caenorhabditis elegans']\n",
    "su['c_anxient'] = su['yeast'] | su['worm_fly']\n",
    "su['c_accessibility'] = su['signal_peptide'] | su['in_most_tissues_1'] | su['in_most_cells_1']\n",
    "\n",
    "su['strong_change_in_gtx'] = su['gtx_fold'] >= 1\n",
    "su['change_in_gtx'] = su['gtx_fold'] >= 0\n",
    "\n",
    "\n",
    "\n",
    "su['c_experimental_coverage'] = su['rnai_frequent'] | su['change_in_gtx'] | su['biogrid_western_blot']\n",
    "\n",
    "su['easy_experimentation'] = su['c_accessibility'] | su['c_experimental_coverage']\n",
    "\n",
    "su['bp2_mean_studied'] = su['bp2_mean_unstudied'] == False\n",
    "\n",
    "su['c_genetic_importance'] = su['extremly_LoF_intolerant'] | su['any_prominent_gwas']\n",
    "su['c_close_to_interesting'] = su['extreme_swissprot'] | su['has_duf'] | su['bp2_mean_studied']\n",
    "su['c_societal_support'] = su['will_be_pi'] | su['recently_supporting_institutes']"
   ]
  },
  {
   "cell_type": "code",
   "execution_count": null,
   "metadata": {
    "scrolled": true
   },
   "outputs": [],
   "source": [
    "# [print(x) for x in su.columns];"
   ]
  },
  {
   "cell_type": "code",
   "execution_count": null,
   "metadata": {},
   "outputs": [],
   "source": [
    "su['frequent_fold'] = su['gtx_fold'].rank(pct=True, na_option='top') > 0.8"
   ]
  },
  {
   "cell_type": "code",
   "execution_count": null,
   "metadata": {},
   "outputs": [],
   "source": []
  },
  {
   "cell_type": "code",
   "execution_count": null,
   "metadata": {},
   "outputs": [],
   "source": [
    "# c = [\n",
    "#     'any_prominent_gwas',\n",
    "#     'extremly_LoF_intolerant',\n",
    "#     'any_gwas',\n",
    "# #     'in_any_1',\n",
    "#     'in_most_1',\n",
    "#     'in_any_10',\n",
    "# #     'in_most_10',    \n",
    "#     'strong_change_in_gtx',\n",
    "#     'change_in_gtx',\n",
    "#     'presence_Saccharomyces cerevisiae S288c',\n",
    "#     'presence_Schizosaccharomyces pombe 972h-',\n",
    "#     'presence_Caenorhabditis elegans',\n",
    "#     'presence_Drosophila melanogaster',\n",
    "#     'rnai_frequent',\n",
    "#     'biogrid_western_blot',\n",
    "#     'bp2_mean_studied',\n",
    "# ]\n",
    "\n",
    "\n",
    "\n",
    "co = [\n",
    "    'rnai_frequent',\n",
    "    'any_prominent_gwas',\n",
    "    'extremly_LoF_intolerant',\n",
    "    'any_gwas',\n",
    "#     'in_any_1',\n",
    "    'in_most_1',\n",
    "    'in_any_10',\n",
    "    'in_any_100',\n",
    "#     'in_most_10',    \n",
    "#     'strong_change_in_gtx',\n",
    "#     'change_in_gtx',\n",
    "    'presence_Saccharomyces cerevisiae S288c',\n",
    "    'presence_Schizosaccharomyces pombe 972h-',\n",
    "    'presence_Caenorhabditis elegans',\n",
    "    'presence_Drosophila melanogaster',\n",
    "    'extreme_swissprot',\n",
    "    'frequent_fold',\n",
    "    'biogrid_western_blot',\n",
    "    'bp2_mean_studied',\n",
    "]\n",
    "\n",
    "\n",
    "\n",
    "\n",
    "genes_of_interest = list(papers[papers['attention']>=1].index)\n",
    "\n",
    "\n",
    "agg = []\n",
    "\n",
    "\n",
    "mini = su.loc[genes_of_interest, co].fillna(False)\n",
    "mini['something'] = mini.any(axis=1)\n",
    "\n",
    "t = [\n",
    "    'rnai_frequent',\n",
    "    'any_prominent_gwas',\n",
    "    'extremly_LoF_intolerant',\n",
    "    'any_gwas',\n",
    "]\n",
    "mini['something_lof'] = mini.loc[:, t].any(axis=1)\n",
    "\n",
    "t = [\n",
    "    'in_most_1',\n",
    "    'in_any_10',\n",
    "    'in_any_100',\n",
    "]\n",
    "\n",
    "mini['something_expression'] = mini[t].any(axis=1)\n",
    "\n",
    "t = [\n",
    "    'presence_Saccharomyces cerevisiae S288c',\n",
    "    'presence_Schizosaccharomyces pombe 972h-',\n",
    "    'presence_Caenorhabditis elegans',\n",
    "    'presence_Drosophila melanogaster',\n",
    "]\n",
    "\n",
    "mini['something_invertebrate'] = mini[t].any(axis=1)\n",
    "\n",
    "t = ['extreme_swissprot']\n",
    "mini['something_biophysics'] = mini[t].any(axis=1)\n",
    "\n",
    "t = ['frequent_fold']\n",
    "mini['something_gtx'] = mini[t].any(axis=1)\n",
    "\n",
    "\n",
    "t = [\n",
    "    'biogrid_western_blot',\n",
    "    'bp2_mean_studied',\n",
    "]\n",
    "mini['something_interaction'] = mini[t].any(axis=1)\n",
    "\n",
    "\n",
    "\n",
    "\n",
    "\n",
    "for c in mini.columns:\n",
    "    d = mini[[c]].reset_index()\n",
    "    d = d.rename(columns={c: 'presence'})\n",
    "    d.loc[:, 'origin'] = c\n",
    "    d.loc[:, 'hue'] = 'studied'\n",
    "    agg.append(d)\n",
    "    \n",
    "    \n",
    "genes_of_interest = list(papers[papers['attention']<1].index)\n",
    "\n",
    "\n",
    "mini = su.loc[genes_of_interest, co].fillna(False)\n",
    "mini['something'] = mini.any(axis=1)\n",
    "\n",
    "\n",
    "t = [\n",
    "    'rnai_frequent',\n",
    "    'any_prominent_gwas',\n",
    "    'extremly_LoF_intolerant',\n",
    "    'any_gwas',\n",
    "]\n",
    "mini['something_lof'] = mini.loc[:, t].any(axis=1)\n",
    "\n",
    "t = [\n",
    "    'in_most_1',\n",
    "    'in_any_10',\n",
    "    'in_any_100',\n",
    "]\n",
    "\n",
    "mini['something_expression'] = mini[t].any(axis=1)\n",
    "\n",
    "t = [\n",
    "    'presence_Saccharomyces cerevisiae S288c',\n",
    "    'presence_Schizosaccharomyces pombe 972h-',\n",
    "    'presence_Caenorhabditis elegans',\n",
    "    'presence_Drosophila melanogaster',\n",
    "]\n",
    "\n",
    "mini['something_invertebrate'] = mini[t].any(axis=1)\n",
    "\n",
    "t = ['extreme_swissprot']\n",
    "mini['something_biophysics'] = mini[t].any(axis=1)\n",
    "\n",
    "t = ['frequent_fold']\n",
    "mini['something_gtx'] = mini[t].any(axis=1)\n",
    "\n",
    "\n",
    "t = [\n",
    "    'biogrid_western_blot',\n",
    "    'bp2_mean_studied',\n",
    "]\n",
    "mini['something_interaction'] = mini[t].any(axis=1)\n",
    "\n",
    "\n",
    "\n",
    "\n",
    "\n",
    "for c in mini.columns:\n",
    "    d = mini[[c]].reset_index()\n",
    "    d = d.rename(columns={c: 'presence'})\n",
    "    d.loc[:, 'origin'] = c\n",
    "    d.loc[:, 'hue'] = 'unstudied'\n",
    "    agg.append(d)    \n",
    "    \n",
    "    \n",
    "df = pd.concat(agg)\n",
    "\n",
    "plt.figure(figsize=(20,10))\n",
    "sns.barplot(x='origin', y='presence', hue='hue', data=df, hue_order=['unstudied', 'studied', ]) \n",
    "\n",
    "if save_images:\n",
    "    ret.export_image('180320_explorability/fraction_either_category_all_expanded.pdf')"
   ]
  },
  {
   "cell_type": "code",
   "execution_count": null,
   "metadata": {},
   "outputs": [],
   "source": [
    "sub = [\n",
    "    'something_lof',\n",
    "    'something_expression',\n",
    "    'something_invertebrate',\n",
    "    'something_biophysics',\n",
    "    'something_gtx',\n",
    "    'something_interaction',\n",
    "    'something'\n",
    "    ]"
   ]
  },
  {
   "cell_type": "code",
   "execution_count": null,
   "metadata": {},
   "outputs": [],
   "source": [
    "plt.figure(figsize=(20,10))\n",
    "sns.barplot(x='origin', y='presence', hue='hue', data=df[df['origin'].isin(sub)], hue_order=['unstudied', 'studied', ]) \n",
    "\n",
    "if save_images:\n",
    "    ret.export_image('180320_explorability/fraction_high_levels.pdf')"
   ]
  },
  {
   "cell_type": "code",
   "execution_count": null,
   "metadata": {},
   "outputs": [],
   "source": []
  },
  {
   "cell_type": "code",
   "execution_count": null,
   "metadata": {},
   "outputs": [],
   "source": [
    "sub = [\n",
    "    'something_lof',\n",
    "    'something_expression',\n",
    "    'something_invertebrate',\n",
    "    'something_biophysics',\n",
    "    'something_gtx',\n",
    "    'something_interaction'\n",
    "    ]\n",
    "f = (df['hue']=='unstudied') & (df['origin'].isin(\n",
    "    sub\n",
    "))"
   ]
  },
  {
   "cell_type": "code",
   "execution_count": null,
   "metadata": {},
   "outputs": [],
   "source": [
    "dff = df[f]"
   ]
  },
  {
   "cell_type": "code",
   "execution_count": null,
   "metadata": {},
   "outputs": [],
   "source": [
    "h = dff[['gene_ncbi', 'presence']].groupby('gene_ncbi').agg(sum)"
   ]
  },
  {
   "cell_type": "code",
   "execution_count": null,
   "metadata": {},
   "outputs": [],
   "source": [
    "hh =h['presence'].value_counts().sort_index()"
   ]
  },
  {
   "cell_type": "code",
   "execution_count": null,
   "metadata": {},
   "outputs": [],
   "source": [
    "hh = hh/hh.sum()"
   ]
  },
  {
   "cell_type": "code",
   "execution_count": null,
   "metadata": {},
   "outputs": [],
   "source": [
    "hh"
   ]
  },
  {
   "cell_type": "code",
   "execution_count": null,
   "metadata": {},
   "outputs": [],
   "source": [
    "h[h['presence']==6]"
   ]
  },
  {
   "cell_type": "code",
   "execution_count": null,
   "metadata": {},
   "outputs": [],
   "source": [
    "hh.cumsum()"
   ]
  },
  {
   "cell_type": "code",
   "execution_count": null,
   "metadata": {},
   "outputs": [],
   "source": [
    "1-hh"
   ]
  },
  {
   "cell_type": "code",
   "execution_count": null,
   "metadata": {},
   "outputs": [],
   "source": []
  },
  {
   "cell_type": "code",
   "execution_count": null,
   "metadata": {},
   "outputs": [],
   "source": [
    "hh"
   ]
  },
  {
   "cell_type": "code",
   "execution_count": null,
   "metadata": {},
   "outputs": [],
   "source": [
    "n"
   ]
  },
  {
   "cell_type": "code",
   "execution_count": null,
   "metadata": {},
   "outputs": [],
   "source": [
    "save_late_images=True"
   ]
  },
  {
   "cell_type": "code",
   "execution_count": null,
   "metadata": {},
   "outputs": [],
   "source": [
    "import matplotlib.pyplot as plt\n",
    "\n",
    "\n",
    "\n",
    "\n",
    "labels = [str(x) for x in hh.index]\n",
    "sizes = [100*x for x in hh.values]\n",
    "patches, texts = plt.pie(sizes)\n",
    "plt.legend(patches, labels, loc=\"best\")\n",
    "plt.axis('equal')\n",
    "plt.tight_layout()\n",
    "\n",
    "if save_late_images:\n",
    "    ret.export_image('180320_explorability/fraction_either_category_all_expanded.pdf')"
   ]
  },
  {
   "cell_type": "code",
   "execution_count": null,
   "metadata": {},
   "outputs": [],
   "source": [
    "h[h['presence']==6]"
   ]
  },
  {
   "cell_type": "code",
   "execution_count": null,
   "metadata": {},
   "outputs": [],
   "source": [
    "1-hh.cumsum()"
   ]
  },
  {
   "cell_type": "code",
   "execution_count": null,
   "metadata": {},
   "outputs": [],
   "source": [
    "hh"
   ]
  },
  {
   "cell_type": "code",
   "execution_count": null,
   "metadata": {},
   "outputs": [],
   "source": []
  },
  {
   "cell_type": "code",
   "execution_count": null,
   "metadata": {},
   "outputs": [],
   "source": [
    "(1-hh.cumsum()).plot(kind='bar')\n",
    "plt.xlabel('dummy')\n",
    "plt.ylabel('Fraction')\n",
    "\n",
    "if save_late_images:\n",
    "    ret.export_image('180320_explorability/fraction_cumulative.pdf')"
   ]
  },
  {
   "cell_type": "code",
   "execution_count": null,
   "metadata": {},
   "outputs": [],
   "source": [
    "1-hh.cumsum()"
   ]
  },
  {
   "cell_type": "code",
   "execution_count": null,
   "metadata": {},
   "outputs": [],
   "source": [
    "h[h['presence']>=3].shape[0]/len(h)"
   ]
  },
  {
   "cell_type": "code",
   "execution_count": null,
   "metadata": {},
   "outputs": [],
   "source": []
  },
  {
   "cell_type": "code",
   "execution_count": null,
   "metadata": {},
   "outputs": [],
   "source": []
  },
  {
   "cell_type": "code",
   "execution_count": null,
   "metadata": {},
   "outputs": [],
   "source": []
  }
 ],
 "metadata": {
  "kernelspec": {
   "display_name": "Python 3",
   "language": "python",
   "name": "python3"
  },
  "language_info": {
   "codemirror_mode": {
    "name": "ipython",
    "version": 3
   },
   "file_extension": ".py",
   "mimetype": "text/x-python",
   "name": "python",
   "nbconvert_exporter": "python",
   "pygments_lexer": "ipython3",
   "version": "3.6.5"
  }
 },
 "nbformat": 4,
 "nbformat_minor": 2
}
