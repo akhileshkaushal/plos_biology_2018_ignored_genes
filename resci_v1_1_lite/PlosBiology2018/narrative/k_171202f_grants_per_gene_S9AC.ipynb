{
 "cells": [
  {
   "cell_type": "code",
   "execution_count": null,
   "metadata": {},
   "outputs": [],
   "source": [
    "%matplotlib inline  \n",
    "%reload_ext autoreload\n",
    "%autoreload 2\n",
    "\n",
    "import matplotlib as mpl\n",
    "mpl.rcParams['pdf.fonttype'] = 42\n",
    "mpl.rcParams['font.family'] = 'Arial'"
   ]
  },
  {
   "cell_type": "code",
   "execution_count": null,
   "metadata": {},
   "outputs": [],
   "source": [
    "import os\n",
    "import sys\n",
    "\n",
    "import numpy as np\n",
    "import pandas as pd\n",
    "\n",
    "from access_science_shared import standardizer\n",
    "from access_literature_data import medline\n",
    "\n",
    "sys.path.append('./../src')\n",
    "\n",
    "import resci_tools as ret\n",
    "\n",
    "import resci_inout as inout\n",
    "import nar170604f_occurences as nar_attention\n",
    "\n",
    "import nar170605f_funding as funding"
   ]
  },
  {
   "cell_type": "code",
   "execution_count": null,
   "metadata": {},
   "outputs": [],
   "source": [
    "import seaborn as sns\n",
    "import matplotlib.pyplot as plt\n",
    "\n",
    "from scipy.stats import spearmanr"
   ]
  },
  {
   "cell_type": "code",
   "execution_count": null,
   "metadata": {},
   "outputs": [],
   "source": [
    "save_images = True"
   ]
  },
  {
   "cell_type": "markdown",
   "metadata": {},
   "source": [
    "# Get stats"
   ]
  },
  {
   "cell_type": "code",
   "execution_count": null,
   "metadata": {},
   "outputs": [],
   "source": [
    "nih_project, nih_budget, nih_publication = funding.get_paper_funding_through_nih()\n",
    "\n",
    "taxon_id = 9606\n",
    "\n",
    "ref_genes = standardizer.reference_genes(taxon_id, 'orp')  # offical nomenclature, liteature, protein-coding\n",
    "ref_gene2pubmed = medline.gene2pubmed(taxon_id, ['pubmed_id', 'gene_ncbi'], paper_kind='research')\n",
    "papers = nar_attention.count_papers_and_attention(ref_genes, ref_gene2pubmed)\n",
    "\n",
    "grants_on_pubmed = nih_publication[['pubmed_id', 'project_num']].drop_duplicates()"
   ]
  },
  {
   "cell_type": "code",
   "execution_count": null,
   "metadata": {},
   "outputs": [],
   "source": [
    "# get grants per gene\n",
    "master = pd.merge(\n",
    "    ref_gene2pubmed,\n",
    "    grants_on_pubmed[['pubmed_id', 'project_num']]\n",
    ")[['gene_ncbi', 'project_num']].drop_duplicates()\n",
    "\n",
    "grants_per_gene = master['gene_ncbi'].value_counts().to_frame('grants_per_gene').reset_index(\n",
    "    ).rename(columns={'index': 'gene_ncbi'}).set_index('gene_ncbi')\n",
    "grants_per_gene = grants_per_gene.loc[ref_genes, :].fillna(0)"
   ]
  },
  {
   "cell_type": "markdown",
   "metadata": {},
   "source": [
    "# Overview of relation of grants and publications"
   ]
  },
  {
   "cell_type": "code",
   "execution_count": null,
   "metadata": {},
   "outputs": [],
   "source": [
    "# occurence in publications\n",
    "fame = papers.reset_index()\n",
    "fame['papers'] = fame['papers'].astype(float)\n",
    "fame['log_papers'] = np.log10(fame['papers'].values)\n",
    "bins = [0, 0.5, 1, 1.5, 2, 2.5, 3, 3.5, 4]\n",
    "fame['log_papers_bin'] = pd.cut(fame['log_papers'].values, bins, include_lowest=True)"
   ]
  },
  {
   "cell_type": "code",
   "execution_count": null,
   "metadata": {},
   "outputs": [],
   "source": []
  },
  {
   "cell_type": "code",
   "execution_count": null,
   "metadata": {},
   "outputs": [],
   "source": [
    "to_plot = pd.merge(\n",
    "    fame,\n",
    "    grants_per_gene.reset_index()\n",
    ")\n",
    "to_plot['log_grants_1'] = to_plot['grants_per_gene'].apply(lambda x: np.log10(x + 1))\n",
    "\n",
    "sns.jointplot(\n",
    "    x='log_papers',\n",
    "    y='log_grants_1',\n",
    "    data=to_plot,\n",
    "    stat_func = spearmanr,\n",
    "    joint_kws={'s': 1}\n",
    ")\n",
    "\n",
    "if save_images:\n",
    "    ret.export_image('171202f_grants_per_gene/papers_vs_grants.pdf')"
   ]
  },
  {
   "cell_type": "code",
   "execution_count": null,
   "metadata": {},
   "outputs": [],
   "source": [
    "sns.boxplot(x='log_papers_bin', y='grants_per_gene', data=to_plot, notch=True, color='goldenrod')\n",
    "plt.yscale('log')\n",
    "\n",
    "if save_images:\n",
    "    ret.export_image('171202f_grants_per_gene/binned_grants_per_gene.pdf')"
   ]
  },
  {
   "cell_type": "code",
   "execution_count": null,
   "metadata": {},
   "outputs": [],
   "source": [
    "import resci_inout as rinout"
   ]
  },
  {
   "cell_type": "code",
   "execution_count": null,
   "metadata": {},
   "outputs": [],
   "source": [
    "def get_predictions(comparison):\n",
    "\n",
    "    p = os.path.join(\n",
    "        rinout.get_internal_path(\n",
    "                '171202f_predict_money'),\n",
    "        comparison,\n",
    "        'zgbrh_p90_e300',\n",
    "        'pooled_target_and_prediciton.csv.gz'\n",
    "    )\n",
    "    df = pd.read_csv(p)\n",
    "    df = df.set_index('gene_ncbi')\n",
    "    target = df.pop('target')\n",
    "    predictions = df\n",
    "    \n",
    "    return target, predictions\n",
    "\n",
    "\n",
    "def pooling_fun(x):\n",
    "    return np.nanmedian(x)"
   ]
  },
  {
   "cell_type": "code",
   "execution_count": null,
   "metadata": {},
   "outputs": [],
   "source": [
    "ta, po = get_predictions('171202_human_BioExpYearhomall_log_budget_for_attention')\n",
    "po = po.apply(pooling_fun, axis=1)\n",
    "df = pd.concat(\n",
    "        [ta, po], axis=1, join='inner').rename(\n",
    "        columns={0: 'predicted'})"
   ]
  },
  {
   "cell_type": "code",
   "execution_count": null,
   "metadata": {},
   "outputs": [],
   "source": [
    "master = pd.merge(\n",
    "    df.reset_index(),\n",
    "    grants_per_gene.reset_index()\n",
    ")"
   ]
  },
  {
   "cell_type": "code",
   "execution_count": null,
   "metadata": {},
   "outputs": [],
   "source": [
    "master['log_grants_per_gene'] = np.log10(master['grants_per_gene'])"
   ]
  },
  {
   "cell_type": "code",
   "execution_count": null,
   "metadata": {},
   "outputs": [],
   "source": [
    "sns.jointplot(\n",
    "    x='target',\n",
    "    y='log_grants_per_gene',\n",
    "    data=master,\n",
    "    stat_func = spearmanr,\n",
    "    joint_kws={'s': 1}\n",
    ")\n",
    "\n",
    "if save_images:\n",
    "    ret.export_image('171202f_grants_per_gene/target_vs_log_grants.pdf')"
   ]
  },
  {
   "cell_type": "code",
   "execution_count": null,
   "metadata": {},
   "outputs": [],
   "source": [
    "bins = [2, 4, 6, 8, 10]\n",
    "master['target_bin'] = pd.cut(master['target'].values, bins, include_lowest=True)"
   ]
  },
  {
   "cell_type": "code",
   "execution_count": null,
   "metadata": {},
   "outputs": [],
   "source": [
    "sns.boxplot(x='target_bin', y='grants_per_gene', data=master, notch=True, color='goldenrod')\n",
    "plt.yscale('log')\n",
    "\n",
    "if save_images:\n",
    "    ret.export_image('171202f_grants_per_gene/grants_per_gene.pdf')"
   ]
  },
  {
   "cell_type": "code",
   "execution_count": null,
   "metadata": {},
   "outputs": [],
   "source": []
  },
  {
   "cell_type": "code",
   "execution_count": null,
   "metadata": {},
   "outputs": [],
   "source": []
  },
  {
   "cell_type": "code",
   "execution_count": null,
   "metadata": {},
   "outputs": [],
   "source": []
  },
  {
   "cell_type": "code",
   "execution_count": null,
   "metadata": {},
   "outputs": [],
   "source": []
  },
  {
   "cell_type": "code",
   "execution_count": null,
   "metadata": {},
   "outputs": [],
   "source": []
  },
  {
   "cell_type": "code",
   "execution_count": null,
   "metadata": {},
   "outputs": [],
   "source": []
  },
  {
   "cell_type": "code",
   "execution_count": null,
   "metadata": {},
   "outputs": [],
   "source": []
  }
 ],
 "metadata": {
  "kernelspec": {
   "display_name": "Python 3",
   "language": "python",
   "name": "python3"
  },
  "language_info": {
   "codemirror_mode": {
    "name": "ipython",
    "version": 3
   },
   "file_extension": ".py",
   "mimetype": "text/x-python",
   "name": "python",
   "nbconvert_exporter": "python",
   "pygments_lexer": "ipython3",
   "version": "3.6.5"
  }
 },
 "nbformat": 4,
 "nbformat_minor": 2
}
