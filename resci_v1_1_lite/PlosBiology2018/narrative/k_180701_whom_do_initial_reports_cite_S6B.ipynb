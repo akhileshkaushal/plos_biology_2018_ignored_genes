{
 "cells": [
  {
   "cell_type": "code",
   "execution_count": null,
   "metadata": {},
   "outputs": [],
   "source": [
    "%matplotlib inline  \n",
    "%reload_ext autoreload\n",
    "%autoreload 2\n",
    "\n",
    "import matplotlib as mpl\n",
    "mpl.rcParams['pdf.fonttype'] = 42\n",
    "mpl.rcParams['font.family'] = 'Arial'\n",
    "\n",
    "import numpy as np\n",
    "import pandas as pd\n",
    "# import seaborn as sns\n",
    "\n",
    "from access_literature_data import medline\n",
    "from access_science_shared import standardizer\n",
    "\n",
    "import matplotlib.pyplot as plt"
   ]
  },
  {
   "cell_type": "code",
   "execution_count": null,
   "metadata": {},
   "outputs": [],
   "source": [
    "import sys\n",
    "sys.path.append('./../src/')\n",
    "import nar171107f_citation_network as cit\n",
    "import resci_tools as ret"
   ]
  },
  {
   "cell_type": "code",
   "execution_count": null,
   "metadata": {},
   "outputs": [],
   "source": [
    "save_images = False\n",
    "save_tables = True"
   ]
  },
  {
   "cell_type": "code",
   "execution_count": null,
   "metadata": {},
   "outputs": [],
   "source": [
    "# get full citation network of research publications linked to pubmed\n",
    "pmid_2_pmid = cit.gene_pmid_research_gene_pmid_research()"
   ]
  },
  {
   "cell_type": "code",
   "execution_count": null,
   "metadata": {},
   "outputs": [],
   "source": [
    "# get publication years of pubmed IDs\n",
    "df_m = medline.select_medline_wos_records(\n",
    "    columns_sql='''\n",
    "        medline.pubmed_id,\n",
    "        medline.pubdate_year''',\n",
    "    taxon_id='all',\n",
    "    kind='research',\n",
    "    unambiguous=True\n",
    ")"
   ]
  },
  {
   "cell_type": "code",
   "execution_count": null,
   "metadata": {},
   "outputs": [],
   "source": [
    "# pubmed, and whether pmid has a human and/or not-human\n",
    "gene2pubmed = medline.gene2pubmed(taxon_id='all')\n",
    "taxon_pubmed = gene2pubmed.copy()\n",
    "taxon_pubmed.loc[:, 'has_human'] = taxon_pubmed['taxon_ncbi'] == 9606\n",
    "taxon_pubmed.loc[:, 'has_not_human'] = taxon_pubmed['taxon_ncbi'] != 9606\n",
    "taxon_pubmed = taxon_pubmed[['pubmed_id', 'has_human', 'has_not_human']].drop_duplicates()"
   ]
  },
  {
   "cell_type": "code",
   "execution_count": null,
   "metadata": {},
   "outputs": [],
   "source": [
    "taxon_id = 9606\n",
    "ref_genes = standardizer.reference_genes(taxon_id, 'orp')  # offical nomenclature, liteature, protein-coding\n",
    "ref_gene2pubmed = medline.gene2pubmed(taxon_id, ['pubmed_id', 'gene_ncbi'], paper_kind='research')"
   ]
  },
  {
   "cell_type": "code",
   "execution_count": null,
   "metadata": {},
   "outputs": [],
   "source": [
    "# get year of initial report\n",
    "import nar170902_discovery_year as yr\n",
    "initial_year = yr.get_year_of_discovery(taxon_id, ref_genes).reset_index()\n",
    "initial = initial_year[['gene_ncbi', 'first_year']].rename(columns={'first_year': 'pubdate_year'})\n",
    "initial.loc[:, 'initial_report'] = True"
   ]
  },
  {
   "cell_type": "code",
   "execution_count": null,
   "metadata": {},
   "outputs": [],
   "source": [
    "df_m_human_gene = pd.merge(df_m, ref_gene2pubmed)"
   ]
  },
  {
   "cell_type": "code",
   "execution_count": null,
   "metadata": {},
   "outputs": [],
   "source": [
    "df_m_human_gene = pd.merge(\n",
    "    df_m_human_gene,\n",
    "    initial,\n",
    "    left_on=['pubdate_year', 'gene_ncbi'],\n",
    "    right_on=['pubdate_year', 'gene_ncbi'],\n",
    "    how='left'\n",
    ")"
   ]
  },
  {
   "cell_type": "code",
   "execution_count": null,
   "metadata": {},
   "outputs": [],
   "source": [
    "df_m_human_gene['initial_report'] = df_m_human_gene['initial_report'].fillna(False)"
   ]
  },
  {
   "cell_type": "code",
   "execution_count": null,
   "metadata": {},
   "outputs": [],
   "source": [
    "df_m_human = df_m_human_gene[['pubmed_id', 'pubdate_year', 'initial_report']].drop_duplicates()"
   ]
  },
  {
   "cell_type": "code",
   "execution_count": null,
   "metadata": {},
   "outputs": [],
   "source": [
    "df_m_human = df_m_human.groupby(['pubmed_id', 'pubdate_year']).agg(any).reset_index()"
   ]
  },
  {
   "cell_type": "code",
   "execution_count": null,
   "metadata": {},
   "outputs": [],
   "source": [
    "master = pd.merge(pmid_2_pmid, df_m_human_gene, left_on='citing', right_on='pubmed_id').drop('pubmed_id', 1)"
   ]
  },
  {
   "cell_type": "code",
   "execution_count": null,
   "metadata": {},
   "outputs": [],
   "source": [
    "master = pd.merge(\n",
    "    master,\n",
    "    taxon_pubmed,\n",
    "    left_on='cited',\n",
    "    right_on='pubmed_id',\n",
    "    how='left'\n",
    ")"
   ]
  },
  {
   "cell_type": "code",
   "execution_count": null,
   "metadata": {},
   "outputs": [],
   "source": [
    "m = master[['citing', 'initial_report', 'has_human', 'has_not_human']].groupby(\n",
    "    ['citing']).agg(sum).reset_index()"
   ]
  },
  {
   "cell_type": "code",
   "execution_count": null,
   "metadata": {},
   "outputs": [],
   "source": [
    "m['excess_not_human'] =  m['has_not_human'] > m['has_human']"
   ]
  },
  {
   "cell_type": "code",
   "execution_count": null,
   "metadata": {},
   "outputs": [],
   "source": [
    "a = pd.merge(\n",
    "    (m.set_index('citing') >0).reset_index(),\n",
    "    master[['citing', 'pubdate_year']].drop_duplicates())"
   ]
  },
  {
   "cell_type": "code",
   "execution_count": null,
   "metadata": {},
   "outputs": [],
   "source": [
    "import seaborn as sns"
   ]
  },
  {
   "cell_type": "code",
   "execution_count": null,
   "metadata": {},
   "outputs": [],
   "source": [
    "sns.barplot(\n",
    "    x='pubdate_year',\n",
    "    y='excess_not_human',\n",
    "    data=a[a['pubdate_year'].isin(np.arange(1980, 2001))],\n",
    "    hue='initial_report'\n",
    ")\n",
    "\n",
    "if save_images:\n",
    "    ret.export_image('180701_whom_do_initial_reports_cite/more_non_human_by_year.pdf')"
   ]
  },
  {
   "cell_type": "code",
   "execution_count": null,
   "metadata": {},
   "outputs": [],
   "source": [
    "sns.barplot(x='initial_report', y='excess_not_human',data=a)\n",
    "\n",
    "\n",
    "\n",
    "if save_images:\n",
    "    ret.export_image('180701_whom_do_initial_reports_cite/more_non_human.pdf')"
   ]
  },
  {
   "cell_type": "code",
   "execution_count": null,
   "metadata": {},
   "outputs": [],
   "source": [
    "from access_biology_data import meta\n",
    "\n"
   ]
  },
  {
   "cell_type": "code",
   "execution_count": null,
   "metadata": {},
   "outputs": [],
   "source": [
    "initial_reports_citing_non_human = master[\n",
    "    (master['has_not_human']==True) & (master['initial_report']==True)\n",
    "]['pubmed_id'].unique()\n",
    "\n",
    "d = pmid_2_pmid[pmid_2_pmid['citing'].isin(initial_reports_citing_non_human)]\n",
    "\n",
    "v = gene2pubmed['pubmed_id'].value_counts().to_frame('value')\n",
    "v.index.name='pubmed_id'\n",
    "v = v.reset_index()\n",
    "v['value'] = 1  / v['value']\n",
    "\n",
    "g = gene2pubmed.copy()\n",
    "g = pd.merge(g, v)\n",
    "dd = pd.merge(\n",
    "    d,\n",
    "    g.drop('gene_ncbi', axis=1).rename(columns={'pubmed_id': 'cited'})\n",
    "\n",
    ")\n",
    "dd = dd[dd['taxon_ncbi']!=9606]\n",
    "\n",
    "orig = dd[['taxon_ncbi', 'value']].groupby('taxon_ncbi').agg(sum).sort_values('value', ascending=False)\n",
    "\n",
    "orig['share'] = orig['value'] / orig['value'].sum()\n",
    "\n",
    "\n",
    "for t in orig.index[:10]:\n",
    "    print(t, meta.taxon_name(t))"
   ]
  },
  {
   "cell_type": "code",
   "execution_count": null,
   "metadata": {},
   "outputs": [],
   "source": [
    "orig_non_human = orig.copy()"
   ]
  },
  {
   "cell_type": "code",
   "execution_count": null,
   "metadata": {},
   "outputs": [],
   "source": [
    "initial_reports_citing_non_human = master[\n",
    "    (master['has_not_human']==False) & (master['initial_report']==True)\n",
    "]['pubmed_id'].unique()\n",
    "\n",
    "d = pmid_2_pmid[pmid_2_pmid['citing'].isin(initial_reports_citing_non_human)]\n",
    "\n",
    "v = gene2pubmed['pubmed_id'].value_counts().to_frame('value')\n",
    "\n",
    "v.index.name='pubmed_id'\n",
    "v = v.reset_index()\n",
    "v['value'] = 1  / v['value']\n",
    "\n",
    "g = gene2pubmed.copy()\n",
    "\n",
    "g = pd.merge(g, v)\n",
    "\n",
    "dd = pd.merge(\n",
    "    d,\n",
    "    g.drop('gene_ncbi', axis=1).rename(columns={'pubmed_id': 'cited'})\n",
    "\n",
    ")\n",
    "\n",
    "dd = dd[dd['taxon_ncbi']!=9606]\n",
    "orig = dd[['taxon_ncbi', 'value']].groupby('taxon_ncbi').agg(sum).sort_values('value', ascending=False)\n",
    "orig['share'] = orig['value'] / orig['value'].sum()\n",
    "\n",
    "\n",
    "for t in orig.index[:10]:\n",
    "    print(t, meta.taxon_name(t))"
   ]
  },
  {
   "cell_type": "code",
   "execution_count": null,
   "metadata": {},
   "outputs": [],
   "source": [
    "m = pd.merge(\n",
    "    orig_non_human.reset_index(), \n",
    "    orig.reset_index(), \n",
    "    left_on='taxon_ncbi', \n",
    "    right_on='taxon_ncbi',\n",
    "    suffixes=('_citing_organims', '_also_citing_humans')\n",
    ")"
   ]
  },
  {
   "cell_type": "code",
   "execution_count": null,
   "metadata": {},
   "outputs": [],
   "source": [
    "m['enrichment'] = np.log2(m['share_citing_organims']/m['share_also_citing_humans'])"
   ]
  },
  {
   "cell_type": "code",
   "execution_count": null,
   "metadata": {},
   "outputs": [],
   "source": [
    "m=m.set_index('taxon_ncbi')"
   ]
  },
  {
   "cell_type": "code",
   "execution_count": null,
   "metadata": {},
   "outputs": [],
   "source": [
    "organism_names = [meta.taxon_name(t) for t in m.index]"
   ]
  },
  {
   "cell_type": "code",
   "execution_count": null,
   "metadata": {},
   "outputs": [],
   "source": [
    "patch_name = pd.DataFrame(\n",
    "    index=m.index,\n",
    "    data=organism_names,\n",
    "    columns=['organism_name']\n",
    "    \n",
    ")"
   ]
  },
  {
   "cell_type": "code",
   "execution_count": null,
   "metadata": {},
   "outputs": [],
   "source": [
    "mm = pd.concat([m, patch_name], axis=1)"
   ]
  },
  {
   "cell_type": "code",
   "execution_count": null,
   "metadata": {},
   "outputs": [],
   "source": [
    "mm = mm[['organism_name', 'share_citing_organims', 'share_also_citing_humans', 'enrichment']]"
   ]
  },
  {
   "cell_type": "code",
   "execution_count": null,
   "metadata": {},
   "outputs": [],
   "source": [
    "mm = mm.sort_values('share_citing_organims', ascending=False)"
   ]
  },
  {
   "cell_type": "code",
   "execution_count": null,
   "metadata": {},
   "outputs": [],
   "source": [
    "mm.loc[:, 'log_share'] = np.log10(mm['share_citing_organims'])"
   ]
  },
  {
   "cell_type": "code",
   "execution_count": null,
   "metadata": {},
   "outputs": [],
   "source": [
    "sns.lmplot(\n",
    "    x='enrichment',\n",
    "    y='share_citing_organims',\n",
    "    data=mm.iloc[:10, :],\n",
    "    fit_reg=False\n",
    ")\n",
    "\n",
    "if save_images:\n",
    "    ret.export_image('180701_whom_do_initial_reports_cite/share_of_most_cited.pdf')"
   ]
  },
  {
   "cell_type": "code",
   "execution_count": null,
   "metadata": {},
   "outputs": [],
   "source": [
    "mm.iloc[:10, :]"
   ]
  },
  {
   "cell_type": "code",
   "execution_count": null,
   "metadata": {},
   "outputs": [],
   "source": []
  },
  {
   "cell_type": "code",
   "execution_count": null,
   "metadata": {},
   "outputs": [],
   "source": []
  },
  {
   "cell_type": "code",
   "execution_count": null,
   "metadata": {},
   "outputs": [],
   "source": [
    "out = mm[['organism_name', 'share_citing_organims', 'share_also_citing_humans']].rename(\n",
    "columns={\n",
    "    'share_citing_organism': 'share_citing_model_organism',\n",
    "    'organism_name': 'model organism'\n",
    "})\n",
    "\n",
    "if save_tables:\n",
    "    ret.export_full_frame('180701_whom_do_initial_reports_cite/data.csv', out)"
   ]
  },
  {
   "cell_type": "code",
   "execution_count": null,
   "metadata": {},
   "outputs": [],
   "source": []
  }
 ],
 "metadata": {
  "kernelspec": {
   "display_name": "Python 3",
   "language": "python",
   "name": "python3"
  },
  "language_info": {
   "codemirror_mode": {
    "name": "ipython",
    "version": 3
   },
   "file_extension": ".py",
   "mimetype": "text/x-python",
   "name": "python",
   "nbconvert_exporter": "python",
   "pygments_lexer": "ipython3",
   "version": "3.6.5"
  }
 },
 "nbformat": 4,
 "nbformat_minor": 2
}
