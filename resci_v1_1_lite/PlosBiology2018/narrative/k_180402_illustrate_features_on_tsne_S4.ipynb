{
 "cells": [
  {
   "cell_type": "code",
   "execution_count": null,
   "metadata": {},
   "outputs": [],
   "source": [
    "%load_ext autoreload\n",
    "%autoreload 2"
   ]
  },
  {
   "cell_type": "code",
   "execution_count": null,
   "metadata": {},
   "outputs": [],
   "source": [
    "%matplotlib inline"
   ]
  },
  {
   "cell_type": "code",
   "execution_count": null,
   "metadata": {},
   "outputs": [],
   "source": [
    "import matplotlib as mpl\n",
    "mpl.rcParams['pdf.fonttype'] = 42\n",
    "mpl.rcParams['font.family'] = 'Arial'"
   ]
  },
  {
   "cell_type": "code",
   "execution_count": null,
   "metadata": {},
   "outputs": [],
   "source": [
    "from IPython.core.display import display, HTML\n",
    "display(HTML(\"<style>.container { width:80% !important; }</style>\"))"
   ]
  },
  {
   "cell_type": "code",
   "execution_count": null,
   "metadata": {},
   "outputs": [],
   "source": [
    "import glob\n",
    "import os\n",
    "\n",
    "import numpy as np\n",
    "import pandas as pd\n",
    "import seaborn as sns\n",
    "\n",
    "import matplotlib.pyplot as plt"
   ]
  },
  {
   "cell_type": "code",
   "execution_count": null,
   "metadata": {},
   "outputs": [],
   "source": [
    "from access_biology_data import annotation, gwas_studies, meta, phenotype_collections, properties, relations\n",
    "from access_literature_data import medline\n",
    "from access_mixed_data import genealacart\n",
    "from access_science_shared import standardizer, utils"
   ]
  },
  {
   "cell_type": "code",
   "execution_count": null,
   "metadata": {},
   "outputs": [],
   "source": [
    "import sys\n",
    "sys.path.append('./../src/')\n",
    "\n",
    "import nar170604f_occurences as nar_attention\n",
    "import nar170830f_predictions as forec\n",
    "import resci_inout as rinout\n",
    "import resci_tools as ret\n",
    "\n",
    "import nar180310_mega_integrator as mega"
   ]
  },
  {
   "cell_type": "code",
   "execution_count": null,
   "metadata": {},
   "outputs": [],
   "source": [
    "taxon_id = 9606"
   ]
  },
  {
   "cell_type": "code",
   "execution_count": null,
   "metadata": {},
   "outputs": [],
   "source": [
    "save_images = False\n",
    "save_tables = True"
   ]
  },
  {
   "cell_type": "code",
   "execution_count": null,
   "metadata": {},
   "outputs": [],
   "source": [
    "ref_genes = mega.get_ref_genes()"
   ]
  },
  {
   "cell_type": "code",
   "execution_count": null,
   "metadata": {},
   "outputs": [],
   "source": [
    "def export(file_base):\n",
    "    p = '180402_illustrate_features_on_tsne/{}'.format(file_base)\n",
    "\n",
    "    ret.export_raster_image(p + '.png', dpi=600, insert_date_time=False)\n",
    "    ret.export_image(p + '.pdf', insert_date_time=False)\n"
   ]
  },
  {
   "cell_type": "code",
   "execution_count": null,
   "metadata": {},
   "outputs": [],
   "source": [
    "tsne_frame = mega.load_layout(rotation_degrees=45)"
   ]
  },
  {
   "cell_type": "code",
   "execution_count": null,
   "metadata": {},
   "outputs": [],
   "source": [
    "z_features = mega.get_clustered_zscored_features()"
   ]
  },
  {
   "cell_type": "code",
   "execution_count": null,
   "metadata": {
    "scrolled": false
   },
   "outputs": [],
   "source": [
    "to_plot = pd.merge(tsne_frame.reset_index(), z_features.reset_index())\n",
    "to_plot = to_plot.sample(frac=1, replace=False, random_state=1)\n",
    "\n",
    "for entry_to_display in z_features.columns:\n",
    "\n",
    "    to_plot['display'] = to_plot[entry_to_display].copy()\n",
    "\n",
    "    plt.figure()\n",
    "    plt.scatter(\n",
    "        x=to_plot.loc[:, 'x'],\n",
    "        y=to_plot.loc[:, 'y'],\n",
    "        s=3,\n",
    "        c=to_plot.loc[:, 'display'],\n",
    "        cmap='viridis',\n",
    "#         cmap='PiYG',\n",
    "        vmin=-5,\n",
    "        vmax=5)  # \n",
    "    \n",
    "    plt.colorbar()\n",
    "    plt.title(entry_to_display)\n",
    "\n",
    "    if save_images:\n",
    "        export('feature_5viridis_{}'.format(entry_to_display))\n",
    "    \n",
    "    \n",
    "    plt.show()\n",
    "\n",
    "\n",
    "\n"
   ]
  },
  {
   "cell_type": "code",
   "execution_count": null,
   "metadata": {},
   "outputs": [],
   "source": []
  },
  {
   "cell_type": "code",
   "execution_count": null,
   "metadata": {
    "scrolled": false
   },
   "outputs": [],
   "source": [
    "to_plot = pd.merge(tsne_frame.reset_index(), z_features.reset_index())\n",
    "to_plot = to_plot.sample(frac=1, replace=False, random_state=1)\n",
    "\n",
    "for entry_to_display in z_features.columns:\n",
    "\n",
    "    to_plot['display'] = to_plot[entry_to_display].copy()\n",
    "\n",
    "    plt.figure()\n",
    "    plt.scatter(\n",
    "        x=to_plot.loc[:, 'x'],\n",
    "        y=to_plot.loc[:, 'y'],\n",
    "        s=3,\n",
    "        c=to_plot.loc[:, 'display'],\n",
    "#         cmap='viridis',\n",
    "        cmap='PiYG',\n",
    "        vmin=-3,\n",
    "        vmax=3)  # \n",
    "    \n",
    "    plt.colorbar()\n",
    "    plt.title(entry_to_display)\n",
    "\n",
    "    if save_images:\n",
    "        export('feature_3PiYG_{}'.format(entry_to_display))\n",
    "    \n",
    "    \n",
    "    plt.show()\n",
    "\n",
    "\n"
   ]
  },
  {
   "cell_type": "code",
   "execution_count": null,
   "metadata": {},
   "outputs": [],
   "source": []
  },
  {
   "cell_type": "code",
   "execution_count": null,
   "metadata": {},
   "outputs": [],
   "source": [
    "out = to_plot.drop('display',1)"
   ]
  },
  {
   "cell_type": "code",
   "execution_count": null,
   "metadata": {},
   "outputs": [],
   "source": [
    "out = out.sort_values('gene_ncbi')"
   ]
  },
  {
   "cell_type": "code",
   "execution_count": null,
   "metadata": {},
   "outputs": [],
   "source": [
    "if save_tables:\n",
    "    ret.export_full_frame(\n",
    "        '180402_illustrate_features_on_tsne/data.csv',\n",
    "        out,\n",
    "        save_index=False\n",
    "    )"
   ]
  },
  {
   "cell_type": "code",
   "execution_count": null,
   "metadata": {},
   "outputs": [],
   "source": []
  },
  {
   "cell_type": "code",
   "execution_count": null,
   "metadata": {},
   "outputs": [],
   "source": []
  },
  {
   "cell_type": "code",
   "execution_count": null,
   "metadata": {},
   "outputs": [],
   "source": []
  },
  {
   "cell_type": "code",
   "execution_count": null,
   "metadata": {},
   "outputs": [],
   "source": []
  },
  {
   "cell_type": "code",
   "execution_count": null,
   "metadata": {},
   "outputs": [],
   "source": []
  },
  {
   "cell_type": "code",
   "execution_count": null,
   "metadata": {},
   "outputs": [],
   "source": []
  },
  {
   "cell_type": "code",
   "execution_count": null,
   "metadata": {},
   "outputs": [],
   "source": []
  }
 ],
 "metadata": {
  "kernelspec": {
   "display_name": "Python 3",
   "language": "python",
   "name": "python3"
  },
  "language_info": {
   "codemirror_mode": {
    "name": "ipython",
    "version": 3
   },
   "file_extension": ".py",
   "mimetype": "text/x-python",
   "name": "python",
   "nbconvert_exporter": "python",
   "pygments_lexer": "ipython3",
   "version": "3.6.5"
  }
 },
 "nbformat": 4,
 "nbformat_minor": 2
}
