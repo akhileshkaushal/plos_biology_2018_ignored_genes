{
 "cells": [
  {
   "cell_type": "code",
   "execution_count": null,
   "metadata": {},
   "outputs": [],
   "source": [
    "%matplotlib inline\n",
    "%load_ext autoreload\n",
    "%autoreload 2"
   ]
  },
  {
   "cell_type": "code",
   "execution_count": null,
   "metadata": {},
   "outputs": [],
   "source": [
    "import sys\n",
    "\n",
    "import numpy as np\n",
    "import pandas as pd\n",
    "import seaborn as sns\n",
    "\n",
    "from access_biology_data import annotation, meta\n",
    "from access_economic_data import patents\n",
    "from access_literature_data import medline\n",
    "from access_science_shared import standardizer"
   ]
  },
  {
   "cell_type": "code",
   "execution_count": null,
   "metadata": {},
   "outputs": [],
   "source": [
    "import matplotlib.pyplot as plt"
   ]
  },
  {
   "cell_type": "code",
   "execution_count": null,
   "metadata": {},
   "outputs": [],
   "source": [
    "sys.path.append('./../src/')\n",
    "import nar170605f_funding as nar_funding\n",
    "import nar170604f_occurences as nar_occurences\n",
    "import resci_tools as ret"
   ]
  },
  {
   "cell_type": "markdown",
   "metadata": {},
   "source": [
    "# General reference"
   ]
  },
  {
   "cell_type": "code",
   "execution_count": null,
   "metadata": {},
   "outputs": [],
   "source": [
    "taxon_id = 9606\n",
    "ref_genes = standardizer.reference_genes(taxon_id, 'orp')\n",
    "save_images = False\n",
    "save_images_group2 = False  #added figures\n",
    "save_tables = True"
   ]
  },
  {
   "cell_type": "markdown",
   "metadata": {},
   "source": [
    "# Papers"
   ]
  },
  {
   "cell_type": "code",
   "execution_count": null,
   "metadata": {},
   "outputs": [],
   "source": [
    "gene2pubmed = medline.gene2pubmed(taxon_id, ['pubmed_id', 'gene_ncbi'], paper_kind='research')\n",
    "papers = nar_occurences.count_papers_and_attention(ref_genes, gene2pubmed)"
   ]
  },
  {
   "cell_type": "markdown",
   "metadata": {},
   "source": [
    "# Patents"
   ]
  },
  {
   "cell_type": "code",
   "execution_count": null,
   "metadata": {},
   "outputs": [],
   "source": [
    "rosenfeld = patents.rosenfeld_2013()\n",
    "rosenfeld = rosenfeld[rosenfeld['gene_ncbi'].isin(ref_genes)]\n",
    "genes_per_patent = rosenfeld['patent'].value_counts()"
   ]
  },
  {
   "cell_type": "code",
   "execution_count": null,
   "metadata": {},
   "outputs": [],
   "source": [
    "df = pd.DataFrame(index=ref_genes)"
   ]
  },
  {
   "cell_type": "code",
   "execution_count": null,
   "metadata": {},
   "outputs": [],
   "source": [
    "p = genes_per_patent[genes_per_patent==1].index    # single gene patents\n",
    "d = rosenfeld[rosenfeld['patent'].isin(p)]\n",
    "df.loc[:, 'patents (max. 1 gene/patent)'] = d['gene_ncbi'].value_counts()\n",
    "\n",
    "d = rosenfeld\n",
    "df.loc[:, 'patents (any amount of genes/patent)'] = d['gene_ncbi'].value_counts()\n",
    "\n",
    "patents = df.fillna(0)"
   ]
  },
  {
   "cell_type": "code",
   "execution_count": null,
   "metadata": {},
   "outputs": [],
   "source": [
    "# for c in [100000, 1000, 100, 10, 1]:\n",
    "\n",
    "\n",
    "# supremum_patents = genes_per_patent.max() + 1   # higher than \n",
    "\n",
    "# for c in [supremum_patents + 1, 1]:\n",
    "#     p = genes_per_patent[genes_per_patent<=c].index\n",
    "#     d = rosenfeld[rosenfeld['patent'].isin(p)]\n",
    "#     df.loc[:, 'patents (max. {} g.)'.format(c)] = d['gene_ncbi'].value_counts()\n",
    "# patents = df.fillna(0)"
   ]
  },
  {
   "cell_type": "markdown",
   "metadata": {},
   "source": [
    "# Synonyms"
   ]
  },
  {
   "cell_type": "code",
   "execution_count": null,
   "metadata": {},
   "outputs": [],
   "source": [
    "def count_words(s):\n",
    "    if s == '-':\n",
    "        w = 0\n",
    "    else:\n",
    "        c = np.count_nonzero([x == '|' for x in s])\n",
    "        w = c + 1\n",
    "    return w"
   ]
  },
  {
   "cell_type": "code",
   "execution_count": null,
   "metadata": {},
   "outputs": [],
   "source": [
    "gene_info = meta.gene_info(taxon_id=taxon_id)\n",
    "gene_info = gene_info[gene_info['gene_ncbi'].isin(ref_genes)]\n",
    "gene_info = gene_info.set_index('gene_ncbi', verify_integrity=True)"
   ]
  },
  {
   "cell_type": "code",
   "execution_count": null,
   "metadata": {},
   "outputs": [],
   "source": [
    "od = gene_info['Other_designations'].apply(count_words)\n",
    "sy = gene_info['Synonyms'].apply(count_words)"
   ]
  },
  {
   "cell_type": "code",
   "execution_count": null,
   "metadata": {},
   "outputs": [],
   "source": [
    "nomina = pd.concat([od, sy], axis=1)\n",
    "nomina = nomina.rename(columns={'Other_designations': 'names', 'Synonyms': 'symbols'})\n",
    "nomina = nomina + 1  # add count for NIH symbol and HUGO names\n",
    "# nomina['names_and_symbols'] = nomina['names'] + nomina['symbols']"
   ]
  },
  {
   "cell_type": "markdown",
   "metadata": {},
   "source": [
    "# GO"
   ]
  },
  {
   "cell_type": "code",
   "execution_count": null,
   "metadata": {},
   "outputs": [],
   "source": [
    "def get_go(cat, negating, temporary):\n",
    "\n",
    "    a = annotation.go(\n",
    "        taxon_id,\n",
    "        category=[cat],\n",
    "        negating_support=[negating],\n",
    "        temporary_evidence=[temporary],\n",
    "        unmapped_evidence=[False])\n",
    "\n",
    "    a = a[['gene_ncbi', 'GO_term']].drop_duplicates()\n",
    "    a = a.groupby('gene_ncbi').size()\n",
    "    a.name = 'go_' + cat.lower() + '_negating_' + str(negating) + '_temporary_' + str(temporary)\n",
    "    return a"
   ]
  },
  {
   "cell_type": "code",
   "execution_count": null,
   "metadata": {},
   "outputs": [],
   "source": [
    "def get_go_all(negating, temporary):\n",
    "\n",
    "    a = annotation.go(\n",
    "        taxon_id,\n",
    "        category=['Function', 'Process', 'Component'],\n",
    "        negating_support=[negating],\n",
    "        temporary_evidence=[temporary],\n",
    "        unmapped_evidence=[False])\n",
    "\n",
    "    a = a[['gene_ncbi', 'GO_term']].drop_duplicates()\n",
    "    a = a.groupby('gene_ncbi').size()\n",
    "    a.name = 'go_negating_' + str(negating) + '_temporary_' + str(temporary)\n",
    "    return a"
   ]
  },
  {
   "cell_type": "code",
   "execution_count": null,
   "metadata": {},
   "outputs": [],
   "source": [
    "go_all = pd.concat([\n",
    "    get_go_all(negating=False, temporary=False),\n",
    "    get_go_all(negating=True, temporary=False),\n",
    "    get_go_all(negating=False, temporary=True),\n",
    "], axis=1).fillna(0)"
   ]
  },
  {
   "cell_type": "code",
   "execution_count": null,
   "metadata": {},
   "outputs": [],
   "source": [
    "go = pd.concat(\n",
    "    [get_go(c, negating=False, temporary=False) for c in ['Function', 'Process', 'Component']] +\n",
    "    [get_go(c, negating=True, temporary=False) for c in ['Function', 'Process', 'Component']] +\n",
    "    [get_go(c, negating=False, temporary=True) for c in ['Function', 'Process', 'Component']],\n",
    "    axis=1\n",
    ").fillna(0)"
   ]
  },
  {
   "cell_type": "code",
   "execution_count": null,
   "metadata": {},
   "outputs": [],
   "source": [
    "g = annotation.go(\n",
    "    taxon_id,\n",
    "    ['Function', 'Process', 'Component'],\n",
    "    negating_support=[False],\n",
    "    temporary_evidence=[False],\n",
    "    unmapped_evidence=[False],\n",
    "    any_negating_support=[False])"
   ]
  },
  {
   "cell_type": "code",
   "execution_count": null,
   "metadata": {},
   "outputs": [],
   "source": [
    "g = g[['gene_ncbi', 'GO_term']].drop_duplicates()\n",
    "\n"
   ]
  },
  {
   "cell_type": "code",
   "execution_count": null,
   "metadata": {},
   "outputs": [],
   "source": [
    "v = 1/g['GO_term'].value_counts().to_frame('value_per_category')"
   ]
  },
  {
   "cell_type": "code",
   "execution_count": null,
   "metadata": {},
   "outputs": [],
   "source": [
    "g.head(2)"
   ]
  },
  {
   "cell_type": "code",
   "execution_count": null,
   "metadata": {},
   "outputs": [],
   "source": []
  },
  {
   "cell_type": "code",
   "execution_count": null,
   "metadata": {},
   "outputs": [],
   "source": [
    "g = pd.merge(g, v, left_on='GO_term', right_index=True)"
   ]
  },
  {
   "cell_type": "code",
   "execution_count": null,
   "metadata": {},
   "outputs": [],
   "source": [
    "go_specificity=g[['gene_ncbi','value_per_category']].groupby('gene_ncbi').agg(sum)"
   ]
  },
  {
   "cell_type": "markdown",
   "metadata": {},
   "source": [
    "# Biosystems"
   ]
  },
  {
   "cell_type": "code",
   "execution_count": null,
   "metadata": {},
   "outputs": [],
   "source": [
    "def get_biosystem(cat):\n",
    "    a = annotation.biosystems(\n",
    "        taxon_id,\n",
    "        cat)\n",
    "    a = a[['gene_ncbi', 'accession']]\n",
    "    a = a.groupby('gene_ncbi').size()\n",
    "    a.name = cat\n",
    "    return a"
   ]
  },
  {
   "cell_type": "code",
   "execution_count": null,
   "metadata": {},
   "outputs": [],
   "source": [
    "biosystems = pd.concat([get_biosystem(x) for x in ['REACTOME', 'KEGG', 'WikiPathways']], axis=1).fillna(0)"
   ]
  },
  {
   "cell_type": "markdown",
   "metadata": {},
   "source": [
    "# GeneRIFs"
   ]
  },
  {
   "cell_type": "code",
   "execution_count": null,
   "metadata": {},
   "outputs": [],
   "source": [
    "gene_rif = annotation.generif(taxon_id)"
   ]
  },
  {
   "cell_type": "code",
   "execution_count": null,
   "metadata": {},
   "outputs": [],
   "source": [
    "gene_rif.loc[:,'clean'] = gene_rif.loc[:,'GeneRIF text'].str.lower()\n",
    "gene_rif.loc[:,'clean'] = gene_rif.loc[:,'clean'].str.replace('\\(huge navigator\\)','') \n",
    "gene_rif.loc[:,'clean'] = gene_rif.loc[:,'clean'].str.replace('\\.','')"
   ]
  },
  {
   "cell_type": "code",
   "execution_count": null,
   "metadata": {},
   "outputs": [],
   "source": [
    "gene_rif = gene_rif[gene_rif['gene_ncbi'].isin(ref_genes)]\n",
    "gene_rif = gene_rif[['gene_ncbi', 'clean']]"
   ]
  },
  {
   "cell_type": "code",
   "execution_count": null,
   "metadata": {},
   "outputs": [],
   "source": [
    "# Thought: quantify language: problem: might need a more unbiased approach if it should sound\n",
    "# convincing / not pushed within a largerger narrative\n",
    "# gene_rif = gene_rif.drop_duplicates()\n",
    "# gene_rif = gene_rif[gene_rif['gene_ncbi'].isin(ref_genes)]\n",
    "# clean_rif.loc[:,'may'] = clean_rif.loc[:,'clean'].str.contains(' may | maybe ')"
   ]
  },
  {
   "cell_type": "code",
   "execution_count": null,
   "metadata": {},
   "outputs": [],
   "source": [
    "gene_rif = gene_rif.drop_duplicates()\n",
    "gene_rifs = gene_rif['gene_ncbi'].value_counts().to_frame('gene_rifs')"
   ]
  },
  {
   "cell_type": "markdown",
   "metadata": {},
   "source": [
    "# Combine different knowledge readouts"
   ]
  },
  {
   "cell_type": "code",
   "execution_count": null,
   "metadata": {},
   "outputs": [],
   "source": [
    "master = pd.concat([\n",
    "    papers, patents, nomina, go, biosystems, gene_rifs, go_specificity, go_all\n",
    "], axis=1)\n",
    "master = master.loc[ref_genes, :]\n",
    "master = master.fillna(0)\n",
    "\n",
    "lm = master.apply(lambda  x: np.log10(x + 1))        # note that we are not looking at log 10\n",
    "\n",
    "lm.columns = ['log_{}'.format(x) for x in lm.columns]\n",
    "main = pd.concat([master, lm], axis=1)\n",
    "main.columns"
   ]
  },
  {
   "cell_type": "markdown",
   "metadata": {},
   "source": [
    "# Export data"
   ]
  },
  {
   "cell_type": "code",
   "execution_count": null,
   "metadata": {},
   "outputs": [],
   "source": [
    "main.index.name = 'gene_ncbi'\n",
    "\n",
    "use_in_paper = [\n",
    "    'papers',\n",
    "    'names',\n",
    "    'symbols',\n",
    "    'patents (max. 1 gene/patent)',    \n",
    "    'patents (any amount of genes/patent)',\n",
    "    'go_negating_False_temporary_False',\n",
    "    'go_negating_False_temporary_True',\n",
    "]\n",
    "\n",
    "out = main[use_in_paper]\n",
    "\n",
    "if save_tables:\n",
    "    ret.export_full_frame(\n",
    "    '170705_relatedness_of_knowledge/data.csv',\n",
    "    out\n",
    "    )"
   ]
  },
  {
   "cell_type": "markdown",
   "metadata": {},
   "source": [
    "# Visualize"
   ]
  },
  {
   "cell_type": "code",
   "execution_count": null,
   "metadata": {},
   "outputs": [],
   "source": [
    "plain_color = 'navajowhite'"
   ]
  },
  {
   "cell_type": "code",
   "execution_count": null,
   "metadata": {},
   "outputs": [],
   "source": [
    "bins = [0, 0.5, 1, 1.5, 2, 2.5, 3, 3.5, 4]\n",
    "main['log_papers_bin'] = pd.cut(main['log_papers'].values, bins, include_lowest=True)"
   ]
  },
  {
   "cell_type": "code",
   "execution_count": null,
   "metadata": {},
   "outputs": [],
   "source": [
    "sns.boxplot(\n",
    "    x='log_papers_bin',\n",
    "    y='log_gene_rifs',\n",
    "    data=main, notch=True,\n",
    "    color=plain_color)\n",
    "\n",
    "if save_images:\n",
    "    ret.export_image('170705_relatedness_of_knowledge/gene_rifs.pdf')"
   ]
  },
  {
   "cell_type": "code",
   "execution_count": null,
   "metadata": {},
   "outputs": [],
   "source": [
    "sns.boxplot(\n",
    "    x='log_papers_bin',\n",
    "    y='log_go_process_negating_False_temporary_False',\n",
    "    data=main,\n",
    "    notch=True,\n",
    "    color=plain_color)"
   ]
  },
  {
   "cell_type": "code",
   "execution_count": null,
   "metadata": {},
   "outputs": [],
   "source": [
    "sns.boxplot(\n",
    "    x='log_papers_bin',\n",
    "    y='log_go_process_negating_False_temporary_False',\n",
    "    data=main, notch=True,\n",
    "    color=plain_color)"
   ]
  },
  {
   "cell_type": "code",
   "execution_count": null,
   "metadata": {},
   "outputs": [],
   "source": [
    "sns.boxplot(\n",
    "    x='log_papers_bin', \n",
    "    y='log_go_component_negating_False_temporary_False', \n",
    "    data=main, \n",
    "    notch=True, \n",
    "    color=plain_color)"
   ]
  },
  {
   "cell_type": "code",
   "execution_count": null,
   "metadata": {},
   "outputs": [],
   "source": [
    "sns.boxplot(\n",
    "    x='log_papers_bin',\n",
    "    y='log_go_function_negating_False_temporary_False',\n",
    "    data=main,\n",
    "    notch=True,\n",
    "    color=plain_color)"
   ]
  },
  {
   "cell_type": "code",
   "execution_count": null,
   "metadata": {},
   "outputs": [],
   "source": [
    "sns.boxplot(\n",
    "    x='log_papers_bin',\n",
    "    y='log_go_negating_False_temporary_True',\n",
    "    data=main,\n",
    "    notch=True,\n",
    "    color=plain_color)\n",
    "if save_images:\n",
    "    ret.export_image('170705_relatedness_of_knowledge/GO_temporary.pdf')"
   ]
  },
  {
   "cell_type": "code",
   "execution_count": null,
   "metadata": {},
   "outputs": [],
   "source": [
    "sns.boxplot(\n",
    "    x='log_papers_bin',\n",
    "    y='log_go_negating_False_temporary_False',\n",
    "    data=main,\n",
    "    notch=True,\n",
    "    color=plain_color)\n",
    "if save_images:\n",
    "    ret.export_image('170705_relatedness_of_knowledge/GO_all.pdf')"
   ]
  },
  {
   "cell_type": "code",
   "execution_count": null,
   "metadata": {},
   "outputs": [],
   "source": [
    "main['has_one_gene_patent'] = main['patents (max. 1 gene/patent)'] > 0\n",
    "main['has_any_patent'] = main['patents (any amount of genes/patent)'] > 0\n",
    "main['has_negating_GO'] = main['go_negating_True_temporary_False'] >0 "
   ]
  },
  {
   "cell_type": "code",
   "execution_count": null,
   "metadata": {},
   "outputs": [],
   "source": [
    "sns.barplot(x=\"log_papers_bin\", y=\"has_negating_GO\", data=main, color='sandybrown')\n",
    "if save_images:\n",
    "    ret.export_image('170705_relatedness_of_knowledge/fraction_with_negating_go.pdf')"
   ]
  },
  {
   "cell_type": "code",
   "execution_count": null,
   "metadata": {},
   "outputs": [],
   "source": []
  },
  {
   "cell_type": "code",
   "execution_count": null,
   "metadata": {},
   "outputs": [],
   "source": [
    "sns.barplot(x=\"log_papers_bin\", y=\"has_one_gene_patent\", data=main, color='sandybrown')\n",
    "if save_images:\n",
    "    ret.export_image('170705_relatedness_of_knowledge/fraction_with_one_gene_patent.pdf')"
   ]
  },
  {
   "cell_type": "code",
   "execution_count": null,
   "metadata": {},
   "outputs": [],
   "source": [
    "sns.barplot(x=\"log_papers_bin\", y=\"has_any_patent\", data=main, color='sandybrown')\n",
    "if save_images:\n",
    "    ret.export_image('170705_relatedness_of_knowledge/fraction_with_a_patent.pdf')"
   ]
  },
  {
   "cell_type": "markdown",
   "metadata": {},
   "source": [
    "### Side note: \n",
    "### Check genes with many designations\n",
    "Result: these refer to (splice) variants ; note to self: which is kind of intriguing, as genes with most named splice variants appears to be largely unstudied"
   ]
  },
  {
   "cell_type": "code",
   "execution_count": null,
   "metadata": {},
   "outputs": [],
   "source": [
    "main[main['log_names']>1.6]"
   ]
  },
  {
   "cell_type": "code",
   "execution_count": null,
   "metadata": {},
   "outputs": [],
   "source": [
    "gene_info.loc[79054,'Other_designations']"
   ]
  },
  {
   "cell_type": "code",
   "execution_count": null,
   "metadata": {},
   "outputs": [],
   "source": [
    "gene_info.loc[148398,'Other_designations']"
   ]
  },
  {
   "cell_type": "markdown",
   "metadata": {},
   "source": [
    "### End of Side note – continue\n",
    "\n"
   ]
  },
  {
   "cell_type": "code",
   "execution_count": null,
   "metadata": {},
   "outputs": [],
   "source": [
    "sns.boxplot(x='log_papers_bin', y='log_names', data=main, notch=True, color=plain_color)\n",
    "if save_images:\n",
    "    ret.export_image('170705_relatedness_of_knowledge/names.pdf')"
   ]
  },
  {
   "cell_type": "code",
   "execution_count": null,
   "metadata": {},
   "outputs": [],
   "source": [
    "sns.boxplot(x='log_papers_bin', y='log_symbols', data=main, notch=True, color=plain_color)\n",
    "if save_images:\n",
    "    ret.export_image('170705_relatedness_of_knowledge/symbols.pdf')"
   ]
  },
  {
   "cell_type": "markdown",
   "metadata": {
    "collapsed": true
   },
   "source": [
    "# Cluster features"
   ]
  },
  {
   "cell_type": "code",
   "execution_count": null,
   "metadata": {},
   "outputs": [],
   "source": [
    "master.columns"
   ]
  },
  {
   "cell_type": "code",
   "execution_count": null,
   "metadata": {},
   "outputs": [],
   "source": [
    "cols_to_compare = [\n",
    "    'papers', 'attention', 'patents (max. 1 gene/patent)', \n",
    "    'patents (any amount of genes/patent)', 'names', 'symbols',\n",
    "    'go_negating_False_temporary_False', 'go_negating_True_temporary_False',\n",
    "    'go_negating_False_temporary_True',\n",
    "    'REACTOME', 'KEGG',\n",
    "    'WikiPathways', 'gene_rifs']\n",
    "       \n",
    "#       'go_function_negating_False_temporary_False',\n",
    "#       'go_process_negating_False_temporary_False',\n",
    "#       'go_component_negating_False_temporary_False',\n",
    "#       'go_function_negating_True_temporary_False',\n",
    "#       'go_process_negating_True_temporary_False',\n",
    "#       'go_component_negating_True_temporary_False',\n",
    "#       'go_function_negating_False_temporary_True',\n",
    "#       'go_process_negating_False_temporary_True',\n",
    "#       'go_component_negating_False_temporary_True', \n"
   ]
  },
  {
   "cell_type": "code",
   "execution_count": null,
   "metadata": {},
   "outputs": [],
   "source": []
  },
  {
   "cell_type": "code",
   "execution_count": null,
   "metadata": {},
   "outputs": [],
   "source": [
    "g = sns.clustermap(master.loc[:, cols_to_compare].corr('spearman'), method='ward', vmin=-1, vmax=1)\n",
    "plt.setp(g.ax_heatmap.get_yticklabels(), rotation=0)\n",
    "if save_images:\n",
    "    ret.export_image('170705_relatedness_of_knowledge/clustergram.pdf')"
   ]
  },
  {
   "cell_type": "code",
   "execution_count": null,
   "metadata": {},
   "outputs": [],
   "source": [
    "g = sns.clustermap(master.loc[:, cols_to_compare].corr('spearman'), method='ward', annot=True, vmin=-1, vmax=1)\n",
    "plt.setp(g.ax_heatmap.get_yticklabels(), rotation=0)\n",
    "if save_images:\n",
    "    ret.export_image('170705_relatedness_of_knowledge/clustergram_annotated.pdf')"
   ]
  },
  {
   "cell_type": "code",
   "execution_count": null,
   "metadata": {},
   "outputs": [],
   "source": [
    "cols_to_compare = [\n",
    "    'papers', 'attention', 'patents (max. 1 gene/patent)', \n",
    "    'patents (any amount of genes/patent)', 'names', 'symbols',\n",
    "    'go_negating_False_temporary_False',\n",
    "    'go_negating_False_temporary_True',\n",
    "    'REACTOME', 'KEGG',\n",
    "    'WikiPathways', 'gene_rifs']"
   ]
  },
  {
   "cell_type": "code",
   "execution_count": null,
   "metadata": {},
   "outputs": [],
   "source": [
    "g = sns.clustermap(master.loc[:, cols_to_compare].corr('spearman'), method='ward', vmin=-1, vmax=1)\n",
    "plt.setp(g.ax_heatmap.get_yticklabels(), rotation=0)\n",
    "if save_images_group2:\n",
    "    ret.export_image('170705_relatedness_of_knowledge/clustergram_without_negating.pdf')"
   ]
  },
  {
   "cell_type": "code",
   "execution_count": null,
   "metadata": {},
   "outputs": [],
   "source": []
  },
  {
   "cell_type": "code",
   "execution_count": null,
   "metadata": {},
   "outputs": [],
   "source": []
  },
  {
   "cell_type": "code",
   "execution_count": null,
   "metadata": {},
   "outputs": [],
   "source": []
  },
  {
   "cell_type": "code",
   "execution_count": null,
   "metadata": {},
   "outputs": [],
   "source": []
  },
  {
   "cell_type": "code",
   "execution_count": null,
   "metadata": {},
   "outputs": [],
   "source": []
  }
 ],
 "metadata": {
  "kernelspec": {
   "display_name": "Python 3",
   "language": "python",
   "name": "python3"
  },
  "language_info": {
   "codemirror_mode": {
    "name": "ipython",
    "version": 3
   },
   "file_extension": ".py",
   "mimetype": "text/x-python",
   "name": "python",
   "nbconvert_exporter": "python",
   "pygments_lexer": "ipython3",
   "version": "3.6.5"
  }
 },
 "nbformat": 4,
 "nbformat_minor": 2
}
