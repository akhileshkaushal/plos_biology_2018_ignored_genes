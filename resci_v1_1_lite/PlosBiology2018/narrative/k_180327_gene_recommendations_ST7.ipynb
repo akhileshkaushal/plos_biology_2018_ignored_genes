{
 "cells": [
  {
   "cell_type": "code",
   "execution_count": null,
   "metadata": {},
   "outputs": [],
   "source": [
    "%load_ext autoreload\n",
    "%autoreload 2"
   ]
  },
  {
   "cell_type": "code",
   "execution_count": null,
   "metadata": {},
   "outputs": [],
   "source": [
    "%matplotlib inline"
   ]
  },
  {
   "cell_type": "code",
   "execution_count": null,
   "metadata": {},
   "outputs": [],
   "source": [
    "import matplotlib as mpl\n",
    "mpl.rcParams['pdf.fonttype'] = 42\n",
    "mpl.rcParams['font.family'] = 'Arial'"
   ]
  },
  {
   "cell_type": "code",
   "execution_count": null,
   "metadata": {},
   "outputs": [],
   "source": []
  },
  {
   "cell_type": "code",
   "execution_count": null,
   "metadata": {},
   "outputs": [],
   "source": [
    "from IPython.core.display import display, HTML\n",
    "display(HTML(\"<style>.container { width:80% !important; }</style>\"))"
   ]
  },
  {
   "cell_type": "code",
   "execution_count": null,
   "metadata": {},
   "outputs": [],
   "source": [
    "import glob\n",
    "import os\n",
    "\n",
    "import numpy as np\n",
    "import pandas as pd\n",
    "import seaborn as sns\n",
    "\n",
    "import matplotlib.pyplot as plt"
   ]
  },
  {
   "cell_type": "code",
   "execution_count": null,
   "metadata": {},
   "outputs": [],
   "source": [
    "from access_biology_data import annotation, gwas_studies, meta, phenotype_collections, properties, relations\n",
    "from access_literature_data import medline\n",
    "from access_mixed_data import genealacart\n",
    "from access_science_shared import standardizer, utils"
   ]
  },
  {
   "cell_type": "code",
   "execution_count": null,
   "metadata": {},
   "outputs": [],
   "source": [
    "import sys\n",
    "sys.path.append('./../src/')\n",
    "\n",
    "import nar170604f_occurences as nar_attention\n",
    "import nar170830f_predictions as forec\n",
    "import resci_inout as rinout\n",
    "import resci_tools as ret\n",
    "\n",
    "import nar180310_mega_integrator as mega"
   ]
  },
  {
   "cell_type": "code",
   "execution_count": null,
   "metadata": {},
   "outputs": [],
   "source": [
    "taxon_id = 9606"
   ]
  },
  {
   "cell_type": "code",
   "execution_count": null,
   "metadata": {},
   "outputs": [],
   "source": [
    "save_images=False"
   ]
  },
  {
   "cell_type": "code",
   "execution_count": null,
   "metadata": {},
   "outputs": [],
   "source": [
    "# def export(file_base):\n",
    "#     p = '180318_detail_on_clusters/{}'.format(file_base)\n",
    "    \n",
    "#     ppn = p + '.png'\n",
    "#     rinout.ensure_presence_of_directory(ppn)\n",
    "#     ret.export_raster_image(ppn, dpi=300, insert_date_time=False)\n",
    "    \n",
    "#     ppd = p + '.pdf'\n",
    "#     rinout.ensure_presence_of_directory(ppn)\n",
    "#     ret.export_image(ppd, insert_date_time=False)"
   ]
  },
  {
   "cell_type": "code",
   "execution_count": null,
   "metadata": {},
   "outputs": [],
   "source": [
    "ref_genes = mega.get_ref_genes()"
   ]
  },
  {
   "cell_type": "code",
   "execution_count": null,
   "metadata": {},
   "outputs": [],
   "source": [
    "papers = mega.get_publications()"
   ]
  },
  {
   "cell_type": "code",
   "execution_count": null,
   "metadata": {},
   "outputs": [],
   "source": [
    "tsne_frame = mega.load_layout(rotation_degrees=45)"
   ]
  },
  {
   "cell_type": "code",
   "execution_count": null,
   "metadata": {},
   "outputs": [],
   "source": [
    "papers['enrichment_attention'] = np.log2(\n",
    "    papers['attention']/ papers['attention'].mean())"
   ]
  },
  {
   "cell_type": "code",
   "execution_count": null,
   "metadata": {},
   "outputs": [],
   "source": [
    "papers['enrichment_attention_2015'] = np.log2(\n",
    "    papers['attention_2015']/ papers['attention_2015'].mean())"
   ]
  },
  {
   "cell_type": "code",
   "execution_count": null,
   "metadata": {},
   "outputs": [],
   "source": [
    "%%time\n",
    "\n",
    "cl = dict()\n",
    "dd = dict()\n",
    "ge = dict()\n",
    "\n",
    "\n",
    "categs = {\n",
    "    'gwas': mega.frequent_gwas,\n",
    "    'gtx': mega.gtx,\n",
    "#     'lof': mega.LoF,\n",
    "    'duf': mega.DUF,\n",
    "    'extreme_swissprot': mega.extreme_swissprot,\n",
    "#     'orphan_disease': mega.orphan_disease,\n",
    "    'rare_go': mega.rare_go,\n",
    "    'signal_peptide': mega.signal_peptide,\n",
    "    'rnai': mega.rnai_phenotypes,\n",
    "    'rare_compounds': mega.rare_compounds,\n",
    "    'bioplex_fame': mega.fame_in_bioplex,\n",
    "    'challenged_proteins': mega.challenged_proteins,\n",
    "    'detection_in_tissues': mega.detection_in_tissues,\n",
    "    'detection_in_cells': mega.detection_in_cells,\n",
    "    'westernblot_in_biogrid': mega.biogrid_western_blot,\n",
    "    'presence_of_homologs': mega.presence_of_homologs,\n",
    "    'fame_of_homologs': mega.fame_of_homologs,\n",
    "#     'pi_transition': mega.pi_transition,\n",
    "#     'supporting_nih_institutes': mega.supporting_nih_institutes,\n",
    "    'fame_rank': mega.fame_rank\n",
    "}\n",
    "\n",
    "for k, i in categs.items():\n",
    "    print(k)\n",
    "    a, b, c = i()\n",
    "    cl[k] = a\n",
    "    dd[k] = b\n",
    "    ge[k] = c"
   ]
  },
  {
   "cell_type": "code",
   "execution_count": null,
   "metadata": {},
   "outputs": [],
   "source": [
    "# su = pd.concat(cl.values(), axis=1, join='outer').rename_axis('gene_ncbi')"
   ]
  },
  {
   "cell_type": "code",
   "execution_count": null,
   "metadata": {},
   "outputs": [],
   "source": [
    "summary = dict()"
   ]
  },
  {
   "cell_type": "code",
   "execution_count": null,
   "metadata": {},
   "outputs": [],
   "source": []
  },
  {
   "cell_type": "code",
   "execution_count": null,
   "metadata": {},
   "outputs": [],
   "source": [
    "cl.keys()"
   ]
  },
  {
   "cell_type": "code",
   "execution_count": null,
   "metadata": {},
   "outputs": [],
   "source": [
    "naming = {\n",
    "    'amount_measured_amino_acids': 'amount_amino_acids',\n",
    "    'minus_isoelectric_point': 'low_isolectric_point',\n",
    "    'isoelectric_point': 'high_isoelectric_point',\n",
    "    'SEG_fraction': 'unstructured_fraction',\n",
    "    'SEG_fraction_longest': 'unstructured_covered_by_longest',\n",
    "    'RADAR_fraction': 'repetitiveness', \n",
    "    'gravy_ignoring_O_and_U': 'GRAVY'\n",
    "}\n",
    "\n",
    "actor = cl['extreme_swissprot'].copy().rename(columns=naming)\n",
    "\n",
    "actor = actor.drop('extreme_swissprot', 1)\n",
    "\n",
    "actor = actor.loc[:, sorted(actor.columns)]\n",
    "\n",
    "out = pd.DataFrame(index=actor.index, columns=['biophysics'])\n",
    "out.loc[:, 'biophysics'] = ''\n",
    "\n",
    "for c in actor.columns:\n",
    "    f = actor.loc[:, c] == True\n",
    "    out.loc[f, 'biophysics'] = out.loc[f, 'biophysics'] + c + ', '\n",
    "\n",
    "out.loc[:, 'biophysics'] = out.loc[:, 'biophysics'].str.strip(' ,')\n",
    "\n",
    "out = out.reindex(ref_genes).fillna('')\n",
    "\n",
    "summary['unusual_chemistry'] = out"
   ]
  },
  {
   "cell_type": "code",
   "execution_count": null,
   "metadata": {},
   "outputs": [],
   "source": [
    "side = dd['gtx'].copy()"
   ]
  },
  {
   "cell_type": "code",
   "execution_count": null,
   "metadata": {},
   "outputs": [],
   "source": [
    "side.loc[:, 'gtx_level'] = side.loc[:, 'gtx_fraction'].rank(pct=True)"
   ]
  },
  {
   "cell_type": "code",
   "execution_count": null,
   "metadata": {},
   "outputs": [],
   "source": [
    "side.loc[:, 'EBI GXA'] = ''"
   ]
  },
  {
   "cell_type": "code",
   "execution_count": null,
   "metadata": {},
   "outputs": [],
   "source": [
    "f = side['gtx_level'] >= 0.80\n",
    "side.loc[f, 'EBI GXA'] = 'within 20% most responsive in EBI-GXA'\n",
    "\n",
    "f = side['gtx_level'] >= 0.90\n",
    "side.loc[f, 'EBI GXA'] = 'within 10% most responsive in EBI-GXA'\n",
    "\n",
    "f = side['gtx_level'] >= 0.95\n",
    "side.loc[f, 'EBI GXA'] = 'within 5% most responsive in EBI-GXA'\n",
    "\n",
    "f = side['gtx_level'] >= 0.99\n",
    "side.loc[f, 'EBI GXA'] = 'within 1% most responsive in EBI-GXA'"
   ]
  },
  {
   "cell_type": "code",
   "execution_count": null,
   "metadata": {},
   "outputs": [],
   "source": [
    "b_side = cl['rnai']\n",
    "b_side = b_side[b_side['rnai_frequent']==True]"
   ]
  },
  {
   "cell_type": "code",
   "execution_count": null,
   "metadata": {},
   "outputs": [],
   "source": [
    "c_side = dd['westernblot_in_biogrid']\n",
    "c_side = c_side[c_side['biogrid_western_blot']==True]"
   ]
  },
  {
   "cell_type": "code",
   "execution_count": null,
   "metadata": {},
   "outputs": [],
   "source": [
    "out = side[['EBI GXA']]\n",
    "out = out.reindex(ref_genes)\n",
    "\n",
    "out.loc[:, 'GenomeRNAi'] = ''\n",
    "out.loc[b_side.index, 'GenomeRNAi'] = 'high occurence in GenomeRNAi'\n",
    "\n",
    "out = out.reindex(ref_genes).fillna('')\n",
    "\n",
    "f = out.index.isin(c_side.index)\n",
    "out.loc[f, 'BioGRID'] = 'Affinity Western'\n",
    "\n",
    "out = out.fillna('')"
   ]
  },
  {
   "cell_type": "code",
   "execution_count": null,
   "metadata": {},
   "outputs": [],
   "source": [
    "summary['experiments'] = out"
   ]
  },
  {
   "cell_type": "code",
   "execution_count": null,
   "metadata": {},
   "outputs": [],
   "source": []
  },
  {
   "cell_type": "code",
   "execution_count": null,
   "metadata": {},
   "outputs": [],
   "source": [
    "side = properties.transcript_abundance_uhlen_2015_tissues().set_index('gene_ncbi')\n",
    "side.columns = [x[len('uhlen_2015_cells_log10fpkm: '):] for x in side.columns]\n",
    "side.columns = [x.split('_')[0] for x in side.columns]\n",
    "\n",
    "best_tissue = side.idxmax(axis=1).dropna()"
   ]
  },
  {
   "cell_type": "code",
   "execution_count": null,
   "metadata": {},
   "outputs": [],
   "source": [
    "side = properties.transcript_abundance_uhlen_2015_cells().set_index('gene_ncbi')\n",
    "side.columns = [x[len('uhlen_2015_cells_log10fpkm: '):] for x in side.columns]\n",
    "side.columns = [x.split('_')[0] for x in side.columns]\n",
    "\n",
    "best_cells = side.idxmax(axis=1).dropna()"
   ]
  },
  {
   "cell_type": "code",
   "execution_count": null,
   "metadata": {},
   "outputs": [],
   "source": [
    "out = pd.DataFrame(index=ref_genes, columns=['highest tissue', 'highest cells'])"
   ]
  },
  {
   "cell_type": "code",
   "execution_count": null,
   "metadata": {},
   "outputs": [],
   "source": [
    "out['highest tissue'] = best_tissue"
   ]
  },
  {
   "cell_type": "code",
   "execution_count": null,
   "metadata": {},
   "outputs": [],
   "source": [
    "out['highest cells'] = best_cells"
   ]
  },
  {
   "cell_type": "code",
   "execution_count": null,
   "metadata": {},
   "outputs": [],
   "source": [
    "out = out.fillna('')"
   ]
  },
  {
   "cell_type": "code",
   "execution_count": null,
   "metadata": {},
   "outputs": [],
   "source": [
    "summary['highest_expression'] = out"
   ]
  },
  {
   "cell_type": "code",
   "execution_count": null,
   "metadata": {},
   "outputs": [],
   "source": []
  },
  {
   "cell_type": "code",
   "execution_count": null,
   "metadata": {},
   "outputs": [],
   "source": []
  },
  {
   "cell_type": "code",
   "execution_count": null,
   "metadata": {},
   "outputs": [],
   "source": [
    "he = relations.bioplex2()\n",
    "papers = mega.get_publications()\n",
    "\n",
    "he = he[he['gene_ncbi'].isin(ref_genes)]\n",
    "\n",
    "ge = he['gene_ncbi'].unique()\n",
    "\n",
    "h = pd.merge(\n",
    "    he,\n",
    "    papers[['attention']].reset_index())\n",
    "\n",
    "hh = pd.merge(\n",
    "    h,\n",
    "    h,\n",
    "    left_on='bioplex2_id',\n",
    "    right_on='bioplex2_id',\n",
    "    suffixes=('_cis', '_trans')\n",
    ")\n",
    "\n",
    "b = hh[hh['gene_ncbi_cis'] != hh['gene_ncbi_trans']\n",
    "       ][['gene_ncbi_cis', 'attention_trans', 'gene_ncbi_trans']]"
   ]
  },
  {
   "cell_type": "code",
   "execution_count": null,
   "metadata": {},
   "outputs": [],
   "source": [
    "b = b.sort_values(['gene_ncbi_cis', 'attention_trans', 'gene_ncbi_trans'], ascending=True)"
   ]
  },
  {
   "cell_type": "code",
   "execution_count": null,
   "metadata": {},
   "outputs": [],
   "source": [
    "gi = meta.gene_info(taxon_id=9606, usecols=['gene_ncbi', 'symbol_ncbi']).rename(\n",
    "    columns={'gene_ncbi': 'gene_ncbi_trans'})"
   ]
  },
  {
   "cell_type": "code",
   "execution_count": null,
   "metadata": {},
   "outputs": [],
   "source": [
    "side_lowest = b.groupby('gene_ncbi_cis').first().reset_index()[\n",
    "    ['gene_ncbi_cis', 'gene_ncbi_trans']].rename(columns={\n",
    "    'gene_ncbi_cis': 'gene_ncbi', \n",
    "})\n",
    "\n",
    "side_lowest = pd.merge(side_lowest, gi, how='left')[\n",
    "    ['gene_ncbi', 'symbol_ncbi']\n",
    "].set_index('gene_ncbi').rename(columns={\n",
    "    'symbol_ncbi': 'least_studied_in_bioplex2'\n",
    "})"
   ]
  },
  {
   "cell_type": "code",
   "execution_count": null,
   "metadata": {},
   "outputs": [],
   "source": [
    "side_highest = b.groupby('gene_ncbi_cis').last().reset_index()[\n",
    "    ['gene_ncbi_cis', 'gene_ncbi_trans']].rename(columns={\n",
    "    'gene_ncbi_cis': 'gene_ncbi', \n",
    "})\n",
    "\n",
    "side_highest = pd.merge(side_highest, gi, how='left')[\n",
    "    ['gene_ncbi', 'symbol_ncbi']\n",
    "].set_index('gene_ncbi').rename(columns={\n",
    "    'symbol_ncbi': 'most_studied_in_bioplex2'\n",
    "})"
   ]
  },
  {
   "cell_type": "code",
   "execution_count": null,
   "metadata": {},
   "outputs": [],
   "source": [
    "out = pd.concat([side_lowest, side_highest], axis=1)"
   ]
  },
  {
   "cell_type": "code",
   "execution_count": null,
   "metadata": {},
   "outputs": [],
   "source": [
    "out = out.reindex(ref_genes).fillna('')"
   ]
  },
  {
   "cell_type": "code",
   "execution_count": null,
   "metadata": {},
   "outputs": [],
   "source": [
    "summary['from_bioplex'] = out"
   ]
  },
  {
   "cell_type": "code",
   "execution_count": null,
   "metadata": {},
   "outputs": [],
   "source": []
  },
  {
   "cell_type": "code",
   "execution_count": null,
   "metadata": {},
   "outputs": [],
   "source": [
    "# gene names for all genes\n",
    "entrez_2_name = meta.gene_info(taxon_id='all', usecols=['gene_ncbi', 'symbol_ncbi'])"
   ]
  },
  {
   "cell_type": "code",
   "execution_count": null,
   "metadata": {},
   "outputs": [],
   "source": [
    "# import homologene\n",
    "hg = relations.homologene()"
   ]
  },
  {
   "cell_type": "code",
   "execution_count": null,
   "metadata": {},
   "outputs": [],
   "source": [
    "g = hg.taxon_ncbi.unique()"
   ]
  },
  {
   "cell_type": "code",
   "execution_count": null,
   "metadata": {},
   "outputs": [],
   "source": [
    "[print(meta.taxon_name(x), x) for x in g];"
   ]
  },
  {
   "cell_type": "code",
   "execution_count": null,
   "metadata": {},
   "outputs": [],
   "source": [
    "hg_popular_vertebrate = hg[hg['taxon_ncbi'].isin([\n",
    "    10090,\n",
    "    10116,\n",
    "    7955, # danio\n",
    "    8364, # xenopus\n",
    "    9031, # chicken\n",
    "    \n",
    "])]"
   ]
  },
  {
   "cell_type": "code",
   "execution_count": null,
   "metadata": {},
   "outputs": [],
   "source": [
    "hg_popular_invertebrate = hg[hg['taxon_ncbi'].isin([\n",
    "    284812,\n",
    "    559292,\n",
    "    6239,\n",
    "    7227,\n",
    "#    3702, # arabidopsis\n",
    "])]"
   ]
  },
  {
   "cell_type": "code",
   "execution_count": null,
   "metadata": {},
   "outputs": [],
   "source": [
    "hg_human = hg[hg['taxon_ncbi'].isin([\n",
    "    9606\n",
    "])]"
   ]
  },
  {
   "cell_type": "code",
   "execution_count": null,
   "metadata": {},
   "outputs": [],
   "source": [
    "gene2pubmed_research = medline.gene2pubmed(\n",
    "    taxon_id='all', paper_kind='research')\n",
    "\n",
    "value_of_pubmed_id = gene2pubmed_research[\n",
    "    'pubmed_id'].value_counts().to_frame().reset_index().rename(\n",
    "    columns={'index': 'pubmed_id', 'pubmed_id': 'value'})\n",
    "\n",
    "value_of_pubmed_id['value'] = 1 / value_of_pubmed_id['value']\n",
    "\n",
    "gene2pubmed_research = pd.merge(gene2pubmed_research, value_of_pubmed_id)\n",
    "extended_attention = gene2pubmed_research[[\n",
    "    'gene_ncbi', 'value']].groupby('gene_ncbi').agg(sum)"
   ]
  },
  {
   "cell_type": "code",
   "execution_count": null,
   "metadata": {},
   "outputs": [],
   "source": [
    "#"
   ]
  },
  {
   "cell_type": "code",
   "execution_count": null,
   "metadata": {},
   "outputs": [],
   "source": []
  },
  {
   "cell_type": "code",
   "execution_count": null,
   "metadata": {},
   "outputs": [],
   "source": [
    "side = pd.merge(\n",
    "    hg_human[['homologene_group', 'gene_ncbi']],\n",
    "    hg_popular_vertebrate[['homologene_group', 'taxon_ncbi', 'gene_ncbi']],\n",
    "    left_on='homologene_group',\n",
    "    right_on='homologene_group',\n",
    "    how='left',\n",
    "    suffixes=('', '_h'))\n",
    "\n",
    "side = pd.merge(\n",
    "    side,\n",
    "    extended_attention.reset_index(),\n",
    "    left_on='gene_ncbi_h',\n",
    "    right_on='gene_ncbi',\n",
    "    suffixes=('', '_model')\n",
    ")\n",
    "\n",
    "side = pd.merge(side, entrez_2_name.rename(columns={'gene_ncbi': 'gene_ncbi_h'}), how='left')\n",
    "\n",
    "g = side[\n",
    "    [\n",
    "        'gene_ncbi', \n",
    "        'taxon_ncbi', \n",
    "        'value',\n",
    "        'symbol_ncbi'\n",
    "    ]].sort_values(['gene_ncbi', 'value', 'taxon_ncbi'])[\n",
    "    ['gene_ncbi', 'taxon_ncbi', 'symbol_ncbi']\n",
    "].groupby('gene_ncbi').last()\n",
    "\n",
    "g_vertebrate = g.reset_index().rename(columns={\n",
    "    'taxon_ncbi': 'popular vertebrate',\n",
    "    'symbol_ncbi': 'popular vertebrate gene'\n",
    "})"
   ]
  },
  {
   "cell_type": "code",
   "execution_count": null,
   "metadata": {},
   "outputs": [],
   "source": [
    "side = pd.merge(\n",
    "    hg_human[['homologene_group', 'gene_ncbi']],\n",
    "    hg_popular_invertebrate[['homologene_group', 'taxon_ncbi', 'gene_ncbi']],\n",
    "    left_on='homologene_group',\n",
    "    right_on='homologene_group',\n",
    "    how='left',\n",
    "    suffixes=('', '_h'))\n",
    "\n",
    "side = pd.merge(\n",
    "    side,\n",
    "    extended_attention.reset_index(),\n",
    "    left_on='gene_ncbi_h',\n",
    "    right_on='gene_ncbi',\n",
    "    suffixes=('', '_model')\n",
    ")\n",
    "\n",
    "side = pd.merge(side, entrez_2_name.rename(columns={'gene_ncbi': 'gene_ncbi_h'}), how='left')\n",
    "\n",
    "g = side[\n",
    "    [\n",
    "        'gene_ncbi', \n",
    "        'taxon_ncbi', \n",
    "        'value',\n",
    "        'symbol_ncbi'\n",
    "    ]].sort_values(['gene_ncbi', 'value', 'taxon_ncbi'])[\n",
    "    ['gene_ncbi', 'taxon_ncbi', 'symbol_ncbi']\n",
    "].groupby('gene_ncbi').last()\n",
    "\n",
    "g_invertebrate = g.reset_index().rename(columns={\n",
    "    'taxon_ncbi': 'popular invertebrate',\n",
    "    'symbol_ncbi': 'popular invertebrate gene'\n",
    "})"
   ]
  },
  {
   "cell_type": "code",
   "execution_count": null,
   "metadata": {},
   "outputs": [],
   "source": [
    "u = hg['taxon_ncbi'].unique()"
   ]
  },
  {
   "cell_type": "code",
   "execution_count": null,
   "metadata": {},
   "outputs": [],
   "source": [
    "namer = dict()\n",
    "for uu in u:\n",
    "    namer[uu] = meta.taxon_name(uu)"
   ]
  },
  {
   "cell_type": "code",
   "execution_count": null,
   "metadata": {},
   "outputs": [],
   "source": [
    "g_invertebrate['popular invertebrate'] = g_invertebrate['popular invertebrate'].replace(\n",
    "    namer)"
   ]
  },
  {
   "cell_type": "code",
   "execution_count": null,
   "metadata": {},
   "outputs": [],
   "source": [
    "g_vertebrate['popular vertebrate'] = g_vertebrate['popular vertebrate'].replace(\n",
    "    namer)"
   ]
  },
  {
   "cell_type": "code",
   "execution_count": null,
   "metadata": {},
   "outputs": [],
   "source": [
    "g_invertebrate['popular invertebrate'].value_counts()"
   ]
  },
  {
   "cell_type": "code",
   "execution_count": null,
   "metadata": {},
   "outputs": [],
   "source": [
    "out = pd.concat([\n",
    "    g_invertebrate.set_index('gene_ncbi'),\n",
    "    g_vertebrate.set_index('gene_ncbi'),    \n",
    "], axis=1).reindex(ref_genes).fillna('')"
   ]
  },
  {
   "cell_type": "code",
   "execution_count": null,
   "metadata": {},
   "outputs": [],
   "source": [
    "taxon_abbreviations = {\n",
    "    'Drosophila melanogaster': 'D. melanogaster',\n",
    "    'Saccharomyces cerevisiae S288c': 'S. cerevisiae',\n",
    "    'Caenorhabditis elegans': 'C. elegans',\n",
    "    'Schizosaccharomyces pombe 972h-': 'S. pombe',\n",
    "    'Mus musculus': 'M. musculus',\n",
    "    'Rattus norvegicus': 'R. norvegicus',\n",
    "    'Danio rerio': 'D. rerio',\n",
    "    'Gallus gallus': 'G. gallus',\n",
    "    'Xenopus tropicalis': 'X. tropicalis'\n",
    "}"
   ]
  },
  {
   "cell_type": "code",
   "execution_count": null,
   "metadata": {},
   "outputs": [],
   "source": [
    "out = out.replace(taxon_abbreviations)"
   ]
  },
  {
   "cell_type": "code",
   "execution_count": null,
   "metadata": {},
   "outputs": [],
   "source": [
    "summary['model_organisms'] = out"
   ]
  },
  {
   "cell_type": "code",
   "execution_count": null,
   "metadata": {},
   "outputs": [],
   "source": [
    "out['popular invertebrate'] = out['popular invertebrate'] + ' (' + out['popular invertebrate gene'] + ')'\n",
    "out['popular vertebrate'] = out['popular vertebrate'] + ' (' + out['popular vertebrate gene'] + ')'\n",
    "out = out.replace(' ()','')"
   ]
  },
  {
   "cell_type": "code",
   "execution_count": null,
   "metadata": {},
   "outputs": [],
   "source": [
    "out = out[['popular invertebrate', 'popular vertebrate']]"
   ]
  },
  {
   "cell_type": "code",
   "execution_count": null,
   "metadata": {},
   "outputs": [],
   "source": []
  },
  {
   "cell_type": "code",
   "execution_count": null,
   "metadata": {},
   "outputs": [],
   "source": [
    "actor = dd['duf']\n",
    "\n",
    "out = pd.DataFrame(index=actor.index, columns=['domain(s) of unknown function'])\n",
    "out.loc[:, 'domain(s) of unknown function'] = ''\n",
    "\n",
    "for c in actor.columns:\n",
    "    f = actor.loc[:, c] == True\n",
    "    out.loc[f, 'domain(s) of unknown function'] = out.loc[f, 'domain(s) of unknown function'] + c + ', '\n",
    "\n",
    "out.loc[:, 'domain(s) of unknown function'] = out.loc[:, 'domain(s) of unknown function'].str.strip(' ,')\n",
    "\n",
    "out = out.reindex(ref_genes).fillna('')\n",
    "\n",
    "summary['duf'] = out"
   ]
  },
  {
   "cell_type": "code",
   "execution_count": null,
   "metadata": {},
   "outputs": [],
   "source": []
  },
  {
   "cell_type": "code",
   "execution_count": null,
   "metadata": {},
   "outputs": [],
   "source": [
    "def get_ref_genes():\n",
    "    return ref_genes"
   ]
  },
  {
   "cell_type": "code",
   "execution_count": null,
   "metadata": {},
   "outputs": [],
   "source": [
    "ebi_gwas = gwas_studies.ebi_gwas()\n",
    "\n",
    "f = ebi_gwas['MAPPED_GENE'].str.contains('[;,-]') == True\n",
    "gwas = ebi_gwas.loc[\n",
    "    ~f,\n",
    "    ['MAPPED_GENE', 'DISEASE/TRAIT', 'PVALUE_MLOG', 'pubmed_id']].rename(\n",
    "    columns={\n",
    "        'MAPPED_GENE': 'symbol_ambiguous',\n",
    "        'DISEASE/TRAIT': 'trait',\n",
    "        'PVALUE_MLOG': 'log_pvalue'\n",
    "    }\n",
    ")\n",
    "\n",
    "gwas = pd.merge(\n",
    "    gwas,\n",
    "    meta.gene_info(taxon_id=9606, usecols=[\n",
    "                   'symbol_ncbi', 'gene_ncbi']),\n",
    "    left_on='symbol_ambiguous',\n",
    "    right_on='symbol_ncbi',\n",
    "    how='inner'\n",
    ").drop('symbol_ambiguous', axis=1).drop('symbol_ncbi', axis=1)\n",
    "\n",
    "gwas = gwas[gwas['gene_ncbi'].isin(get_ref_genes())]\n",
    "\n"
   ]
  },
  {
   "cell_type": "code",
   "execution_count": null,
   "metadata": {},
   "outputs": [],
   "source": []
  },
  {
   "cell_type": "code",
   "execution_count": null,
   "metadata": {},
   "outputs": [],
   "source": [
    "\n",
    "ge = sorted(gwas['gene_ncbi'].unique())\n",
    "\n",
    "gwas = gwas.sort_values('log_pvalue', ascending=False)\n",
    "gwas = gwas.drop_duplicates(\n",
    "    ['trait', 'pubmed_id', 'gene_ncbi'],\n",
    "    keep='first')\n",
    "\n",
    "studies_per_phenotype = gwas[\n",
    "    ['pubmed_id', 'trait']].drop_duplicates()[\n",
    "    'trait'].value_counts()\n",
    "\n",
    "required_studies = 10\n",
    "important_gwas = gwas.loc[\n",
    "    (\n",
    "        gwas['trait'].isin(\n",
    "            studies_per_phenotype[\n",
    "                studies_per_phenotype >= required_studies].index)), :\n",
    "\n",
    "][['pubmed_id', 'trait', 'gene_ncbi']].drop_duplicates()"
   ]
  },
  {
   "cell_type": "code",
   "execution_count": null,
   "metadata": {},
   "outputs": [],
   "source": [
    "he = pd.merge(\n",
    "    important_gwas.groupby(\n",
    "        ['trait', 'gene_ncbi']).size(\n",
    "    ).reset_index().rename(columns={0: 'records'}),\n",
    "    studies_per_phenotype.to_frame(\n",
    "        'studies').reset_index().rename(columns={'index': 'trait'}))\n",
    "\n",
    "he.loc[:, 'fraction_of_gwas_studies'] = he['records'] / he['studies']"
   ]
  },
  {
   "cell_type": "code",
   "execution_count": null,
   "metadata": {},
   "outputs": [],
   "source": [
    "actor = he[he['fraction_of_gwas_studies']>0.2][['trait', 'gene_ncbi']]"
   ]
  },
  {
   "cell_type": "code",
   "execution_count": null,
   "metadata": {},
   "outputs": [],
   "source": [
    "actor.loc[:, 'present'] = True"
   ]
  },
  {
   "cell_type": "code",
   "execution_count": null,
   "metadata": {},
   "outputs": [],
   "source": [
    "actor = actor.pivot(index='gene_ncbi', columns='trait', values='present')"
   ]
  },
  {
   "cell_type": "code",
   "execution_count": null,
   "metadata": {},
   "outputs": [],
   "source": [
    "actor = actor.fillna(False)"
   ]
  },
  {
   "cell_type": "code",
   "execution_count": null,
   "metadata": {},
   "outputs": [],
   "source": []
  },
  {
   "cell_type": "code",
   "execution_count": null,
   "metadata": {},
   "outputs": [],
   "source": [
    "actor = actor.loc[:, sorted(actor.columns)]\n",
    "\n",
    "out = pd.DataFrame(index=actor.index, columns=['strong gwas'])\n",
    "out.loc[:, 'strong gwas'] = ''\n",
    "\n",
    "for c in actor.columns:\n",
    "    f = actor.loc[:, c] == True\n",
    "    out.loc[f, 'strong gwas'] = out.loc[f, 'strong gwas'] + c + ', '\n",
    "\n",
    "out.loc[:, 'strong gwas'] = out.loc[:, 'strong gwas'].str.strip(' ,')\n",
    "\n",
    "out = out.reindex(ref_genes).fillna('')\n",
    "\n",
    "summary['strong_gwas'] = out"
   ]
  },
  {
   "cell_type": "code",
   "execution_count": null,
   "metadata": {},
   "outputs": [],
   "source": []
  },
  {
   "cell_type": "code",
   "execution_count": null,
   "metadata": {},
   "outputs": [],
   "source": []
  },
  {
   "cell_type": "code",
   "execution_count": null,
   "metadata": {},
   "outputs": [],
   "source": [
    "gene_info = meta.gene_info(9606, usecols=['gene_ncbi', 'symbol_ncbi', 'dbXrefs'])\n",
    "f = gene_info['dbXrefs'].str.contains('Ensembl:')\n",
    "gene_info.loc[f, 'gene_ensembl'] = gene_info.loc[f, 'dbXrefs'].str.extract('Ensembl:(ENSG[0-9]*)', expand=False)\n",
    "gene_info = gene_info[['gene_ncbi', 'symbol_ncbi', 'gene_ensembl']]"
   ]
  },
  {
   "cell_type": "code",
   "execution_count": null,
   "metadata": {},
   "outputs": [],
   "source": [
    "gene_info = gene_info[gene_info['gene_ncbi'].isin(ref_genes)].set_index('gene_ncbi')"
   ]
  },
  {
   "cell_type": "code",
   "execution_count": null,
   "metadata": {},
   "outputs": [],
   "source": [
    "summary.keys()"
   ]
  },
  {
   "cell_type": "code",
   "execution_count": null,
   "metadata": {},
   "outputs": [],
   "source": [
    "master = pd.concat(\n",
    "[\n",
    "    gene_info,\n",
    "    summary['highest_expression'],\n",
    "    summary['experiments'],\n",
    "    summary['model_organisms'],\n",
    "    summary['strong_gwas'],\n",
    "    summary['from_bioplex'],\n",
    "    summary['unusual_chemistry'],\n",
    "    summary['duf']\n",
    "], axis=1\n",
    ")"
   ]
  },
  {
   "cell_type": "code",
   "execution_count": null,
   "metadata": {},
   "outputs": [],
   "source": [
    "master.columns"
   ]
  },
  {
   "cell_type": "code",
   "execution_count": null,
   "metadata": {},
   "outputs": [],
   "source": [
    "master = master.rename(columns={\n",
    "    'popular invertebrate': 'most studied popular invertebrate',\n",
    "    'popular vertebrate': 'most studied popular vertebrate',\n",
    "    'least_studied_in_bioplex2': 'least studied gene in same bioplex2',\n",
    "    'most_studied_in_bioplex2': 'most studied gene in same bioplex2',\n",
    "    'biophysics': 'top 1% of biophysics'\n",
    "})"
   ]
  },
  {
   "cell_type": "code",
   "execution_count": null,
   "metadata": {},
   "outputs": [],
   "source": [
    "master = master.fillna('')"
   ]
  },
  {
   "cell_type": "code",
   "execution_count": null,
   "metadata": {},
   "outputs": [],
   "source": [
    "actor = properties.compartment_itzhak_2016_determined().set_index('gene_ncbi')\n",
    "actor = actor.loc[:, sorted(actor.columns)]\n",
    "\n",
    "out = pd.DataFrame(index=actor.index, columns=['localization'])\n",
    "out.loc[:, 'localization'] = ''\n",
    "\n",
    "for c in actor.columns:\n",
    "    f = actor.loc[:, c] == True\n",
    "    out.loc[f, 'localization'] = out.loc[f, 'localization'] + c[len('Itzhak2016_Compartment Prediction: '):] + ', '\n",
    "\n",
    "out.loc[:, 'localization'] = out.loc[:, 'localization'].str.strip(' ,')\n",
    "out = out.reindex(ref_genes).fillna('')\n",
    "# summary['strong_gwas'] = out\n",
    "out = out.reset_index()\n",
    "\n",
    "master = pd.merge(master.reset_index(), out, how='left').fillna('')"
   ]
  },
  {
   "cell_type": "code",
   "execution_count": null,
   "metadata": {},
   "outputs": [],
   "source": [
    "swiss_signalp = properties.signalp_swissprot(taxon_id)\n",
    "trembl_signalp = properties.signalp_trembl(taxon_id)\n",
    "\n",
    "genes_with_signal_peptide = set(swiss_signalp[swiss_signalp['SignalP_swissprot: cleaved']==1]['gene_ncbi']).union(\n",
    "set(trembl_signalp[trembl_signalp['SignalP_trembl: cleaved']==1]['gene_ncbi']))\n",
    "\n",
    "f = master['gene_ncbi'].isin(genes_with_signal_peptide)\n",
    "master.loc[f, 'localization'] = master.loc[f, 'localization'] + ', (secreted, signal peptide)'\n",
    "master['localization'] =master['localization'].str.strip(\", \")"
   ]
  },
  {
   "cell_type": "code",
   "execution_count": null,
   "metadata": {},
   "outputs": [],
   "source": [
    "def export_table(file_base, df):\n",
    "    p = rinout.get_internal_path(\n",
    "        '180327_gene_recommendations/{}.xlsx'.format(file_base)\n",
    "    )\n",
    "    rinout.ensure_presence_of_directory(p)\n",
    "    ret.export_full_frame(p, df, insert_date_time=False, save_index=True)"
   ]
  },
  {
   "cell_type": "code",
   "execution_count": null,
   "metadata": {},
   "outputs": [],
   "source": [
    "export_table('entry_points', master.set_index('gene_ncbi'))"
   ]
  },
  {
   "cell_type": "code",
   "execution_count": null,
   "metadata": {},
   "outputs": [],
   "source": [
    "# plot strongest for ulcerine colitis\n",
    "\n",
    "he = he.sort_values('fraction_of_gwas_studies', ascending=False)\n",
    "\n",
    "agg = []\n",
    "for t in he['trait'].unique():\n",
    "    hef = he[he['trait']==t][['gene_ncbi', 'fraction_of_gwas_studies']]\n",
    "    hef = hef.set_index('gene_ncbi')\n",
    "    hef['pct'] = hef['fraction_of_gwas_studies'].rank(pct=True)\n",
    "    hef = hef[['pct']]\n",
    "    hef.loc[:, 'trait'] = t\n",
    "    hef = hef.reset_index()\n",
    "    agg.append(hef)\n",
    "\n",
    "h = pd.concat(agg)\n",
    "\n",
    "he[he['gene_ncbi']==55765]\n",
    "\n",
    "he[he['trait']=='Ulcerative colitis']\n",
    "\n"
   ]
  },
  {
   "cell_type": "code",
   "execution_count": null,
   "metadata": {},
   "outputs": [],
   "source": []
  },
  {
   "cell_type": "code",
   "execution_count": null,
   "metadata": {},
   "outputs": [],
   "source": []
  },
  {
   "cell_type": "code",
   "execution_count": null,
   "metadata": {},
   "outputs": [],
   "source": []
  },
  {
   "cell_type": "code",
   "execution_count": null,
   "metadata": {},
   "outputs": [],
   "source": []
  },
  {
   "cell_type": "code",
   "execution_count": null,
   "metadata": {},
   "outputs": [],
   "source": []
  },
  {
   "cell_type": "code",
   "execution_count": null,
   "metadata": {},
   "outputs": [],
   "source": []
  },
  {
   "cell_type": "code",
   "execution_count": null,
   "metadata": {},
   "outputs": [],
   "source": []
  },
  {
   "cell_type": "code",
   "execution_count": null,
   "metadata": {},
   "outputs": [],
   "source": []
  }
 ],
 "metadata": {
  "kernelspec": {
   "display_name": "Python 3",
   "language": "python",
   "name": "python3"
  },
  "language_info": {
   "codemirror_mode": {
    "name": "ipython",
    "version": 3
   },
   "file_extension": ".py",
   "mimetype": "text/x-python",
   "name": "python",
   "nbconvert_exporter": "python",
   "pygments_lexer": "ipython3",
   "version": "3.6.5"
  }
 },
 "nbformat": 4,
 "nbformat_minor": 2
}
