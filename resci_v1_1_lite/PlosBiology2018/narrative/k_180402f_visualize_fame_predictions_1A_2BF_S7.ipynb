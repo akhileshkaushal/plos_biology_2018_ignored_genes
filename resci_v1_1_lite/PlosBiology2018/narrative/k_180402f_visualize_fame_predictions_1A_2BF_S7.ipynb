{
 "cells": [
  {
   "cell_type": "code",
   "execution_count": null,
   "metadata": {},
   "outputs": [],
   "source": [
    "%matplotlib inline"
   ]
  },
  {
   "cell_type": "code",
   "execution_count": null,
   "metadata": {},
   "outputs": [],
   "source": [
    "import matplotlib as mpl\n",
    "mpl.rcParams['pdf.fonttype'] = 42\n",
    "mpl.rcParams['font.family'] = 'Arial'"
   ]
  },
  {
   "cell_type": "code",
   "execution_count": null,
   "metadata": {},
   "outputs": [],
   "source": [
    "import sys\n",
    "sys.path.append('./../src/')"
   ]
  },
  {
   "cell_type": "code",
   "execution_count": null,
   "metadata": {},
   "outputs": [],
   "source": [
    "import glob\n",
    "import os\n",
    "\n",
    "import numpy as np\n",
    "import pandas as pd\n",
    "import seaborn as sns\n",
    "\n",
    "import matplotlib.pyplot as plt\n",
    "\n",
    "from scipy.stats import spearmanr\n",
    "\n",
    "import nar170830f_predictions as forec\n",
    "import resci_inout as rinout\n",
    "import resci_tools as ret"
   ]
  },
  {
   "cell_type": "markdown",
   "metadata": {},
   "source": [
    "Will load data cached by k_170924_overview_human_fame"
   ]
  },
  {
   "cell_type": "code",
   "execution_count": null,
   "metadata": {},
   "outputs": [],
   "source": [
    "save_images = True"
   ]
  },
  {
   "cell_type": "code",
   "execution_count": null,
   "metadata": {},
   "outputs": [],
   "source": [
    "category_of_interest = 'papers'"
   ]
  },
  {
   "cell_type": "code",
   "execution_count": null,
   "metadata": {},
   "outputs": [],
   "source": [
    "prediction_folders = glob.glob(\n",
    "    os.path.join(\n",
    "        rinout.get_internal_path(\n",
    "            '170923f_predict_human_fame'), \n",
    "        '170923_human_*{}'.format(category_of_interest)))\n",
    "model_name = 'zgbrh_p90_e300'"
   ]
  },
  {
   "cell_type": "code",
   "execution_count": null,
   "metadata": {},
   "outputs": [],
   "source": [
    "def get_predictions(comparison):\n",
    "\n",
    "    p = os.path.join(\n",
    "        rinout.get_internal_path(\n",
    "                '170923f_predict_human_fame'),\n",
    "        comparison,\n",
    "        'zgbrh_p90_e300',\n",
    "        'pooled_target_and_prediciton.csv.gz'\n",
    "    )\n",
    "    df = pd.read_csv(p)\n",
    "    df = df.set_index('gene_ncbi')\n",
    "    target = df.pop('target')\n",
    "    predictions = df\n",
    "    \n",
    "    return target, predictions\n",
    "\n",
    "\n",
    "def pooling_fun(x):\n",
    "    return np.nanmedian(x)"
   ]
  },
  {
   "cell_type": "code",
   "execution_count": null,
   "metadata": {},
   "outputs": [],
   "source": [
    "c = [\n",
    "    '170923_human_Bio_log_{}'.format(category_of_interest),\n",
    "    '170923_human_Exp_log_{}'.format(category_of_interest),\n",
    "    '170923_human_Reg_log_{}'.format(category_of_interest),\n",
    "    '170923_human_Relint_log_{}'.format(category_of_interest),\n",
    "    '170923_human_Relhom_log_{}'.format(category_of_interest),\n",
    "    '170923_human_BioExp_log_{}'.format(category_of_interest),\n",
    "    '170923_human_BioExpRelint_log_{}'.format(category_of_interest),\n",
    "    '170923_human_BioExpRelhom_log_{}'.format(category_of_interest),\n",
    "    '170923_human_Yearfirstpaper_log_{}'.format(category_of_interest),\n",
    "    '170923_human_Yearhomall_log_{}'.format(category_of_interest),\n",
    "    '170923_human_BioExpYearfirstpaper_log_{}'.format(category_of_interest),\n",
    "    '170923_human_BioExpYearhomprec_log_{}'.format(category_of_interest),   \n",
    "    '170923_human_BioExpYearhomall_log_{}'.format(category_of_interest),\n",
    "    '170923_human_Litint_log_{}'.format(category_of_interest),\n",
    "    '170923_human_Lithom_log_{}'.format(category_of_interest),\n",
    "    '170923_human_BioExpLitint_log_{}'.format(category_of_interest),\n",
    "    '170923_human_BioExpLithom_log_{}'.format(category_of_interest),\n",
    "    '170923_human_BioExpYearfirstpaperLithom_log_{}'.format(category_of_interest),\n",
    "    ]"
   ]
  },
  {
   "cell_type": "code",
   "execution_count": null,
   "metadata": {
    "scrolled": false
   },
   "outputs": [],
   "source": [
    "for comparison in c:\n",
    "    print(comparison)\n",
    "    ta, po = get_predictions(comparison)\n",
    "    po = po.apply(pooling_fun, axis=1)\n",
    "    df = pd.concat(\n",
    "            [ta, po], axis=1, join='inner').rename(\n",
    "            columns={0: 'predicted'})\n",
    "\n",
    "    hexplot = sns.jointplot(\n",
    "        x='target',\n",
    "        y='predicted',\n",
    "        kind='hex',\n",
    "        data=df,\n",
    "        gridsize=30,\n",
    "        stat_func=spearmanr,\n",
    "        xlim=(0,3.8),\n",
    "        ylim=(0.55,3.4),\n",
    "    )\n",
    "\n",
    "    plt.subplots_adjust(left=0.2, right=0.8, top=0.8, bottom=0.2)  # shrink fig so cbar is visible\n",
    "    cax = hexplot.fig.add_axes([.85, .25, .05, .4])  # x, y, width, height\n",
    "    plt.colorbar(cax=cax)\n",
    "\n",
    "    if save_images:\n",
    "        ret.export_image('180402f_visualize_fame_predictions/zoom_{}_hex_{}.pdf'.format(category_of_interest, comparison))\n",
    "   \n",
    "    plt.close()"
   ]
  },
  {
   "cell_type": "code",
   "execution_count": null,
   "metadata": {},
   "outputs": [],
   "source": [
    "for comparison in c:\n",
    "    print(comparison)\n",
    "    ta, po = get_predictions(comparison)\n",
    "    po = po.apply(pooling_fun, axis=1)\n",
    "    df = pd.concat(\n",
    "            [ta, po], axis=1, join='inner').rename(\n",
    "            columns={0: 'predicted'})\n",
    "\n",
    "    hexplot = sns.jointplot(\n",
    "        x='target',\n",
    "        y='predicted',\n",
    "        kind='hex',\n",
    "        data=df,\n",
    "        gridsize=30,\n",
    "        stat_func=spearmanr,\n",
    "        xlim=(0,3.5),\n",
    "        ylim=(0,3.5),\n",
    "    )\n",
    "\n",
    "    plt.subplots_adjust(left=0.2, right=0.8, top=0.8, bottom=0.2)  # shrink fig so cbar is visible\n",
    "    cax = hexplot.fig.add_axes([.85, .25, .05, .4])  # x, y, width, height\n",
    "    plt.colorbar(cax=cax)\n",
    "\n",
    "    if save_images:\n",
    "        ret.export_image('180402f_visualize_fame_predictions/equiv_{}_hex_{}.pdf'.format(category_of_interest, comparison))\n",
    "   \n",
    "    plt.close()"
   ]
  },
  {
   "cell_type": "code",
   "execution_count": null,
   "metadata": {},
   "outputs": [],
   "source": []
  },
  {
   "cell_type": "code",
   "execution_count": null,
   "metadata": {},
   "outputs": [],
   "source": []
  }
 ],
 "metadata": {
  "kernelspec": {
   "display_name": "Python 3",
   "language": "python",
   "name": "python3"
  },
  "language_info": {
   "codemirror_mode": {
    "name": "ipython",
    "version": 3
   },
   "file_extension": ".py",
   "mimetype": "text/x-python",
   "name": "python",
   "nbconvert_exporter": "python",
   "pygments_lexer": "ipython3",
   "version": "3.6.5"
  }
 },
 "nbformat": 4,
 "nbformat_minor": 2
}
