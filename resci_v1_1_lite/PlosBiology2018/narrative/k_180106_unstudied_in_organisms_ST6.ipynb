{
 "cells": [
  {
   "cell_type": "code",
   "execution_count": null,
   "metadata": {},
   "outputs": [],
   "source": [
    "%matplotlib inline  \n",
    "%reload_ext autoreload\n",
    "%autoreload 2"
   ]
  },
  {
   "cell_type": "code",
   "execution_count": null,
   "metadata": {},
   "outputs": [],
   "source": [
    "import matplotlib as mpl\n",
    "mpl.rcParams['pdf.fonttype'] = 42\n",
    "mpl.rcParams['font.family'] = 'Arial'"
   ]
  },
  {
   "cell_type": "code",
   "execution_count": null,
   "metadata": {},
   "outputs": [],
   "source": [
    "import os\n",
    "import sys\n",
    "\n",
    "import numpy as np\n",
    "import pandas as pd\n",
    "\n",
    "from access_biology_data import relations\n",
    "\n",
    "\n",
    "from access_science_shared import standardizer\n",
    "from access_literature_data import medline\n",
    "\n",
    "sys.path.append('./../src')\n",
    "\n",
    "import resci_inout as inout\n",
    "import nar170604f_occurences as nar_attention\n",
    "\n",
    "\n",
    "import seaborn as sns\n",
    "import resci_tools as ret"
   ]
  },
  {
   "cell_type": "code",
   "execution_count": null,
   "metadata": {},
   "outputs": [],
   "source": [
    "save_media = True"
   ]
  },
  {
   "cell_type": "code",
   "execution_count": null,
   "metadata": {},
   "outputs": [],
   "source": [
    "threshold_for_unstudied = 1"
   ]
  },
  {
   "cell_type": "code",
   "execution_count": null,
   "metadata": {},
   "outputs": [],
   "source": [
    "taxon_id = 9606\n",
    "ref_genes = standardizer.reference_genes(taxon_id, 'orp')\n",
    "\n",
    "gene2pubmed = medline.gene2pubmed(taxon_id, paper_kind='research', ref_genes = ref_genes)\n",
    "df_targets = nar_attention.count_papers_and_attention(ref_genes, gene2pubmed)"
   ]
  },
  {
   "cell_type": "code",
   "execution_count": null,
   "metadata": {},
   "outputs": [],
   "source": []
  },
  {
   "cell_type": "code",
   "execution_count": null,
   "metadata": {},
   "outputs": [],
   "source": [
    "gene2pubmed_research = medline.gene2pubmed(taxon_id='all', paper_kind='research')"
   ]
  },
  {
   "cell_type": "code",
   "execution_count": null,
   "metadata": {},
   "outputs": [],
   "source": [
    "value_of_pubmed_id = gene2pubmed_research['pubmed_id'].value_counts().to_frame().reset_index().rename(\n",
    "    columns={'index': 'pubmed_id', 'pubmed_id': 'value'})"
   ]
  },
  {
   "cell_type": "code",
   "execution_count": null,
   "metadata": {},
   "outputs": [],
   "source": [
    "value_of_pubmed_id['value']=1/value_of_pubmed_id['value']"
   ]
  },
  {
   "cell_type": "code",
   "execution_count": null,
   "metadata": {},
   "outputs": [],
   "source": [
    "gene2pubmed_research = pd.merge(gene2pubmed_research, value_of_pubmed_id)"
   ]
  },
  {
   "cell_type": "code",
   "execution_count": null,
   "metadata": {},
   "outputs": [],
   "source": [
    "extended_attention = gene2pubmed_research[['gene_ncbi', 'value']].groupby('gene_ncbi').agg(sum)"
   ]
  },
  {
   "cell_type": "code",
   "execution_count": null,
   "metadata": {},
   "outputs": [],
   "source": [
    "\n",
    "hg = relations.homologene()"
   ]
  },
  {
   "cell_type": "code",
   "execution_count": null,
   "metadata": {},
   "outputs": [],
   "source": [
    "hg_attention = pd.merge(hg, extended_attention.reset_index(), how='left')"
   ]
  },
  {
   "cell_type": "code",
   "execution_count": null,
   "metadata": {},
   "outputs": [],
   "source": [
    "hg_attention['value'] = hg_attention['value'].fillna(0)"
   ]
  },
  {
   "cell_type": "code",
   "execution_count": null,
   "metadata": {},
   "outputs": [],
   "source": [
    "hg_max_attention = hg_attention[['homologene_group', 'taxon_ncbi', 'value']].groupby(\n",
    "    ['homologene_group', 'taxon_ncbi']).agg(max).reset_index()"
   ]
  },
  {
   "cell_type": "code",
   "execution_count": null,
   "metadata": {},
   "outputs": [],
   "source": []
  },
  {
   "cell_type": "code",
   "execution_count": null,
   "metadata": {},
   "outputs": [],
   "source": [
    "piv = hg_max_attention.pivot(index='homologene_group',columns='taxon_ncbi', values='value')"
   ]
  },
  {
   "cell_type": "code",
   "execution_count": null,
   "metadata": {},
   "outputs": [],
   "source": [
    "f = piv[9606] < threshold_for_unstudied"
   ]
  },
  {
   "cell_type": "code",
   "execution_count": null,
   "metadata": {},
   "outputs": [],
   "source": [
    "piv = piv.loc[f, :]"
   ]
  },
  {
   "cell_type": "code",
   "execution_count": null,
   "metadata": {},
   "outputs": [],
   "source": [
    "total_genes = piv.notnull().sum().to_frame('homologs')"
   ]
  },
  {
   "cell_type": "code",
   "execution_count": null,
   "metadata": {},
   "outputs": [],
   "source": [
    "unstudied_genes = (piv < threshold_for_unstudied).sum().to_frame('unstudied_homologs')"
   ]
  },
  {
   "cell_type": "code",
   "execution_count": null,
   "metadata": {},
   "outputs": [],
   "source": [
    "vis = pd.concat([total_genes, unstudied_genes], axis=1).reset_index()"
   ]
  },
  {
   "cell_type": "code",
   "execution_count": null,
   "metadata": {},
   "outputs": [],
   "source": [
    "from access_biology_data import meta"
   ]
  },
  {
   "cell_type": "code",
   "execution_count": null,
   "metadata": {},
   "outputs": [],
   "source": [
    "vis['taxon_name'] = vis['taxon_ncbi'].apply(lambda x: meta.taxon_name(x))"
   ]
  },
  {
   "cell_type": "code",
   "execution_count": null,
   "metadata": {},
   "outputs": [],
   "source": [
    "vis['ratio'] = vis['unstudied_homologs'] / vis['homologs']"
   ]
  },
  {
   "cell_type": "code",
   "execution_count": null,
   "metadata": {},
   "outputs": [],
   "source": [
    "table_to_export = vis[\n",
    "    ['taxon_name', 'homologs', 'ratio']\n",
    "].rename(columns={\n",
    "    'taxon_name': 'taxon',\n",
    "    'homologs': 'homologs of unstudied human genes',\n",
    "    'ratio': 'unstudied homologs [%]'\n",
    "})\n",
    "\n",
    "f = table_to_export.loc[:, 'taxon'] == 'Homo sapiens'\n",
    "table_to_export = table_to_export.loc[~f, :]"
   ]
  },
  {
   "cell_type": "code",
   "execution_count": null,
   "metadata": {},
   "outputs": [],
   "source": [
    "names_to_simplify = {\n",
    "    'Anopheles gambiae str. PEST': 'Anopheles gambiae',\n",
    "    'Oryza sativa Japonica Group': 'Oryza sativa',\n",
    "    'Magnaporthe oryzae 70-15': 'Magnaporthe oryzae',\n",
    "    'Neurospora crassa OR74A': 'Neurospora crassa',\n",
    "    'Schizosaccharomyces pombe 972h-': 'Schizosaccharomyces pombe',\n",
    "    'Saccharomyces cerevisiae S288c': 'Saccharomyces cerevisiae',\n",
    "    'Kluyveromyces lactis NRRL Y-1140': 'Kluyveromyces lactis',\n",
    "    'Eremothecium gossypii ATCC 10895': 'Eremothecium gossypii'\n",
    "}"
   ]
  },
  {
   "cell_type": "code",
   "execution_count": null,
   "metadata": {},
   "outputs": [],
   "source": [
    "table_to_export['taxon'] = table_to_export['taxon'].replace(names_to_simplify)"
   ]
  },
  {
   "cell_type": "code",
   "execution_count": null,
   "metadata": {},
   "outputs": [],
   "source": [
    "table_to_export = table_to_export.sort_values('homologs of unstudied human genes', ascending=False)"
   ]
  },
  {
   "cell_type": "code",
   "execution_count": null,
   "metadata": {},
   "outputs": [],
   "source": [
    "table_to_export['unstudied homologs [%]'] = table_to_export[\n",
    "    'unstudied homologs [%]'].apply(lambda x: np.round(x*100,0))"
   ]
  },
  {
   "cell_type": "code",
   "execution_count": null,
   "metadata": {},
   "outputs": [],
   "source": [
    "if save_media:\n",
    "    ret.export_full_frame(\n",
    "        p='180106_unstudied_in_organisms/table_on_uns.xlsx',\n",
    "        df=table_to_export,\n",
    "        insert_date_time=True,\n",
    "        save_index=False)"
   ]
  },
  {
   "cell_type": "code",
   "execution_count": null,
   "metadata": {},
   "outputs": [],
   "source": [
    "table_to_export"
   ]
  },
  {
   "cell_type": "code",
   "execution_count": null,
   "metadata": {},
   "outputs": [],
   "source": []
  },
  {
   "cell_type": "code",
   "execution_count": null,
   "metadata": {},
   "outputs": [],
   "source": []
  },
  {
   "cell_type": "code",
   "execution_count": null,
   "metadata": {},
   "outputs": [],
   "source": []
  }
 ],
 "metadata": {
  "kernelspec": {
   "display_name": "Python 3",
   "language": "python",
   "name": "python3"
  },
  "language_info": {
   "codemirror_mode": {
    "name": "ipython",
    "version": 3
   },
   "file_extension": ".py",
   "mimetype": "text/x-python",
   "name": "python",
   "nbconvert_exporter": "python",
   "pygments_lexer": "ipython3",
   "version": "3.6.5"
  }
 },
 "nbformat": 4,
 "nbformat_minor": 2
}
