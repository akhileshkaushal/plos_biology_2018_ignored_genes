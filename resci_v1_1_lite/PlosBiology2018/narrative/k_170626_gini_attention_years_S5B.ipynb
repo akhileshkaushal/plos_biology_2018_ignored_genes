{
 "cells": [
  {
   "cell_type": "markdown",
   "metadata": {},
   "source": [
    "measuring gini for top taxa; note that within covered inequality is increasing"
   ]
  },
  {
   "cell_type": "code",
   "execution_count": null,
   "metadata": {},
   "outputs": [],
   "source": [
    "%matplotlib inline  \n",
    "%reload_ext autoreload\n",
    "%autoreload 2\n",
    "\n",
    "import matplotlib as mpl\n",
    "mpl.rcParams['pdf.fonttype'] = 42\n",
    "\n",
    "\n",
    "import numpy as np\n",
    "import pandas as pd\n",
    "import seaborn as sns\n",
    "\n",
    "from access_literature_data import medline\n",
    "from access_science_shared import standardizer\n",
    "\n",
    "import matplotlib.pyplot as plt\n"
   ]
  },
  {
   "cell_type": "code",
   "execution_count": null,
   "metadata": {},
   "outputs": [],
   "source": [
    "import sys\n",
    "sys.path.append('./../src/')\n",
    "\n",
    "from calculators import gini\n",
    "\n",
    "import resci_tools as ret"
   ]
  },
  {
   "cell_type": "code",
   "execution_count": null,
   "metadata": {},
   "outputs": [],
   "source": [
    "save_images = False\n",
    "save_tables = True"
   ]
  },
  {
   "cell_type": "code",
   "execution_count": null,
   "metadata": {},
   "outputs": [],
   "source": []
  },
  {
   "cell_type": "code",
   "execution_count": null,
   "metadata": {},
   "outputs": [],
   "source": [
    "sns.set(font_scale=2)"
   ]
  },
  {
   "cell_type": "code",
   "execution_count": null,
   "metadata": {},
   "outputs": [],
   "source": [
    "taxa = [9606, 10090, 10116, 7227, 511145, 559292, 3702, 7955, 9913, 9031]"
   ]
  },
  {
   "cell_type": "code",
   "execution_count": null,
   "metadata": {},
   "outputs": [],
   "source": [
    "span = np.arange(1980, 2016)\n",
    "\n",
    "df_gini_covered = pd.DataFrame(index=span, columns=taxa)\n",
    "df_gini_all = pd.DataFrame(index=span, columns=taxa)\n"
   ]
  },
  {
   "cell_type": "code",
   "execution_count": null,
   "metadata": {},
   "outputs": [],
   "source": [
    "for taxon_id in taxa:\n",
    "    ref_genes = standardizer.reference_genes(taxon_id, 'rp')  # research, protein-coding\n",
    "\n",
    "    gene2pubmed = medline.gene2pubmed(taxon_id, ['pubmed_id', 'gene_ncbi'], paper_kind='research')\n",
    "    gene2pubmed = gene2pubmed[gene2pubmed['gene_ncbi'].isin(ref_genes)]\n",
    "    ml = medline.select_medline_records(\n",
    "            columns_sql='''\n",
    "                medline.pubmed_id,\n",
    "                medline.pubdate_year''',\n",
    "            taxon_id=taxon_id,\n",
    "            kind='research',\n",
    "            )\n",
    "\n",
    "    gene2pubmed = pd.merge(gene2pubmed, ml)\n",
    "\n",
    "    for y in span:\n",
    "\n",
    "        v = (1/gene2pubmed['pubmed_id'].value_counts()).to_frame(\n",
    "            'value_per_paper').reset_index().rename(columns={'index':'pubmed_id'})\n",
    "        gene2pubmed = pd.merge(gene2pubmed, v)\n",
    "        \n",
    "        if any(gene2pubmed['pubdate_year'] == y):\n",
    "\n",
    "            df = gene2pubmed[gene2pubmed['pubdate_year']==y][['gene_ncbi', 'value_per_paper']]\n",
    "            a = df.groupby('gene_ncbi').agg(np.sum) / df['value_per_paper'].sum()\n",
    "            a = a.loc[ref_genes, :].fillna(0)\n",
    "            v = a.sort_values('value_per_paper',ascending=False)\n",
    "    #         c = np.cumsum(v['value_per_paper'])\n",
    "    #         fraction_per_year.loc[:, y] = c.values\n",
    "\n",
    "\n",
    "            df_gini_covered.loc[y, taxon_id] = gini(v[v['value_per_paper']>0]['value_per_paper'].values)\n",
    "            df_gini_all.loc[y, taxon_id] = gini(v['value_per_paper'].values)"
   ]
  },
  {
   "cell_type": "code",
   "execution_count": null,
   "metadata": {},
   "outputs": [],
   "source": [
    "df_gini_all.head()"
   ]
  },
  {
   "cell_type": "code",
   "execution_count": null,
   "metadata": {},
   "outputs": [],
   "source": [
    "sns.set_palette(sns.color_palette(\"hls\", 12))      # <----- needs to be changed so that color is not duplicated\n",
    "\n",
    "ax = df_gini_all.plot()\n",
    "plt.legend(loc='center left', bbox_to_anchor=(1.0, 0.5))\n",
    "\n",
    "# ax.set(yscale=\"log\")\n",
    "\n",
    "ax.set_xlabel('Year')\n",
    "ax.set_ylabel('Gini Coefficient')\n",
    "if save_images:\n",
    "    ret.export_image('170626_gini_attention_years/top_taxa.pdf')"
   ]
  },
  {
   "cell_type": "code",
   "execution_count": null,
   "metadata": {},
   "outputs": [],
   "source": [
    "df_gini_all.index.name = 'year'"
   ]
  },
  {
   "cell_type": "code",
   "execution_count": null,
   "metadata": {},
   "outputs": [],
   "source": [
    "if save_tables:\n",
    "    ret.export_full_frame(\n",
    "        '170626_gini_attention_years/data.csv',\n",
    "        df_gini_all[[9606]]\n",
    "    )\n"
   ]
  }
 ],
 "metadata": {
  "kernelspec": {
   "display_name": "Python 3",
   "language": "python",
   "name": "python3"
  },
  "language_info": {
   "codemirror_mode": {
    "name": "ipython",
    "version": 3
   },
   "file_extension": ".py",
   "mimetype": "text/x-python",
   "name": "python",
   "nbconvert_exporter": "python",
   "pygments_lexer": "ipython3",
   "version": "3.6.5"
  }
 },
 "nbformat": 4,
 "nbformat_minor": 2
}
