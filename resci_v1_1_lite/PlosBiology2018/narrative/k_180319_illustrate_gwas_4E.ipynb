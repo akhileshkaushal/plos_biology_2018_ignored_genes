{
 "cells": [
  {
   "cell_type": "code",
   "execution_count": null,
   "metadata": {},
   "outputs": [],
   "source": [
    "%load_ext autoreload\n",
    "%autoreload 2"
   ]
  },
  {
   "cell_type": "code",
   "execution_count": null,
   "metadata": {},
   "outputs": [],
   "source": [
    "%matplotlib inline"
   ]
  },
  {
   "cell_type": "code",
   "execution_count": null,
   "metadata": {},
   "outputs": [],
   "source": [
    "import matplotlib as mpl\n",
    "mpl.rcParams['pdf.fonttype'] = 42\n",
    "mpl.rcParams['font.family'] = 'Arial'"
   ]
  },
  {
   "cell_type": "code",
   "execution_count": null,
   "metadata": {},
   "outputs": [],
   "source": [
    "from IPython.core.display import display, HTML\n",
    "display(HTML(\"<style>.container { width:80% !important; }</style>\"))"
   ]
  },
  {
   "cell_type": "code",
   "execution_count": null,
   "metadata": {},
   "outputs": [],
   "source": [
    "import glob\n",
    "import os\n",
    "\n",
    "import numpy as np\n",
    "import pandas as pd\n",
    "import seaborn as sns\n",
    "\n",
    "import matplotlib.pyplot as plt"
   ]
  },
  {
   "cell_type": "code",
   "execution_count": null,
   "metadata": {},
   "outputs": [],
   "source": [
    "from access_biology_data import annotation, gwas_studies, meta, phenotype_collections, properties, relations\n",
    "from access_literature_data import medline\n",
    "from access_mixed_data import genealacart\n",
    "from access_science_shared import standardizer, utils"
   ]
  },
  {
   "cell_type": "code",
   "execution_count": null,
   "metadata": {},
   "outputs": [],
   "source": [
    "import sys\n",
    "sys.path.append('./../src/')\n",
    "\n",
    "import nar170604f_occurences as nar_attention\n",
    "import nar170830f_predictions as forec\n",
    "import resci_inout as rinout\n",
    "import resci_tools as ret\n",
    "\n",
    "import nar180310_mega_integrator as mega"
   ]
  },
  {
   "cell_type": "code",
   "execution_count": null,
   "metadata": {},
   "outputs": [],
   "source": [
    "taxon_id = 9606"
   ]
  },
  {
   "cell_type": "code",
   "execution_count": null,
   "metadata": {},
   "outputs": [],
   "source": [
    "ref_genes = mega.get_ref_genes()"
   ]
  },
  {
   "cell_type": "code",
   "execution_count": null,
   "metadata": {},
   "outputs": [],
   "source": [
    "papers = mega.get_publications()"
   ]
  },
  {
   "cell_type": "markdown",
   "metadata": {},
   "source": [
    "# Collect interesting summary statistics"
   ]
  },
  {
   "cell_type": "code",
   "execution_count": null,
   "metadata": {},
   "outputs": [],
   "source": [
    "summary_statistics = dict()"
   ]
  },
  {
   "cell_type": "code",
   "execution_count": null,
   "metadata": {},
   "outputs": [],
   "source": [
    "taxon_id=9606"
   ]
  },
  {
   "cell_type": "code",
   "execution_count": null,
   "metadata": {},
   "outputs": [],
   "source": [
    "\n",
    "def get_ref_genes():\n",
    "    ref_genes = standardizer.reference_genes(\n",
    "        taxon_id=9606,\n",
    "        ref_code='orp')\n",
    "    return ref_genes\n",
    "\n",
    "\n",
    "def get_publications():\n",
    "    ref_genes = get_ref_genes()\n",
    "    ref_gene2pubmed = medline.gene2pubmed(\n",
    "        taxon_id=9606,\n",
    "        paper_kind='research',\n",
    "        ref_genes=ref_genes)\n",
    "\n",
    "    papers = nar_attention.count_papers_and_attention(\n",
    "        ref_genes,\n",
    "        ref_gene2pubmed)\n",
    "\n",
    "    return papers"
   ]
  },
  {
   "cell_type": "code",
   "execution_count": null,
   "metadata": {},
   "outputs": [],
   "source": [
    "%%time\n",
    "\n",
    "cl = dict()\n",
    "dd = dict()\n",
    "ge = dict()\n",
    "\n",
    "\n",
    "categs = {\n",
    "    'gwas': mega.frequent_gwas,\n",
    "}\n",
    "\n",
    "for k, i in categs.items():\n",
    "    print(k)\n",
    "    a, b, c = i()\n",
    "    cl[k] = a\n",
    "    dd[k] = b\n",
    "    ge[k] = c"
   ]
  },
  {
   "cell_type": "code",
   "execution_count": null,
   "metadata": {},
   "outputs": [],
   "source": []
  },
  {
   "cell_type": "code",
   "execution_count": null,
   "metadata": {},
   "outputs": [],
   "source": [
    "def export(file_base):\n",
    "    p = '180319_illustrate_gwas/{}'.format(file_base)\n",
    "\n",
    "    ret.export_raster_image(p + '.png', dpi=600, insert_date_time=False)\n",
    "    ret.export_image(p + '.pdf', insert_date_time=False)\n"
   ]
  },
  {
   "cell_type": "code",
   "execution_count": null,
   "metadata": {},
   "outputs": [],
   "source": []
  },
  {
   "cell_type": "code",
   "execution_count": null,
   "metadata": {},
   "outputs": [],
   "source": [
    "su = pd.concat(cl.values(), axis=1, join='outer').rename_axis('gene_ncbi')"
   ]
  },
  {
   "cell_type": "code",
   "execution_count": null,
   "metadata": {},
   "outputs": [],
   "source": [
    "tsne_frame = mega.load_layout()"
   ]
  },
  {
   "cell_type": "code",
   "execution_count": null,
   "metadata": {},
   "outputs": [],
   "source": [
    "only_plot_true = True\n",
    "categ = 'any_prominent_gwas'\n",
    "\n",
    "zoom_size = 4\n",
    "\n",
    "to_plot = pd.merge(tsne_frame.reset_index(), su[[categ]].reset_index(), how='left')\n",
    "to_plot = to_plot.sample(frac=1, replace=False, random_state=1)"
   ]
  },
  {
   "cell_type": "code",
   "execution_count": null,
   "metadata": {},
   "outputs": [],
   "source": [
    "papers.head()"
   ]
  },
  {
   "cell_type": "code",
   "execution_count": null,
   "metadata": {},
   "outputs": [],
   "source": [
    "papers.loc[:, 'enrichment'] = np.log2(papers['attention'] / papers['attention'].mean())"
   ]
  },
  {
   "cell_type": "code",
   "execution_count": null,
   "metadata": {},
   "outputs": [],
   "source": [
    "to_plot = pd.merge(\n",
    "    to_plot,\n",
    "    papers.reset_index()[['gene_ncbi', 'enrichment']],\n",
    "    how='left'\n",
    ")"
   ]
  },
  {
   "cell_type": "code",
   "execution_count": null,
   "metadata": {},
   "outputs": [],
   "source": [
    "f = to_plot['enrichment'] <-6\n",
    "to_plot.loc[f, 'enrichment'] = -6\n",
    "\n",
    "f = to_plot['enrichment'] >6\n",
    "to_plot.loc[f, 'enrichment'] = 6"
   ]
  },
  {
   "cell_type": "code",
   "execution_count": null,
   "metadata": {},
   "outputs": [],
   "source": [
    "gi = meta.gene_info(9606, usecols=['gene_ncbi', 'symbol_ncbi'])\n",
    "to_plot = pd.merge(to_plot, gi, how='left')"
   ]
  },
  {
   "cell_type": "code",
   "execution_count": null,
   "metadata": {},
   "outputs": [],
   "source": []
  },
  {
   "cell_type": "code",
   "execution_count": null,
   "metadata": {},
   "outputs": [],
   "source": [
    "zoom_size = 300\n",
    "\n",
    "plt.figure(figsize=(8,6))\n",
    "\n",
    "plt.scatter(\n",
    "    x=to_plot.loc[:, 'x'],\n",
    "    y=to_plot.loc[:, 'y'],\n",
    "    s=1,\n",
    "    color='lightgrey')\n",
    "\n",
    "f = to_plot[categ].notnull()\n",
    "f = f & (to_plot[categ]==True)\n",
    "\n",
    "plt.scatter(\n",
    "        x=to_plot.loc[f, 'x'],\n",
    "        y=to_plot.loc[f, 'y'],\n",
    "        s=zoom_size,\n",
    "        c=to_plot.loc[f, 'enrichment'],\n",
    "        cmap='coolwarm',\n",
    "        edgecolors='k')\n",
    "\n",
    "plt.colorbar()\n",
    "plt.title(categ)\n",
    "\n",
    "export('prominent_gwas')"
   ]
  },
  {
   "cell_type": "code",
   "execution_count": null,
   "metadata": {},
   "outputs": [],
   "source": [
    "### col='bwr'\n",
    "\n",
    "zoom_size = 300\n",
    "\n",
    "plt.figure(figsize=(8,6))\n",
    "\n",
    "fig, ax = plt.subplots(figsize=(8,6))\n",
    "\n",
    "\n",
    "ax.scatter(\n",
    "    x=to_plot.loc[:, 'x'],\n",
    "    y=to_plot.loc[:, 'y'],\n",
    "    s=1,\n",
    "    color='lightgrey')\n",
    "\n",
    "f = to_plot[categ].notnull()\n",
    "\n",
    "f = f & (to_plot[categ]==True)\n",
    "\n",
    "ax.scatter(\n",
    "        x=to_plot.loc[f, 'x'],\n",
    "        y=to_plot.loc[f, 'y'],\n",
    "        s=zoom_size,\n",
    "        c=to_plot.loc[f, 'enrichment'],\n",
    "        cmap='coolwarm',\n",
    "        edgecolors='k')\n",
    "\n",
    "\n",
    "\n",
    "n = to_plot.loc[f, 'symbol_ncbi'].values\n",
    "z = to_plot.loc[f, 'x'].values\n",
    "y = to_plot.loc[f, 'y'].values\n",
    "\n",
    "for i, txt in enumerate(n):\n",
    "    ax.annotate(txt, (z[i]+1,y[i]))\n",
    "\n",
    "# # plt.colorbar()\n",
    "plt.title(categ)\n",
    "\n",
    "export('prominent_gwas_with_label')\n",
    "# # fig.colorbar(fig, ax=ax)\n",
    "# ax.set_title('Gaussian noise with vertical colorbar')"
   ]
  },
  {
   "cell_type": "code",
   "execution_count": null,
   "metadata": {},
   "outputs": [],
   "source": [
    "to_plot[to_plot['symbol_ncbi']=='HYKK']"
   ]
  },
  {
   "cell_type": "code",
   "execution_count": null,
   "metadata": {},
   "outputs": [],
   "source": [
    "su.loc[150962, :]  # PUS10, linked to ulcerine colitis, and Crohn's disease"
   ]
  },
  {
   "cell_type": "code",
   "execution_count": null,
   "metadata": {},
   "outputs": [],
   "source": []
  },
  {
   "cell_type": "code",
   "execution_count": null,
   "metadata": {},
   "outputs": [],
   "source": [
    "su.loc[146198, :]"
   ]
  },
  {
   "cell_type": "code",
   "execution_count": null,
   "metadata": {},
   "outputs": [],
   "source": [
    "to_plot[to_plot['enrichment']<0][f]"
   ]
  },
  {
   "cell_type": "code",
   "execution_count": null,
   "metadata": {},
   "outputs": [],
   "source": [
    "ebi_gwas = gwas_studies.ebi_gwas()\n",
    "\n",
    "f = ebi_gwas['MAPPED_GENE'].str.contains('[;,-]') == True\n",
    "gwas = ebi_gwas.loc[\n",
    "    ~f,\n",
    "    ['MAPPED_GENE', 'DISEASE/TRAIT', 'PVALUE_MLOG', 'pubmed_id']].rename(\n",
    "    columns={\n",
    "        'MAPPED_GENE': 'symbol_ambiguous',\n",
    "        'DISEASE/TRAIT': 'trait',\n",
    "        'PVALUE_MLOG': 'log_pvalue'\n",
    "    }\n",
    ")\n",
    "\n",
    "gwas = pd.merge(\n",
    "    gwas,\n",
    "    meta.gene_info(taxon_id=9606, usecols=[\n",
    "                   'symbol_ncbi', 'gene_ncbi']),\n",
    "    left_on='symbol_ambiguous',\n",
    "    right_on='symbol_ncbi',\n",
    "    how='inner'\n",
    ").drop('symbol_ambiguous', axis=1).drop('symbol_ncbi', axis=1)\n",
    "\n",
    "gwas = gwas[gwas['gene_ncbi'].isin(mega.get_ref_genes())]\n",
    "\n",
    "gwas = gwas.sort_values('log_pvalue', ascending=False)\n",
    "gwas = gwas.drop_duplicates(\n",
    "    ['trait', 'pubmed_id', 'gene_ncbi'],\n",
    "    keep='first')\n",
    "\n",
    "studies_per_phenotype = gwas[\n",
    "    ['pubmed_id', 'trait']].drop_duplicates()[\n",
    "    'trait'].value_counts()\n",
    "\n",
    "g = gwas[['trait', 'gene_ncbi', 'log_pvalue']].groupby(['gene_ncbi', 'trait'])\n",
    "\n",
    "gg = pd.concat([\n",
    "    g.max(), g.size()], axis=1).reset_index().rename(columns={\n",
    "    0: 'studies'\n",
    "})\n",
    "\n",
    "ggg = gg.sort_values(['studies', 'log_pvalue'], ascending=False)\n",
    "\n",
    "\n",
    "\n",
    "gggg = ggg.drop_duplicates(subset='trait', keep='first')"
   ]
  },
  {
   "cell_type": "code",
   "execution_count": null,
   "metadata": {},
   "outputs": [],
   "source": [
    "su.columns"
   ]
  },
  {
   "cell_type": "code",
   "execution_count": null,
   "metadata": {},
   "outputs": [],
   "source": []
  },
  {
   "cell_type": "code",
   "execution_count": null,
   "metadata": {},
   "outputs": [],
   "source": [
    "gggg = gggg[gggg['trait'].isin(su.columns)]"
   ]
  },
  {
   "cell_type": "code",
   "execution_count": null,
   "metadata": {},
   "outputs": [],
   "source": [
    "gggg"
   ]
  },
  {
   "cell_type": "code",
   "execution_count": null,
   "metadata": {},
   "outputs": [],
   "source": [
    "### col='bwr'\n",
    "\n",
    "zoom_size = 300\n",
    "\n",
    "\n",
    "to_plot[categ] = to_plot[categ] & to_plot['gene_ncbi'].isin(gggg['gene_ncbi'])\n",
    "\n",
    "plt.figure(figsize=(8,6))\n",
    "\n",
    "# fig, ax = plt.subplots()\n",
    "# ax.scatter(z, y)\n",
    "\n",
    "\n",
    "plt.scatter(\n",
    "    x=to_plot.loc[:, 'x'],\n",
    "    y=to_plot.loc[:, 'y'],\n",
    "    s=1,\n",
    "    color='lightgrey')\n",
    "\n",
    "# to_plot = to_plot.dropna()\n",
    "\n",
    "f = to_plot[categ].notnull()\n",
    "\n",
    "f = f & (to_plot[categ]==True)\n",
    "\n",
    "# ax.scatter(z, y)\n",
    "\n",
    "plt.scatter(\n",
    "        x=to_plot.loc[f, 'x'],\n",
    "        y=to_plot.loc[f, 'y'],\n",
    "        s=zoom_size,\n",
    "        c=to_plot.loc[f, 'enrichment'],\n",
    "        cmap='coolwarm',\n",
    "        edgecolors='k')\n",
    "\n",
    "\n",
    "\n",
    "# n = to_plot.loc[f, 'symbol_ncbi'].values\n",
    "# z = to_plot.loc[f, 'x'].values\n",
    "# y = to_plot.loc[f, 'y'].values\n",
    "\n",
    "# for i, txt in enumerate(n):\n",
    "#     ax.annotate(txt, (z[i],y[i]))\n",
    "\n",
    "plt.colorbar()\n",
    "plt.title(categ)\n",
    "\n",
    "\n"
   ]
  },
  {
   "cell_type": "code",
   "execution_count": null,
   "metadata": {},
   "outputs": [],
   "source": [
    "### col='bwr'\n",
    "\n",
    "zoom_size = 300\n",
    "\n",
    "\n",
    "\n",
    "\n",
    "plt.figure(figsize=(8,6))\n",
    "\n",
    "fig, ax = plt.subplots()\n",
    "\n",
    "\n",
    "ax.scatter(\n",
    "    x=to_plot.loc[:, 'x'],\n",
    "    y=to_plot.loc[:, 'y'],\n",
    "    s=1,\n",
    "    color='lightgrey')\n",
    "\n",
    "# to_plot = to_plot.dropna()\n",
    "\n",
    "f = to_plot[categ].notnull()\n",
    "\n",
    "f = f & (to_plot[categ]==True)\n",
    "\n",
    "# ax.scatter(z, y)\n",
    "\n",
    "ax.scatter(\n",
    "        x=to_plot.loc[f, 'x'],\n",
    "        y=to_plot.loc[f, 'y'],\n",
    "        s=zoom_size,\n",
    "        c=to_plot.loc[f, 'enrichment'],\n",
    "        cmap='coolwarm',\n",
    "        edgecolors='k')\n",
    "\n",
    "\n",
    "\n",
    "n = to_plot.loc[f, 'symbol_ncbi'].values\n",
    "z = to_plot.loc[f, 'x'].values\n",
    "y = to_plot.loc[f, 'y'].values\n",
    "\n",
    "for i, txt in enumerate(n):\n",
    "    ax.annotate(txt, (z[i]+1,y[i]))\n",
    "\n",
    "# plt.colorbar()\n",
    "plt.title(categ)\n",
    "\n",
    "\n",
    "\n"
   ]
  },
  {
   "cell_type": "code",
   "execution_count": null,
   "metadata": {},
   "outputs": [],
   "source": [
    "pd.merge(gggg, meta.gene_info(9606, usecols=['gene_ncbi', 'symbol_ncbi']))"
   ]
  },
  {
   "cell_type": "code",
   "execution_count": null,
   "metadata": {},
   "outputs": [],
   "source": []
  },
  {
   "cell_type": "code",
   "execution_count": null,
   "metadata": {},
   "outputs": [],
   "source": []
  },
  {
   "cell_type": "code",
   "execution_count": null,
   "metadata": {},
   "outputs": [],
   "source": [
    "gg"
   ]
  },
  {
   "cell_type": "code",
   "execution_count": null,
   "metadata": {},
   "outputs": [],
   "source": []
  },
  {
   "cell_type": "code",
   "execution_count": null,
   "metadata": {},
   "outputs": [],
   "source": []
  },
  {
   "cell_type": "code",
   "execution_count": null,
   "metadata": {},
   "outputs": [],
   "source": []
  },
  {
   "cell_type": "code",
   "execution_count": null,
   "metadata": {},
   "outputs": [],
   "source": []
  },
  {
   "cell_type": "code",
   "execution_count": null,
   "metadata": {},
   "outputs": [],
   "source": [
    "# c_difficulty = [\n",
    "#     'extremly_LoF_intolerant',\n",
    "#     'rnai_frequent',\n",
    "#     'biogrid_western_blot',\n",
    "#     'signal_peptide',\n",
    "#     'fraction_of_tissues_1',\n",
    "#     'fraction_of_cells_1',\n",
    "#     'yeast',\n",
    "#     'worm_fly',\n",
    "#     'extreme_swissprot',\n",
    "#     'any_prominent_gwas',\n",
    "# #     'has_duf',\n",
    "#     'bp2_with_studied',\n",
    "#     'change_in_gtx',\n",
    "#     'bp2_mean_studied'\n",
    "# ]\n",
    "\n",
    "# c_support = [\n",
    "#     'will_be_pi',\n",
    "#     'recently_supporting_institutes'\n",
    "# ]\n",
    "\n",
    "\n",
    "\n",
    "# sns.clustermap(\n",
    "#     su.loc[genes_of_interest, c_difficulty].fillna(False).astype(float),\n",
    "#     cmap='autumn_r',\n",
    "#     method='ward');\n",
    "\n",
    "# sns.clustermap(\n",
    "#     su.loc[genes_of_interest, c_difficulty].fillna(False).astype(float),\n",
    "#     cmap='autumn_r',\n",
    "#     method='ward');"
   ]
  },
  {
   "cell_type": "code",
   "execution_count": null,
   "metadata": {},
   "outputs": [],
   "source": []
  },
  {
   "cell_type": "code",
   "execution_count": null,
   "metadata": {},
   "outputs": [],
   "source": []
  },
  {
   "cell_type": "code",
   "execution_count": null,
   "metadata": {},
   "outputs": [],
   "source": []
  },
  {
   "cell_type": "code",
   "execution_count": null,
   "metadata": {},
   "outputs": [],
   "source": []
  },
  {
   "cell_type": "code",
   "execution_count": null,
   "metadata": {},
   "outputs": [],
   "source": []
  },
  {
   "cell_type": "code",
   "execution_count": null,
   "metadata": {},
   "outputs": [],
   "source": []
  }
 ],
 "metadata": {
  "kernelspec": {
   "display_name": "Python 3",
   "language": "python",
   "name": "python3"
  },
  "language_info": {
   "codemirror_mode": {
    "name": "ipython",
    "version": 3
   },
   "file_extension": ".py",
   "mimetype": "text/x-python",
   "name": "python",
   "nbconvert_exporter": "python",
   "pygments_lexer": "ipython3",
   "version": "3.6.5"
  }
 },
 "nbformat": 4,
 "nbformat_minor": 2
}
