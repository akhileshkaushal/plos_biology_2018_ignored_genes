{
 "cells": [
  {
   "cell_type": "markdown",
   "metadata": {},
   "source": [
    "This script analyses cluster of tSNE; note that in contrast to initial submission, where external program was used, the clusters now do not miss some of the genes contained."
   ]
  },
  {
   "cell_type": "code",
   "execution_count": null,
   "metadata": {},
   "outputs": [],
   "source": [
    "%load_ext autoreload\n",
    "%autoreload 2"
   ]
  },
  {
   "cell_type": "code",
   "execution_count": null,
   "metadata": {},
   "outputs": [],
   "source": [
    "%matplotlib inline"
   ]
  },
  {
   "cell_type": "code",
   "execution_count": null,
   "metadata": {},
   "outputs": [],
   "source": [
    "import matplotlib as mpl\n",
    "mpl.rcParams['pdf.fonttype'] = 42\n",
    "mpl.rcParams['font.family'] = 'Arial'"
   ]
  },
  {
   "cell_type": "code",
   "execution_count": null,
   "metadata": {},
   "outputs": [],
   "source": []
  },
  {
   "cell_type": "code",
   "execution_count": null,
   "metadata": {},
   "outputs": [],
   "source": [
    "from IPython.core.display import display, HTML\n",
    "display(HTML(\"<style>.container { width:80% !important; }</style>\"))"
   ]
  },
  {
   "cell_type": "code",
   "execution_count": null,
   "metadata": {},
   "outputs": [],
   "source": [
    "import glob\n",
    "import os\n",
    "\n",
    "import numpy as np\n",
    "import pandas as pd\n",
    "import seaborn as sns\n",
    "\n",
    "import matplotlib.pyplot as plt"
   ]
  },
  {
   "cell_type": "code",
   "execution_count": null,
   "metadata": {},
   "outputs": [],
   "source": [
    "from access_biology_data import annotation, gwas_studies, meta, phenotype_collections, properties, relations\n",
    "from access_literature_data import medline\n",
    "from access_mixed_data import genealacart\n",
    "from access_science_shared import standardizer, utils"
   ]
  },
  {
   "cell_type": "code",
   "execution_count": null,
   "metadata": {},
   "outputs": [],
   "source": [
    "import sys\n",
    "sys.path.append('./../src/')\n",
    "\n",
    "import nar170604f_occurences as nar_attention\n",
    "import nar170830f_predictions as forec\n",
    "import resci_inout as rinout\n",
    "import resci_tools as ret\n",
    "\n",
    "import nar180310_mega_integrator as mega"
   ]
  },
  {
   "cell_type": "code",
   "execution_count": null,
   "metadata": {},
   "outputs": [],
   "source": [
    "taxon_id = 9606"
   ]
  },
  {
   "cell_type": "code",
   "execution_count": null,
   "metadata": {},
   "outputs": [],
   "source": [
    "save_images=True"
   ]
  },
  {
   "cell_type": "code",
   "execution_count": null,
   "metadata": {},
   "outputs": [],
   "source": [
    "def export(file_base):\n",
    "    p = '180318_detail_on_clusters/{}'.format(file_base)\n",
    "    \n",
    "    ppn = p + '.png'\n",
    "    rinout.ensure_presence_of_directory(ppn)\n",
    "    ret.export_raster_image(ppn, dpi=300, insert_date_time=False)\n",
    "    \n",
    "    ppd = p + '.pdf'\n",
    "    rinout.ensure_presence_of_directory(ppn)\n",
    "    ret.export_image(ppd, insert_date_time=False)"
   ]
  },
  {
   "cell_type": "code",
   "execution_count": null,
   "metadata": {},
   "outputs": [],
   "source": [
    "ref_genes = mega.get_ref_genes()"
   ]
  },
  {
   "cell_type": "code",
   "execution_count": null,
   "metadata": {},
   "outputs": [],
   "source": [
    "papers = mega.get_publications()"
   ]
  },
  {
   "cell_type": "code",
   "execution_count": null,
   "metadata": {},
   "outputs": [],
   "source": [
    "tsne_frame = mega.load_layout(rotation_degrees=45)"
   ]
  },
  {
   "cell_type": "code",
   "execution_count": null,
   "metadata": {},
   "outputs": [],
   "source": [
    "papers['enrichment_attention'] = np.log2(\n",
    "    papers['attention']/ papers['attention'].mean())"
   ]
  },
  {
   "cell_type": "code",
   "execution_count": null,
   "metadata": {},
   "outputs": [],
   "source": [
    "papers['enrichment_attention_2015'] = np.log2(\n",
    "    papers['attention_2015']/ papers['attention_2015'].mean())"
   ]
  },
  {
   "cell_type": "code",
   "execution_count": null,
   "metadata": {},
   "outputs": [],
   "source": [
    "la = mega.load_group_annotation()"
   ]
  },
  {
   "cell_type": "code",
   "execution_count": null,
   "metadata": {},
   "outputs": [],
   "source": [
    "viz = pd.merge(tsne_frame.reset_index(), la, how='left')"
   ]
  },
  {
   "cell_type": "code",
   "execution_count": null,
   "metadata": {},
   "outputs": [],
   "source": [
    "sns.lmplot(x='x', y='y', data=viz.fillna(-1), hue='list_code', fit_reg=False, palette='Set1',scatter_kws={'s': 1})"
   ]
  },
  {
   "cell_type": "code",
   "execution_count": null,
   "metadata": {},
   "outputs": [],
   "source": []
  },
  {
   "cell_type": "code",
   "execution_count": null,
   "metadata": {},
   "outputs": [],
   "source": [
    "sns.lmplot(x='x', y='y', data=viz.dropna(), hue='list_code', fit_reg=False, palette='Set1')"
   ]
  },
  {
   "cell_type": "code",
   "execution_count": null,
   "metadata": {},
   "outputs": [],
   "source": [
    "sns.lmplot(x='x', y='y', data=viz.dropna(), hue='list_code', fit_reg=False, palette='Paired')"
   ]
  },
  {
   "cell_type": "code",
   "execution_count": null,
   "metadata": {},
   "outputs": [],
   "source": [
    "clustered_features = mega.get_clustered_zscored_features()"
   ]
  },
  {
   "cell_type": "code",
   "execution_count": null,
   "metadata": {
    "scrolled": true
   },
   "outputs": [],
   "source": [
    "for u in sorted(la['list_code'].unique()):\n",
    "\n",
    "    if u >0:\n",
    "        print(u)\n",
    "\n",
    "        insert = la[la['list_code']==u]['gene_ncbi'].values\n",
    "\n",
    "        f = clustered_features.index.isin(insert)\n",
    "\n",
    "        sns.heatmap(data=clustered_features.loc[f, :], vmin=-3, vmax=3, cmap='PiYG')\n",
    "        \n",
    "        export('subcluster_{}'.format(u))\n",
    "        \n",
    "        plt.show()"
   ]
  },
  {
   "cell_type": "code",
   "execution_count": null,
   "metadata": {},
   "outputs": [],
   "source": [
    "%%time\n",
    "\n",
    "cl = dict()\n",
    "dd = dict()\n",
    "ge = dict()\n",
    "\n",
    "\n",
    "categs = {\n",
    "    'gwas': mega.frequent_gwas,\n",
    "    'gtx': mega.gtx,\n",
    "    'lof': mega.LoF,\n",
    "    'duf': mega.DUF,\n",
    "    'extreme_swissprot': mega.extreme_swissprot,\n",
    "    'orphan_disease': mega.orphan_disease,\n",
    "    'rare_go': mega.rare_go,\n",
    "    'signal_peptide': mega.signal_peptide,\n",
    "    'rnai': mega.rnai_phenotypes,\n",
    "    'rare_compounds': mega.rare_compounds,\n",
    "    'bioplex_fame': mega.fame_in_bioplex,\n",
    "    'challenged_proteins': mega.challenged_proteins,\n",
    "    'detection_in_tissues': mega.detection_in_tissues,\n",
    "    'detection_in_cells': mega.detection_in_cells,\n",
    "    'westernblot_in_biogrid': mega.biogrid_western_blot,\n",
    "    'presence_of_homologs': mega.presence_of_homologs,\n",
    "    'fame_of_homologs': mega.fame_of_homologs,\n",
    "    'pi_transition': mega.pi_transition,\n",
    "    'supporting_nih_institutes': mega.supporting_nih_institutes,\n",
    "    'fame_rank': mega.fame_rank\n",
    "}\n",
    "\n",
    "for k, i in categs.items():\n",
    "    print(k)\n",
    "    a, b, c = i()\n",
    "    cl[k] = a\n",
    "    dd[k] = b\n",
    "    ge[k] = c"
   ]
  },
  {
   "cell_type": "code",
   "execution_count": null,
   "metadata": {},
   "outputs": [],
   "source": [
    "su = pd.concat(cl.values(), axis=1, join='outer').rename_axis('gene_ncbi')"
   ]
  },
  {
   "cell_type": "code",
   "execution_count": null,
   "metadata": {},
   "outputs": [],
   "source": [
    "su['in_most_tissues_1'] = su['fraction_of_tissues_1'] > 0.5\n",
    "su['in_most_cells_1'] = su['fraction_of_cells_1'] > 0.5\n",
    "\n",
    "su['yeast'] = su['presence_Schizosaccharomyces pombe 972h-'] | su['presence_Saccharomyces cerevisiae S288c']\n",
    "su['worm_fly'] = su['presence_Drosophila melanogaster'] | su['presence_Caenorhabditis elegans']\n",
    "su['c_anxient'] = su['yeast'] | su['worm_fly']\n",
    "su['c_accessibility'] = su['signal_peptide'] | su['in_most_tissues_1'] | su['in_most_cells_1']\n",
    "su['change_in_gtx'] = su['gtx_fold'] >= 0\n",
    "su['c_experimental_coverage'] = su['rnai_frequent'] | su['change_in_gtx'] | su['biogrid_western_blot']\n",
    "\n",
    "su['easy_experimentation'] = su['c_accessibility'] | su['c_experimental_coverage']\n",
    "\n",
    "su['bp2_mean_studied'] = su['bp2_mean_unstudied'] == False\n",
    "\n",
    "su['c_genetic_importance'] = su['extremly_LoF_intolerant'] | su['any_prominent_gwas']\n",
    "su['c_close_to_interesting'] = su['extreme_swissprot'] | su['has_duf'] | su['bp2_mean_studied']\n",
    "su['c_societal_support'] = su['will_be_pi'] | su['recently_supporting_institutes']"
   ]
  },
  {
   "cell_type": "code",
   "execution_count": null,
   "metadata": {},
   "outputs": [],
   "source": [
    "la = mega.load_group_annotation()"
   ]
  },
  {
   "cell_type": "code",
   "execution_count": null,
   "metadata": {},
   "outputs": [],
   "source": [
    "gi = meta.gene_info(9606, usecols=['gene_ncbi', 'symbol_ncbi'])"
   ]
  },
  {
   "cell_type": "code",
   "execution_count": null,
   "metadata": {},
   "outputs": [],
   "source": []
  },
  {
   "cell_type": "code",
   "execution_count": null,
   "metadata": {},
   "outputs": [],
   "source": []
  },
  {
   "cell_type": "code",
   "execution_count": null,
   "metadata": {
    "scrolled": false
   },
   "outputs": [],
   "source": [
    "for code in la['list_code'].unique():\n",
    "    \n",
    "    if code >0 :\n",
    "    \n",
    "        print(code)\n",
    "        genes_of_interest = la[la['list_code']==code]['gene_ncbi'].unique()\n",
    "\n",
    "        d = su.loc[genes_of_interest, [\n",
    "                'c_genetic_importance',\n",
    "                'easy_experimentation',\n",
    "                'c_anxient',\n",
    "    #             'c_societal_support',\n",
    "        #         'will_be_pi',\n",
    "                'attention_rank'\n",
    "            ]].fillna(False).astype(float)\n",
    "\n",
    "        d = d.reset_index()\n",
    "        d = pd.merge(d, gi).drop('gene_ncbi', axis=1).set_index('symbol_ncbi')\n",
    "\n",
    "        sns.clustermap(\n",
    "            d,\n",
    "            cmap='YlGn',\n",
    "            method='ward',\n",
    "            col_cluster=False);\n",
    "\n",
    "        if save_images:\n",
    "            export('group_{}_green'.format(code))\n",
    "        plt.close()\n",
    "\n",
    "        sns.clustermap(\n",
    "            d,\n",
    "            cmap='autumn_r',\n",
    "            method='ward',\n",
    "            col_cluster=False);\n",
    "\n",
    "        if save_images:\n",
    "            export('group_{}_red'.format(code))\n",
    "        plt.close()\n",
    "\n",
    "\n",
    "    plt.show()"
   ]
  },
  {
   "cell_type": "markdown",
   "metadata": {},
   "source": [
    "# Add visualization of seleted clusters"
   ]
  },
  {
   "cell_type": "code",
   "execution_count": null,
   "metadata": {},
   "outputs": [],
   "source": [
    "gi = meta.gene_info(9606, usecols=['gene_ncbi', 'symbol_ncbi'])"
   ]
  },
  {
   "cell_type": "code",
   "execution_count": null,
   "metadata": {},
   "outputs": [],
   "source": [
    "tsne_frame.head()"
   ]
  },
  {
   "cell_type": "code",
   "execution_count": null,
   "metadata": {
    "scrolled": false
   },
   "outputs": [],
   "source": [
    "for code in la['list_code'].unique():\n",
    "    \n",
    "    if code > 0:\n",
    "\n",
    "        to_plot = pd.merge(tsne_frame.reset_index(), papers.reset_index())\n",
    "        genes_of_interest = la[la['list_code']==code]['gene_ncbi'].unique()\n",
    "\n",
    "        to_plot = pd.merge(to_plot, gi, how='left')\n",
    "        to_plot.loc[:, 'in_subgroup'] = to_plot['gene_ncbi'].isin(genes_of_interest)\n",
    "\n",
    "\n",
    "        zoom_size = 10\n",
    "\n",
    "        plt.figure(figsize=(8,6))\n",
    "\n",
    "        f = to_plot['in_subgroup']\n",
    "        plt.scatter(\n",
    "                x=to_plot.loc[f, 'x'],\n",
    "                y=to_plot.loc[f, 'y'],\n",
    "                s=zoom_size,\n",
    "                c=to_plot.loc[f, 'enrichment_attention'],\n",
    "                cmap='coolwarm',\n",
    "                edgecolors='none',\n",
    "                vmin=-6,\n",
    "                vmax=6)\n",
    "\n",
    "        plt.colorbar()\n",
    "\n",
    "        if save_images:    \n",
    "            ret.export_image('180318_detail_on_clusters/subgroup_intelligence_{}_plain.pdf'.format(int(code)))\n",
    "\n",
    "\n",
    "\n",
    "\n",
    "        zoom_size = 10\n",
    "\n",
    "        plt.figure(figsize=(8,6))\n",
    "\n",
    "        fig, ax = plt.subplots(figsize=(8,6))\n",
    "\n",
    "        f = to_plot['in_subgroup']\n",
    "\n",
    "\n",
    "        ax.scatter(\n",
    "            x=to_plot.loc[f, 'x'],\n",
    "            y=to_plot.loc[f, 'y'],\n",
    "            s=1,\n",
    "            color='lightgrey')\n",
    "\n",
    "        ax.scatter(\n",
    "                x=to_plot.loc[f, 'x'],\n",
    "                y=to_plot.loc[f, 'y'],\n",
    "                s=zoom_size,\n",
    "                c=to_plot.loc[f, 'enrichment_attention'],\n",
    "                cmap='coolwarm',\n",
    "                edgecolors='none',\n",
    "                vmin=-6,\n",
    "                vmax=6)\n",
    "\n",
    "\n",
    "\n",
    "        n = to_plot.loc[f, 'symbol_ncbi'].values\n",
    "        z = to_plot.loc[f, 'x'].values\n",
    "        y = to_plot.loc[f, 'y'].values\n",
    "\n",
    "        for i, txt in enumerate(n):\n",
    "            ax.annotate(txt, (z[i],y[i]))\n",
    "\n",
    "\n",
    "        if save_images:    \n",
    "            ret.export_image('180318_detail_on_clusters/subgroup_intelligence_{}_labelled.pdf'.format(int(code)))\n",
    "\n",
    "\n",
    "\n",
    "    # plt.colorbar()\n",
    "    # plt.title(code)\n",
    "\n",
    "    # export('prominent_gwas_with_label')\n",
    "    # # fig.colorbar(fig, ax=ax)\n",
    "    # ax.set_title('Gaussian noise with vertical colorbar')"
   ]
  },
  {
   "cell_type": "code",
   "execution_count": null,
   "metadata": {},
   "outputs": [],
   "source": [
    "su"
   ]
  },
  {
   "cell_type": "code",
   "execution_count": null,
   "metadata": {},
   "outputs": [],
   "source": [
    "import calculators"
   ]
  },
  {
   "cell_type": "code",
   "execution_count": null,
   "metadata": {},
   "outputs": [],
   "source": []
  },
  {
   "cell_type": "code",
   "execution_count": null,
   "metadata": {
    "scrolled": false
   },
   "outputs": [],
   "source": [
    "go_annotation = annotation.go(\n",
    "    taxon_id = 9606,\n",
    "    category=['Function', 'Process', 'Component'],\n",
    "    any_negating_support = [False],\n",
    "    temporary_evidence=[False],\n",
    "    unmapped_evidence=[False])\n",
    "\n",
    "\n",
    "labelling = go_annotation[['gene_ncbi', 'GO_ID', 'GO_term']].drop_duplicates().rename(\n",
    "    columns={'GO_ID': 'annotation_id', 'GO_term': 'annotation_name'})\n",
    "\n",
    "for u in sorted(la['list_code'].unique()):\n",
    "    if u>0:\n",
    "        f = la['list_code'] == u\n",
    "\n",
    "        sign_genes = la.loc[f, 'gene_ncbi']\n",
    "        non_sign_genes = la.loc[~f, 'gene_ncbi']\n",
    "\n",
    "        a = calculators.compute_functional_enrichment(sign_genes, non_sign_genes, labelling)\n",
    "        a = a.sort_values('fdr', ascending=True)\n",
    "\n",
    "        print('---------------------')\n",
    "        print(u)\n",
    "        print(a[['fdr', 'annotation_name']][:5])"
   ]
  },
  {
   "cell_type": "code",
   "execution_count": null,
   "metadata": {},
   "outputs": [],
   "source": []
  },
  {
   "cell_type": "code",
   "execution_count": null,
   "metadata": {},
   "outputs": [],
   "source": []
  },
  {
   "cell_type": "code",
   "execution_count": null,
   "metadata": {},
   "outputs": [],
   "source": [
    "\n",
    "d = su.loc[:, [\n",
    "        'c_genetic_importance',\n",
    "        'easy_experimentation',\n",
    "        'c_anxient',\n",
    "#             'c_societal_support',\n",
    "#         'will_be_pi',\n",
    "        'attention_rank'\n",
    "    ]].fillna(False).astype(float)\n",
    "\n",
    "d = d.reset_index()\n",
    "d = pd.merge(d, gi).drop('gene_ncbi', axis=1).set_index('symbol_ncbi')\n",
    "\n",
    "sns.clustermap(\n",
    "    d,\n",
    "    cmap='YlGn',\n",
    "    method='ward',\n",
    "    col_cluster=False);\n",
    "\n",
    "if save_images:\n",
    "    export('all_green'.format(code))\n",
    "plt.close()\n",
    "\n",
    "sns.clustermap(\n",
    "    d,\n",
    "    cmap='autumn_r',\n",
    "    method='ward',\n",
    "    col_cluster=False);\n",
    "\n",
    "if save_images:\n",
    "    export('all_red'.format(code))\n",
    "plt.close()\n",
    "\n",
    "\n",
    "plt.show()"
   ]
  },
  {
   "cell_type": "code",
   "execution_count": null,
   "metadata": {},
   "outputs": [],
   "source": []
  },
  {
   "cell_type": "code",
   "execution_count": null,
   "metadata": {},
   "outputs": [],
   "source": [
    "code = 9\n",
    "\n",
    "genes_of_interest = la[la['list_code']==code]['gene_ncbi'].unique()\n",
    "\n",
    "d = su.loc[genes_of_interest, [\n",
    "        'c_genetic_importance',\n",
    "        'easy_experimentation',\n",
    "        'c_anxient',\n",
    "        'c_societal_support',\n",
    "#         'will_be_pi',\n",
    "        'attention_rank',\n",
    "        'any_prominent_gwas'\n",
    "    ]].fillna(False).astype(float)\n",
    "\n",
    "\n",
    "d = d.reset_index()\n",
    "d = pd.merge(d, gi).drop('gene_ncbi', axis=1).set_index('symbol_ncbi')\n",
    "\n",
    "\n",
    "\n",
    "d.sum()\n",
    "\n",
    "d[d['any_prominent_gwas']==True]"
   ]
  },
  {
   "cell_type": "code",
   "execution_count": null,
   "metadata": {},
   "outputs": [],
   "source": []
  },
  {
   "cell_type": "code",
   "execution_count": null,
   "metadata": {},
   "outputs": [],
   "source": []
  },
  {
   "cell_type": "code",
   "execution_count": null,
   "metadata": {},
   "outputs": [],
   "source": []
  },
  {
   "cell_type": "code",
   "execution_count": null,
   "metadata": {},
   "outputs": [],
   "source": []
  },
  {
   "cell_type": "code",
   "execution_count": null,
   "metadata": {},
   "outputs": [],
   "source": []
  }
 ],
 "metadata": {
  "kernelspec": {
   "display_name": "Python 3",
   "language": "python",
   "name": "python3"
  },
  "language_info": {
   "codemirror_mode": {
    "name": "ipython",
    "version": 3
   },
   "file_extension": ".py",
   "mimetype": "text/x-python",
   "name": "python",
   "nbconvert_exporter": "python",
   "pygments_lexer": "ipython3",
   "version": "3.6.5"
  }
 },
 "nbformat": 4,
 "nbformat_minor": 2
}
