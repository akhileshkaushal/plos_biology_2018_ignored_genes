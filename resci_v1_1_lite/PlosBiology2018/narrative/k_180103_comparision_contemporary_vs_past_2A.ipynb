{
 "cells": [
  {
   "cell_type": "code",
   "execution_count": null,
   "metadata": {},
   "outputs": [],
   "source": [
    "%matplotlib inline\n",
    "\n",
    "import matplotlib as mpl\n",
    "mpl.rcParams['pdf.fonttype'] = 42\n",
    "mpl.rcParams['font.family'] = 'Arial'\n",
    "\n",
    "import glob\n",
    "\n",
    "import numpy as np\n",
    "import pandas as pd\n",
    "import seaborn as sns\n",
    "\n",
    "import matplotlib.pyplot as plt\n",
    "\n",
    "from scipy.stats import spearmanr\n",
    "\n",
    "from access_biology_data import meta\n",
    "from access_literature_data import medline\n",
    "from access_science_shared import standardizer\n",
    "\n",
    "import sys\n",
    "sys.path.append('./../src/')\n",
    "import nar170604f_occurences as nar_attention\n",
    "import resci_tools as ret"
   ]
  },
  {
   "cell_type": "code",
   "execution_count": null,
   "metadata": {},
   "outputs": [],
   "source": [
    "save_images = True\n",
    "save_media = True"
   ]
  },
  {
   "cell_type": "code",
   "execution_count": null,
   "metadata": {},
   "outputs": [],
   "source": [
    "taxon_id = 9606"
   ]
  },
  {
   "cell_type": "code",
   "execution_count": null,
   "metadata": {},
   "outputs": [],
   "source": [
    "first_year_of_past_block = 1\n",
    "first_year_of_current_block = 2011\n",
    "last_year_of_past_block = first_year_of_current_block - 1\n",
    "last_year_of_current_block = 2015"
   ]
  },
  {
   "cell_type": "code",
   "execution_count": null,
   "metadata": {},
   "outputs": [],
   "source": [
    "ref_genes = standardizer.reference_genes(taxon_id, 'orp')\n",
    "ref_gene2pubmed = medline.gene2pubmed(taxon_id, paper_kind='research',ref_genes=ref_genes)\n",
    "\n",
    "papers = nar_attention.count_papers_and_attention(ref_genes, ref_gene2pubmed)"
   ]
  },
  {
   "cell_type": "code",
   "execution_count": null,
   "metadata": {},
   "outputs": [],
   "source": [
    "df_m = medline.select_medline_wos_records(\n",
    "    columns_sql='''\n",
    "            medline.pubmed_id,\n",
    "            medline.pubdate_year,\n",
    "            medline.amount_of_authors,\n",
    "            medline.j_name_s''',\n",
    "    years_range='all',\n",
    "    taxon_id=taxon_id,\n",
    "    kind='research',\n",
    "    unambiguous=True)"
   ]
  },
  {
   "cell_type": "code",
   "execution_count": null,
   "metadata": {},
   "outputs": [],
   "source": [
    "past_block = nar_attention.count_papers_and_attention(\n",
    "    ref_genes,\n",
    "    ref_gene2pubmed[ref_gene2pubmed['pubmed_id'].isin(\n",
    "        df_m[df_m['pubdate_year'].isin(\n",
    "            np.arange(first_year_of_past_block, last_year_of_past_block+1)\n",
    "        )]['pubmed_id'])])[['papers']].rename(columns={'papers': 'past'})"
   ]
  },
  {
   "cell_type": "code",
   "execution_count": null,
   "metadata": {},
   "outputs": [],
   "source": [
    "current_block = nar_attention.count_papers_and_attention(\n",
    "    ref_genes,\n",
    "    ref_gene2pubmed[ref_gene2pubmed['pubmed_id'].isin(\n",
    "        df_m[df_m['pubdate_year'].isin(\n",
    "            np.arange(first_year_of_current_block, last_year_of_current_block)\n",
    "        )]['pubmed_id'])])[['papers']].rename(columns={'papers': 'current'})"
   ]
  },
  {
   "cell_type": "code",
   "execution_count": null,
   "metadata": {},
   "outputs": [],
   "source": [
    "master = pd.concat([past_block, current_block], axis=1)\n",
    "master['current_norm'] = master['current'] / master['current'].sum() * master['past'].sum()\n",
    "master['past_norm'] = master['past'] / master['past'].sum() * master['current'].sum()\n",
    "master['ratio'] = np.log2(master['current'] / master['past_norm'])"
   ]
  },
  {
   "cell_type": "code",
   "execution_count": null,
   "metadata": {},
   "outputs": [],
   "source": [
    "print(\n",
    "    'The spearman correlation of past and current is:',\n",
    "    spearmanr(master['past'], master['current'])[0])"
   ]
  },
  {
   "cell_type": "code",
   "execution_count": null,
   "metadata": {},
   "outputs": [],
   "source": [
    "formatted_master = master.copy()"
   ]
  },
  {
   "cell_type": "code",
   "execution_count": null,
   "metadata": {},
   "outputs": [],
   "source": [
    "v = ['current_norm', 'past_norm', 'current', 'past']\n",
    "value_for_zero_occurences = 0.3\n",
    "for c in v:\n",
    "    f = (formatted_master[c] == 0)\n",
    "    formatted_master.loc[f, c] = value_for_zero_occurences"
   ]
  },
  {
   "cell_type": "code",
   "execution_count": null,
   "metadata": {},
   "outputs": [],
   "source": [
    "v = ['current_norm', 'past_norm', 'current', 'past']\n",
    "for c in v:\n",
    "    n = 'log_{}'.format(c)\n",
    "    formatted_master[n] = formatted_master[c].apply(lambda x: np.log10(x))"
   ]
  },
  {
   "cell_type": "code",
   "execution_count": null,
   "metadata": {},
   "outputs": [],
   "source": [
    "formatted_master['geometric_mean'] = (\n",
    "    formatted_master['log_past_norm'] + formatted_master['log_current']) / 2"
   ]
  },
  {
   "cell_type": "code",
   "execution_count": null,
   "metadata": {},
   "outputs": [],
   "source": [
    "formatted_master['offset_to_geometric'] = np.sqrt(\n",
    "    (formatted_master['log_current'] - formatted_master['geometric_mean'])**2 + (\n",
    "    formatted_master['log_past_norm'] - formatted_master['geometric_mean'])**2 )"
   ]
  },
  {
   "cell_type": "code",
   "execution_count": null,
   "metadata": {},
   "outputs": [],
   "source": [
    "std_in_bin = pd.DataFrame(index=np.arange(0.2, 4, 0.1))\n",
    "window_size = 0.3\n",
    "for i in std_in_bin.index:\n",
    "    f1 = formatted_master['geometric_mean'] > (i-window_size)\n",
    "    f2 = formatted_master['geometric_mean'] < (i+window_size)\n",
    "    f = f1 & f2\n",
    "    \n",
    "    std_in_bin.loc[i, 'smoothened_std'] = np.std(\n",
    "        formatted_master.loc[f, 'offset_to_geometric'])\n",
    "    std_in_bin.loc[i, 'center'] = i"
   ]
  },
  {
   "cell_type": "code",
   "execution_count": null,
   "metadata": {},
   "outputs": [],
   "source": [
    "std_in_bin['shift'] = std_in_bin['smoothened_std'] / np.sqrt(2)"
   ]
  },
  {
   "cell_type": "code",
   "execution_count": null,
   "metadata": {},
   "outputs": [],
   "source": [
    "num_sigma = 3\n",
    "std_in_bin['u_x'] = std_in_bin['center'] - num_sigma * std_in_bin['shift']\n",
    "std_in_bin['u_y'] = std_in_bin['center'] + num_sigma * std_in_bin['shift']\n",
    "std_in_bin['l_x'] = std_in_bin['center'] + num_sigma * std_in_bin['shift']\n",
    "std_in_bin['l_y'] = std_in_bin['center'] - num_sigma * std_in_bin['shift']\n",
    "\n",
    "std_in_bin = std_in_bin.dropna()"
   ]
  },
  {
   "cell_type": "code",
   "execution_count": null,
   "metadata": {},
   "outputs": [],
   "source": [
    "sns.lmplot(\n",
    "    x='log_past_norm',\n",
    "    y='log_current',\n",
    "    data=formatted_master,\n",
    "    scatter_kws={\"s\": 1},\n",
    "    fit_reg=False)\n",
    "\n",
    "plt.plot(std_in_bin['u_x'], std_in_bin['u_y'], 'k-')\n",
    "plt.plot(std_in_bin['l_x'], std_in_bin['l_y'], 'k-')\n",
    "\n",
    "if save_images:\n",
    "    ret.export_image('180103_comparision_contemporary_vs_past/unannotated_scatter.pdf')"
   ]
  },
  {
   "cell_type": "code",
   "execution_count": null,
   "metadata": {},
   "outputs": [],
   "source": [
    "gi = meta.gene_info(taxon_id, usecols=['gene_ncbi', 'symbol_ncbi']).set_index('gene_ncbi', verify_integrity=True)\n",
    "\n",
    "s = 8\n",
    "x_l = 'log_past_norm'\n",
    "y_l = 'log_current'\n",
    "\n",
    "z = formatted_master[x_l].values\n",
    "y = formatted_master[y_l].values\n",
    "n = gi.loc[formatted_master.index]['symbol_ncbi'].values\n",
    "\n",
    "fig = plt.figure(figsize=(20, 20))\n",
    "ax = fig.add_subplot(1, 1, 1)\n",
    "\n",
    "ax.scatter(z, y, edgecolors='k',s=1)\n",
    "\n",
    "plt.xlabel(x_l)\n",
    "plt.ylabel(y_l)\n",
    "\n",
    "for i, txt in enumerate(n):\n",
    "    ax.annotate(txt, xy=(z[i],y[i]), xytext=(z[i]+0.001,y[i]+0.001), fontsize=s)\n",
    "\n",
    "plt.title('first year of current: {}'.format(first_year_of_current_block))\n",
    "\n",
    "if save_images:\n",
    "    ret.export_image('180103_comparision_contemporary_vs_past/annotated_scatter.pdf')"
   ]
  },
  {
   "cell_type": "code",
   "execution_count": null,
   "metadata": {},
   "outputs": [],
   "source": [
    "from access_biology_data import annotation\n",
    "from nltk.corpus import stopwords\n",
    "from access_biology_data import meta\n",
    "\n",
    "# get gene RIFs\n",
    "gene_rif = annotation.generif(taxon_id)\n",
    "gene_rif.loc[:,'clean'] = gene_rif.loc[:,'GeneRIF text'].str.lower()\n",
    "gene_rif.loc[:,'clean'] = gene_rif.loc[:,'clean'].str.replace('\\(huge navigator\\)','') \n",
    "gene_rif.loc[:,'clean'] = gene_rif.loc[:,'clean'].str.replace('\\.','')\n",
    "gene_rif = gene_rif.drop_duplicates(['PubMed ID (PMID) list', 'gene_ncbi','clean'])\n",
    "gene_rif['clean'] = gene_rif['clean'] + ' '\n",
    "gene_rif = gene_rif.rename(columns={\n",
    "    'PubMed ID (PMID) list': 'pubmed_id'\n",
    "})\n",
    "gene_rif = gene_rif[['gene_ncbi', 'pubmed_id', 'clean']]\n",
    "gene_rif['pubmed_id'] = gene_rif['pubmed_id'].astype(float)\n",
    "gene_rif = gene_rif.drop_duplicates()"
   ]
  },
  {
   "cell_type": "code",
   "execution_count": null,
   "metadata": {},
   "outputs": [],
   "source": [
    "gene_rif = pd.merge(\n",
    "    gene_rif,\n",
    "    df_m[['pubmed_id', 'pubdate_year']],\n",
    "    how='left'\n",
    ")"
   ]
  },
  {
   "cell_type": "code",
   "execution_count": null,
   "metadata": {},
   "outputs": [],
   "source": [
    "gene_rif = gene_rif.dropna()    # drop statements where no year can be allocated (research statement)\n",
    "gene_rif = gene_rif[gene_rif['gene_ncbi'].isin(ref_genes)] # filter for reference genes"
   ]
  },
  {
   "cell_type": "code",
   "execution_count": null,
   "metadata": {},
   "outputs": [],
   "source": [
    "def remove_char(t):\n",
    "    t = [x.strip('0123456789/-[]{}+-&*,()%;:><\" ') for x in t]\n",
    "    t = [x.strip(\"0123456789/-[]{}+-&*,()%;:><' \") for x in t]\n",
    "    return t\n",
    "\n",
    "def multi_remove_char(t):\n",
    "    t = remove_char(t)\n",
    "    t = remove_char(t)\n",
    "    t = remove_char(t)\n",
    "    t = remove_char(t)\n",
    "    t = remove_char(t)\n",
    "    t = remove_char(t)\n",
    "    t = remove_char(t)\n",
    "    t = remove_char(t)\n",
    "    t = remove_char(t)\n",
    "    t = remove_char(t)\n",
    "    t = remove_char(t)\n",
    "    t = remove_char(t)\n",
    "    t = remove_char(t)\n",
    "    t = remove_char(t)\n",
    "    return t\n",
    "\n",
    "\n",
    "# define stopwords\n",
    "stops = stopwords.words('english')  # standard stop words\n",
    "gi = meta.gene_info(taxon_id)\n",
    "gene_symbols = list(gi['symbol_ncbi'].str.lower().values)\n",
    "gene_alternative_symbols = list(ret.split_text_to_multiple_rows(\n",
    "    gi[['gene_ncbi', 'Synonyms']],\n",
    "    column='Synonyms',\n",
    "    separator='\\|')['Synonyms'].str.lower().unique())\n",
    "numbers = [str(x) for x in np.arange(1, 10000)]\n",
    "continuous_gene_names = list(gi.loc[~gi['description'].str.contains(' '), 'description'].unique())\n",
    "alphabet = [\n",
    "    'a', 'b', 'c', 'd', 'e', 'f', 'g', 'h', 'i', 'j', 'k', 'l', 'm', \n",
    "    'n', 'o', 'p', 'q', 'r', 's', 't', 'u', 'v', 'w', 'x', 'y', 'z']\n",
    "special_characters = ['/']\n",
    "further_forbidden = [\n",
    "    'one', 'two', 'three', 'four', 'five', 'six', 'seven', 'eight', 'nine', 'ten'\n",
    "]\n",
    "forbidden_names = stops + \\\n",
    "gene_symbols + \\\n",
    "gene_alternative_symbols + \\\n",
    "numbers + \\\n",
    "continuous_gene_names + \\\n",
    "alphabet + \\\n",
    "special_characters\n",
    "\n",
    "shortened_forbidden = multi_remove_char(forbidden_names)\n",
    "forbidden_names = forbidden_names + shortened_forbidden"
   ]
  },
  {
   "cell_type": "code",
   "execution_count": null,
   "metadata": {},
   "outputs": [],
   "source": [
    "years_to_consider_for_linguistic_analysis = np.arange(\n",
    "    first_year_of_current_block, last_year_of_current_block + 1)\n",
    "\n",
    "linguist = pd.merge(\n",
    "    master.reset_index(),\n",
    "        gene_rif[gene_rif['pubdate_year'].isin(\n",
    "        years_to_consider_for_linguistic_analysis\n",
    "    )]\n",
    ")\n"
   ]
  },
  {
   "cell_type": "code",
   "execution_count": null,
   "metadata": {},
   "outputs": [],
   "source": [
    "linguist['has_transitioned'] = linguist['current'] > linguist['past_norm']"
   ]
  },
  {
   "cell_type": "code",
   "execution_count": null,
   "metadata": {},
   "outputs": [],
   "source": [
    "def get_words(in_series, label):\n",
    "    \"\"\"\n",
    "    label e.g.: 'transitioned'\n",
    "    \"\"\"\n",
    "    all_text = ''.join(list(in_series.values))\n",
    "    split_text = all_text.split()\n",
    "    \n",
    "    split_text = multi_remove_char(split_text)\n",
    "\n",
    "    split_text = np.array(split_text)\n",
    "    f = split_text == ''\n",
    "    split_text = split_text[~f]\n",
    "    \n",
    "    f = np.array([len(x)>=4 for x in split_text])\n",
    "    split_text = split_text[f]\n",
    "    \n",
    "    split_text = list(split_text)\n",
    "    \n",
    "    \n",
    "    a = pd.Series(split_text).value_counts().to_frame(label)\n",
    "    f = a.index.isin(forbidden_names)\n",
    "    words = a.loc[~f, :]\n",
    "    word_frequency = words / words.sum()\n",
    "    return word_frequency"
   ]
  },
  {
   "cell_type": "code",
   "execution_count": null,
   "metadata": {},
   "outputs": [],
   "source": [
    "words_transitioned = get_words(\n",
    "    linguist.loc[linguist['has_transitioned'], 'clean'], 'transitioned')\n",
    "words_not_transitioned = get_words(\n",
    "    linguist.loc[~linguist['has_transitioned'], 'clean'], 'not_transitioned')\n",
    "\n",
    "comb = pd.merge(\n",
    "    words_transitioned.reset_index(),\n",
    "    words_not_transitioned.reset_index()\n",
    ").fillna(0)\n",
    "\n",
    "comb.loc[:, 'ratio'] = np.log2(\n",
    "    comb['transitioned']/comb['not_transitioned'])"
   ]
  },
  {
   "cell_type": "code",
   "execution_count": null,
   "metadata": {},
   "outputs": [],
   "source": [
    "out_table = comb[comb['transitioned'] > 0.001].sort_values('ratio', ascending=False).rename(columns={\n",
    "    'index': 'word',\n",
    "    'ratio': 'fold enrichment'\n",
    "})"
   ]
  },
  {
   "cell_type": "code",
   "execution_count": null,
   "metadata": {},
   "outputs": [],
   "source": [
    "out_table.head()"
   ]
  },
  {
   "cell_type": "code",
   "execution_count": null,
   "metadata": {},
   "outputs": [],
   "source": [
    "if save_media:\n",
    "    ret.export_full_frame(\n",
    "        '180103_comparision_contemporary_vs_past/enrichment_words.xlsx',\n",
    "        out_table)"
   ]
  },
  {
   "cell_type": "code",
   "execution_count": null,
   "metadata": {},
   "outputs": [],
   "source": [
    "enrichment_to_export = pd.merge(\n",
    "    master[['past_norm', 'current', 'ratio']].sort_values('ratio', ascending=False).rename(\n",
    "        columns={\n",
    "            'current': '2011-2015',\n",
    "            'past_norm': 'till 2010 (normalized)',\n",
    "            'ratio': 'fold change'\n",
    "        }).reset_index(),\n",
    "    gi[['gene_ncbi', 'symbol_ncbi']])"
   ]
  },
  {
   "cell_type": "code",
   "execution_count": null,
   "metadata": {},
   "outputs": [],
   "source": [
    "enrichment_to_export.head()"
   ]
  },
  {
   "cell_type": "code",
   "execution_count": null,
   "metadata": {},
   "outputs": [],
   "source": [
    "if save_media:\n",
    "    ret.export_full_frame(\n",
    "        '180103_comparision_contemporary_vs_past/enrichment_genes.xlsx',\n",
    "        enrichment_to_export)"
   ]
  }
 ],
 "metadata": {
  "kernelspec": {
   "display_name": "Python 3",
   "language": "python",
   "name": "python3"
  },
  "language_info": {
   "codemirror_mode": {
    "name": "ipython",
    "version": 3
   },
   "file_extension": ".py",
   "mimetype": "text/x-python",
   "name": "python",
   "nbconvert_exporter": "python",
   "pygments_lexer": "ipython3",
   "version": "3.6.5"
  }
 },
 "nbformat": 4,
 "nbformat_minor": 2
}
