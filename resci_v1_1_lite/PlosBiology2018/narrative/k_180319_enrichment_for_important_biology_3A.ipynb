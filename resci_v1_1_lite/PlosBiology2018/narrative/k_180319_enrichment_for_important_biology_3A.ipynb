{
 "cells": [
  {
   "cell_type": "code",
   "execution_count": null,
   "metadata": {},
   "outputs": [],
   "source": [
    "%load_ext autoreload\n",
    "%autoreload 2"
   ]
  },
  {
   "cell_type": "code",
   "execution_count": null,
   "metadata": {},
   "outputs": [],
   "source": [
    "%matplotlib inline"
   ]
  },
  {
   "cell_type": "code",
   "execution_count": null,
   "metadata": {},
   "outputs": [],
   "source": [
    "import matplotlib as mpl\n",
    "mpl.rcParams['pdf.fonttype'] = 42\n",
    "mpl.rcParams['font.family'] = 'Arial'"
   ]
  },
  {
   "cell_type": "code",
   "execution_count": null,
   "metadata": {},
   "outputs": [],
   "source": []
  },
  {
   "cell_type": "code",
   "execution_count": null,
   "metadata": {},
   "outputs": [],
   "source": [
    "from IPython.core.display import display, HTML\n",
    "display(HTML(\"<style>.container { width:80% !important; }</style>\"))"
   ]
  },
  {
   "cell_type": "code",
   "execution_count": null,
   "metadata": {},
   "outputs": [],
   "source": [
    "import glob\n",
    "import os\n",
    "\n",
    "import numpy as np\n",
    "import pandas as pd\n",
    "import seaborn as sns\n",
    "\n",
    "import matplotlib.pyplot as plt"
   ]
  },
  {
   "cell_type": "code",
   "execution_count": null,
   "metadata": {},
   "outputs": [],
   "source": [
    "from access_biology_data import annotation, gwas_studies, meta, phenotype_collections, properties, relations\n",
    "from access_literature_data import medline\n",
    "from access_mixed_data import genealacart\n",
    "from access_science_shared import standardizer, utils"
   ]
  },
  {
   "cell_type": "code",
   "execution_count": null,
   "metadata": {},
   "outputs": [],
   "source": [
    "import sys\n",
    "sys.path.append('./../src/')\n",
    "\n",
    "import nar170604f_occurences as nar_attention\n",
    "import nar170830f_predictions as forec\n",
    "import resci_inout as rinout\n",
    "import resci_tools as ret\n",
    "\n",
    "import nar180310_mega_integrator as mega"
   ]
  },
  {
   "cell_type": "code",
   "execution_count": null,
   "metadata": {},
   "outputs": [],
   "source": [
    "taxon_id = 9606"
   ]
  },
  {
   "cell_type": "code",
   "execution_count": null,
   "metadata": {},
   "outputs": [],
   "source": [
    "ref_genes = mega.get_ref_genes()"
   ]
  },
  {
   "cell_type": "code",
   "execution_count": null,
   "metadata": {},
   "outputs": [],
   "source": [
    "papers = mega.get_publications()"
   ]
  },
  {
   "cell_type": "code",
   "execution_count": null,
   "metadata": {},
   "outputs": [],
   "source": [
    "summary_statistics = dict()"
   ]
  },
  {
   "cell_type": "code",
   "execution_count": null,
   "metadata": {},
   "outputs": [],
   "source": [
    "papers.loc[:, 'papers_enrichment'] = np.log2(papers.loc[:, 'attention'] / papers.loc[:, 'attention'].mean())"
   ]
  },
  {
   "cell_type": "code",
   "execution_count": null,
   "metadata": {},
   "outputs": [],
   "source": [
    "taxon_id=9606"
   ]
  },
  {
   "cell_type": "code",
   "execution_count": null,
   "metadata": {},
   "outputs": [],
   "source": [
    "\n",
    "# def get_ref_genes():\n",
    "#     ref_genes = standardizer.reference_genes(\n",
    "#         taxon_id=9606,\n",
    "#         ref_code='orp')\n",
    "#     return ref_genes\n",
    "\n",
    "\n",
    "# def get_publications():\n",
    "#     ref_genes = get_ref_genes()\n",
    "#     ref_gene2pubmed = medline.gene2pubmed(\n",
    "#         taxon_id=9606,\n",
    "#         paper_kind='research',\n",
    "#         ref_genes=ref_genes)\n",
    "\n",
    "#     papers = nar_attention.count_papers_and_attention(\n",
    "#         ref_genes,\n",
    "#         ref_gene2pubmed)\n",
    "\n",
    "#     return papers"
   ]
  },
  {
   "cell_type": "code",
   "execution_count": null,
   "metadata": {},
   "outputs": [],
   "source": []
  },
  {
   "cell_type": "code",
   "execution_count": null,
   "metadata": {},
   "outputs": [],
   "source": [
    "papers['rank'] = np.ceil(papers['attention'].rank(pct=True)*10)    #   <---------------------"
   ]
  },
  {
   "cell_type": "code",
   "execution_count": null,
   "metadata": {},
   "outputs": [],
   "source": [
    "gi = mega._get_gene_ncbi_2_ensembl()\n",
    "unambiguous_between_ncbi_and_ensembl = gi['gene_ncbi']"
   ]
  },
  {
   "cell_type": "code",
   "execution_count": null,
   "metadata": {},
   "outputs": [],
   "source": [
    "%%time\n",
    "\n",
    "cl = dict()\n",
    "dd = dict()\n",
    "ge = dict()\n",
    "\n",
    "\n",
    "categs = {\n",
    "    'gwas_frequent': mega.frequent_gwas,\n",
    "    'gwas_any': mega.any_gwas,\n",
    "#     'gtx': mega.gtx,\n",
    "    'lof': mega.LoF,\n",
    "#     'orphan_disease': mega.orphan_disease,\n",
    "#     'unified_disease': mega.unified_disease,\n",
    "#     'human_phenotype': mega.human_phenotype,\n",
    "#     'omim_disease': mega.omim_disease,\n",
    "#     'rare_go': mega.rare_go,\n",
    "#     'rnai': mega.rnai_phenotypes,\n",
    "#     'detection_in_tissues': mega.detection_in_tissues,\n",
    "#     'detection_in_cells': mega.detection_in_cells,\n",
    "#     'presence_of_homologs': mega.presence_of_homologs,\n",
    "}\n",
    "\n",
    "for k, i in categs.items():\n",
    "    print(k)\n",
    "    a, b, c = i()\n",
    "    cl[k] = a\n",
    "    dd[k] = b\n",
    "    ge[k] = c"
   ]
  },
  {
   "cell_type": "code",
   "execution_count": null,
   "metadata": {},
   "outputs": [],
   "source": [
    "cat_to_plot = [\n",
    "#     'presence_Saccharomyces cerevisiae S288c',\n",
    "#     'rnai_frequent',\n",
    "#     'always_expressed',\n",
    "#     'has_rare_go',\n",
    "    'extremly_LoF_intolerant',\n",
    "    'any_prominent_gwas',\n",
    "    'any_gwas',\n",
    "#     'has_omim_disease',\n",
    "#     'has_unified_disease',\n",
    "#     'has_human_phenotype',\n",
    "#     'has_orphan_disease'\n",
    "#     'gtx_fraction'\n",
    "]"
   ]
  },
  {
   "cell_type": "code",
   "execution_count": null,
   "metadata": {},
   "outputs": [],
   "source": [
    "su = pd.concat(cl.values(), axis=1, join='outer').rename_axis('gene_ncbi')\n",
    "su = su.loc[:, cat_to_plot]"
   ]
  },
  {
   "cell_type": "code",
   "execution_count": null,
   "metadata": {},
   "outputs": [],
   "source": [
    "papers.head()"
   ]
  },
  {
   "cell_type": "code",
   "execution_count": null,
   "metadata": {},
   "outputs": [],
   "source": [
    "su.head(5)"
   ]
  },
  {
   "cell_type": "code",
   "execution_count": null,
   "metadata": {},
   "outputs": [],
   "source": [
    "mm = su.divide(papers['attention'], axis='rows')"
   ]
  },
  {
   "cell_type": "code",
   "execution_count": null,
   "metadata": {},
   "outputs": [],
   "source": [
    "mm.head()"
   ]
  },
  {
   "cell_type": "code",
   "execution_count": null,
   "metadata": {},
   "outputs": [],
   "source": [
    "\n",
    "agg = []\n",
    "for t in cat_to_plot:\n",
    "    m = pd.merge(papers.reset_index(), mm[[t]].reset_index(), how='left')\n",
    "    m[t] = m[t].fillna(False)\n",
    "    m = m[['gene_ncbi', 'rank', t]].rename(columns={t: 'presence'})\n",
    "    m.loc[:, 'annotation'] = t\n",
    "    agg.append(m)\n",
    "\n",
    "df = pd.concat(agg)\n",
    "df = df[df['gene_ncbi'].isin(unambiguous_between_ncbi_and_ensembl)]\n",
    "df = df[df['gene_ncbi'].isin(ge['lof'])]\n",
    "\n",
    "plt.figure(figsize=(5,4))\n",
    "sns.pointplot(x='rank', y='presence',data=df, hue='annotation');\n",
    "plt.legend(bbox_to_anchor=(1.05, 1), loc=2, borderaxespad=0.)\n",
    "\n",
    "ret.export_image('180319_enrichment_for_important_biology/presence_by_attention.pdf')\n",
    "\n"
   ]
  },
  {
   "cell_type": "code",
   "execution_count": null,
   "metadata": {},
   "outputs": [],
   "source": [
    "master = pd.merge(papers.reset_index(), su.reset_index())"
   ]
  },
  {
   "cell_type": "code",
   "execution_count": null,
   "metadata": {},
   "outputs": [],
   "source": [
    "master = master[['attention', 'rank', 'extremly_LoF_intolerant', 'any_prominent_gwas', 'any_gwas', 'gene_ncbi']]"
   ]
  },
  {
   "cell_type": "code",
   "execution_count": null,
   "metadata": {},
   "outputs": [],
   "source": [
    "# master = master.set_index(['gene_ncbi', 'rank'])"
   ]
  },
  {
   "cell_type": "code",
   "execution_count": null,
   "metadata": {},
   "outputs": [],
   "source": [
    "master = master[master['gene_ncbi'].isin(gi['gene_ncbi'])]"
   ]
  },
  {
   "cell_type": "code",
   "execution_count": null,
   "metadata": {},
   "outputs": [],
   "source": [
    "master = master.fillna(False)"
   ]
  },
  {
   "cell_type": "code",
   "execution_count": null,
   "metadata": {},
   "outputs": [],
   "source": [
    "master = master.set_index(['gene_ncbi', 'rank'])"
   ]
  },
  {
   "cell_type": "code",
   "execution_count": null,
   "metadata": {},
   "outputs": [],
   "source": [
    "master.head(2)"
   ]
  },
  {
   "cell_type": "code",
   "execution_count": null,
   "metadata": {},
   "outputs": [],
   "source": [
    "norm_master = master / master.mean()\n",
    "norm_master = norm_master.astype(float)"
   ]
  },
  {
   "cell_type": "code",
   "execution_count": null,
   "metadata": {},
   "outputs": [],
   "source": [
    "# m = norm_master.astype(float).apply(lambda x: np.log2(x))"
   ]
  },
  {
   "cell_type": "code",
   "execution_count": null,
   "metadata": {},
   "outputs": [],
   "source": [
    "h = norm_master.reset_index().drop('gene_ncbi', axis=1)"
   ]
  },
  {
   "cell_type": "code",
   "execution_count": null,
   "metadata": {},
   "outputs": [],
   "source": [
    "hh = h.groupby('rank').agg(lambda x: np.mean(x)).apply(lambda x: np.log2(x))"
   ]
  },
  {
   "cell_type": "code",
   "execution_count": null,
   "metadata": {},
   "outputs": [],
   "source": [
    "d = hh.copy().reset_index()"
   ]
  },
  {
   "cell_type": "code",
   "execution_count": null,
   "metadata": {},
   "outputs": [],
   "source": [
    "agg = []\n",
    "for c in ['attention', 'extremly_LoF_intolerant', 'any_prominent_gwas', 'any_gwas']:\n",
    "    dd = d[['rank', c]].rename(columns={c: 'value'})\n",
    "    dd.loc[:, 'category'] = c\n",
    "    agg.append(dd)\n",
    "\n",
    "u = pd.concat(agg)"
   ]
  },
  {
   "cell_type": "code",
   "execution_count": null,
   "metadata": {},
   "outputs": [],
   "source": [
    "sns.pointplot(x='rank', y='value',data=u, hue='category');\n",
    "plt.legend(bbox_to_anchor=(1.05, 1), loc=2, borderaxespad=0.)\n",
    "ret.export_image('180319_enrichment_for_important_biology/fold_enrichment.pdf')\n"
   ]
  },
  {
   "cell_type": "code",
   "execution_count": null,
   "metadata": {},
   "outputs": [],
   "source": []
  },
  {
   "cell_type": "code",
   "execution_count": null,
   "metadata": {},
   "outputs": [],
   "source": []
  },
  {
   "cell_type": "code",
   "execution_count": null,
   "metadata": {},
   "outputs": [],
   "source": []
  },
  {
   "cell_type": "code",
   "execution_count": null,
   "metadata": {},
   "outputs": [],
   "source": []
  },
  {
   "cell_type": "code",
   "execution_count": null,
   "metadata": {},
   "outputs": [],
   "source": []
  },
  {
   "cell_type": "code",
   "execution_count": null,
   "metadata": {},
   "outputs": [],
   "source": []
  },
  {
   "cell_type": "code",
   "execution_count": null,
   "metadata": {},
   "outputs": [],
   "source": [
    "# agg=[]\n",
    "# for j in np.arange(100):\n",
    "#     hs = h.sample(frac=1, replace=True)\n",
    "#     hh = hs.groupby('rank').agg(lambda x: np.mean(x)).apply(lambda x: np.log2(x))\n",
    "#     agg.append(hh)"
   ]
  },
  {
   "cell_type": "code",
   "execution_count": null,
   "metadata": {},
   "outputs": [],
   "source": [
    "# d = pd.concat(agg).reset_index()"
   ]
  },
  {
   "cell_type": "code",
   "execution_count": null,
   "metadata": {},
   "outputs": [],
   "source": [
    "# agg = []\n",
    "# for c in ['attention', 'extremly_LoF_intolerant', 'any_prominent_gwas', 'any_gwas']:\n",
    "#     dd = d[['rank', c]].rename(columns={c: 'value'})\n",
    "#     dd.loc[:, 'category'] = c\n",
    "#     agg.append(dd)\n",
    "\n",
    "# u = pd.concat(agg)"
   ]
  },
  {
   "cell_type": "code",
   "execution_count": null,
   "metadata": {},
   "outputs": [],
   "source": [
    "# sns.pointplot(x='rank', y='value',data=u, hue='category');\n",
    "\n"
   ]
  },
  {
   "cell_type": "code",
   "execution_count": null,
   "metadata": {},
   "outputs": [],
   "source": []
  },
  {
   "cell_type": "code",
   "execution_count": null,
   "metadata": {},
   "outputs": [],
   "source": []
  },
  {
   "cell_type": "code",
   "execution_count": null,
   "metadata": {},
   "outputs": [],
   "source": []
  },
  {
   "cell_type": "code",
   "execution_count": null,
   "metadata": {},
   "outputs": [],
   "source": []
  },
  {
   "cell_type": "code",
   "execution_count": null,
   "metadata": {},
   "outputs": [],
   "source": []
  },
  {
   "cell_type": "code",
   "execution_count": null,
   "metadata": {},
   "outputs": [],
   "source": []
  }
 ],
 "metadata": {
  "kernelspec": {
   "display_name": "Python 3",
   "language": "python",
   "name": "python3"
  },
  "language_info": {
   "codemirror_mode": {
    "name": "ipython",
    "version": 3
   },
   "file_extension": ".py",
   "mimetype": "text/x-python",
   "name": "python",
   "nbconvert_exporter": "python",
   "pygments_lexer": "ipython3",
   "version": "3.6.5"
  }
 },
 "nbformat": 4,
 "nbformat_minor": 2
}
