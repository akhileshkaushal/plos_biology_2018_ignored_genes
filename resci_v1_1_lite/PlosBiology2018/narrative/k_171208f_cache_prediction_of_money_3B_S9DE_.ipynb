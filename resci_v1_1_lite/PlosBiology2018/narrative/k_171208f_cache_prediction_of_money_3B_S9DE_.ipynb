{
 "cells": [
  {
   "cell_type": "code",
   "execution_count": null,
   "metadata": {},
   "outputs": [],
   "source": [
    "%matplotlib inline \n",
    "%reload_ext autoreload\n",
    "%autoreload 2\n",
    "\n",
    "src_dir = './../src/'\n",
    "import sys\n",
    "sys.path[0] = src_dir"
   ]
  },
  {
   "cell_type": "code",
   "execution_count": null,
   "metadata": {},
   "outputs": [],
   "source": [
    "from IPython.core.display import display, HTML\n",
    "display(HTML(\"<style>.container { width:100% !important; }</style>\"))"
   ]
  },
  {
   "cell_type": "code",
   "execution_count": null,
   "metadata": {},
   "outputs": [],
   "source": [
    "import glob\n",
    "import os\n",
    "\n",
    "import numpy as np\n",
    "import pandas as pd\n",
    "import seaborn as sns\n",
    "\n",
    "import matplotlib.pyplot as plt\n",
    "\n",
    "from scipy.stats import spearmanr\n",
    "\n",
    "import nar170830f_predictions as forec\n",
    "import resci_inout as rinout\n",
    "import resci_tools as ret"
   ]
  },
  {
   "cell_type": "code",
   "execution_count": null,
   "metadata": {},
   "outputs": [],
   "source": [
    "category_of_interest = 'budget_for_attention'        ## <----------- user input\n",
    "save_images = True "
   ]
  },
  {
   "cell_type": "code",
   "execution_count": null,
   "metadata": {},
   "outputs": [],
   "source": [
    "prediction_folders = glob.glob(\n",
    "    os.path.join(\n",
    "        rinout.get_internal_path(\n",
    "            '171202f_predict_money'), \n",
    "        '171202_human_*{}'.format(category_of_interest)))\n",
    "model_name = 'zgbrh_p90_e300'"
   ]
  },
  {
   "cell_type": "code",
   "execution_count": null,
   "metadata": {},
   "outputs": [],
   "source": [
    "# Unite, and cache to disk\n",
    "unite_to_disk = True\n",
    "if unite_to_disk:\n",
    "    # pool to establish local cache\n",
    "    agg = {}\n",
    "    for ix, pf in enumerate(prediction_folders):\n",
    "        if ix % 10 == 0:\n",
    "            print('processed ', ix, 'out of', len(prediction_folders))\n",
    "\n",
    "        ba, exp = os.path.split(pf)\n",
    "        p = os.path.join(ba, exp, model_name)\n",
    "\n",
    "        if not os.path.exists(p):\n",
    "            print('no predictions', p)\n",
    "        else:\n",
    "\n",
    "            forec.pool_target_and_predicitions(\n",
    "                path_to_predictions=p\n",
    "            )"
   ]
  },
  {
   "cell_type": "code",
   "execution_count": null,
   "metadata": {},
   "outputs": [],
   "source": [
    "[x[1] for x in [os.path.split(x) for x in prediction_folders]]"
   ]
  },
  {
   "cell_type": "code",
   "execution_count": null,
   "metadata": {},
   "outputs": [],
   "source": []
  },
  {
   "cell_type": "code",
   "execution_count": null,
   "metadata": {},
   "outputs": [],
   "source": []
  },
  {
   "cell_type": "code",
   "execution_count": null,
   "metadata": {},
   "outputs": [],
   "source": [
    "['171202_human_Yearhomall_log_budget_for_attention',\n",
    " '171202_human_BioExpYearhomall_log_budget_for_attention',\n",
    " '171202_human_Lithom_log_budget_for_attention',\n",
    " '171202_human_BioExp_log_budget_for_attention',\n",
    " '171202_human_BioExpDis_log_budget_for_attention',\n",
    " '171202_human_BioExpYearhomallDis_log_budget_for_attention',\n",
    " '171202_human_Dis_log_budget_for_attention']"
   ]
  },
  {
   "cell_type": "code",
   "execution_count": null,
   "metadata": {},
   "outputs": [],
   "source": []
  },
  {
   "cell_type": "code",
   "execution_count": null,
   "metadata": {},
   "outputs": [],
   "source": []
  },
  {
   "cell_type": "code",
   "execution_count": null,
   "metadata": {},
   "outputs": [],
   "source": []
  },
  {
   "cell_type": "code",
   "execution_count": null,
   "metadata": {},
   "outputs": [],
   "source": []
  },
  {
   "cell_type": "code",
   "execution_count": null,
   "metadata": {},
   "outputs": [],
   "source": []
  },
  {
   "cell_type": "code",
   "execution_count": null,
   "metadata": {},
   "outputs": [],
   "source": []
  },
  {
   "cell_type": "code",
   "execution_count": null,
   "metadata": {},
   "outputs": [],
   "source": []
  },
  {
   "cell_type": "code",
   "execution_count": null,
   "metadata": {},
   "outputs": [],
   "source": []
  }
 ],
 "metadata": {
  "kernelspec": {
   "display_name": "Python 3",
   "language": "python",
   "name": "python3"
  },
  "language_info": {
   "codemirror_mode": {
    "name": "ipython",
    "version": 3
   },
   "file_extension": ".py",
   "mimetype": "text/x-python",
   "name": "python",
   "nbconvert_exporter": "python",
   "pygments_lexer": "ipython3",
   "version": "3.6.5"
  }
 },
 "nbformat": 4,
 "nbformat_minor": 2
}
