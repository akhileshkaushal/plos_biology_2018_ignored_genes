{
 "cells": [
  {
   "cell_type": "code",
   "execution_count": null,
   "metadata": {},
   "outputs": [],
   "source": [
    "%load_ext autoreload\n",
    "%autoreload 2"
   ]
  },
  {
   "cell_type": "code",
   "execution_count": null,
   "metadata": {},
   "outputs": [],
   "source": [
    "%matplotlib inline"
   ]
  },
  {
   "cell_type": "code",
   "execution_count": null,
   "metadata": {},
   "outputs": [],
   "source": [
    "import matplotlib as mpl\n",
    "mpl.rcParams['pdf.fonttype'] = 42\n",
    "mpl.rcParams['font.family'] = 'Arial'"
   ]
  },
  {
   "cell_type": "code",
   "execution_count": null,
   "metadata": {},
   "outputs": [],
   "source": [
    "from IPython.core.display import display, HTML\n",
    "display(HTML(\"<style>.container { width:80% !important; }</style>\"))"
   ]
  },
  {
   "cell_type": "code",
   "execution_count": null,
   "metadata": {},
   "outputs": [],
   "source": [
    "import glob\n",
    "import os\n",
    "\n",
    "import numpy as np\n",
    "import pandas as pd\n",
    "import seaborn as sns\n",
    "\n",
    "import matplotlib.pyplot as plt"
   ]
  },
  {
   "cell_type": "code",
   "execution_count": null,
   "metadata": {},
   "outputs": [],
   "source": [
    "from access_biology_data import annotation, gwas_studies, meta, phenotype_collections, properties, relations\n",
    "from access_literature_data import medline\n",
    "from access_mixed_data import genealacart\n",
    "from access_science_shared import standardizer, utils"
   ]
  },
  {
   "cell_type": "code",
   "execution_count": null,
   "metadata": {},
   "outputs": [],
   "source": [
    "import sys\n",
    "sys.path.append('./../src/')\n",
    "\n",
    "import nar170604f_occurences as nar_attention\n",
    "import nar170830f_predictions as forec\n",
    "import resci_inout as rinout\n",
    "import resci_tools as ret\n",
    "\n",
    "import nar180310_mega_integrator as mega"
   ]
  },
  {
   "cell_type": "code",
   "execution_count": null,
   "metadata": {},
   "outputs": [],
   "source": [
    "taxon_id = 9606"
   ]
  },
  {
   "cell_type": "code",
   "execution_count": null,
   "metadata": {},
   "outputs": [],
   "source": [
    "save_images=True"
   ]
  },
  {
   "cell_type": "code",
   "execution_count": null,
   "metadata": {},
   "outputs": [],
   "source": [
    "def export_table(file_base, df):\n",
    "    p = rinout.get_internal_path(\n",
    "        '180326_make_supplemental_tables/{}.xlsx'.format(file_base)\n",
    "    )\n",
    "    rinout.ensure_presence_of_directory(p)\n",
    "    ret.export_full_frame(p, df, insert_date_time=False, save_index=True)"
   ]
  },
  {
   "cell_type": "code",
   "execution_count": null,
   "metadata": {},
   "outputs": [],
   "source": [
    "# def export(file_base):\n",
    "#     p = '180318_detail_on_clusters/{}'.format(file_base)\n",
    "    \n",
    "#     ppn = p + '.png'\n",
    "#     rinout.ensure_presence_of_directory(ppn)\n",
    "# #     ret.export_raster_image(ppn, dpi=300, insert_date_time=False)\n",
    "    \n",
    "#     ppd = p + '.pdf'\n",
    "#     rinout.ensure_presence_of_directory(ppn)\n",
    "# #     ret.export_image(ppd, insert_date_time=False)"
   ]
  },
  {
   "cell_type": "code",
   "execution_count": null,
   "metadata": {},
   "outputs": [],
   "source": [
    "ref_genes = mega.get_ref_genes()"
   ]
  },
  {
   "cell_type": "code",
   "execution_count": null,
   "metadata": {},
   "outputs": [],
   "source": [
    "papers = mega.get_publications()"
   ]
  },
  {
   "cell_type": "code",
   "execution_count": null,
   "metadata": {},
   "outputs": [],
   "source": [
    "tsne_frame = mega.load_layout(rotation_degrees=45)"
   ]
  },
  {
   "cell_type": "code",
   "execution_count": null,
   "metadata": {},
   "outputs": [],
   "source": [
    "papers['enrichment_attention'] = np.log2(\n",
    "    papers['attention']/ papers['attention'].mean())"
   ]
  },
  {
   "cell_type": "code",
   "execution_count": null,
   "metadata": {},
   "outputs": [],
   "source": [
    "papers['enrichment_attention_2015'] = np.log2(\n",
    "    papers['attention_2015']/ papers['attention_2015'].mean())"
   ]
  },
  {
   "cell_type": "code",
   "execution_count": null,
   "metadata": {},
   "outputs": [],
   "source": [
    "la = mega.load_group_annotation()"
   ]
  },
  {
   "cell_type": "code",
   "execution_count": null,
   "metadata": {},
   "outputs": [],
   "source": [
    "gene_info = meta.gene_info(9606, usecols=['gene_ncbi', 'symbol_ncbi', 'dbXrefs'])"
   ]
  },
  {
   "cell_type": "code",
   "execution_count": null,
   "metadata": {},
   "outputs": [],
   "source": [
    "f = gene_info['dbXrefs'].str.contains('Ensembl:')"
   ]
  },
  {
   "cell_type": "code",
   "execution_count": null,
   "metadata": {},
   "outputs": [],
   "source": [
    "gene_info.loc[f, 'gene_ensembl'] = gene_info.loc[f, 'dbXrefs'].str.extract('Ensembl:(ENSG[0-9]*)', expand=False)"
   ]
  },
  {
   "cell_type": "code",
   "execution_count": null,
   "metadata": {},
   "outputs": [],
   "source": [
    "gene_info = gene_info[['gene_ncbi', 'symbol_ncbi', 'gene_ensembl']]"
   ]
  },
  {
   "cell_type": "markdown",
   "metadata": {},
   "source": [
    "# Model"
   ]
  },
  {
   "cell_type": "code",
   "execution_count": null,
   "metadata": {},
   "outputs": [],
   "source": [
    "# p = rinout.get_internal_path(\n",
    "#     '170923f_predict_human_fame/170923_human_BioExp_log_papers/input/target.csv.gz'\n",
    "# )\n",
    "# df_target = pd.read_csv(p)\n",
    "\n",
    "p = rinout.get_internal_path(\n",
    "    '170923f_predict_human_fame/170923_human_BioExp_log_papers/zgbrh_p90_e300/pooled_target_and_prediciton.csv.gz'\n",
    ")\n",
    "df_prediction = pd.read_csv(p).set_index('gene_ncbi')\n",
    "\n",
    "df_target=df_prediction[['target']]\n",
    "df_prediction = df_prediction.drop('target', axis=1)\n",
    "\n",
    "df_model = pd.merge(\n",
    "    df_target.reset_index(),\n",
    "    df_prediction.median(1).to_frame('predicted').reset_index()).set_index('gene_ncbi')\n",
    "\n",
    "export_table('BioExp_publications_target_predictions', df_model)"
   ]
  },
  {
   "cell_type": "markdown",
   "metadata": {},
   "source": [
    "# List of features"
   ]
  },
  {
   "cell_type": "code",
   "execution_count": null,
   "metadata": {},
   "outputs": [],
   "source": [
    "p = rinout.get_internal_path(\n",
    "    '170923f_predict_human_fame/170923_human_BioExp_log_papers/input/features.csv.gz'\n",
    ")"
   ]
  },
  {
   "cell_type": "code",
   "execution_count": null,
   "metadata": {},
   "outputs": [],
   "source": [
    "df = pd.read_csv(p)\n",
    "df = df.replace({'TRUE': 1, 'FALSE': 0, 'False': 0, 'True': 1})\n",
    "df = df.set_index('gene_ncbi')    # table of features"
   ]
  },
  {
   "cell_type": "code",
   "execution_count": null,
   "metadata": {},
   "outputs": [],
   "source": [
    "table_non_zscored_features = df"
   ]
  },
  {
   "cell_type": "code",
   "execution_count": null,
   "metadata": {},
   "outputs": [],
   "source": [
    "def normfun(x):\n",
    "    m = np.nanmean(x)\n",
    "    s = np.nanstd(x)\n",
    "    a = (x - m) / s\n",
    "    return a\n",
    "\n",
    "df = df.astype(float)\n",
    "table_zscored = df.apply(lambda x: normfun(x), 0)\n",
    "\n",
    "export_table('z_scored_features', table_zscored)"
   ]
  },
  {
   "cell_type": "code",
   "execution_count": null,
   "metadata": {},
   "outputs": [],
   "source": []
  },
  {
   "cell_type": "code",
   "execution_count": null,
   "metadata": {},
   "outputs": [],
   "source": [
    "not_featured = set(ref_genes) - set(df.index)\n",
    "table_omitted_genes = gene_info[gene_info['gene_ncbi'].isin(not_featured)].set_index('gene_ncbi')\n",
    "\n",
    "export_table('table_omitted_genes', table_omitted_genes)"
   ]
  },
  {
   "cell_type": "markdown",
   "metadata": {},
   "source": [
    "# High-level information on genes"
   ]
  },
  {
   "cell_type": "code",
   "execution_count": null,
   "metadata": {},
   "outputs": [],
   "source": [
    "%%time\n",
    "\n",
    "cl = dict()\n",
    "dd = dict()\n",
    "ge = dict()\n",
    "\n",
    "\n",
    "categs = {\n",
    "    'gwas': mega.frequent_gwas,\n",
    "    'gtx': mega.gtx,\n",
    "    'lof': mega.LoF,\n",
    "    'duf': mega.DUF,\n",
    "    'extreme_swissprot': mega.extreme_swissprot,\n",
    "    'orphan_disease': mega.orphan_disease,\n",
    "    'rare_go': mega.rare_go,\n",
    "    'signal_peptide': mega.signal_peptide,\n",
    "    'rnai': mega.rnai_phenotypes,\n",
    "    'rare_compounds': mega.rare_compounds,\n",
    "    'bioplex_fame': mega.fame_in_bioplex,\n",
    "    'challenged_proteins': mega.challenged_proteins,\n",
    "    'detection_in_tissues': mega.detection_in_tissues,\n",
    "    'detection_in_cells': mega.detection_in_cells,\n",
    "    'westernblot_in_biogrid': mega.biogrid_western_blot,\n",
    "    'presence_of_homologs': mega.presence_of_homologs,\n",
    "    'fame_of_homologs': mega.fame_of_homologs,\n",
    "    'pi_transition': mega.pi_transition,\n",
    "    'supporting_nih_institutes': mega.supporting_nih_institutes,\n",
    "    'fame_rank': mega.fame_rank\n",
    "}\n",
    "\n",
    "for k, i in categs.items():\n",
    "    print(k)\n",
    "    a, b, c = i()\n",
    "    cl[k] = a\n",
    "    dd[k] = b\n",
    "    ge[k] = c"
   ]
  },
  {
   "cell_type": "code",
   "execution_count": null,
   "metadata": {},
   "outputs": [],
   "source": [
    "su = pd.concat(cl.values(), axis=1, join='outer').rename_axis('gene_ncbi')\n",
    "\n",
    "su['c_genetic_importance'] = su['extremly_LoF_intolerant'] | su['any_prominent_gwas']\n",
    "\n",
    "su['in_most_tissues_1'] = su['fraction_of_tissues_1'] > 0.5\n",
    "su['in_most_cells_1'] = su['fraction_of_cells_1'] > 0.5\n",
    "su['c_accessibility'] = su['signal_peptide'] | su['in_most_tissues_1'] | su['in_most_cells_1']\n",
    "su['change_in_gtx'] = su['gtx_fold'] >= 0\n",
    "su['c_experimental_coverage'] = su['rnai_frequent'] | su['change_in_gtx'] | su['biogrid_western_blot']\n",
    "su['easy_experimentation'] = su['c_accessibility'] | su['c_experimental_coverage']\n",
    "\n",
    "su['yeast'] = su['presence_Schizosaccharomyces pombe 972h-'] | su['presence_Saccharomyces cerevisiae S288c']\n",
    "su['worm_fly'] = su['presence_Drosophila melanogaster'] | su['presence_Caenorhabditis elegans']\n",
    "su['c_anxient'] = su['yeast'] | su['worm_fly']"
   ]
  },
  {
   "cell_type": "markdown",
   "metadata": {},
   "source": [
    "# Map coordinats of Fig1 map -overview"
   ]
  },
  {
   "cell_type": "code",
   "execution_count": null,
   "metadata": {},
   "outputs": [],
   "source": [
    "fig_one_map = pd.merge(tsne_frame.reset_index(), papers[['papers']].reset_index(), how='left')\n",
    "fig_one_map = pd.merge(fig_one_map, gene_info, how='left')\n",
    "fig_one_map = fig_one_map.sort_values('gene_ncbi')"
   ]
  },
  {
   "cell_type": "code",
   "execution_count": null,
   "metadata": {},
   "outputs": [],
   "source": [
    "fig_one_map = fig_one_map.set_index('gene_ncbi')\n",
    "\n",
    "export_table('map_coordiantes_tsne', fig_one_map)"
   ]
  },
  {
   "cell_type": "markdown",
   "metadata": {},
   "source": [
    "# curated feature sets"
   ]
  },
  {
   "cell_type": "code",
   "execution_count": null,
   "metadata": {},
   "outputs": [],
   "source": [
    "su_mini = su[['c_genetic_importance',\n",
    "                'easy_experimentation',\n",
    "                'c_anxient',]]"
   ]
  },
  {
   "cell_type": "code",
   "execution_count": null,
   "metadata": {},
   "outputs": [],
   "source": [
    "su_mini = su_mini.rename(columns={\n",
    "    'c_genetic_importance': 'strong_genetic_evidence',\n",
    "    'easy_experimentation': 'experimentally_well_accessible',\n",
    "    'c_anxient': 'invertebrate_model_organism'\n",
    "})"
   ]
  },
  {
   "cell_type": "code",
   "execution_count": null,
   "metadata": {},
   "outputs": [],
   "source": [
    "su_mini = su_mini[su_mini.index.isin(ref_genes)]"
   ]
  },
  {
   "cell_type": "code",
   "execution_count": null,
   "metadata": {},
   "outputs": [],
   "source": [
    "ex_high_level = pd.merge(gene_info,su_mini.reset_index(), how='right').set_index('gene_ncbi')\n"
   ]
  },
  {
   "cell_type": "code",
   "execution_count": null,
   "metadata": {},
   "outputs": [],
   "source": [
    "master = gene_info[gene_info['gene_ncbi'].isin(\n",
    "    su_mini[su_mini.all(axis=1)].index\n",
    ")]"
   ]
  },
  {
   "cell_type": "code",
   "execution_count": null,
   "metadata": {},
   "outputs": [],
   "source": [
    "d = df_model.apply(lambda x: 10**x)"
   ]
  },
  {
   "cell_type": "code",
   "execution_count": null,
   "metadata": {},
   "outputs": [],
   "source": [
    "d['ratio'] = np.log2(d['predicted'] / d['target'])"
   ]
  },
  {
   "cell_type": "code",
   "execution_count": null,
   "metadata": {},
   "outputs": [],
   "source": [
    "d = d.rename(columns={'ratio': 'log2_predicted_over_observed'})"
   ]
  },
  {
   "cell_type": "code",
   "execution_count": null,
   "metadata": {},
   "outputs": [],
   "source": [
    "favorable_too_little_studied = pd.merge(\n",
    "    master,\n",
    "    d[d['log2_predicted_over_observed']>0][['log2_predicted_over_observed']].reset_index(),\n",
    "    how='inner'\n",
    ").set_index('gene_ncbi')\n",
    "\n",
    "export_table('favorable_too_little_studied', favorable_too_little_studied)"
   ]
  },
  {
   "cell_type": "code",
   "execution_count": null,
   "metadata": {},
   "outputs": [],
   "source": [
    "strategic_table = pd.merge(gene_info, su_mini.reset_index()).set_index('gene_ncbi')  # to export\n",
    "\n",
    "export_table('strategic_table', strategic_table)"
   ]
  },
  {
   "cell_type": "markdown",
   "metadata": {},
   "source": [
    "# Pairwise distance"
   ]
  },
  {
   "cell_type": "code",
   "execution_count": null,
   "metadata": {},
   "outputs": [],
   "source": [
    "f = tsne_frame.index.isin(favorable_too_little_studied.index)"
   ]
  },
  {
   "cell_type": "code",
   "execution_count": null,
   "metadata": {},
   "outputs": [],
   "source": [
    "coordinates_not_favorable = tsne_frame.loc[~f, :].copy()"
   ]
  },
  {
   "cell_type": "code",
   "execution_count": null,
   "metadata": {},
   "outputs": [],
   "source": [
    "coordinates_favorable = tsne_frame.loc[f, :].copy()"
   ]
  },
  {
   "cell_type": "code",
   "execution_count": null,
   "metadata": {},
   "outputs": [],
   "source": [
    "import numpy as np\n",
    "from scipy.spatial.distance import cdist"
   ]
  },
  {
   "cell_type": "code",
   "execution_count": null,
   "metadata": {},
   "outputs": [],
   "source": [
    "others = [(x[0], x[1]) for x in zip(coordinates_favorable['x'], coordinates_favorable['y'])]"
   ]
  },
  {
   "cell_type": "code",
   "execution_count": null,
   "metadata": {},
   "outputs": [],
   "source": [
    "%%time\n",
    "for j in coordinates_not_favorable.index:\n",
    "\n",
    "    pt = np.array([[coordinates_not_favorable.loc[j, 'x'], coordinates_not_favorable.loc[j, 'y']]])\n",
    "\n",
    "    distances = cdist(pt, others)\n",
    "    c = distances.argmin()\n",
    "\n",
    "    coordinates_not_favorable.loc[\n",
    "        j, 'closest'] = coordinates_favorable.index[c].copy()"
   ]
  },
  {
   "cell_type": "code",
   "execution_count": null,
   "metadata": {},
   "outputs": [],
   "source": [
    "d = pd.merge(gene_info, coordinates_not_favorable.reset_index()).set_index('gene_ncbi')"
   ]
  },
  {
   "cell_type": "code",
   "execution_count": null,
   "metadata": {},
   "outputs": [],
   "source": [
    "d = pd.merge(\n",
    "    d.reset_index(), \n",
    "    gene_info.reset_index(),\n",
    "    how='left',\n",
    "    left_on='closest',\n",
    "    right_on='gene_ncbi',\n",
    "    suffixes=('', '_closest')\n",
    ")"
   ]
  },
  {
   "cell_type": "code",
   "execution_count": null,
   "metadata": {},
   "outputs": [],
   "source": [
    "d.columns"
   ]
  },
  {
   "cell_type": "code",
   "execution_count": null,
   "metadata": {},
   "outputs": [],
   "source": [
    "d = d[[\n",
    "    'gene_ncbi',\n",
    "    'symbol_ncbi',\n",
    "    'gene_ensembl',\n",
    "    'gene_ncbi_closest',\n",
    "    'symbol_ncbi_closest',\n",
    "    'gene_ensembl_closest'    \n",
    "]]"
   ]
  },
  {
   "cell_type": "code",
   "execution_count": null,
   "metadata": {},
   "outputs": [],
   "source": [
    "closest_promising_genes = d.set_index('gene_ncbi')\n",
    "export_table('closest_promising_genes', closest_promising_genes)"
   ]
  },
  {
   "cell_type": "code",
   "execution_count": null,
   "metadata": {},
   "outputs": [],
   "source": []
  },
  {
   "cell_type": "code",
   "execution_count": null,
   "metadata": {},
   "outputs": [],
   "source": []
  },
  {
   "cell_type": "code",
   "execution_count": null,
   "metadata": {},
   "outputs": [],
   "source": []
  },
  {
   "cell_type": "code",
   "execution_count": null,
   "metadata": {},
   "outputs": [],
   "source": []
  },
  {
   "cell_type": "code",
   "execution_count": null,
   "metadata": {},
   "outputs": [],
   "source": []
  },
  {
   "cell_type": "code",
   "execution_count": null,
   "metadata": {},
   "outputs": [],
   "source": []
  },
  {
   "cell_type": "code",
   "execution_count": null,
   "metadata": {},
   "outputs": [],
   "source": []
  },
  {
   "cell_type": "code",
   "execution_count": null,
   "metadata": {},
   "outputs": [],
   "source": []
  },
  {
   "cell_type": "code",
   "execution_count": null,
   "metadata": {},
   "outputs": [],
   "source": []
  },
  {
   "cell_type": "code",
   "execution_count": null,
   "metadata": {},
   "outputs": [],
   "source": []
  },
  {
   "cell_type": "code",
   "execution_count": null,
   "metadata": {},
   "outputs": [],
   "source": []
  },
  {
   "cell_type": "code",
   "execution_count": null,
   "metadata": {},
   "outputs": [],
   "source": []
  },
  {
   "cell_type": "code",
   "execution_count": null,
   "metadata": {},
   "outputs": [],
   "source": []
  }
 ],
 "metadata": {
  "kernelspec": {
   "display_name": "Python 3",
   "language": "python",
   "name": "python3"
  },
  "language_info": {
   "codemirror_mode": {
    "name": "ipython",
    "version": 3
   },
   "file_extension": ".py",
   "mimetype": "text/x-python",
   "name": "python",
   "nbconvert_exporter": "python",
   "pygments_lexer": "ipython3",
   "version": "3.6.5"
  }
 },
 "nbformat": 4,
 "nbformat_minor": 2
}
