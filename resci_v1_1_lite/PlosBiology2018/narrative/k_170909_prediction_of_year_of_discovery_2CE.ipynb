{
 "cells": [
  {
   "cell_type": "code",
   "execution_count": null,
   "metadata": {},
   "outputs": [],
   "source": [
    "%matplotlib inline \n",
    "%reload_ext autoreload\n",
    "%autoreload 2\n",
    "\n",
    "import matplotlib as mpl\n",
    "mpl.rcParams['pdf.fonttype'] = 42\n",
    "mpl.rcParams['font.family'] = 'Arial'\n",
    "\n",
    "\n",
    "src_dir = './../src/'\n",
    "import sys\n",
    "sys.path[0] = src_dir"
   ]
  },
  {
   "cell_type": "code",
   "execution_count": null,
   "metadata": {},
   "outputs": [],
   "source": [
    "from IPython.core.display import display, HTML\n",
    "display(HTML(\"<style>.container { width:100% !important; }</style>\"))"
   ]
  },
  {
   "cell_type": "code",
   "execution_count": null,
   "metadata": {},
   "outputs": [],
   "source": [
    "import glob\n",
    "import os\n",
    "\n",
    "import pandas as pd\n",
    "\n",
    "from scipy.stats import spearmanr\n",
    "\n",
    "import resci_inout as rinout\n",
    "import resci_tools as ret\n",
    "\n",
    "import nar170830f_predictions as forec"
   ]
  },
  {
   "cell_type": "code",
   "execution_count": null,
   "metadata": {},
   "outputs": [],
   "source": [
    "save_images = False\n",
    "save_table = True"
   ]
  },
  {
   "cell_type": "code",
   "execution_count": null,
   "metadata": {},
   "outputs": [],
   "source": [
    "model_name = 'zgbrh_p90_e300'\n",
    "path_series = rinout.get_internal_path('170904f_predict_year_of_initial_publication')\n",
    "prediction_folders = glob.glob(os.path.join(path_series, '170904_human_*'))"
   ]
  },
  {
   "cell_type": "code",
   "execution_count": null,
   "metadata": {},
   "outputs": [],
   "source": [
    "df_overview = pd.DataFrame()"
   ]
  },
  {
   "cell_type": "code",
   "execution_count": null,
   "metadata": {},
   "outputs": [],
   "source": [
    "agg = {}\n",
    "for pf in prediction_folders:\n",
    "    _, exp = os.path.split(pf)\n",
    "    p = os.path.join(path_series, exp, model_name)\n",
    "    df = forec.load_predicitions(p)\n",
    "#     df = df.rename(columns={'target': exp})\n",
    "    \n",
    "    rho =  spearmanr(df.iloc[:, 0], df.iloc[:, 1])[0]\n",
    "    df_overview.loc[exp, 'rho'] = rho\n",
    "    df_overview.loc[exp, 'path'] = p\n",
    "    agg[exp] = df"
   ]
  },
  {
   "cell_type": "code",
   "execution_count": null,
   "metadata": {},
   "outputs": [],
   "source": [
    "df_overview.sort_values(by='rho')"
   ]
  },
  {
   "cell_type": "code",
   "execution_count": null,
   "metadata": {},
   "outputs": [],
   "source": [
    "import seaborn as sns"
   ]
  },
  {
   "cell_type": "code",
   "execution_count": null,
   "metadata": {},
   "outputs": [],
   "source": [
    "def make_plot(df):\n",
    "    years_to_display = (1960, 2015)\n",
    "    sns.jointplot(\n",
    "        x='target',\n",
    "        y='predicted',\n",
    "        kind='reg',\n",
    "        data=df,\n",
    "        xlim=years_to_display,\n",
    "        ylim=years_to_display,\n",
    "        joint_kws={\n",
    "            'line_kws':{'color':'gray'},\n",
    "            'lowess': True,\n",
    "            'scatter_kws':{'s':2}},\n",
    "        stat_func=spearmanr)"
   ]
  },
  {
   "cell_type": "code",
   "execution_count": null,
   "metadata": {},
   "outputs": [],
   "source": [
    "save_images = True"
   ]
  },
  {
   "cell_type": "code",
   "execution_count": null,
   "metadata": {},
   "outputs": [],
   "source": [
    "e = '170904_human_BioExp_first_solo_year'\n",
    "make_plot(agg[e])\n",
    "\n",
    "if save_images:\n",
    "    ret.export_image('170909_prediction_of_year_of_discovery/{}.pdf'.format(e))"
   ]
  },
  {
   "cell_type": "code",
   "execution_count": null,
   "metadata": {},
   "outputs": [],
   "source": [
    "e = '170904_human_BioExp_first_year'\n",
    "make_plot(agg[e])\n",
    "\n",
    "if save_images:\n",
    "    ret.export_image('170909_prediction_of_year_of_discovery/{}.pdf'.format(e))\n",
    "    \n",
    "if save_table:\n",
    "    ret.export_full_frame('170909_prediction_of_year_of_discovery/{}_data.csv'.format(e), agg[e]) \n",
    "    "
   ]
  },
  {
   "cell_type": "code",
   "execution_count": null,
   "metadata": {},
   "outputs": [],
   "source": [
    "e = '170904_human_Yea_first_solo_year'\n",
    "make_plot(agg[e])\n",
    "\n",
    "if save_images:\n",
    "    ret.export_image('170909_prediction_of_year_of_discovery/{}.pdf'.format(e))"
   ]
  },
  {
   "cell_type": "code",
   "execution_count": null,
   "metadata": {},
   "outputs": [],
   "source": [
    "e = '170904_human_Yea_first_year'\n",
    "make_plot(agg[e])\n",
    "\n",
    "if save_images:\n",
    "    ret.export_image('170909_prediction_of_year_of_discovery/{}.pdf'.format(e))"
   ]
  },
  {
   "cell_type": "code",
   "execution_count": null,
   "metadata": {},
   "outputs": [],
   "source": [
    "e = '170904_human_BioExpYea_first_solo_year'\n",
    "make_plot(agg[e])\n",
    "\n",
    "if save_images:\n",
    "    ret.export_image('170909_prediction_of_year_of_discovery/{}.pdf'.format(e))"
   ]
  },
  {
   "cell_type": "code",
   "execution_count": null,
   "metadata": {},
   "outputs": [],
   "source": [
    "e = '170904_human_BioExpYea_first_year'\n",
    "make_plot(agg[e])\n",
    "\n",
    "if save_images:\n",
    "    ret.export_image('170909_prediction_of_year_of_discovery/{}.pdf'.format(e))\n",
    "    \n",
    "if save_table:\n",
    "    ret.export_full_frame('170909_prediction_of_year_of_discovery/{}_data.csv'.format(e), agg[e])     "
   ]
  }
 ],
 "metadata": {
  "kernelspec": {
   "display_name": "Python 3",
   "language": "python",
   "name": "python3"
  },
  "language_info": {
   "codemirror_mode": {
    "name": "ipython",
    "version": 3
   },
   "file_extension": ".py",
   "mimetype": "text/x-python",
   "name": "python",
   "nbconvert_exporter": "python",
   "pygments_lexer": "ipython3",
   "version": "3.6.5"
  }
 },
 "nbformat": 4,
 "nbformat_minor": 2
}
