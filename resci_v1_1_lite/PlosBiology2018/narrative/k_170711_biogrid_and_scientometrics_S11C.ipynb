{
 "cells": [
  {
   "cell_type": "code",
   "execution_count": null,
   "metadata": {},
   "outputs": [],
   "source": [
    "%matplotlib inline\n",
    "%load_ext autoreload\n",
    "%autoreload 2"
   ]
  },
  {
   "cell_type": "code",
   "execution_count": null,
   "metadata": {},
   "outputs": [],
   "source": [
    "import re\n",
    "import sys\n",
    "\n",
    "import numpy as np\n",
    "import pandas as pd\n",
    "import seaborn as sns\n",
    "\n",
    "from access_biology_data import meta, relations\n",
    "from access_literature_data import medline\n",
    "from access_science_shared import standardizer\n",
    "\n",
    "sys.path.append('./../src/')\n",
    "import ana170508f_human_citations as ana\n",
    "import nar170604f_occurences as nar\n",
    "\n",
    "import matplotlib.pyplot as plt\n",
    "\n",
    "import resci_tools as ret"
   ]
  },
  {
   "cell_type": "code",
   "execution_count": null,
   "metadata": {},
   "outputs": [],
   "source": [
    "taxon_id = 9606\n",
    "years_for_citation = 8\n",
    "ealiest_year = 1980\n",
    "\n",
    "save_images = True"
   ]
  },
  {
   "cell_type": "markdown",
   "metadata": {},
   "source": [
    "# Prepare datasets"
   ]
  },
  {
   "cell_type": "code",
   "execution_count": null,
   "metadata": {},
   "outputs": [],
   "source": [
    "ref_genes = standardizer.reference_genes(taxon_id, 'rpo')\n",
    "gene2pubmed = medline.gene2pubmed(taxon_id, paper_kind='research', ref_genes = ref_genes)"
   ]
  },
  {
   "cell_type": "code",
   "execution_count": null,
   "metadata": {},
   "outputs": [],
   "source": [
    "df_m = medline.select_medline_wos_records(\n",
    "    columns_sql='''\n",
    "            medline.pubmed_id,\n",
    "            medline.pubdate_year,\n",
    "            medline.amount_of_authors,\n",
    "            medline.j_name_s''',\n",
    "    years_range='all',\n",
    "    taxon_id=taxon_id,\n",
    "    kind='research',\n",
    "    unambiguous=True)\n",
    "\n",
    "df_m = df_m[df_m['amount_of_authors']>0]   # exclude consortia paper (-1)\n",
    "df_m = ana.add_citations(df_m, years_to_include=years_for_citation)\n",
    "df_m = df_m[['pubmed_id', 'pubdate_year', 'amount_of_authors', 'j_name_s', 'citations']]\n",
    "df_m = df_m[df_m['pubdate_year']>=ealiest_year]\n",
    "df_m = df_m[df_m['pubmed_id'].isin(gene2pubmed['pubmed_id'])].drop_duplicates()\n",
    "df_m = ana.add_yearly_citation_rank(df_m)"
   ]
  },
  {
   "cell_type": "code",
   "execution_count": null,
   "metadata": {},
   "outputs": [],
   "source": [
    "biogrid = relations.biogrid(taxon_id)"
   ]
  },
  {
   "cell_type": "code",
   "execution_count": null,
   "metadata": {},
   "outputs": [],
   "source": [
    "names_to_use = {\n",
    "    'Entrez Gene Interactor A': 'entrez_prey',\n",
    "    'Entrez Gene Interactor B': 'entrez_bait',\n",
    "    'Experimental System': 'system',\n",
    "    'Throughput': 'throughput',\n",
    "    'Pubmed ID': 'pubmed_id',  \n",
    "}\n",
    "biogrid = biogrid.loc[:, names_to_use.keys()]\n",
    "biogrid = biogrid.rename(columns=names_to_use)"
   ]
  },
  {
   "cell_type": "code",
   "execution_count": null,
   "metadata": {},
   "outputs": [],
   "source": [
    "f = (biogrid['entrez_prey'].isin(ref_genes)) & (biogrid['entrez_bait'].isin(ref_genes))\n",
    "biogrid = biogrid.loc[f, :]\n",
    "biogrid = biogrid.drop_duplicates()"
   ]
  },
  {
   "cell_type": "code",
   "execution_count": null,
   "metadata": {},
   "outputs": [],
   "source": [
    "c_prey_bait = biogrid[['entrez_prey', 'entrez_bait', 'pubmed_id']].groupby(\n",
    "    'pubmed_id').agg(lambda x: len(set(x))).rename(columns={'entrez_prey': 'preys', 'entrez_bait': 'baits'})"
   ]
  },
  {
   "cell_type": "code",
   "execution_count": null,
   "metadata": {},
   "outputs": [],
   "source": [
    "c_all = pd.concat(\n",
    "    [\n",
    "        biogrid[['entrez_bait', 'pubmed_id']].rename(columns={'entrez_bait':'entrez'}), \n",
    "        biogrid[['entrez_prey', 'pubmed_id']].rename(columns={'entrez_prey':'entrez'})]).groupby(\n",
    "    'pubmed_id').agg(lambda x: len(set(x))).rename(columns={'entrez': 'genes'})"
   ]
  },
  {
   "cell_type": "code",
   "execution_count": null,
   "metadata": {},
   "outputs": [],
   "source": [
    "gene_counts = pd.concat([c_prey_bait, c_all], axis=1).reset_index()"
   ]
  },
  {
   "cell_type": "code",
   "execution_count": null,
   "metadata": {},
   "outputs": [],
   "source": [
    "biogrid_plus = pd.merge(\n",
    "    biogrid[['system', 'throughput', 'pubmed_id']].drop_duplicates(),\n",
    "    gene_counts)"
   ]
  },
  {
   "cell_type": "markdown",
   "metadata": {},
   "source": [
    "# Analysis"
   ]
  },
  {
   "cell_type": "code",
   "execution_count": null,
   "metadata": {},
   "outputs": [],
   "source": [
    "d = pd.merge(df_m, biogrid_plus)"
   ]
  },
  {
   "cell_type": "code",
   "execution_count": null,
   "metadata": {},
   "outputs": [],
   "source": [
    "d['is_hitpaper'] = d['yearly_citation_rank'] >= 0.95"
   ]
  },
  {
   "cell_type": "code",
   "execution_count": null,
   "metadata": {},
   "outputs": [],
   "source": [
    "def add_gene_category(df_m):\n",
    "\n",
    "    f = df_m['genes'] == 1\n",
    "    if any(f):\n",
    "        df_m.loc[f, 'gene_category'] = '1'\n",
    "\n",
    "    f = (df_m['genes'] > 1) & (df_m['genes'] <= 10)\n",
    "    if any(f):\n",
    "        df_m.loc[f, 'gene_category'] = '2-10'\n",
    "\n",
    "    f = (df_m['genes'] > 10) & (df_m['genes'] <= 100) \n",
    "    if any(f):\n",
    "        df_m.loc[f, 'gene_category'] = '11-100'\n",
    "\n",
    "    f = (df_m['genes'] > 100) & (df_m['genes'] <= 1000) \n",
    "    if any(f):\n",
    "        df_m.loc[f, 'gene_category'] = '101-1000'\n",
    "\n",
    "    f = (df_m['genes'] > 1000) \n",
    "    if any(f):\n",
    "        df_m.loc[f, 'gene_category'] = '1001+'\n",
    "\n",
    "    return df_m"
   ]
  },
  {
   "cell_type": "code",
   "execution_count": null,
   "metadata": {},
   "outputs": [],
   "source": [
    "d = add_gene_category(d)"
   ]
  },
  {
   "cell_type": "code",
   "execution_count": null,
   "metadata": {},
   "outputs": [],
   "source": [
    "sns.barplot(x='gene_category', y='is_hitpaper', data=d, order=[\n",
    "        '1',\n",
    "        '2-10',\n",
    "        '11-100',\n",
    "        '101-1000',\n",
    "        '1001+'], color='darkorange')\n",
    "\n",
    "if save_images:\n",
    "    ret.export_image(\n",
    "    '170711_biogrid_and_scientometrics/biogrid_fraction_high_impact.pdf'.format(\n",
    "        taxon_id))"
   ]
  },
  {
   "cell_type": "code",
   "execution_count": null,
   "metadata": {},
   "outputs": [],
   "source": [
    "sns.barplot(x='gene_category', y='is_hitpaper', data=d, order=[\n",
    "        '1',\n",
    "        '2-10',\n",
    "        '11-100',\n",
    "        '101-1000',\n",
    "        '1001+'], hue='throughput')"
   ]
  }
 ],
 "metadata": {
  "kernelspec": {
   "display_name": "Python 3",
   "language": "python",
   "name": "python3"
  },
  "language_info": {
   "codemirror_mode": {
    "name": "ipython",
    "version": 3
   },
   "file_extension": ".py",
   "mimetype": "text/x-python",
   "name": "python",
   "nbconvert_exporter": "python",
   "pygments_lexer": "ipython3",
   "version": "3.6.5"
  }
 },
 "nbformat": 4,
 "nbformat_minor": 2
}
