{
 "cells": [
  {
   "cell_type": "code",
   "execution_count": null,
   "metadata": {},
   "outputs": [],
   "source": [
    "%matplotlib inline  \n",
    "%reload_ext autoreload\n",
    "%autoreload 2\n",
    "\n",
    "import matplotlib as mpl\n",
    "mpl.rcParams['pdf.fonttype'] = 42\n",
    "mpl.rcParams['font.family'] = 'Arial'\n",
    "\n",
    "import numpy as np\n",
    "import pandas as pd\n",
    "# import seaborn as sns\n",
    "\n",
    "from access_literature_data import medline\n",
    "from access_science_shared import standardizer\n",
    "\n",
    "import matplotlib.pyplot as plt\n",
    "\n"
   ]
  },
  {
   "cell_type": "code",
   "execution_count": null,
   "metadata": {},
   "outputs": [],
   "source": [
    "import sys\n",
    "sys.path.append('./../src/')\n",
    "import nar170604f_occurences as nar\n",
    "import resci_tools as ret"
   ]
  },
  {
   "cell_type": "code",
   "execution_count": null,
   "metadata": {},
   "outputs": [],
   "source": [
    "save_images = False\n",
    "save_tables = True"
   ]
  },
  {
   "cell_type": "code",
   "execution_count": null,
   "metadata": {},
   "outputs": [],
   "source": [
    "taxon_id = 9606\n",
    "\n",
    "ref_genes = standardizer.reference_genes(taxon_id, 'orp')  # offical nomenclature, liteature, protein-coding\n",
    "ref_gene2pubmed = medline.gene2pubmed(taxon_id, ['pubmed_id', 'gene_ncbi'], paper_kind='research')\n",
    "papers = nar.count_papers_and_attention(ref_genes, ref_gene2pubmed)"
   ]
  },
  {
   "cell_type": "code",
   "execution_count": null,
   "metadata": {},
   "outputs": [],
   "source": [
    "# all_gene2pubmed = medline.gene2pubmed('all')\n",
    "# genes_per_paper = all_gene2pubmed['pubmed_id'].value_counts()"
   ]
  },
  {
   "cell_type": "code",
   "execution_count": null,
   "metadata": {},
   "outputs": [],
   "source": [
    "genes_per_paper = ref_gene2pubmed['pubmed_id'].value_counts()"
   ]
  },
  {
   "cell_type": "code",
   "execution_count": null,
   "metadata": {},
   "outputs": [],
   "source": [
    "gene2pubmed = pd.merge(\n",
    "    ref_gene2pubmed,\n",
    "    genes_per_paper.to_frame('genes_per_paper'),\n",
    "    left_on='pubmed_id',\n",
    "    right_index=True, how='left')"
   ]
  },
  {
   "cell_type": "code",
   "execution_count": null,
   "metadata": {},
   "outputs": [],
   "source": [
    "master = pd.merge(\n",
    "    gene2pubmed[['gene_ncbi', 'genes_per_paper']].groupby('gene_ncbi').agg(np.median).reset_index(), \n",
    "    papers.reset_index())"
   ]
  },
  {
   "cell_type": "code",
   "execution_count": null,
   "metadata": {},
   "outputs": [],
   "source": [
    "data=master.apply(lambda x: np.log10(x))[['papers', 'genes_per_paper']].values"
   ]
  },
  {
   "cell_type": "code",
   "execution_count": null,
   "metadata": {},
   "outputs": [],
   "source": [
    "import numpy as np\n",
    "import matplotlib.pyplot as pl\n",
    "import scipy.stats as st\n",
    "\n",
    "x = data[:, 0]\n",
    "y = data[:, 1]\n",
    "xmin, xmax = -0, 3\n",
    "ymin, ymax = -0.4, 4.5\n",
    "\n",
    "# Peform the kernel density estimate\n",
    "xx, yy = np.mgrid[xmin:xmax:100j, ymin:ymax:100j]\n",
    "positions = np.vstack([xx.ravel(), yy.ravel()])\n",
    "values = np.vstack([x, y])\n",
    "kernel = st.gaussian_kde(values)\n",
    "f = np.reshape(kernel(positions).T, xx.shape)\n",
    "\n",
    "fig = pl.figure()\n",
    "ax = fig.gca()\n",
    "ax.set_xlim(xmin, xmax)\n",
    "ax.set_ylim(ymin, ymax)\n",
    "# Contourf plot\n",
    "cfset = ax.contourf(xx, yy, f, cmap='Purples')\n",
    "## Or kernel density estimate plot instead of the contourf plot\n",
    "#ax.imshow(np.rot90(f), cmap='Blues', extent=[xmin, xmax, ymin, ymax])\n",
    "# Contour plot\n",
    "cset = ax.contour(xx, yy, f, colors='k')\n",
    "# Label plot\n",
    "# ax.clabel(cset, inline=1, fontsize=10)\n",
    "# ax.set_xlabel('Y1')\n",
    "# ax.set_ylabel('Y0')\n",
    "\n",
    "pl.colorbar(cfset)\n",
    "\n",
    "\n",
    "if save_images:\n",
    "    ret.export_image('171102_genes_in_paper_for_different_genes/genes_in_publication.pdf')\n",
    "    \n",
    "pl.show()\n",
    "\n"
   ]
  },
  {
   "cell_type": "code",
   "execution_count": null,
   "metadata": {},
   "outputs": [],
   "source": [
    "out = master[['gene_ncbi', 'papers', 'genes_per_paper']]\n",
    "if save_tables:\n",
    "    ret.export_full_frame(\n",
    "        '171102_genes_in_paper_for_different_genes/data.csv',\n",
    "        out,\n",
    "        save_index=False       \n",
    "    )"
   ]
  },
  {
   "cell_type": "code",
   "execution_count": null,
   "metadata": {},
   "outputs": [],
   "source": [
    "import numpy as np\n",
    "import matplotlib.pyplot as pl\n",
    "import scipy.stats as st\n",
    "\n",
    "x = data[:, 0]\n",
    "y = data[:, 1]\n",
    "xmin, xmax = -0, 3\n",
    "ymin, ymax = -0.4, 4.5\n",
    "\n",
    "# Peform the kernel density estimate\n",
    "xx, yy = np.mgrid[xmin:xmax:100j, ymin:ymax:100j]\n",
    "positions = np.vstack([xx.ravel(), yy.ravel()])\n",
    "values = np.vstack([x, y])\n",
    "kernel = st.gaussian_kde(values)\n",
    "f = np.reshape(kernel(positions).T, xx.shape)\n",
    "\n",
    "fig = pl.figure()\n",
    "ax = fig.gca()\n",
    "ax.set_xlim(xmin, xmax)\n",
    "ax.set_ylim(ymin, ymax)\n",
    "# Contourf plot\n",
    "cfset = ax.contourf(xx, yy, f, cmap='Purples')\n",
    "## Or kernel density estimate plot instead of the contourf plot\n",
    "#ax.imshow(np.rot90(f), cmap='Blues', extent=[xmin, xmax, ymin, ymax])\n",
    "# Contour plot\n",
    "cset = ax.contour(xx, yy, f, colors='k')\n",
    "# Label plot\n",
    "ax.clabel(cset, inline=1, fontsize=10)\n",
    "ax.set_xlabel('Y1')\n",
    "ax.set_ylabel('Y0')\n",
    "\n",
    "pl.colorbar(cfset)\n",
    "\n",
    "if save_images:\n",
    "    ret.export_image('171102_genes_in_paper_for_different_genes/genes_in_publication_labelled_contour.pdf')\n",
    "    \n",
    "pl.show()"
   ]
  },
  {
   "cell_type": "code",
   "execution_count": null,
   "metadata": {},
   "outputs": [],
   "source": [
    "values"
   ]
  },
  {
   "cell_type": "code",
   "execution_count": null,
   "metadata": {},
   "outputs": [],
   "source": []
  },
  {
   "cell_type": "code",
   "execution_count": null,
   "metadata": {},
   "outputs": [],
   "source": []
  },
  {
   "cell_type": "code",
   "execution_count": null,
   "metadata": {},
   "outputs": [],
   "source": []
  },
  {
   "cell_type": "code",
   "execution_count": null,
   "metadata": {},
   "outputs": [],
   "source": []
  }
 ],
 "metadata": {
  "kernelspec": {
   "display_name": "Python 3",
   "language": "python",
   "name": "python3"
  },
  "language_info": {
   "codemirror_mode": {
    "name": "ipython",
    "version": 3
   },
   "file_extension": ".py",
   "mimetype": "text/x-python",
   "name": "python",
   "nbconvert_exporter": "python",
   "pygments_lexer": "ipython3",
   "version": "3.6.5"
  }
 },
 "nbformat": 4,
 "nbformat_minor": 2
}
