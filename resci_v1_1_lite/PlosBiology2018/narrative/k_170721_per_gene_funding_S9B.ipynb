{
 "cells": [
  {
   "cell_type": "code",
   "execution_count": null,
   "metadata": {},
   "outputs": [],
   "source": [
    "%matplotlib inline\n",
    "%load_ext autoreload\n",
    "%autoreload 2"
   ]
  },
  {
   "cell_type": "code",
   "execution_count": null,
   "metadata": {},
   "outputs": [],
   "source": [
    "import sys\n",
    "\n",
    "import numpy as np\n",
    "import pandas as pd\n",
    "import seaborn as sns\n",
    "\n",
    "import matplotlib.pyplot as plt\n",
    "\n",
    "from scipy.stats import spearmanr\n",
    "\n",
    "\n",
    "from access_economic_data import nih\n",
    "from access_literature_data import medline, wos\n",
    "from access_science_shared import standardizer"
   ]
  },
  {
   "cell_type": "code",
   "execution_count": null,
   "metadata": {},
   "outputs": [],
   "source": [
    "sys.path.append('./../src/')\n",
    "import nar170605f_funding as nar_funding\n",
    "import nar170604f_occurences as nar_attention\n",
    "\n",
    "import ana170508f_human_citations as ana"
   ]
  },
  {
   "cell_type": "code",
   "execution_count": null,
   "metadata": {},
   "outputs": [],
   "source": [
    "import matplotlib.pyplot as plt\n",
    "import resci_tools as ret"
   ]
  },
  {
   "cell_type": "code",
   "execution_count": null,
   "metadata": {},
   "outputs": [],
   "source": [
    "taxon_id = 9606"
   ]
  },
  {
   "cell_type": "code",
   "execution_count": null,
   "metadata": {},
   "outputs": [],
   "source": [
    "sns.set(font_scale=1)   # placing it to 2 seems to lead to deceiving helper lines"
   ]
  },
  {
   "cell_type": "code",
   "execution_count": null,
   "metadata": {},
   "outputs": [],
   "source": [
    "save_images = False\n",
    "save_table = True"
   ]
  },
  {
   "cell_type": "markdown",
   "metadata": {},
   "source": [
    "# Load datasets"
   ]
  },
  {
   "cell_type": "code",
   "execution_count": null,
   "metadata": {},
   "outputs": [],
   "source": [
    "def get_funding_info(earliest_year, latest_year):\n",
    "\n",
    "    ### INITIALIZATION ###\n",
    "\n",
    "    # MedLine\n",
    "    ref_genes = standardizer.reference_genes(taxon_id, 'rpo')\n",
    "    gene2pubmed = medline.gene2pubmed(taxon_id, paper_kind='research', ref_genes = ref_genes)\n",
    "\n",
    "    df_m = medline.select_medline_wos_records(\n",
    "        columns_sql='''\n",
    "                medline.pubmed_id,\n",
    "                medline.pubdate_year,\n",
    "                medline.amount_of_authors,\n",
    "                medline.j_name_s''',\n",
    "        years_range='all',\n",
    "        taxon_id=taxon_id,\n",
    "        kind='research',\n",
    "        unambiguous=True)\n",
    "\n",
    "    df_m = df_m[df_m['amount_of_authors']>0]   # exclude consortia paper (-1)\n",
    "    df_m = df_m[['pubmed_id', 'pubdate_year', 'amount_of_authors', 'j_name_s']]\n",
    "\n",
    "    df_m = df_m[df_m['pubdate_year']>=earliest_year]\n",
    "    df_m = df_m[df_m['pubdate_year']<=latest_year]\n",
    "\n",
    "    _pubmed_articles_in_medline_time_span = set(df_m['pubmed_id'])   #  <========== use later for filtering all!!!!\n",
    "\n",
    "    # NIH Exporter\n",
    "    df_prj_core, df_prj_budget, df_nih_papers = nar_funding.get_paper_funding_through_nih()\n",
    "    df_nih_papers = df_nih_papers.loc[:, ['project_num', 'pubmed_id']]  # skip publication year\n",
    "\n",
    "    df_prj_core = df_prj_core[df_prj_core['FY']>=earliest_year]\n",
    "    df_prj_core = df_prj_core[df_prj_core['FY']<=latest_year]\n",
    "\n",
    "    df_prj_budget = df_prj_budget.loc[:, [ 'project_num', 'budget']]   # skip fiscal year\n",
    "    df_prj_budget = df_prj_budget.groupby('project_num').agg(sum)\n",
    "    df_prj_budget = df_prj_budget.reset_index()\n",
    "\n",
    "    ### Estimations of costs for non-covered papers ###\n",
    "\n",
    "    papers_in_nih = len(set(df_nih_papers['pubmed_id']).intersection(set(df_m['pubmed_id'])))\n",
    "    papers_in_medline = len(set(df_m['pubmed_id']))\n",
    "    multiplier_nih2medline = papers_in_medline / papers_in_nih\n",
    "    print('Multiplier:', multiplier_nih2medline)\n",
    "\n",
    "    ### Synchronization ###\n",
    "\n",
    "    # PubMed\n",
    "    lis = [set(df_nih_papers['pubmed_id']), set(df_m['pubmed_id']), set(gene2pubmed['pubmed_id'])]\n",
    "    pubmed_in_all = set.intersection(*lis)\n",
    "    print('Amount of MedLine articles:', len(pubmed_in_all))\n",
    "\n",
    "    gene2pubmed = gene2pubmed[gene2pubmed['pubmed_id'].isin(pubmed_in_all)]\n",
    "    df_m = df_m[df_m['pubmed_id'].isin(pubmed_in_all)]\n",
    "    df_nih_papers = df_nih_papers[df_nih_papers['pubmed_id'].isin(pubmed_in_all)]\n",
    "\n",
    "    # Projects\n",
    "    lis = [set(df_prj_core['project_num']), set(df_prj_budget['project_num']), set(df_nih_papers['project_num'])]\n",
    "    project_in_all = set.intersection(*lis)\n",
    "\n",
    "    df_prj_core = df_prj_core[df_prj_core['project_num'].isin(project_in_all)]\n",
    "    df_prj_budget = df_prj_budget[df_prj_budget['project_num'].isin(project_in_all)]\n",
    "    df_nih_papers = df_nih_papers[df_nih_papers['project_num'].isin(project_in_all)]\n",
    "\n",
    "    ### Resources per paper per gene\n",
    "\n",
    "    # amount of publications per project\n",
    "    papers_per_project = df_nih_papers['project_num'].value_counts()\n",
    "    # overall budget per project\n",
    "    budget_per_project = df_prj_budget.set_index('project_num')['budget']\n",
    "    # budget per paper for each project\n",
    "    budget_per_paper_per_project = budget_per_project.div(papers_per_project).to_frame(\n",
    "        'budget_per_paper_per_project').reset_index().rename(columns={'index': 'project_num'})\n",
    "\n",
    "    budget_per_pubmed_id = pd.merge(budget_per_paper_per_project, df_nih_papers)[\n",
    "        ['pubmed_id', 'budget_per_paper_per_project']].groupby('pubmed_id').agg(sum).reset_index()\n",
    "\n",
    "    attention_per_paper = (1 / gene2pubmed['pubmed_id'].value_counts()).to_frame('attention_per_gene').reset_index()\n",
    "    attention_per_paper = attention_per_paper.rename(columns={'index': 'pubmed_id'})\n",
    "\n",
    "    gene2pubmed_plus = pd.merge(gene2pubmed, budget_per_pubmed_id)\n",
    "    gene2pubmed_plus = pd.merge(gene2pubmed_plus, attention_per_paper)\n",
    "    gene2pubmed_plus = gene2pubmed_plus.rename(\n",
    "        columns={'budget_per_paper_per_project': 'budget_for_paper', 'attention_per_gene': 'attention'})\n",
    "    gene2pubmed_plus.loc[:, 'papers'] = 1\n",
    "\n",
    "\n",
    "    gene2pubmed_plus['budget_for_attention'] = gene2pubmed_plus['attention'] * gene2pubmed_plus['budget_for_paper']\n",
    "\n",
    "    master = gene2pubmed_plus[\n",
    "        ['gene_ncbi', 'budget_for_attention', 'attention', 'papers', 'budget_for_paper']].groupby('gene_ncbi').agg(sum)\n",
    "\n",
    "    master['budget_by_attention'] = master['budget_for_attention'] / master['attention']\n",
    "    master['budget_by_papers'] = master['budget_for_paper'] / master['papers']\n",
    "\n",
    "    gene2pubmed_full = medline.gene2pubmed(taxon_id, paper_kind='research', ref_genes = ref_genes)\n",
    "    gene2pubmed_full = gene2pubmed_full[gene2pubmed_full['pubmed_id'].isin(_pubmed_articles_in_medline_time_span)]\n",
    "\n",
    "    fame_full = nar_attention.count_papers_and_attention(ref_genes, gene2pubmed_full)\n",
    "\n",
    "    n = fame_full.columns\n",
    "    fame_full.columns = ['full_' + x for x in fame_full.columns]\n",
    "    master = pd.merge(master.reset_index(), fame_full.reset_index())\n",
    "\n",
    "    nih_publnk = nih.publnk().drop_duplicates()\n",
    "    gene2pubmed_all_nih = gene2pubmed_full[gene2pubmed_full['pubmed_id'].isin(nih_publnk['pubmed_id'])]\n",
    "\n",
    "    fame_all_nih = nar_attention.count_papers_and_attention(ref_genes, gene2pubmed_all_nih)\n",
    "    n = fame_all_nih.columns\n",
    "    fame_all_nih.columns = ['all_nih_' + x for x in fame_all_nih.columns]\n",
    "    master = pd.merge(master, fame_all_nih.reset_index())\n",
    "\n",
    "    for x in n:\n",
    "        master.loc[:, 'non_nih_' + x] = master.loc[:, 'full_' + x] - master.loc[:, 'all_nih_' + x]\n",
    "\n",
    "    master = master.set_index('gene_ncbi')\n",
    "\n",
    "    return master"
   ]
  },
  {
   "cell_type": "code",
   "execution_count": null,
   "metadata": {},
   "outputs": [],
   "source": [
    "earliest_year = 1985  # time span of analysis \n",
    "latest_year = 2015\n",
    "\n",
    "m_full = get_funding_info(earliest_year, latest_year)"
   ]
  },
  {
   "cell_type": "code",
   "execution_count": null,
   "metadata": {},
   "outputs": [],
   "source": [
    "from IPython.core.display import display, HTML\n",
    "display(HTML(\"<style>.container { width:100% !important; }</style>\"))"
   ]
  },
  {
   "cell_type": "code",
   "execution_count": null,
   "metadata": {},
   "outputs": [],
   "source": [
    "m_full.corr('spearman')"
   ]
  },
  {
   "cell_type": "code",
   "execution_count": null,
   "metadata": {},
   "outputs": [],
   "source": [
    "g = sns.clustermap(m_full.corr('spearman'), method='ward', annot=False, vmin=-1, vmax=1)\n",
    "plt.setp(g.ax_heatmap.get_yticklabels(), rotation=0)\n",
    "\n",
    "if save_images:\n",
    "    ret.export_image('170721_per_gene_funding/clustergram_budgeting_and_fame.pdf')"
   ]
  },
  {
   "cell_type": "markdown",
   "metadata": {},
   "source": [
    "Description:\n",
    "- full_ --> MedLine\n",
    "- all_nih --> every NIH paper, also includes papers which are only linked to general institute, but not specific project / budget\n",
    "- non_nih_papes --> in full_ but not all_nih\n",
    "- (nothing) -> project-linkable nih publications\n",
    "- budget_for -> total\n",
    "- budget_by -> yield\n",
    "\n",
    "(all within defiend "
   ]
  },
  {
   "cell_type": "code",
   "execution_count": null,
   "metadata": {},
   "outputs": [],
   "source": [
    "to_plot = m_full.loc[:,['attention', 'budget_for_attention']].apply(lambda x: np.log10(x))\n",
    "\n",
    "sns.jointplot(to_plot['budget_for_attention'], to_plot['attention'], joint_kws={'s':1}, stat_func=spearmanr)\n",
    "\n",
    "if save_images:\n",
    "    ret.export_image('170721_per_gene_funding/budget_vs_nih_attention.pdf')"
   ]
  },
  {
   "cell_type": "code",
   "execution_count": null,
   "metadata": {},
   "outputs": [],
   "source": [
    "m_full.loc[:,['non_nih_attention', 'attention']].min()"
   ]
  },
  {
   "cell_type": "code",
   "execution_count": null,
   "metadata": {},
   "outputs": [],
   "source": [
    "if save_table:\n",
    "    ret.export_full_frame(\n",
    "        '170721_per_gene_funding/budget_vs_nih_attention_data.csv',\n",
    "        to_plot[['budget_for_attention', 'attention']],\n",
    "        save_index=True\n",
    "    )"
   ]
  },
  {
   "cell_type": "code",
   "execution_count": null,
   "metadata": {},
   "outputs": [],
   "source": [
    "to_plot = m_full.loc[:,['non_nih_attention', 'attention']].replace(0,0.00001).apply(lambda x: np.log10(x))\n",
    "\n",
    "sns.jointplot(to_plot['non_nih_attention'], to_plot['attention'], joint_kws={'s':1}, stat_func=spearmanr)\n",
    "\n",
    "if save_images:\n",
    "    ret.export_image('170721_per_gene_funding/attention_nih_vs_not_nih_replace0to-5.pdf')"
   ]
  },
  {
   "cell_type": "code",
   "execution_count": null,
   "metadata": {},
   "outputs": [],
   "source": []
  }
 ],
 "metadata": {
  "kernelspec": {
   "display_name": "Python 3",
   "language": "python",
   "name": "python3"
  },
  "language_info": {
   "codemirror_mode": {
    "name": "ipython",
    "version": 3
   },
   "file_extension": ".py",
   "mimetype": "text/x-python",
   "name": "python",
   "nbconvert_exporter": "python",
   "pygments_lexer": "ipython3",
   "version": "3.6.5"
  }
 },
 "nbformat": 4,
 "nbformat_minor": 2
}
