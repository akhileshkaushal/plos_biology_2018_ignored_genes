{
 "cells": [
  {
   "cell_type": "code",
   "execution_count": null,
   "metadata": {},
   "outputs": [],
   "source": [
    "%load_ext autoreload\n",
    "%autoreload 2"
   ]
  },
  {
   "cell_type": "code",
   "execution_count": null,
   "metadata": {},
   "outputs": [],
   "source": [
    "%matplotlib inline"
   ]
  },
  {
   "cell_type": "code",
   "execution_count": null,
   "metadata": {},
   "outputs": [],
   "source": [
    "import matplotlib as mpl\n",
    "mpl.rcParams['pdf.fonttype'] = 42\n",
    "mpl.rcParams['font.family'] = 'Arial'"
   ]
  },
  {
   "cell_type": "code",
   "execution_count": null,
   "metadata": {},
   "outputs": [],
   "source": [
    "from IPython.core.display import display, HTML\n",
    "display(HTML(\"<style>.container { width:80% !important; }</style>\"))"
   ]
  },
  {
   "cell_type": "code",
   "execution_count": null,
   "metadata": {},
   "outputs": [],
   "source": [
    "import glob\n",
    "import os\n",
    "\n",
    "import numpy as np\n",
    "import pandas as pd\n",
    "import seaborn as sns\n",
    "\n",
    "import matplotlib.pyplot as plt"
   ]
  },
  {
   "cell_type": "code",
   "execution_count": null,
   "metadata": {},
   "outputs": [],
   "source": [
    "from access_biology_data import annotation, gwas_studies, meta, phenotype_collections, properties, relations\n",
    "from access_literature_data import medline\n",
    "from access_mixed_data import genealacart\n",
    "from access_science_shared import standardizer, utils"
   ]
  },
  {
   "cell_type": "code",
   "execution_count": null,
   "metadata": {},
   "outputs": [],
   "source": [
    "import sys\n",
    "sys.path.append('./../src/')\n",
    "\n",
    "import nar170604f_occurences as nar_attention\n",
    "import nar170830f_predictions as forec\n",
    "import resci_inout as rinout\n",
    "import resci_tools as ret\n",
    "\n",
    "import nar180310_mega_integrator as mega"
   ]
  },
  {
   "cell_type": "code",
   "execution_count": null,
   "metadata": {},
   "outputs": [],
   "source": [
    "save_images = False\n",
    "save_tables = True"
   ]
  },
  {
   "cell_type": "code",
   "execution_count": null,
   "metadata": {},
   "outputs": [],
   "source": [
    "tr=6"
   ]
  },
  {
   "cell_type": "code",
   "execution_count": null,
   "metadata": {},
   "outputs": [],
   "source": [
    "taxon_id = 9606"
   ]
  },
  {
   "cell_type": "code",
   "execution_count": null,
   "metadata": {},
   "outputs": [],
   "source": [
    "save_images = True"
   ]
  },
  {
   "cell_type": "code",
   "execution_count": null,
   "metadata": {},
   "outputs": [],
   "source": [
    "ref_genes = standardizer.reference_genes(9606, 'orp')"
   ]
  },
  {
   "cell_type": "code",
   "execution_count": null,
   "metadata": {},
   "outputs": [],
   "source": [
    "tsne_frame = mega.load_layout(rotation_degrees=45)"
   ]
  },
  {
   "cell_type": "code",
   "execution_count": null,
   "metadata": {},
   "outputs": [],
   "source": [
    "import nar170605f_funding as nih"
   ]
  },
  {
   "cell_type": "code",
   "execution_count": null,
   "metadata": {},
   "outputs": [],
   "source": [
    "biogrid = relations.biogrid(9606)"
   ]
  },
  {
   "cell_type": "code",
   "execution_count": null,
   "metadata": {},
   "outputs": [],
   "source": [
    "biogrid = biogrid[biogrid['Throughput']=='High Throughput']"
   ]
  },
  {
   "cell_type": "code",
   "execution_count": null,
   "metadata": {},
   "outputs": [],
   "source": [
    "c = pd.concat(\n",
    "    [\n",
    "     #   biogrid['Entrez Gene Interactor A'].value_counts(),\n",
    "        biogrid['Entrez Gene Interactor B'].value_counts()\n",
    "    ], axis=1\n",
    ").fillna(0).sum(axis=1).reindex(ref_genes).fillna(0).to_frame('occurence')\n",
    "c.index.name='gene_ncbi'"
   ]
  },
  {
   "cell_type": "code",
   "execution_count": null,
   "metadata": {},
   "outputs": [],
   "source": [
    "c['enrichment'] = np.log2(c['occurence'] / c['occurence'].mean())"
   ]
  },
  {
   "cell_type": "code",
   "execution_count": null,
   "metadata": {},
   "outputs": [],
   "source": [
    "c_biogrid = c"
   ]
  },
  {
   "cell_type": "code",
   "execution_count": null,
   "metadata": {},
   "outputs": [],
   "source": [
    "a = mega.gtx()"
   ]
  },
  {
   "cell_type": "code",
   "execution_count": null,
   "metadata": {},
   "outputs": [],
   "source": [
    "c_gtx = a[0][['gtx_fraction']]"
   ]
  },
  {
   "cell_type": "code",
   "execution_count": null,
   "metadata": {},
   "outputs": [],
   "source": [
    "c_gtx['enrichment'] = np.log2(c_gtx['gtx_fraction'] / c_gtx['gtx_fraction'].mean())"
   ]
  },
  {
   "cell_type": "code",
   "execution_count": null,
   "metadata": {},
   "outputs": [],
   "source": [
    "c_gtx = c_gtx.reindex(ref_genes).fillna(-tr)"
   ]
  },
  {
   "cell_type": "code",
   "execution_count": null,
   "metadata": {},
   "outputs": [],
   "source": [
    "a = mega.rnai_phenotypes()"
   ]
  },
  {
   "cell_type": "code",
   "execution_count": null,
   "metadata": {},
   "outputs": [],
   "source": [
    "he = phenotype_collections.genome_rnai(taxon_id=9606)\n",
    "f = he['phenotype'].str.contains('shRNA abundance')\n",
    "he = he[~he['pubmed_id'].isin(he.loc[f, 'pubmed_id'])].copy()\n",
    "\n",
    "he = he[~he['gene_ncbi'].str.contains(',')]\n",
    "he = he[he['gene_ncbi'] != '']\n",
    "he['gene_ncbi'] = he['gene_ncbi'].astype(float)\n",
    "\n",
    "he = he[he['gene_ncbi'].isin(ref_genes)]\n",
    "\n",
    "he = he.copy()\n",
    "\n",
    "he.loc[:, 'has_phenotype'] = he.loc[:, 'phenotype'] != 'none'\n",
    "\n",
    "g = he[['gene_ncbi', 'has_phenotype']].groupby(['gene_ncbi'])\n",
    "\n",
    "d = pd.concat([\n",
    "    g.agg(np.mean),\n",
    "    g.size().rename('studies')\n",
    "], axis=1).reset_index()"
   ]
  },
  {
   "cell_type": "code",
   "execution_count": null,
   "metadata": {},
   "outputs": [],
   "source": [
    "c_rnai = d[['gene_ncbi', 'has_phenotype']].set_index('gene_ncbi')   #.reindex(ref_genes).fillna(0)"
   ]
  },
  {
   "cell_type": "code",
   "execution_count": null,
   "metadata": {},
   "outputs": [],
   "source": [
    "c_rnai['enrichment'] = np.log2(c_rnai['has_phenotype'] / c_rnai['has_phenotype'].mean())"
   ]
  },
  {
   "cell_type": "code",
   "execution_count": null,
   "metadata": {},
   "outputs": [],
   "source": [
    "c_rnai = c_rnai.reindex(ref_genes).fillna(-tr)"
   ]
  },
  {
   "cell_type": "code",
   "execution_count": null,
   "metadata": {},
   "outputs": [],
   "source": [
    "jo = pd.concat([\n",
    "    c_biogrid[['enrichment']].rename(columns={'enrichment': 'biogrid'}),\n",
    "    c_gtx[['enrichment']].rename(columns={'enrichment': 'gtx'}),\n",
    "    c_rnai[['enrichment']].rename(columns={'enrichment': 'rnai'})\n",
    "], axis=1\n",
    "\n",
    "\n",
    ")"
   ]
  },
  {
   "cell_type": "code",
   "execution_count": null,
   "metadata": {},
   "outputs": [],
   "source": [
    "def export(file_base):\n",
    "    p = '180421_explore_experimental_platforms/{}'.format(file_base)\n",
    "\n",
    "    ret.export_raster_image(p + '.png', dpi=300, insert_date_time=False)\n",
    "    ret.export_image(p + '.pdf', insert_date_time=False)\n",
    "\n",
    "\n"
   ]
  },
  {
   "cell_type": "code",
   "execution_count": null,
   "metadata": {},
   "outputs": [],
   "source": [
    "def methods_enrichment(kind):\n",
    "    \n",
    "    to_plot = pd.merge(tsne_frame.reset_index(), jo[[kind]].reset_index())\n",
    "\n",
    "    to_plot = to_plot.sample(frac=1, replace=False, random_state=1)\n",
    "\n",
    "    entry_to_display = kind\n",
    "\n",
    "    f = to_plot[entry_to_display] < -tr\n",
    "    to_plot.loc[f, entry_to_display] = -tr\n",
    "\n",
    "    f = to_plot[entry_to_display] > tr\n",
    "    to_plot.loc[f, entry_to_display] = tr    \n",
    "\n",
    "    plt.figure()\n",
    "    plt.scatter(\n",
    "        x=to_plot.loc[:, 'x'],\n",
    "        y=to_plot.loc[:, 'y'],\n",
    "        s=3,\n",
    "        c=to_plot.loc[:, entry_to_display],\n",
    "        cmap='coolwarm',\n",
    "        vmin=-tr,\n",
    "        vmax=tr\n",
    "    )  # \n",
    "\n",
    "    plt.colorbar()\n",
    "    plt.title(entry_to_display)\n",
    "    \n",
    "    if save_images:\n",
    "        export(kind)"
   ]
  },
  {
   "cell_type": "code",
   "execution_count": null,
   "metadata": {},
   "outputs": [],
   "source": [
    "methods_enrichment('rnai')"
   ]
  },
  {
   "cell_type": "code",
   "execution_count": null,
   "metadata": {},
   "outputs": [],
   "source": [
    "methods_enrichment('gtx')"
   ]
  },
  {
   "cell_type": "code",
   "execution_count": null,
   "metadata": {},
   "outputs": [],
   "source": [
    "methods_enrichment('biogrid')"
   ]
  },
  {
   "cell_type": "code",
   "execution_count": null,
   "metadata": {},
   "outputs": [],
   "source": [
    "if save_tables:\n",
    "\n",
    "    p = '180421_explore_experimental_platforms/biogrid_data.csv'\n",
    "    ret.export_full_frame(p, c_biogrid)\n",
    "    \n",
    "    \n",
    "    p = '180421_explore_experimental_platforms/rnai_data.csv'\n",
    "    ret.export_full_frame(p, c_rnai)\n",
    "                          \n",
    "    p = '180421_explore_experimental_platforms/gxa_data.csv'\n",
    "    ret.export_full_frame(p, c_gtx)"
   ]
  },
  {
   "cell_type": "code",
   "execution_count": null,
   "metadata": {},
   "outputs": [],
   "source": []
  },
  {
   "cell_type": "code",
   "execution_count": null,
   "metadata": {},
   "outputs": [],
   "source": []
  },
  {
   "cell_type": "code",
   "execution_count": null,
   "metadata": {},
   "outputs": [],
   "source": []
  },
  {
   "cell_type": "code",
   "execution_count": null,
   "metadata": {},
   "outputs": [],
   "source": []
  },
  {
   "cell_type": "code",
   "execution_count": null,
   "metadata": {},
   "outputs": [],
   "source": []
  },
  {
   "cell_type": "code",
   "execution_count": null,
   "metadata": {},
   "outputs": [],
   "source": []
  },
  {
   "cell_type": "code",
   "execution_count": null,
   "metadata": {},
   "outputs": [],
   "source": []
  },
  {
   "cell_type": "code",
   "execution_count": null,
   "metadata": {},
   "outputs": [],
   "source": []
  }
 ],
 "metadata": {
  "kernelspec": {
   "display_name": "Python 3",
   "language": "python",
   "name": "python3"
  },
  "language_info": {
   "codemirror_mode": {
    "name": "ipython",
    "version": 3
   },
   "file_extension": ".py",
   "mimetype": "text/x-python",
   "name": "python",
   "nbconvert_exporter": "python",
   "pygments_lexer": "ipython3",
   "version": "3.6.5"
  }
 },
 "nbformat": 4,
 "nbformat_minor": 2
}
