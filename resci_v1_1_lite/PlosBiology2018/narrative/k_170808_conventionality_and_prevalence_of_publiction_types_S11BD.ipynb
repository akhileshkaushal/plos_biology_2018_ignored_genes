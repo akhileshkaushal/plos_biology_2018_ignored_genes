{
 "cells": [
  {
   "cell_type": "code",
   "execution_count": null,
   "metadata": {},
   "outputs": [],
   "source": [
    "%matplotlib inline\n",
    "%load_ext autoreload\n",
    "%autoreload 2"
   ]
  },
  {
   "cell_type": "code",
   "execution_count": null,
   "metadata": {},
   "outputs": [],
   "source": [
    "import sys\n",
    "\n",
    "import numpy as np\n",
    "import pandas as pd\n",
    "import seaborn as sns\n",
    "\n",
    "import matplotlib.pyplot as plt\n",
    "\n",
    "from access_economic_data import nih\n",
    "from access_literature_data import medline, wos\n",
    "from access_science_shared import standardizer"
   ]
  },
  {
   "cell_type": "code",
   "execution_count": null,
   "metadata": {},
   "outputs": [],
   "source": [
    "sys.path.append('./../src/')\n",
    "# import nar170605f_funding as nar_funding\n",
    "import nar170604f_occurences as nar_attention\n",
    "import ana170508f_human_citations as ana\n",
    "import resci_tools as ret"
   ]
  },
  {
   "cell_type": "code",
   "execution_count": null,
   "metadata": {},
   "outputs": [],
   "source": [
    "sns.set(font_scale=2)"
   ]
  },
  {
   "cell_type": "code",
   "execution_count": null,
   "metadata": {},
   "outputs": [],
   "source": [
    "taxon_id = 9606\n",
    "fame_of_interest = 'attention'\n",
    "span = np.arange(1980, 2016)"
   ]
  },
  {
   "cell_type": "code",
   "execution_count": null,
   "metadata": {},
   "outputs": [],
   "source": [
    "save_images = True"
   ]
  },
  {
   "cell_type": "markdown",
   "metadata": {},
   "source": [
    "# Load datasets"
   ]
  },
  {
   "cell_type": "code",
   "execution_count": null,
   "metadata": {},
   "outputs": [],
   "source": [
    "ref_genes = standardizer.reference_genes(taxon_id, 'rpo')\n",
    "gene2pubmed = medline.gene2pubmed(taxon_id, paper_kind='research', ref_genes = ref_genes)\n",
    "\n",
    "\n",
    "df_m = medline.select_medline_wos_records(\n",
    "    columns_sql='''\n",
    "        medline.pubmed_id,\n",
    "        medline.pubdate_year,\n",
    "        ut2pmid.ut AS wos_id''',\n",
    "    taxon_id=taxon_id,\n",
    "    kind='research',\n",
    "    unambiguous=True\n",
    ")\n",
    "\n",
    "df_m = df_m[['pubmed_id', 'pubdate_year', 'wos_id']]\n",
    "df_m = df_m[df_m['pubmed_id'].isin(gene2pubmed['pubmed_id'])].drop_duplicates()\n",
    "\n",
    "genes_per_paper = gene2pubmed['pubmed_id'].value_counts().to_frame('genes_per_paper')\n",
    "df_m = pd.merge(df_m, genes_per_paper, left_on='pubmed_id', right_index=True, how='left')"
   ]
  },
  {
   "cell_type": "code",
   "execution_count": null,
   "metadata": {},
   "outputs": [],
   "source": [
    "gene2pubmed_and_year = pd.merge(gene2pubmed, df_m[['pubmed_id', 'pubdate_year']])\n",
    "agg = []\n",
    "for y in span: \n",
    "    pa = nar_attention.count_papers_and_attention(\n",
    "        ref_genes,\n",
    "        gene2pubmed_and_year[gene2pubmed_and_year['pubdate_year']<=y])\n",
    "\n",
    "    pa = pa[fame_of_interest]\n",
    "    pa.name = y\n",
    "    agg.append(pa)\n",
    "\n",
    "historic_fame = pd.concat(agg, axis=1)"
   ]
  },
  {
   "cell_type": "code",
   "execution_count": null,
   "metadata": {},
   "outputs": [],
   "source": [
    "historic_rank = historic_fame.rank(ascending=True) / historic_fame.shape[0]"
   ]
  },
  {
   "cell_type": "markdown",
   "metadata": {},
   "source": [
    "# Fuse by merging"
   ]
  },
  {
   "cell_type": "code",
   "execution_count": null,
   "metadata": {},
   "outputs": [],
   "source": [
    "df_pm = pd.merge(\n",
    "    df_m[['pubmed_id', 'pubdate_year']],\n",
    "    gene2pubmed[['gene_ncbi', 'pubmed_id']])"
   ]
  },
  {
   "cell_type": "code",
   "execution_count": null,
   "metadata": {},
   "outputs": [],
   "source": [
    "agg = []\n",
    "\n",
    "for y in span:\n",
    "    yy = y  + 1\n",
    "    ser = historic_rank[y]\n",
    "    df = ser.to_frame('rank').reset_index(drop=False)\n",
    "    df.loc[:, 'year_and_one'] = yy\n",
    "    agg.append(df)\n",
    "    \n",
    "df_ranks_for_future = pd.concat(agg)"
   ]
  },
  {
   "cell_type": "code",
   "execution_count": null,
   "metadata": {},
   "outputs": [],
   "source": [
    "m = pd.merge(\n",
    "    df_pm,\n",
    "    df_ranks_for_future,\n",
    "    left_on=['gene_ncbi', 'pubdate_year'],\n",
    "    right_on=['gene_ncbi', 'year_and_one'])"
   ]
  },
  {
   "cell_type": "code",
   "execution_count": null,
   "metadata": {},
   "outputs": [],
   "source": [
    "median_rank_of_genes_within_paper = m[['pubmed_id', 'rank']].groupby('pubmed_id').agg(np.median)"
   ]
  },
  {
   "cell_type": "markdown",
   "metadata": {},
   "source": [
    "# Obtain secondary features"
   ]
  },
  {
   "cell_type": "code",
   "execution_count": null,
   "metadata": {},
   "outputs": [],
   "source": [
    "master = pd.merge(\n",
    "    df_m,\n",
    "    median_rank_of_genes_within_paper,\n",
    "    left_on='pubmed_id',\n",
    "    right_index=True)"
   ]
  },
  {
   "cell_type": "code",
   "execution_count": null,
   "metadata": {},
   "outputs": [],
   "source": [
    "def add_gene_category(df_m):\n",
    "\n",
    "    f = df_m['genes_per_paper'] == 1\n",
    "    if any(f):\n",
    "        df_m.loc[f, 'gene_category'] = '1'\n",
    "\n",
    "    f = (df_m['genes_per_paper'] > 1) & (df_m['genes_per_paper'] <= 10)\n",
    "    if any(f):\n",
    "        df_m.loc[f, 'gene_category'] = '2-10'\n",
    "\n",
    "    f = (df_m['genes_per_paper'] > 10) & (df_m['genes_per_paper'] <= 100) \n",
    "    if any(f):\n",
    "        df_m.loc[f, 'gene_category'] = '11-100'\n",
    "\n",
    "    f = (df_m['genes_per_paper'] > 100) & (df_m['genes_per_paper'] <= 1000) \n",
    "    if any(f):\n",
    "        df_m.loc[f, 'gene_category'] = '101-1000'\n",
    "\n",
    "    f = (df_m['genes_per_paper'] > 1000) \n",
    "    if any(f):\n",
    "        df_m.loc[f, 'gene_category'] = '1001+'\n",
    "\n",
    "    return df_m\n",
    "\n",
    "master = add_gene_category(master)"
   ]
  },
  {
   "cell_type": "markdown",
   "metadata": {
    "collapsed": true
   },
   "source": [
    "# Retreive stats on citing papers"
   ]
  },
  {
   "cell_type": "code",
   "execution_count": null,
   "metadata": {},
   "outputs": [],
   "source": [
    "sys.path.append('./../../../../unpublishable/')\n",
    "\n",
    "from mongodb.mongoConnect import MongoConnection\n",
    "from mongodb.mongosetup import *\n",
    "\n",
    "papers_con = MongoConnection(merged_papers_settings)"
   ]
  },
  {
   "cell_type": "code",
   "execution_count": null,
   "metadata": {},
   "outputs": [],
   "source": [
    "def get_master_for_category(list_wos_id, name_of_category):\n",
    "\n",
    "    referring_papers = dict()\n",
    "    result = papers_con.collection.find(\n",
    "        {\"UT\": {\"$in\":list_wos_id }},\n",
    "        {\"UT\": 1, \"citations\":1}    \n",
    "    )\n",
    "\n",
    "    problems = 0 \n",
    "    for i_item,item in enumerate(result):\n",
    "        try:\n",
    "            u = item['UT']\n",
    "            y = item['citations']\n",
    "            referring_papers[u] = y \n",
    "        except:\n",
    "            problems = problems + 1\n",
    "\n",
    "    referring_publications = [item for sublist in referring_papers.values() for item in sublist]\n",
    "\n",
    "    master_citing = master.copy()[master['wos_id'].isin(referring_publications)]\n",
    "    master_citing.loc[:, 'plotting_category'] = name_of_category\n",
    "\n",
    "    return master_citing"
   ]
  },
  {
   "cell_type": "code",
   "execution_count": null,
   "metadata": {},
   "outputs": [],
   "source": [
    "list_wos_id = list(master[(master['gene_category']=='1') ]['wos_id'].values)\n",
    "master_1 = get_master_for_category(list_wos_id, 'referring_1')\n",
    "\n",
    "list_wos_id = list(master[(master['gene_category']=='2-10') ]['wos_id'].values)\n",
    "master_2 = get_master_for_category(list_wos_id, 'referring_2-10')\n",
    "\n",
    "list_wos_id = list(master[(master['gene_category']=='11-100') ]['wos_id'].values)\n",
    "master_11 = get_master_for_category(list_wos_id, 'referring_11-100')\n",
    "\n",
    "list_wos_id = list(master[(master['gene_category']=='101-1000') ]['wos_id'].values)\n",
    "master_101 = get_master_for_category(list_wos_id, 'referring_101-1000')\n",
    "\n",
    "list_wos_id = list(master[(master['gene_category']=='1001+') ]['wos_id'].values)\n",
    "master_1001 = get_master_for_category(list_wos_id, 'referring_1001+')"
   ]
  },
  {
   "cell_type": "code",
   "execution_count": null,
   "metadata": {},
   "outputs": [],
   "source": [
    "## note that filtering for single genes doesn't change much!\n",
    "\n",
    "master_1_sg = master_1[master_1['gene_category'] == '1'].copy()\n",
    "master_1_sg['plotting_category'] = master_1_sg['plotting_category'] + '_sg'\n",
    "\n",
    "master_2_sg = master_2[master_2['gene_category'] == '1'].copy()\n",
    "master_2_sg['plotting_category'] = master_2_sg['plotting_category'] + '_sg'\n",
    "\n",
    "master_11_sg = master_11[master_11['gene_category'] == '1'].copy()\n",
    "master_11_sg['plotting_category'] = master_11_sg['plotting_category'] + '_sg'\n",
    "\n",
    "master_101_sg = master_101[master_101['gene_category'] == '1'].copy()\n",
    "master_101_sg['plotting_category'] = master_101_sg['plotting_category'] + '_sg'\n",
    "\n",
    "master_1001_sg = master_1001[master_1001['gene_category'] == '1'].copy()\n",
    "master_1001_sg['plotting_category'] = master_1001_sg['plotting_category'] + '_sg'"
   ]
  },
  {
   "cell_type": "code",
   "execution_count": null,
   "metadata": {},
   "outputs": [],
   "source": [
    "master_all = master.copy()\n",
    "master_all.loc[:, 'plotting_category'] = 'all'"
   ]
  },
  {
   "cell_type": "code",
   "execution_count": null,
   "metadata": {},
   "outputs": [],
   "source": [
    "master['plotting_category'] = master['gene_category']"
   ]
  },
  {
   "cell_type": "code",
   "execution_count": null,
   "metadata": {},
   "outputs": [],
   "source": [
    "pool = pd.concat([\n",
    "    master_all,\n",
    "    master,\n",
    "#     master_2,\n",
    "#     master_11,\n",
    "#     master_101,\n",
    "#     master_1001,\n",
    "    master_1_sg,\n",
    "    master_2_sg,\n",
    "    master_11_sg,\n",
    "    master_101_sg,\n",
    "    master_1001_sg\n",
    "])"
   ]
  },
  {
   "cell_type": "code",
   "execution_count": null,
   "metadata": {},
   "outputs": [],
   "source": [
    "pool['plotting_category'].unique()"
   ]
  },
  {
   "cell_type": "code",
   "execution_count": null,
   "metadata": {},
   "outputs": [],
   "source": [
    "order = [\n",
    "    'all',\n",
    "    '1',\n",
    "    'referring_1_sg',\n",
    "    '2-10',\n",
    "    'referring_2-10_sg',\n",
    "    '11-100',\n",
    "    'referring_11-100_sg',\n",
    "    '101-1000',\n",
    "    'referring_101-1000_sg',\n",
    "    '1001+',\n",
    "    'referring_1001+_sg']"
   ]
  },
  {
   "cell_type": "code",
   "execution_count": null,
   "metadata": {},
   "outputs": [],
   "source": [
    "sns.set(font_scale=0.5)"
   ]
  },
  {
   "cell_type": "code",
   "execution_count": null,
   "metadata": {},
   "outputs": [],
   "source": [
    "sns.boxplot(\n",
    "    x='plotting_category',\n",
    "    y='rank',\n",
    "    data=pool,\n",
    "    notch=True,\n",
    "    color='navajowhite',\n",
    "    order=order)\n",
    "\n",
    "\n",
    "if save_images:\n",
    "    ret.export_image('170808_conventionality_and_prevalence_of_publiction_types/conventionality_per_type.pdf')"
   ]
  },
  {
   "cell_type": "code",
   "execution_count": null,
   "metadata": {},
   "outputs": [],
   "source": [
    "sns.boxplot(\n",
    "    x='plotting_category',\n",
    "    y='rank',\n",
    "    data=pool,\n",
    "    notch=True,\n",
    "    color='navajowhite',\n",
    "    order=[\n",
    "        'all',\n",
    "        '1',\n",
    "        '2-10',\n",
    "        '11-100',\n",
    "        '101-1000',\n",
    "        '1001+'])\n",
    "\n",
    "\n",
    "if save_images:\n",
    "    ret.export_image('170808_conventionality_and_prevalence_of_publiction_types/conventionality_per_standard_type.pdf')"
   ]
  },
  {
   "cell_type": "code",
   "execution_count": null,
   "metadata": {},
   "outputs": [],
   "source": [
    "sns.boxplot(\n",
    "    x='plotting_category',\n",
    "    y='rank',\n",
    "    data=pool,\n",
    "    notch=True,\n",
    "    color='navajowhite',\n",
    "    order=[\n",
    "    'referring_1_sg',\n",
    "    'referring_2-10_sg',\n",
    "    'referring_11-100_sg',\n",
    "    'referring_101-1000_sg',\n",
    "    'referring_1001+_sg'])\n",
    "\n",
    "\n",
    "if save_images:\n",
    "    ret.export_image('170808_conventionality_and_prevalence_of_publiction_types/conventionality_per_citing_type.pdf')"
   ]
  },
  {
   "cell_type": "code",
   "execution_count": null,
   "metadata": {},
   "outputs": [],
   "source": [
    "g = master['gene_category'].value_counts() / len(master)"
   ]
  },
  {
   "cell_type": "code",
   "execution_count": null,
   "metadata": {},
   "outputs": [],
   "source": [
    "from matplotlib.pyplot import pie, axis, show\n",
    "\n",
    "axis('equal');\n",
    "pie(g.values, labels=g.index, colors=sns.color_palette(\"Set2\", 20));\n",
    "\n",
    "\n",
    "if save_images:\n",
    "    ret.export_image('170808_conventionality_and_prevalence_of_publiction_types/pie_chart_types.pdf')"
   ]
  },
  {
   "cell_type": "code",
   "execution_count": null,
   "metadata": {},
   "outputs": [],
   "source": [
    "g"
   ]
  },
  {
   "cell_type": "code",
   "execution_count": null,
   "metadata": {},
   "outputs": [],
   "source": [
    "master['gene_category'].value_counts() "
   ]
  },
  {
   "cell_type": "code",
   "execution_count": null,
   "metadata": {},
   "outputs": [],
   "source": []
  },
  {
   "cell_type": "code",
   "execution_count": null,
   "metadata": {},
   "outputs": [],
   "source": []
  }
 ],
 "metadata": {
  "kernelspec": {
   "display_name": "Python 3",
   "language": "python",
   "name": "python3"
  },
  "language_info": {
   "codemirror_mode": {
    "name": "ipython",
    "version": 3
   },
   "file_extension": ".py",
   "mimetype": "text/x-python",
   "name": "python",
   "nbconvert_exporter": "python",
   "pygments_lexer": "ipython3",
   "version": "3.6.5"
  }
 },
 "nbformat": 4,
 "nbformat_minor": 2
}
