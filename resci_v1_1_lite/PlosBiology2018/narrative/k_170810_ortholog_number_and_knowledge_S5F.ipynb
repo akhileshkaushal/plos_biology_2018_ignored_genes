{
 "cells": [
  {
   "cell_type": "code",
   "execution_count": null,
   "metadata": {},
   "outputs": [],
   "source": [
    "%matplotlib inline\n",
    "%load_ext autoreload\n",
    "%autoreload 2"
   ]
  },
  {
   "cell_type": "code",
   "execution_count": null,
   "metadata": {},
   "outputs": [],
   "source": [
    "import glob\n",
    "import natsort\n",
    "import os\n",
    "import sys\n",
    "\n",
    "import numpy as np\n",
    "import pandas as pd\n",
    "import seaborn as sns\n",
    "\n",
    "import matplotlib.pyplot as plt\n",
    "\n",
    "from scipy.stats import spearmanr\n",
    "\n",
    "\n",
    "from access_biology_data import meta\n",
    "from access_economic_data import nih\n",
    "from access_literature_data import medline, wos\n",
    "from access_science_shared import standardizer"
   ]
  },
  {
   "cell_type": "code",
   "execution_count": null,
   "metadata": {},
   "outputs": [],
   "source": [
    "sys.path.append('./../src/')\n",
    "import nar170604f_occurences as nar\n",
    "import ana170508f_human_citations as ana\n",
    "import resci_inout as inout\n",
    "import resci_tools as rst\n",
    "\n",
    "import resci_tools as ret"
   ]
  },
  {
   "cell_type": "code",
   "execution_count": null,
   "metadata": {},
   "outputs": [],
   "source": [
    "from IPython.core.display import display, HTML\n",
    "display(HTML(\"<style>.container { width:100% !important; }</style>\"))"
   ]
  },
  {
   "cell_type": "code",
   "execution_count": null,
   "metadata": {},
   "outputs": [],
   "source": [
    "taxon_id = 9606"
   ]
  },
  {
   "cell_type": "code",
   "execution_count": null,
   "metadata": {},
   "outputs": [],
   "source": [
    "save_images = False\n",
    "save_tables = True"
   ]
  },
  {
   "cell_type": "code",
   "execution_count": null,
   "metadata": {},
   "outputs": [],
   "source": [
    "ref_genes = standardizer.reference_genes(taxon_id, 'rpo')\n",
    "gene2pubmed = medline.gene2pubmed(\n",
    "    taxon_id= taxon_id,\n",
    "    paper_kind='research',\n",
    "    ref_genes=ref_genes)"
   ]
  },
  {
   "cell_type": "code",
   "execution_count": null,
   "metadata": {},
   "outputs": [],
   "source": [
    "df_m = medline.select_medline_records(\n",
    "    columns_sql='''\n",
    "            medline.pubmed_id,\n",
    "            medline.pubdate_year\n",
    "           ''',\n",
    "    taxon_id = taxon_id,\n",
    "    kind='research')\n",
    "\n",
    "df_m = df_m[df_m['pubmed_id'].isin(gene2pubmed['pubmed_id'])]\n",
    "columns_to_use = ['pubmed_id', 'pubdate_year']\n",
    "\n",
    "df_m = df_m.loc[:,columns_to_use].drop_duplicates()\n",
    "\n",
    "# df_m = df_m[df_m['authors']>0]   #                      < ---- have to check with other citation analysis\n",
    "\n",
    "    \n",
    "genes_per_paper = gene2pubmed['pubmed_id'].value_counts().to_frame('genes')\n",
    "df_m = pd.merge(df_m, genes_per_paper, left_on='pubmed_id', right_index=True, how='inner')\n"
   ]
  },
  {
   "cell_type": "code",
   "execution_count": null,
   "metadata": {},
   "outputs": [],
   "source": [
    "d = pd.merge(\n",
    "    df_m[['pubmed_id', 'pubdate_year', 'genes']],\n",
    "    gene2pubmed[['gene_ncbi', 'pubmed_id']])\n",
    "\n",
    "is_single_gene_paper = d['genes'] == 1\n",
    "genes_earliest_years = pd.merge(\n",
    "    d.loc[\n",
    "        :,\n",
    "        ['gene_ncbi', 'pubdate_year']].groupby(\n",
    "            'gene_ncbi').agg(min).reset_index().rename(\n",
    "                columns={'pubdate_year':'first_year'}),\n",
    "    d.loc[\n",
    "        is_single_gene_paper,\n",
    "        ['gene_ncbi', 'pubdate_year']].groupby(\n",
    "            'gene_ncbi').agg(min).reset_index().rename(\n",
    "                columns={'pubdate_year':'first_solo_year'}),\n",
    "    left_on = 'gene_ncbi',\n",
    "    right_on = 'gene_ncbi',\n",
    "    how = 'outer'\n",
    ")"
   ]
  },
  {
   "cell_type": "code",
   "execution_count": null,
   "metadata": {},
   "outputs": [],
   "source": [
    "gene_info = meta.gene_info(taxon_id=taxon_id)\n",
    "gene_info = gene_info[gene_info['gene_ncbi'].isin(ref_genes)]"
   ]
  },
  {
   "cell_type": "code",
   "execution_count": null,
   "metadata": {},
   "outputs": [],
   "source": [
    "gene_info_symbols = gene_info[['gene_ncbi', 'symbol_ncbi', 'Synonyms', 'symbol_authority']].copy()"
   ]
  },
  {
   "cell_type": "code",
   "execution_count": null,
   "metadata": {},
   "outputs": [],
   "source": [
    "import access_science_shared"
   ]
  },
  {
   "cell_type": "code",
   "execution_count": null,
   "metadata": {},
   "outputs": [],
   "source": [
    "gene_info_symbols = rst.split_text_to_multiple_rows(\n",
    "    gene_info_symbols,\n",
    "    'Synonyms',\n",
    "    '\\|')"
   ]
  },
  {
   "cell_type": "code",
   "execution_count": null,
   "metadata": {},
   "outputs": [],
   "source": [
    "agg = []\n",
    "for c in ['symbol_ncbi', 'Synonyms', 'symbol_authority']:\n",
    "    df = gene_info_symbols.loc[:, ['gene_ncbi', c]].rename(\n",
    "        columns={c: 'symbol'})\n",
    "    agg.append(df)\n",
    "gene_info_symbols = pd.concat(agg, axis=0)\n",
    "gene_info_symbols['symbol'] = gene_info_symbols['symbol'].str.lower()\n",
    "gene_info_symbols = gene_info_symbols.drop_duplicates()\n",
    "\n",
    "u = gene_info_symbols['symbol'].value_counts()\n",
    "gene_info_symbols = gene_info_symbols[gene_info_symbols['symbol'].isin(u[u==1].index)]"
   ]
  },
  {
   "cell_type": "code",
   "execution_count": null,
   "metadata": {},
   "outputs": [],
   "source": [
    "name_frame = gene_info_symbols.copy()\n",
    "name_frame['symbol'] = name_frame['symbol'].str.lower()\n",
    "name_frame = name_frame.set_index('symbol')\n",
    "\n",
    "rix = natsort.natsorted(name_frame.index)\n",
    "name_frame = name_frame.loc[rix, :]\n",
    "name_frame = name_frame.reset_index().rename(columns={'index':'symbol'})\n",
    "\n",
    "m = '[0-9]$'\n",
    "f = name_frame['symbol'].str.contains(m)\n",
    "\n",
    "name_frame.loc[f, 'number'] = name_frame.loc[f, 'symbol'].str.extract('([0-9]*)$', expand=False)\n",
    "name_frame.loc[f, 'stem'] = name_frame.loc[f, 'symbol'].str.extract('^(.+?)[0-9]*$', expand=False)\n",
    "name_frame.loc[f, 'stem'] = name_frame.loc[f, 'stem'].str.rstrip('-._')\n",
    "name_frame.loc[~f, 'number'] = '0'\n",
    "name_frame.loc[~f, 'stem'] = name_frame.loc[~f, 'symbol']\n",
    "\n",
    "name_frame['number'] = name_frame['number'].astype(int)\n",
    "name_frame=name_frame.drop_duplicates()\n"
   ]
  },
  {
   "cell_type": "code",
   "execution_count": null,
   "metadata": {},
   "outputs": [],
   "source": [
    "name_frame = pd.merge(\n",
    "    name_frame,\n",
    "    name_frame['stem'].value_counts().to_frame(\n",
    "        'genes_in_group').reset_index().rename(columns={'index': 'stem'}),\n",
    "    left_on='stem',\n",
    "    right_on='stem',\n",
    "    how='left'\n",
    ")\n",
    "\n",
    "f = name_frame['stem'].str.contains('c[xy0-9]*orf')\n",
    "name_frame = name_frame.loc[~f, :]\n",
    "\n",
    "f = name_frame['symbol'].isin(gene_info['symbol_ncbi'].str.lower())\n",
    "stem_in_main_symbol = name_frame.loc[f, 'stem']\n",
    "name_frame = name_frame[name_frame['stem'].isin(stem_in_main_symbol)]\n",
    "\n",
    "forbidden_stems = [\n",
    "    'kiaa',\n",
    "]\n",
    "name_frame = name_frame[~name_frame['stem'].isin(forbidden_stems)]"
   ]
  },
  {
   "cell_type": "code",
   "execution_count": null,
   "metadata": {},
   "outputs": [],
   "source": [
    "## Filter for number one and two\n",
    "\n",
    "# name_frame = name_frame[\n",
    "#     name_frame['number'].isin([1, 2])\n",
    "# ]"
   ]
  },
  {
   "cell_type": "code",
   "execution_count": null,
   "metadata": {},
   "outputs": [],
   "source": [
    "f = name_frame['genes_in_group'] > 1\n",
    "m = name_frame.loc[f, ['gene_ncbi', 'stem', 'number']]"
   ]
  },
  {
   "cell_type": "code",
   "execution_count": null,
   "metadata": {},
   "outputs": [],
   "source": [
    "m = m.sort_values(['stem', 'number'])"
   ]
  },
  {
   "cell_type": "code",
   "execution_count": null,
   "metadata": {},
   "outputs": [],
   "source": [
    "m = m.drop_duplicates(['gene_ncbi', 'stem'], keep='first')"
   ]
  },
  {
   "cell_type": "code",
   "execution_count": null,
   "metadata": {},
   "outputs": [],
   "source": [
    "first = m.groupby('stem').nth(0)\n",
    "second = m.groupby('stem').nth(1)"
   ]
  },
  {
   "cell_type": "code",
   "execution_count": null,
   "metadata": {},
   "outputs": [],
   "source": [
    "first.loc[:, 'is_first'] = True\n",
    "second.loc[:, 'is_second'] = True"
   ]
  },
  {
   "cell_type": "code",
   "execution_count": null,
   "metadata": {},
   "outputs": [],
   "source": [
    "m = pd.merge(m, first.reset_index(), how='left')\n",
    "m = pd.merge(m, second.reset_index(), how='left')"
   ]
  },
  {
   "cell_type": "code",
   "execution_count": null,
   "metadata": {},
   "outputs": [],
   "source": [
    "agg = []\n",
    "df = m.loc[m['is_first'] == True, ['gene_ncbi', 'stem']]\n",
    "df.loc[:, 'name_order'] = 'first'\n",
    "agg.append(df)\n",
    "df = m.loc[m['is_second'] == True, ['gene_ncbi', 'stem']]\n",
    "df.loc[:, 'name_order'] = 'second'\n",
    "agg.append(df)\n",
    "df = pd.concat(agg, 0)\n",
    "df = df.drop_duplicates()\n",
    "\n",
    "df = df.pivot(index='stem', columns='name_order',values='gene_ncbi')\n",
    "df = df[df['first'] != df['second']]\n",
    "df = df.drop_duplicates()"
   ]
  },
  {
   "cell_type": "code",
   "execution_count": null,
   "metadata": {},
   "outputs": [],
   "source": [
    "fame = nar.count_papers_and_attention(ref_genes, gene2pubmed)\n",
    "fame_of_interest = 'papers'"
   ]
  },
  {
   "cell_type": "code",
   "execution_count": null,
   "metadata": {},
   "outputs": [],
   "source": [
    "master = pd.merge(\n",
    "    df,\n",
    "    fame[[fame_of_interest]],\n",
    "    left_on='first',\n",
    "    right_index=True,\n",
    "    how='left',\n",
    ").rename(columns={fame_of_interest: 'fame_first'})\n",
    "\n",
    "master = pd.merge(\n",
    "    master,\n",
    "    fame[[fame_of_interest]],\n",
    "    left_on='second',\n",
    "    right_index=True,\n",
    "    how='left'\n",
    ").rename(columns={fame_of_interest: 'fame_second'})"
   ]
  },
  {
   "cell_type": "code",
   "execution_count": null,
   "metadata": {},
   "outputs": [],
   "source": [
    "master = master.dropna()"
   ]
  },
  {
   "cell_type": "code",
   "execution_count": null,
   "metadata": {},
   "outputs": [],
   "source": [
    "gene_info_symbols.head(3)"
   ]
  },
  {
   "cell_type": "code",
   "execution_count": null,
   "metadata": {},
   "outputs": [],
   "source": [
    "ginfo_official = gene_info[['gene_ncbi', 'symbol_authority']].copy()\n",
    "ginfo_official['symbol_authority'] = ginfo_official['symbol_authority'].str.lower()\n",
    "\n",
    "m = '[0-9]$'\n",
    "f = ginfo_official['symbol_authority'].str.contains(m)\n",
    "\n",
    "ginfo_official.loc[f, 'number'] = ginfo_official.loc[f, 'symbol_authority'].str.extract('([0-9]*)$', expand=False)\n",
    "ginfo_official.loc[f, 'stem'] = ginfo_official.loc[f, 'symbol_authority'].str.extract('^(.+?)[0-9]*$', expand=False)\n",
    "ginfo_official.loc[f, 'stem'] = ginfo_official.loc[f, 'stem'].str.rstrip('-._')\n",
    "ginfo_official.loc[~f, 'number'] = '0'\n",
    "ginfo_official.loc[~f, 'stem'] = ginfo_official.loc[~f, 'symbol_authority']\n",
    "\n",
    "ginfo_official = ginfo_official[['gene_ncbi', 'stem']].copy()\n",
    "ginfo_official.loc[:, 'is_official'] = True"
   ]
  },
  {
   "cell_type": "code",
   "execution_count": null,
   "metadata": {},
   "outputs": [],
   "source": [
    "master = master.astype(float)\n",
    "master['fame_diff'] = master['fame_first'] - master['fame_second']"
   ]
  },
  {
   "cell_type": "code",
   "execution_count": null,
   "metadata": {},
   "outputs": [],
   "source": [
    "# sns.lmplot(\n",
    "#     data=master.apply(lambda x: np.log10(x)),\n",
    "#     x='fame_second',\n",
    "#     y='fame_first',\n",
    "#     scatter_kws={'s':3},\n",
    "#     fit_reg=False)\n",
    "\n",
    "# if save_images:\n",
    "#     ret.export_image('170807_ortholog_number_and_knowledge/first_vs_second_{}.pdf'.format(\n",
    "#         fame_of_interest))"
   ]
  },
  {
   "cell_type": "code",
   "execution_count": null,
   "metadata": {},
   "outputs": [],
   "source": [
    "master = pd.merge(\n",
    "    master.reset_index(),\n",
    "    ginfo_official,\n",
    "    left_on=['stem', 'second'],\n",
    "    right_on=['stem', 'gene_ncbi'],\n",
    "    how='left')"
   ]
  },
  {
   "cell_type": "code",
   "execution_count": null,
   "metadata": {},
   "outputs": [],
   "source": [
    "master = master.drop('gene_ncbi', 1)"
   ]
  },
  {
   "cell_type": "code",
   "execution_count": null,
   "metadata": {},
   "outputs": [],
   "source": [
    "master['is_official'] = master['is_official'].fillna(False)"
   ]
  },
  {
   "cell_type": "code",
   "execution_count": null,
   "metadata": {},
   "outputs": [],
   "source": [
    "master = master.rename(columns={'is_official': 'second_uses_official'})"
   ]
  },
  {
   "cell_type": "code",
   "execution_count": null,
   "metadata": {},
   "outputs": [],
   "source": [
    "master = pd.merge(\n",
    "    master.reset_index(),\n",
    "    ginfo_official,\n",
    "    left_on=['stem', 'first'],\n",
    "    right_on=['stem', 'gene_ncbi'],\n",
    "    how='left')\n",
    "master = master.drop('gene_ncbi', 1)\n",
    "master['is_official'] = master['is_official'].fillna(False)\n",
    "master = master.rename(columns={'is_official': 'first_uses_official'})"
   ]
  },
  {
   "cell_type": "code",
   "execution_count": null,
   "metadata": {},
   "outputs": [],
   "source": [
    "master = pd.merge(\n",
    "    master.reset_index(),\n",
    "    ginfo_official[['gene_ncbi', 'stem']].rename(columns={'stem': 'canonical_stem_first'}),\n",
    "    left_on=['first'],\n",
    "    right_on=['gene_ncbi'],\n",
    "    how='left')\n",
    "master = master.drop('gene_ncbi', 1)"
   ]
  },
  {
   "cell_type": "code",
   "execution_count": null,
   "metadata": {},
   "outputs": [],
   "source": [
    "master = pd.merge(\n",
    "    master,\n",
    "    ginfo_official[['gene_ncbi', 'stem']].rename(columns={'stem': 'canonical_stem_second'}),\n",
    "    left_on=['second'],\n",
    "    right_on=['gene_ncbi'],\n",
    "    how='left')\n",
    "master = master.drop('gene_ncbi', 1)"
   ]
  },
  {
   "cell_type": "code",
   "execution_count": null,
   "metadata": {},
   "outputs": [],
   "source": [
    "master['canonical_stem_are_same'] = master['canonical_stem_first'] == master['canonical_stem_second']"
   ]
  },
  {
   "cell_type": "code",
   "execution_count": null,
   "metadata": {},
   "outputs": [],
   "source": [
    "master['log_fame_first'] = np.log10(master['fame_first'])\n",
    "master['log_fame_second'] = np.log10(master['fame_second'])"
   ]
  },
  {
   "cell_type": "code",
   "execution_count": null,
   "metadata": {},
   "outputs": [],
   "source": [
    "# master = master.set_index('stem')"
   ]
  },
  {
   "cell_type": "code",
   "execution_count": null,
   "metadata": {},
   "outputs": [],
   "source": []
  },
  {
   "cell_type": "code",
   "execution_count": null,
   "metadata": {},
   "outputs": [],
   "source": [
    "master['both_use_official'] = master['first_uses_official'] & master['second_uses_official']"
   ]
  },
  {
   "cell_type": "code",
   "execution_count": null,
   "metadata": {},
   "outputs": [],
   "source": [
    "sns.jointplot(\n",
    "    stat_func=spearmanr,\n",
    "    data=master[master['canonical_stem_are_same']==True],\n",
    "    x='log_fame_second',\n",
    "    y='log_fame_first',\n",
    "    kind='scatter',\n",
    "    xlim=(-0.5, 4),\n",
    "    ylim=(-0.5, 4),\n",
    "    joint_kws={'s': 7})\n",
    "\n",
    "\n",
    "if save_images:\n",
    "    ret.export_image('170810_ortholog_number_and_knowledge/among_canonical_stem_is_same_{}.pdf'.format(\n",
    "        fame_of_interest))"
   ]
  },
  {
   "cell_type": "code",
   "execution_count": null,
   "metadata": {},
   "outputs": [],
   "source": [
    "out = master[master['canonical_stem_are_same']==True][['stem', 'fame_first', 'fame_second']].rename(\n",
    "columns={'fame_first': 'publications_first', 'fame_second': 'publications_second'})\n",
    "if save_tables:\n",
    "    ret.export_full_frame('170810_ortholog_number_and_knowledge/among_canonical_stem_is_same_{}_data.csv'.format(\n",
    "        fame_of_interest), out, save_index=False)"
   ]
  },
  {
   "cell_type": "code",
   "execution_count": null,
   "metadata": {},
   "outputs": [],
   "source": [
    "master"
   ]
  },
  {
   "cell_type": "code",
   "execution_count": null,
   "metadata": {},
   "outputs": [],
   "source": [
    "sns.jointplot(\n",
    "    stat_func=spearmanr,\n",
    "    data=master[master['canonical_stem_are_same']==False],\n",
    "    x='log_fame_second',\n",
    "    y='log_fame_first',\n",
    "    kind='scatter',\n",
    "    xlim=(-0.5, 4),\n",
    "    ylim=(-0.5, 4),\n",
    "    joint_kws={'s': 7})\n",
    "\n",
    "\n",
    "if save_images:\n",
    "    ret.export_image('170810_ortholog_number_and_knowledge/among_canonical_stem_is_different_{}.pdf'.format(\n",
    "        fame_of_interest))"
   ]
  },
  {
   "cell_type": "code",
   "execution_count": null,
   "metadata": {},
   "outputs": [],
   "source": [
    "master[master['canonical_stem_are_same'] == True].corr('spearman')"
   ]
  },
  {
   "cell_type": "code",
   "execution_count": null,
   "metadata": {},
   "outputs": [],
   "source": [
    "master[master['canonical_stem_are_same'] == False].corr('spearman')"
   ]
  },
  {
   "cell_type": "code",
   "execution_count": null,
   "metadata": {},
   "outputs": [],
   "source": [
    "master.corr('spearman')"
   ]
  },
  {
   "cell_type": "code",
   "execution_count": null,
   "metadata": {},
   "outputs": [],
   "source": []
  },
  {
   "cell_type": "code",
   "execution_count": null,
   "metadata": {},
   "outputs": [],
   "source": [
    "master['fold_first_over_second'] = (master['fame_first'] / master['fame_second']).apply(np.log2)"
   ]
  },
  {
   "cell_type": "code",
   "execution_count": null,
   "metadata": {},
   "outputs": [],
   "source": [
    "year_category = 'first_year'"
   ]
  },
  {
   "cell_type": "code",
   "execution_count": null,
   "metadata": {},
   "outputs": [],
   "source": [
    "# year_category = 'first_solo_year'"
   ]
  },
  {
   "cell_type": "code",
   "execution_count": null,
   "metadata": {},
   "outputs": [],
   "source": []
  },
  {
   "cell_type": "code",
   "execution_count": null,
   "metadata": {},
   "outputs": [],
   "source": [
    "master = pd.merge(\n",
    "    master,\n",
    "    genes_earliest_years[['gene_ncbi', year_category]],\n",
    "    left_on='first',\n",
    "    right_on='gene_ncbi',\n",
    "    how='left',\n",
    ")\n",
    "\n",
    "master = pd.merge(\n",
    "    master,\n",
    "    genes_earliest_years[['gene_ncbi', year_category]],\n",
    "    left_on='second',\n",
    "    right_on='gene_ncbi',\n",
    "    how='left'\n",
    ")"
   ]
  },
  {
   "cell_type": "code",
   "execution_count": null,
   "metadata": {},
   "outputs": [],
   "source": [
    "master['year_second_minus_year_first'] = master[year_category + '_y'] - master[year_category + '_x']"
   ]
  },
  {
   "cell_type": "code",
   "execution_count": null,
   "metadata": {},
   "outputs": [],
   "source": [
    "# sns.boxplot(x='canonical_stem_are_same', y='year_second_minus_year_first', data=master, notch=True)\n",
    "\n",
    "# if save_images:\n",
    "#     ret.export_image('170810_ortholog_number_and_knowledge/years_of_{}.pdf'.format(\n",
    "#         fame_of_interest))"
   ]
  },
  {
   "cell_type": "code",
   "execution_count": null,
   "metadata": {},
   "outputs": [],
   "source": []
  },
  {
   "cell_type": "code",
   "execution_count": null,
   "metadata": {},
   "outputs": [],
   "source": []
  },
  {
   "cell_type": "code",
   "execution_count": null,
   "metadata": {},
   "outputs": [],
   "source": [
    "master.isnull().sum()"
   ]
  },
  {
   "cell_type": "code",
   "execution_count": null,
   "metadata": {},
   "outputs": [],
   "source": [
    "# master = master.dropna()    #    <----------"
   ]
  },
  {
   "cell_type": "code",
   "execution_count": null,
   "metadata": {},
   "outputs": [],
   "source": [
    "sns.distplot(master.loc[\n",
    "    master['both_use_official'] == True,    \n",
    "    'fold_first_over_second'])"
   ]
  },
  {
   "cell_type": "code",
   "execution_count": null,
   "metadata": {},
   "outputs": [],
   "source": [
    "sns.distplot(master.loc[\n",
    "    master['both_use_official'] == False,    \n",
    "    'fold_first_over_second'])"
   ]
  },
  {
   "cell_type": "code",
   "execution_count": null,
   "metadata": {},
   "outputs": [],
   "source": [
    "sns.boxplot(x='canonical_stem_are_same', y='fold_first_over_second', data=master, notch=True)\n",
    "\n",
    "if save_images:\n",
    "    ret.export_image('170810_ortholog_number_and_knowledge/enrichment_of_{}.pdf'.format(\n",
    "        fame_of_interest))"
   ]
  },
  {
   "cell_type": "code",
   "execution_count": null,
   "metadata": {},
   "outputs": [],
   "source": [
    "sns.distplot(master['fold_first_over_second'])"
   ]
  },
  {
   "cell_type": "code",
   "execution_count": null,
   "metadata": {},
   "outputs": [],
   "source": [
    "master['year_second_minus_year_first'].mean()"
   ]
  },
  {
   "cell_type": "code",
   "execution_count": null,
   "metadata": {},
   "outputs": [],
   "source": [
    "master['year_second_minus_year_first'].median()"
   ]
  },
  {
   "cell_type": "code",
   "execution_count": null,
   "metadata": {},
   "outputs": [],
   "source": [
    "2**master.loc[master['both_use_official']==True,'fold_first_over_second'].median()"
   ]
  },
  {
   "cell_type": "code",
   "execution_count": null,
   "metadata": {},
   "outputs": [],
   "source": [
    "2**master.loc[master['both_use_official']==False,'fold_first_over_second'].median()"
   ]
  },
  {
   "cell_type": "code",
   "execution_count": null,
   "metadata": {},
   "outputs": [],
   "source": [
    "master = master.sort_values('year_second_minus_year_first')"
   ]
  },
  {
   "cell_type": "code",
   "execution_count": null,
   "metadata": {},
   "outputs": [],
   "source": [
    "sns.distplot(master['year_second_minus_year_first'].dropna(),kde=False)\n",
    "axes = plt.gca()\n",
    "axes.set_xlim([-50,50])\n",
    "\n",
    "\n",
    "if save_images:\n",
    "    ret.export_image('170810_ortholog_number_and_knowledge/year_difference_{}.pdf'.format(\n",
    "        year_category))"
   ]
  },
  {
   "cell_type": "code",
   "execution_count": null,
   "metadata": {},
   "outputs": [],
   "source": [
    "u = master['year_second_minus_year_first'].dropna()\n",
    "print(np.count_nonzero(u > 0) / len(u))\n",
    "print(np.count_nonzero(u == 0) / len(u))\n",
    "print(np.count_nonzero(u < 0) / len(u))\n",
    "\n",
    "\n",
    "\n"
   ]
  },
  {
   "cell_type": "code",
   "execution_count": null,
   "metadata": {},
   "outputs": [],
   "source": [
    "sns.jointplot(\n",
    "    x='year_second_minus_year_first',\n",
    "    y='fold_first_over_second',\n",
    "    data=master[master['canonical_stem_are_same'] == True],\n",
    "    joint_kws={'s':2}, stat_func=spearmanr,\n",
    "    xlim=(-50, 50))\n",
    "\n",
    "\n"
   ]
  },
  {
   "cell_type": "code",
   "execution_count": null,
   "metadata": {},
   "outputs": [],
   "source": [
    "sns.jointplot(\n",
    "    x='year_second_minus_year_first',\n",
    "    y='fold_first_over_second',\n",
    "    data=master[master['canonical_stem_are_same'] == False],\n",
    "    joint_kws={'s':2}, stat_func=spearmanr,\n",
    "    xlim=(-50, 50))\n"
   ]
  },
  {
   "cell_type": "code",
   "execution_count": null,
   "metadata": {},
   "outputs": [],
   "source": [
    "sns.jointplot(\n",
    "    x='year_second_minus_year_first',\n",
    "    y='fold_first_over_second',\n",
    "    data=master,joint_kws={'s':2},\n",
    "    stat_func=spearmanr,\n",
    "    xlim=(-50, 50))    # note that this will exlude one extreme data pont ( that seems to be wrong in literature)\n",
    "\n",
    "\n"
   ]
  },
  {
   "cell_type": "code",
   "execution_count": null,
   "metadata": {},
   "outputs": [],
   "source": [
    "sns.jointplot(\n",
    "    x='year_second_minus_year_first',\n",
    "    y='fold_first_over_second',\n",
    "    data=master,kind='kde',\n",
    "    stat_func=spearmanr)"
   ]
  },
  {
   "cell_type": "code",
   "execution_count": null,
   "metadata": {},
   "outputs": [],
   "source": [
    "master.corr('spearman')"
   ]
  },
  {
   "cell_type": "code",
   "execution_count": null,
   "metadata": {},
   "outputs": [],
   "source": []
  }
 ],
 "metadata": {
  "kernelspec": {
   "display_name": "Python 3",
   "language": "python",
   "name": "python3"
  },
  "language_info": {
   "codemirror_mode": {
    "name": "ipython",
    "version": 3
   },
   "file_extension": ".py",
   "mimetype": "text/x-python",
   "name": "python",
   "nbconvert_exporter": "python",
   "pygments_lexer": "ipython3",
   "version": "3.6.5"
  }
 },
 "nbformat": 4,
 "nbformat_minor": 2
}
