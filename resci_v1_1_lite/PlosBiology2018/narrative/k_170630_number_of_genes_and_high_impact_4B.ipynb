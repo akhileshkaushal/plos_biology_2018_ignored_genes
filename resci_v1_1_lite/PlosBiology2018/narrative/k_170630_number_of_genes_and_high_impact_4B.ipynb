{
 "cells": [
  {
   "cell_type": "code",
   "execution_count": null,
   "metadata": {},
   "outputs": [],
   "source": [
    "%matplotlib inline\n",
    "%load_ext autoreload\n",
    "%autoreload 2"
   ]
  },
  {
   "cell_type": "code",
   "execution_count": null,
   "metadata": {},
   "outputs": [],
   "source": [
    "import re\n",
    "import sys\n",
    "\n",
    "import numpy as np\n",
    "import pandas as pd\n",
    "import seaborn as sns\n",
    "\n",
    "import matplotlib.pyplot as plt\n",
    "\n",
    "from access_biology_data import meta\n",
    "from access_literature_data import medline\n",
    "from access_science_shared import standardizer\n",
    "\n",
    "sys.path.append('./../src/')\n",
    "import ana170508f_human_citations as ana\n",
    "\n",
    "import resci_tools as ret"
   ]
  },
  {
   "cell_type": "code",
   "execution_count": null,
   "metadata": {},
   "outputs": [],
   "source": [
    "sns.set(font_scale=2)"
   ]
  },
  {
   "cell_type": "code",
   "execution_count": null,
   "metadata": {},
   "outputs": [],
   "source": [
    "taxon_id = 9606\n",
    "years_to_monitor = 8   # as in Uzzi et al. 2013\n",
    "save_image = True"
   ]
  },
  {
   "cell_type": "code",
   "execution_count": null,
   "metadata": {},
   "outputs": [],
   "source": [
    "ref_genes = standardizer.reference_genes(\n",
    "    taxon_id, 'rop')\n",
    "df_medline_wos = ana.load_medline_wos_of_taxon(   # will filter for research\n",
    "    taxon_id, years_to_include=years_to_monitor, kind='research', unambiguous=True)\n",
    "df_medline_wos = ana.filter_for_papers_with_reference_genes(\n",
    "    taxon_id, df_medline_wos, ref_genes)\n",
    "df_medline_wos = ana.add_yearly_citation_rank(\n",
    "    df_medline_wos)\n",
    "df_medline_wos = ana.add_team_scale(\n",
    "    df_medline_wos)\n",
    "gene2pubmed = ana.load_shared_gene2pubmed(\n",
    "    taxon_id, df_medline_wos, ref_genes)\n",
    "gene2medlinewos = pd.merge(\n",
    "    gene2pubmed, df_medline_wos)"
   ]
  },
  {
   "cell_type": "code",
   "execution_count": null,
   "metadata": {},
   "outputs": [],
   "source": [
    "genes_per_paper = gene2medlinewos[\n",
    "    'pubmed_id'].value_counts().to_frame('genes')\n",
    "genes_per_paper.index.name = 'pubmed_id'"
   ]
  },
  {
   "cell_type": "code",
   "execution_count": null,
   "metadata": {},
   "outputs": [],
   "source": [
    "master = pd.merge(\n",
    "    df_medline_wos,\n",
    "    genes_per_paper,\n",
    "    left_on='pubmed_id',\n",
    "    right_index=True,\n",
    "    how='inner')"
   ]
  },
  {
   "cell_type": "code",
   "execution_count": null,
   "metadata": {},
   "outputs": [],
   "source": [
    "def get_high_fraction_impact(df):\n",
    "    s = df['yearly_citation_rank']\n",
    "    a = np.count_nonzero(s[s>=0.95])/len(s)\n",
    "    return a"
   ]
  },
  {
   "cell_type": "code",
   "execution_count": null,
   "metadata": {},
   "outputs": [],
   "source": [
    "agg = []\n",
    "\n",
    "for t in master['team_scale'].unique():\n",
    "    f = master['team_scale'] == t\n",
    "    dff = master.loc[f, :]\n",
    "    gg = sorted(dff['genes'].unique())\n",
    "\n",
    "    df_o = pd.DataFrame(index=gg)\n",
    "    df_o.loc[:, 'team_scale'] = t\n",
    "    \n",
    "    for g in df_o.index:\n",
    "\n",
    "        dfff = dff[dff['genes']>=g]\n",
    "\n",
    "        df_o.loc[g, 'fraction_high_impact'] = get_high_fraction_impact(\n",
    "            dfff)\n",
    "        df_o.loc[g, 'papers'] = dfff.shape[0]\n",
    "    \n",
    "    df_o.index.name = 'minimal_amount_of_genes'\n",
    "    df_o = df_o.reset_index()\n",
    "    \n",
    "    agg.append(df_o)"
   ]
  },
  {
   "cell_type": "code",
   "execution_count": null,
   "metadata": {},
   "outputs": [],
   "source": [
    "minimal_amount_of_papers = 100\n",
    "\n",
    "d = pd.concat(agg, axis=0)\n",
    "ax = sns.lmplot(\n",
    "    x='minimal_amount_of_genes', \n",
    "    y='fraction_high_impact', \n",
    "    data=d[d['papers']>=minimal_amount_of_papers], \n",
    "    hue='team_scale',\n",
    "    hue_order=['single','pair', 'team'],\n",
    "    fit_reg=False,\n",
    "    aspect=1.5\n",
    ")\n",
    "\n",
    "# plt.legend(loc='center left', bbox_to_anchor=(1.0, 0.5))\n",
    "\n",
    "\n",
    "\n",
    "ax.set_xlabels('Minimal amount of genes')\n",
    "ax.set_ylabels('Fraction high impact')\n",
    "\n",
    "if save_image:\n",
    "    ret.export_image(\n",
    "        '170630_number_of_genes_and_high_impact/increasing_minimal_amount_of_genes_taxon_{}.pdf'.format(\n",
    "            taxon_id))"
   ]
  },
  {
   "cell_type": "code",
   "execution_count": null,
   "metadata": {},
   "outputs": [],
   "source": [
    "def add_gene_category(df_m):\n",
    "\n",
    "    f = df_m['genes'] == 1\n",
    "    if any(f):\n",
    "        df_m.loc[f, 'gene_category'] = '1'\n",
    "\n",
    "    f = (df_m['genes'] > 1) & (df_m['genes'] <= 10)\n",
    "    if any(f):\n",
    "        df_m.loc[f, 'gene_category'] = '2-10'\n",
    "\n",
    "    f = (df_m['genes'] > 10) & (df_m['genes'] <= 100) \n",
    "    if any(f):\n",
    "        df_m.loc[f, 'gene_category'] = '11-100'\n",
    "\n",
    "    f = (df_m['genes'] > 100) & (df_m['genes'] <= 1000) \n",
    "    if any(f):\n",
    "        df_m.loc[f, 'gene_category'] = '101-1000'\n",
    "\n",
    "\n",
    "    f = (df_m['genes'] > 1000) \n",
    "    if any(f):\n",
    "        df_m.loc[f, 'gene_category'] = '1001+'\n",
    "\n",
    "    return df_m"
   ]
  },
  {
   "cell_type": "code",
   "execution_count": null,
   "metadata": {},
   "outputs": [],
   "source": [
    "master = add_gene_category(master)"
   ]
  },
  {
   "cell_type": "code",
   "execution_count": null,
   "metadata": {},
   "outputs": [],
   "source": [
    "ax = sns.boxplot(\n",
    "    x='gene_category',\n",
    "    y='yearly_citation_rank',\n",
    "    hue='team_scale',\n",
    "    data=master,\n",
    "    hue_order=['single','pair', 'team'],\n",
    "    notch=True)\n",
    "plt.legend(loc='center left', bbox_to_anchor=(1.0, 0.5))\n",
    "\n",
    "\n",
    "\n",
    "ax.set_xlabel('Amount of genes')\n",
    "ax.set_ylabel('Annual citation rank')\n",
    "\n",
    "if save_image:\n",
    "    ret.export_image(\n",
    "        '170630_number_of_genes_and_high_impact/gene_category_rank_taxon_{}.pdf'.format(\n",
    "            taxon_id))"
   ]
  },
  {
   "cell_type": "code",
   "execution_count": null,
   "metadata": {},
   "outputs": [],
   "source": [
    "master['add_one_then_log'] = master[\n",
    "    'citations'].apply(lambda x: np.log10(x+1))"
   ]
  },
  {
   "cell_type": "code",
   "execution_count": null,
   "metadata": {},
   "outputs": [],
   "source": [
    "ax = sns.boxplot(\n",
    "    x='gene_category',\n",
    "    y='add_one_then_log',\n",
    "    hue='team_scale',\n",
    "    data=master,\n",
    "    hue_order=['single','pair', 'team'],\n",
    "    notch=True)\n",
    "plt.legend(loc='center left', bbox_to_anchor=(1.0, 0.5))\n",
    "\n",
    "\n",
    "ax.set_xlabel('Amount of genes')\n",
    "ax.set_ylabel('Citations + 1, log10')\n",
    "\n",
    "if save_image:\n",
    "    ret.export_image(\n",
    "        '170630_number_of_genes_and_high_impact/gene_category_citations_taxon_{}.pdf'.format(\n",
    "            taxon_id))"
   ]
  },
  {
   "cell_type": "code",
   "execution_count": null,
   "metadata": {},
   "outputs": [],
   "source": [
    "master['is_high_impact'] = master.loc[:, 'yearly_citation_rank'] >= 0.95"
   ]
  },
  {
   "cell_type": "code",
   "execution_count": null,
   "metadata": {},
   "outputs": [],
   "source": [
    "ax = sns.barplot(\n",
    "    x='gene_category',\n",
    "    y='is_high_impact',\n",
    "    data=master,\n",
    "    hue='team_scale',\n",
    "    order=[\n",
    "        '1',\n",
    "        '2-10',\n",
    "        '11-100',\n",
    "        '101-1000',\n",
    "        '1001+'],       \n",
    "    hue_order=[\n",
    "        'single', 'pair', 'team']\n",
    ")\n",
    "plt.legend(loc='center left', bbox_to_anchor=(1.0, 0.5))\n",
    "\n",
    "if save_image:\n",
    "    ret.export_image(\n",
    "        '170630_number_of_genes_and_high_impact/fraction_high_impact_taxon_{}_with_error.pdf'.format(\n",
    "            taxon_id))"
   ]
  }
 ],
 "metadata": {
  "kernelspec": {
   "display_name": "Python 3",
   "language": "python",
   "name": "python3"
  },
  "language_info": {
   "codemirror_mode": {
    "name": "ipython",
    "version": 3
   },
   "file_extension": ".py",
   "mimetype": "text/x-python",
   "name": "python",
   "nbconvert_exporter": "python",
   "pygments_lexer": "ipython3",
   "version": "3.6.5"
  }
 },
 "nbformat": 4,
 "nbformat_minor": 2
}
