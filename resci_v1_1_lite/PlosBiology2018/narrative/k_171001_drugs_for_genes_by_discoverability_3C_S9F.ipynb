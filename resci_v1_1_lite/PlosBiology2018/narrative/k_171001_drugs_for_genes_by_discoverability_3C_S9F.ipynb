{
 "cells": [
  {
   "cell_type": "code",
   "execution_count": null,
   "metadata": {},
   "outputs": [],
   "source": [
    "%matplotlib inline \n",
    "%reload_ext autoreload\n",
    "%autoreload 2\n",
    "\n",
    "src_dir = './../src/'\n",
    "import sys\n",
    "sys.path[0] = src_dir\n",
    "\n",
    "import matplotlib as mpl\n",
    "mpl.rcParams['pdf.fonttype'] = 42\n",
    "mpl.rcParams['font.family'] = 'Arial'"
   ]
  },
  {
   "cell_type": "code",
   "execution_count": null,
   "metadata": {},
   "outputs": [],
   "source": [
    "from IPython.core.display import display, HTML\n",
    "display(HTML(\"<style>.container { width:100% !important; }</style>\"))"
   ]
  },
  {
   "cell_type": "code",
   "execution_count": null,
   "metadata": {},
   "outputs": [],
   "source": [
    "import glob\n",
    "import os\n",
    "\n",
    "import numpy as np\n",
    "import pandas as pd\n",
    "import seaborn as sns\n",
    "\n",
    "import matplotlib.pyplot as plt\n",
    "\n",
    "from scipy.stats import spearmanr\n",
    "\n",
    "import resci_inout as rinout\n",
    "import resci_tools as ret\n",
    "\n",
    "import nar170830f_predictions as forec\n",
    "\n",
    "from access_biology_data import annotation\n",
    "from access_mixed_data import genealacart\n",
    "from access_reagent_data import drugbank\n",
    "from access_science_shared import standardizer"
   ]
  },
  {
   "cell_type": "code",
   "execution_count": null,
   "metadata": {},
   "outputs": [],
   "source": [
    "drug_categories = [\n",
    "    'all',\n",
    "    'pharmacologically_active'\n",
    "]"
   ]
  },
  {
   "cell_type": "code",
   "execution_count": null,
   "metadata": {},
   "outputs": [],
   "source": [
    "year_models = {\n",
    "    'BioExpSoloPaper': '170904f_predict_year_of_initial_publication/170904_human_BioExp_first_solo_year/zgbrh_p90_e300',\n",
    "    'BioExpYHoSoloPaper': '170904f_predict_year_of_initial_publication/170904_human_BioExpYea_first_solo_year/zgbrh_p90_e300',\n",
    "    'BioExpAnyPaper': '170904f_predict_year_of_initial_publication/170904_human_BioExp_first_year/zgbrh_p90_e300',\n",
    "    'BioExpYHoAnyPaper': '170904f_predict_year_of_initial_publication/170904_human_BioExpYea_first_year/zgbrh_p90_e300',\n",
    "}\n",
    "\n",
    "diseases = {\n",
    "    'UnifiedDisease': annotation.disease_genealacart(9606, add_absenece=False),\n",
    "    'Omim': annotation.omim_genealacart (9606, add_absenece=False)   \n",
    "}\n",
    "\n",
    "drugs_states = ['approved', 'experimental', 'investigational']"
   ]
  },
  {
   "cell_type": "code",
   "execution_count": null,
   "metadata": {},
   "outputs": [],
   "source": [
    "save_images = True"
   ]
  },
  {
   "cell_type": "code",
   "execution_count": null,
   "metadata": {},
   "outputs": [],
   "source": [
    "genealacart_ids = genealacart.load_genealacart_dataset(\n",
    "        'ExternalIdentifiers').rename(columns={'EntrezGene_x': 'gene_ncbi'})\n",
    "genealacart_ids = set(genealacart_ids['gene_ncbi'])"
   ]
  },
  {
   "cell_type": "code",
   "execution_count": null,
   "metadata": {},
   "outputs": [],
   "source": [
    "for year_model in year_models.keys():\n",
    "    p = rinout.get_internal_path(year_models[year_model])\n",
    "    df_year = forec.load_predicitions(p)\n",
    "    df_year = df_year[df_year.index.isin(genealacart_ids)]\n",
    "    \n",
    "    for disease_definition in diseases.keys():\n",
    "        df_disease = diseases[disease_definition]\n",
    "        \n",
    "        df = df_year.copy()\n",
    "        df = df[df.index.isin(df_disease['gene_ncbi'])]\n",
    "        \n",
    "        amount_of_rank_bins = 10\n",
    "        df['ranked'] = df['predicted'].rank(pct=True)\n",
    "        df['bin'] = np.ceil(df['ranked']*amount_of_rank_bins)\n",
    "        \n",
    "        for drug_category in drug_categories:\n",
    "            for drug_state in drugs_states:\n",
    "                \n",
    "                db = drugbank.genes_2_drugs_and_status(9606, drug_category)\n",
    "                db = db[db['status']==drug_state]\n",
    "                df.loc[:, 'has_drug'] = df.index.isin(db['gene_ncbi'])\n",
    "                \n",
    "                sns.barplot(x='bin', y='has_drug', data=df, color='salmon')\n",
    "\n",
    "                if save_images:\n",
    "                    ret.export_image(\n",
    "                        '171001_drugs_for_genes_by_discoverability/binned_{}_{}_{}_{}.pdf'.format(\n",
    "                            year_model,\n",
    "                            disease_definition,\n",
    "                            drug_category,\n",
    "                            drug_state)\n",
    "                        )\n",
    "                        \n",
    "                plt.close()"
   ]
  },
  {
   "cell_type": "code",
   "execution_count": null,
   "metadata": {},
   "outputs": [],
   "source": []
  },
  {
   "cell_type": "code",
   "execution_count": null,
   "metadata": {},
   "outputs": [],
   "source": []
  },
  {
   "cell_type": "code",
   "execution_count": null,
   "metadata": {},
   "outputs": [],
   "source": []
  },
  {
   "cell_type": "code",
   "execution_count": null,
   "metadata": {},
   "outputs": [],
   "source": []
  }
 ],
 "metadata": {
  "kernelspec": {
   "display_name": "Python 3",
   "language": "python",
   "name": "python3"
  },
  "language_info": {
   "codemirror_mode": {
    "name": "ipython",
    "version": 3
   },
   "file_extension": ".py",
   "mimetype": "text/x-python",
   "name": "python",
   "nbconvert_exporter": "python",
   "pygments_lexer": "ipython3",
   "version": "3.6.5"
  }
 },
 "nbformat": 4,
 "nbformat_minor": 2
}
