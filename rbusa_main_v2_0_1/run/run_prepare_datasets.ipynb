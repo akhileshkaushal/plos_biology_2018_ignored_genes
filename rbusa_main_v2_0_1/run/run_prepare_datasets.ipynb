{
 "cells": [
  {
   "cell_type": "code",
   "execution_count": 1,
   "metadata": {},
   "outputs": [
    {
     "name": "stdout",
     "output_type": "stream",
     "text": [
      "Using machine-encoded switch for setting project paths.Needs replacement upon deploying / sharing with others.\n"
     ]
    }
   ],
   "source": [
    "%matplotlib inline \n",
    "%reload_ext autoreload\n",
    "%autoreload 2\n",
    "\n",
    "src_dir = './../src/'\n",
    "import sys\n",
    "sys.path[0] = src_dir\n",
    "\n",
    "from rbusa import prepare"
   ]
  },
  {
   "cell_type": "markdown",
   "metadata": {},
   "source": [
    "# Tier 1"
   ]
  },
  {
   "cell_type": "markdown",
   "metadata": {},
   "source": [
    "## Consumer Price Index"
   ]
  },
  {
   "cell_type": "code",
   "execution_count": 2,
   "metadata": {
    "collapsed": true
   },
   "outputs": [],
   "source": [
    "prepare.consumer_price_index()"
   ]
  },
  {
   "cell_type": "markdown",
   "metadata": {},
   "source": [
    "## Gender data of NIH supported PIs"
   ]
  },
  {
   "cell_type": "code",
   "execution_count": 3,
   "metadata": {
    "collapsed": true
   },
   "outputs": [],
   "source": [
    "prepare.diego_fregolente_on_nih()"
   ]
  },
  {
   "cell_type": "markdown",
   "metadata": {},
   "source": [
    "## Gender data from Zeng et al. 2016"
   ]
  },
  {
   "cell_type": "code",
   "execution_count": 4,
   "metadata": {},
   "outputs": [
    {
     "name": "stdout",
     "output_type": "stream",
     "text": [
      "Initialize download of zeng_researchers\n",
      "Succesfully downloaded https://s3-eu-west-1.amazonaws.com/pfigshare-u-files/5500553/full_researcher_data.csv to /Users/tstoeger/Projects/rbusa_main/data/internal/downloads/zeng/pfigshare-u-files/5500553/full_researcher_data.csv\n",
      "Initialize download of zeng_publications\n",
      "Succesfully downloaded https://s3-eu-west-1.amazonaws.com/pfigshare-u-files/5500550/full_publication_data.csv to /Users/tstoeger/Projects/rbusa_main/data/internal/downloads/zeng/pfigshare-u-files/5500550/full_publication_data.csv\n"
     ]
    }
   ],
   "source": [
    "prepare.zeng_2016()"
   ]
  },
  {
   "cell_type": "markdown",
   "metadata": {},
   "source": [
    "## NIH funding data"
   ]
  },
  {
   "cell_type": "code",
   "execution_count": 5,
   "metadata": {},
   "outputs": [
    {
     "name": "stdout",
     "output_type": "stream",
     "text": [
      "Succesfully downloaded https://exporter.nih.gov/CSVs/final/RePORTER_PRJFUNDING_C_FY1985.zip to /Users/tstoeger/Projects/rbusa_main/data/internal/nih_exporter/prjfunding/RePORTER_PRJFUNDING_C_FY1985.zip\n",
      "Succesfully downloaded https://exporter.nih.gov/CSVs/final/RePORTER_PRJFUNDING_C_FY1986.zip to /Users/tstoeger/Projects/rbusa_main/data/internal/nih_exporter/prjfunding/RePORTER_PRJFUNDING_C_FY1986.zip\n",
      "Succesfully downloaded https://exporter.nih.gov/CSVs/final/RePORTER_PRJFUNDING_C_FY1987.zip to /Users/tstoeger/Projects/rbusa_main/data/internal/nih_exporter/prjfunding/RePORTER_PRJFUNDING_C_FY1987.zip\n",
      "Succesfully downloaded https://exporter.nih.gov/CSVs/final/RePORTER_PRJFUNDING_C_FY1988.zip to /Users/tstoeger/Projects/rbusa_main/data/internal/nih_exporter/prjfunding/RePORTER_PRJFUNDING_C_FY1988.zip\n",
      "Succesfully downloaded https://exporter.nih.gov/CSVs/final/RePORTER_PRJFUNDING_C_FY1989.zip to /Users/tstoeger/Projects/rbusa_main/data/internal/nih_exporter/prjfunding/RePORTER_PRJFUNDING_C_FY1989.zip\n",
      "Succesfully downloaded https://exporter.nih.gov/CSVs/final/RePORTER_PRJFUNDING_C_FY1990.zip to /Users/tstoeger/Projects/rbusa_main/data/internal/nih_exporter/prjfunding/RePORTER_PRJFUNDING_C_FY1990.zip\n",
      "Succesfully downloaded https://exporter.nih.gov/CSVs/final/RePORTER_PRJFUNDING_C_FY1991.zip to /Users/tstoeger/Projects/rbusa_main/data/internal/nih_exporter/prjfunding/RePORTER_PRJFUNDING_C_FY1991.zip\n",
      "Succesfully downloaded https://exporter.nih.gov/CSVs/final/RePORTER_PRJFUNDING_C_FY1992.zip to /Users/tstoeger/Projects/rbusa_main/data/internal/nih_exporter/prjfunding/RePORTER_PRJFUNDING_C_FY1992.zip\n",
      "Succesfully downloaded https://exporter.nih.gov/CSVs/final/RePORTER_PRJFUNDING_C_FY1993.zip to /Users/tstoeger/Projects/rbusa_main/data/internal/nih_exporter/prjfunding/RePORTER_PRJFUNDING_C_FY1993.zip\n",
      "Succesfully downloaded https://exporter.nih.gov/CSVs/final/RePORTER_PRJFUNDING_C_FY1994.zip to /Users/tstoeger/Projects/rbusa_main/data/internal/nih_exporter/prjfunding/RePORTER_PRJFUNDING_C_FY1994.zip\n",
      "Succesfully downloaded https://exporter.nih.gov/CSVs/final/RePORTER_PRJFUNDING_C_FY1995.zip to /Users/tstoeger/Projects/rbusa_main/data/internal/nih_exporter/prjfunding/RePORTER_PRJFUNDING_C_FY1995.zip\n",
      "Succesfully downloaded https://exporter.nih.gov/CSVs/final/RePORTER_PRJFUNDING_C_FY1996.zip to /Users/tstoeger/Projects/rbusa_main/data/internal/nih_exporter/prjfunding/RePORTER_PRJFUNDING_C_FY1996.zip\n",
      "Succesfully downloaded https://exporter.nih.gov/CSVs/final/RePORTER_PRJFUNDING_C_FY1997.zip to /Users/tstoeger/Projects/rbusa_main/data/internal/nih_exporter/prjfunding/RePORTER_PRJFUNDING_C_FY1997.zip\n",
      "Succesfully downloaded https://exporter.nih.gov/CSVs/final/RePORTER_PRJFUNDING_C_FY1998.zip to /Users/tstoeger/Projects/rbusa_main/data/internal/nih_exporter/prjfunding/RePORTER_PRJFUNDING_C_FY1998.zip\n",
      "Succesfully downloaded https://exporter.nih.gov/CSVs/final/RePORTER_PRJFUNDING_C_FY1999.zip to /Users/tstoeger/Projects/rbusa_main/data/internal/nih_exporter/prjfunding/RePORTER_PRJFUNDING_C_FY1999.zip\n",
      "Succesfully downloaded https://exporter.nih.gov/CSVs/final/RePORTER_DUNS_C_FY2000.zip to /Users/tstoeger/Projects/rbusa_main/data/internal/nih_exporter/duns/RePORTER_DUNS_C_FY2000.zip\n",
      "Succesfully downloaded https://exporter.nih.gov/CSVs/final/RePORTER_DUNS_C_FY2001.zip to /Users/tstoeger/Projects/rbusa_main/data/internal/nih_exporter/duns/RePORTER_DUNS_C_FY2001.zip\n",
      "Succesfully downloaded https://exporter.nih.gov/CSVs/final/RePORTER_DUNS_C_FY2002.zip to /Users/tstoeger/Projects/rbusa_main/data/internal/nih_exporter/duns/RePORTER_DUNS_C_FY2002.zip\n",
      "Succesfully downloaded https://exporter.nih.gov/CSVs/final/RePORTER_DUNS_C_FY2003.zip to /Users/tstoeger/Projects/rbusa_main/data/internal/nih_exporter/duns/RePORTER_DUNS_C_FY2003.zip\n",
      "Succesfully downloaded https://exporter.nih.gov/CSVs/final/RePORTER_DUNS_C_FY2004.zip to /Users/tstoeger/Projects/rbusa_main/data/internal/nih_exporter/duns/RePORTER_DUNS_C_FY2004.zip\n",
      "Succesfully downloaded https://exporter.nih.gov/CSVs/final/RePORTER_DUNS_C_FY2005.zip to /Users/tstoeger/Projects/rbusa_main/data/internal/nih_exporter/duns/RePORTER_DUNS_C_FY2005.zip\n",
      "Succesfully downloaded https://exporter.nih.gov/CSVs/final/RePORTER_DUNS_C_FY2006.zip to /Users/tstoeger/Projects/rbusa_main/data/internal/nih_exporter/duns/RePORTER_DUNS_C_FY2006.zip\n",
      "Succesfully downloaded https://exporter.nih.gov/CSVs/final/RePORTER_DUNS_C_FY2007.zip to /Users/tstoeger/Projects/rbusa_main/data/internal/nih_exporter/duns/RePORTER_DUNS_C_FY2007.zip\n",
      "Succesfully downloaded https://exporter.nih.gov/CSVs/final/RePORTER_DUNS_C_FY2008.zip to /Users/tstoeger/Projects/rbusa_main/data/internal/nih_exporter/duns/RePORTER_DUNS_C_FY2008.zip\n",
      "Succesfully downloaded https://exporter.nih.gov/CSVs/final/RePORTER_AFFLNK_C_2014.zip to /Users/tstoeger/Projects/rbusa_main/data/out/nih_exporter/afflnk/RePORTER_AFFLNK_C_2014.zip\n",
      "Succesfully downloaded https://exporter.nih.gov/CSVs/final/RePORTER_AFFLNK_C_2015.zip to /Users/tstoeger/Projects/rbusa_main/data/out/nih_exporter/afflnk/RePORTER_AFFLNK_C_2015.zip\n",
      "Succesfully downloaded https://exporter.nih.gov/CSVs/final/RePORTER_AFFLNK_C_2016.zip to /Users/tstoeger/Projects/rbusa_main/data/out/nih_exporter/afflnk/RePORTER_AFFLNK_C_2016.zip\n",
      "Succesfully downloaded https://exporter.nih.gov/CSVs/final/RePORTER_PRJ_C_FY1985.zip to /Users/tstoeger/Projects/rbusa_main/data/internal/nih_exporter/prj/RePORTER_PRJ_C_FY1985.zip\n",
      "Succesfully downloaded https://exporter.nih.gov/CSVs/final/RePORTER_PRJ_C_FY1986.zip to /Users/tstoeger/Projects/rbusa_main/data/internal/nih_exporter/prj/RePORTER_PRJ_C_FY1986.zip\n",
      "Succesfully downloaded https://exporter.nih.gov/CSVs/final/RePORTER_PRJ_C_FY1987.zip to /Users/tstoeger/Projects/rbusa_main/data/internal/nih_exporter/prj/RePORTER_PRJ_C_FY1987.zip\n",
      "Succesfully downloaded https://exporter.nih.gov/CSVs/final/RePORTER_PRJ_C_FY1988.zip to /Users/tstoeger/Projects/rbusa_main/data/internal/nih_exporter/prj/RePORTER_PRJ_C_FY1988.zip\n",
      "Succesfully downloaded https://exporter.nih.gov/CSVs/final/RePORTER_PRJ_C_FY1989.zip to /Users/tstoeger/Projects/rbusa_main/data/internal/nih_exporter/prj/RePORTER_PRJ_C_FY1989.zip\n",
      "Succesfully downloaded https://exporter.nih.gov/CSVs/final/RePORTER_PRJ_C_FY1990.zip to /Users/tstoeger/Projects/rbusa_main/data/internal/nih_exporter/prj/RePORTER_PRJ_C_FY1990.zip\n",
      "Succesfully downloaded https://exporter.nih.gov/CSVs/final/RePORTER_PRJ_C_FY1991.zip to /Users/tstoeger/Projects/rbusa_main/data/internal/nih_exporter/prj/RePORTER_PRJ_C_FY1991.zip\n",
      "Succesfully downloaded https://exporter.nih.gov/CSVs/final/RePORTER_PRJ_C_FY1992.zip to /Users/tstoeger/Projects/rbusa_main/data/internal/nih_exporter/prj/RePORTER_PRJ_C_FY1992.zip\n",
      "Succesfully downloaded https://exporter.nih.gov/CSVs/final/RePORTER_PRJ_C_FY1993.zip to /Users/tstoeger/Projects/rbusa_main/data/internal/nih_exporter/prj/RePORTER_PRJ_C_FY1993.zip\n",
      "Succesfully downloaded https://exporter.nih.gov/CSVs/final/RePORTER_PRJ_C_FY1994.zip to /Users/tstoeger/Projects/rbusa_main/data/internal/nih_exporter/prj/RePORTER_PRJ_C_FY1994.zip\n",
      "Succesfully downloaded https://exporter.nih.gov/CSVs/final/RePORTER_PRJ_C_FY1995.zip to /Users/tstoeger/Projects/rbusa_main/data/internal/nih_exporter/prj/RePORTER_PRJ_C_FY1995.zip\n",
      "Succesfully downloaded https://exporter.nih.gov/CSVs/final/RePORTER_PRJ_C_FY1996.zip to /Users/tstoeger/Projects/rbusa_main/data/internal/nih_exporter/prj/RePORTER_PRJ_C_FY1996.zip\n",
      "Succesfully downloaded https://exporter.nih.gov/CSVs/final/RePORTER_PRJ_C_FY1997.zip to /Users/tstoeger/Projects/rbusa_main/data/internal/nih_exporter/prj/RePORTER_PRJ_C_FY1997.zip\n",
      "Succesfully downloaded https://exporter.nih.gov/CSVs/final/RePORTER_PRJ_C_FY1998.zip to /Users/tstoeger/Projects/rbusa_main/data/internal/nih_exporter/prj/RePORTER_PRJ_C_FY1998.zip\n",
      "Succesfully downloaded https://exporter.nih.gov/CSVs/final/RePORTER_PRJ_C_FY1999.zip to /Users/tstoeger/Projects/rbusa_main/data/internal/nih_exporter/prj/RePORTER_PRJ_C_FY1999.zip\n",
      "Succesfully downloaded https://exporter.nih.gov/CSVs/final/RePORTER_PRJ_C_FY2000.zip to /Users/tstoeger/Projects/rbusa_main/data/internal/nih_exporter/prj/RePORTER_PRJ_C_FY2000.zip\n",
      "Succesfully downloaded https://exporter.nih.gov/CSVs/final/RePORTER_PRJ_C_FY2001.zip to /Users/tstoeger/Projects/rbusa_main/data/internal/nih_exporter/prj/RePORTER_PRJ_C_FY2001.zip\n"
     ]
    },
    {
     "name": "stdout",
     "output_type": "stream",
     "text": [
      "Succesfully downloaded https://exporter.nih.gov/CSVs/final/RePORTER_PRJ_C_FY2002.zip to /Users/tstoeger/Projects/rbusa_main/data/internal/nih_exporter/prj/RePORTER_PRJ_C_FY2002.zip\n",
      "Succesfully downloaded https://exporter.nih.gov/CSVs/final/RePORTER_PRJ_C_FY2003.zip to /Users/tstoeger/Projects/rbusa_main/data/internal/nih_exporter/prj/RePORTER_PRJ_C_FY2003.zip\n",
      "Succesfully downloaded https://exporter.nih.gov/CSVs/final/RePORTER_PRJ_C_FY2004.zip to /Users/tstoeger/Projects/rbusa_main/data/internal/nih_exporter/prj/RePORTER_PRJ_C_FY2004.zip\n",
      "Succesfully downloaded https://exporter.nih.gov/CSVs/final/RePORTER_PRJ_C_FY2005.zip to /Users/tstoeger/Projects/rbusa_main/data/internal/nih_exporter/prj/RePORTER_PRJ_C_FY2005.zip\n",
      "Succesfully downloaded https://exporter.nih.gov/CSVs/final/RePORTER_PRJ_C_FY2006.zip to /Users/tstoeger/Projects/rbusa_main/data/internal/nih_exporter/prj/RePORTER_PRJ_C_FY2006.zip\n",
      "Succesfully downloaded https://exporter.nih.gov/CSVs/final/RePORTER_PRJ_C_FY2007.zip to /Users/tstoeger/Projects/rbusa_main/data/internal/nih_exporter/prj/RePORTER_PRJ_C_FY2007.zip\n",
      "Succesfully downloaded https://exporter.nih.gov/CSVs/final/RePORTER_PRJ_C_FY2008.zip to /Users/tstoeger/Projects/rbusa_main/data/internal/nih_exporter/prj/RePORTER_PRJ_C_FY2008.zip\n",
      "Succesfully downloaded https://exporter.nih.gov/CSVs/final/RePORTER_PRJ_C_FY2009.zip to /Users/tstoeger/Projects/rbusa_main/data/internal/nih_exporter/prj/RePORTER_PRJ_C_FY2009.zip\n",
      "Succesfully downloaded https://exporter.nih.gov/CSVs/final/RePORTER_PRJ_C_FY2010.zip to /Users/tstoeger/Projects/rbusa_main/data/internal/nih_exporter/prj/RePORTER_PRJ_C_FY2010.zip\n",
      "Succesfully downloaded https://exporter.nih.gov/CSVs/final/RePORTER_PRJ_C_FY2011.zip to /Users/tstoeger/Projects/rbusa_main/data/internal/nih_exporter/prj/RePORTER_PRJ_C_FY2011.zip\n",
      "Succesfully downloaded https://exporter.nih.gov/CSVs/final/RePORTER_PRJ_C_FY2012.zip to /Users/tstoeger/Projects/rbusa_main/data/internal/nih_exporter/prj/RePORTER_PRJ_C_FY2012.zip\n",
      "Succesfully downloaded https://exporter.nih.gov/CSVs/final/RePORTER_PRJ_C_FY2013.zip to /Users/tstoeger/Projects/rbusa_main/data/internal/nih_exporter/prj/RePORTER_PRJ_C_FY2013.zip\n",
      "Succesfully downloaded https://exporter.nih.gov/CSVs/final/RePORTER_PRJ_C_FY2014.zip to /Users/tstoeger/Projects/rbusa_main/data/internal/nih_exporter/prj/RePORTER_PRJ_C_FY2014.zip\n",
      "Succesfully downloaded https://exporter.nih.gov/CSVs/final/RePORTER_PRJ_C_FY2015.zip to /Users/tstoeger/Projects/rbusa_main/data/internal/nih_exporter/prj/RePORTER_PRJ_C_FY2015.zip\n",
      "Succesfully downloaded https://exporter.nih.gov/CSVs/final/RePORTER_PRJ_C_FY2016.zip to /Users/tstoeger/Projects/rbusa_main/data/internal/nih_exporter/prj/RePORTER_PRJ_C_FY2016.zip\n",
      "Succesfully downloaded https://exporter.nih.gov/CSVs/final/RePORTER_PRJ_C_FY2017_001.zip to /Users/tstoeger/Projects/rbusa_main/data/internal/nih_exporter/prj/RePORTER_PRJ_C_FY2017_001.zip\n",
      "Succesfully downloaded https://exporter.nih.gov/CSVs/final/RePORTER_PRJ_C_FY2017_002.zip to /Users/tstoeger/Projects/rbusa_main/data/internal/nih_exporter/prj/RePORTER_PRJ_C_FY2017_002.zip\n",
      "Succesfully downloaded https://exporter.nih.gov/CSVs/final/RePORTER_PRJABS_C_FY1985.zip to /Users/tstoeger/Projects/rbusa_main/data/out/nih_exporter/prjabs/RePORTER_PRJABS_C_FY1985.zip\n",
      "Succesfully downloaded https://exporter.nih.gov/CSVs/final/RePORTER_PRJABS_C_FY1986.zip to /Users/tstoeger/Projects/rbusa_main/data/out/nih_exporter/prjabs/RePORTER_PRJABS_C_FY1986.zip\n",
      "Succesfully downloaded https://exporter.nih.gov/CSVs/final/RePORTER_PRJABS_C_FY1987.zip to /Users/tstoeger/Projects/rbusa_main/data/out/nih_exporter/prjabs/RePORTER_PRJABS_C_FY1987.zip\n",
      "Succesfully downloaded https://exporter.nih.gov/CSVs/final/RePORTER_PRJABS_C_FY1988.zip to /Users/tstoeger/Projects/rbusa_main/data/out/nih_exporter/prjabs/RePORTER_PRJABS_C_FY1988.zip\n",
      "Succesfully downloaded https://exporter.nih.gov/CSVs/final/RePORTER_PRJABS_C_FY1989.zip to /Users/tstoeger/Projects/rbusa_main/data/out/nih_exporter/prjabs/RePORTER_PRJABS_C_FY1989.zip\n",
      "Succesfully downloaded https://exporter.nih.gov/CSVs/final/RePORTER_PRJABS_C_FY1990.zip to /Users/tstoeger/Projects/rbusa_main/data/out/nih_exporter/prjabs/RePORTER_PRJABS_C_FY1990.zip\n",
      "Succesfully downloaded https://exporter.nih.gov/CSVs/final/RePORTER_PRJABS_C_FY1991.zip to /Users/tstoeger/Projects/rbusa_main/data/out/nih_exporter/prjabs/RePORTER_PRJABS_C_FY1991.zip\n",
      "Succesfully downloaded https://exporter.nih.gov/CSVs/final/RePORTER_PRJABS_C_FY1992.zip to /Users/tstoeger/Projects/rbusa_main/data/out/nih_exporter/prjabs/RePORTER_PRJABS_C_FY1992.zip\n",
      "Succesfully downloaded https://exporter.nih.gov/CSVs/final/RePORTER_PRJABS_C_FY1993.zip to /Users/tstoeger/Projects/rbusa_main/data/out/nih_exporter/prjabs/RePORTER_PRJABS_C_FY1993.zip\n",
      "Succesfully downloaded https://exporter.nih.gov/CSVs/final/RePORTER_PRJABS_C_FY1994.zip to /Users/tstoeger/Projects/rbusa_main/data/out/nih_exporter/prjabs/RePORTER_PRJABS_C_FY1994.zip\n",
      "Succesfully downloaded https://exporter.nih.gov/CSVs/final/RePORTER_PRJABS_C_FY1995.zip to /Users/tstoeger/Projects/rbusa_main/data/out/nih_exporter/prjabs/RePORTER_PRJABS_C_FY1995.zip\n",
      "Succesfully downloaded https://exporter.nih.gov/CSVs/final/RePORTER_PRJABS_C_FY1996.zip to /Users/tstoeger/Projects/rbusa_main/data/out/nih_exporter/prjabs/RePORTER_PRJABS_C_FY1996.zip\n",
      "Succesfully downloaded https://exporter.nih.gov/CSVs/final/RePORTER_PRJABS_C_FY1997.zip to /Users/tstoeger/Projects/rbusa_main/data/out/nih_exporter/prjabs/RePORTER_PRJABS_C_FY1997.zip\n",
      "Succesfully downloaded https://exporter.nih.gov/CSVs/final/RePORTER_PRJABS_C_FY1998.zip to /Users/tstoeger/Projects/rbusa_main/data/out/nih_exporter/prjabs/RePORTER_PRJABS_C_FY1998.zip\n",
      "Succesfully downloaded https://exporter.nih.gov/CSVs/final/RePORTER_PRJABS_C_FY1999.zip to /Users/tstoeger/Projects/rbusa_main/data/out/nih_exporter/prjabs/RePORTER_PRJABS_C_FY1999.zip\n",
      "Succesfully downloaded https://exporter.nih.gov/CSVs/final/RePORTER_PRJABS_C_FY2000.zip to /Users/tstoeger/Projects/rbusa_main/data/out/nih_exporter/prjabs/RePORTER_PRJABS_C_FY2000.zip\n",
      "Succesfully downloaded https://exporter.nih.gov/CSVs/final/RePORTER_PRJABS_C_FY2001.zip to /Users/tstoeger/Projects/rbusa_main/data/out/nih_exporter/prjabs/RePORTER_PRJABS_C_FY2001.zip\n",
      "Succesfully downloaded https://exporter.nih.gov/CSVs/final/RePORTER_PRJABS_C_FY2002.zip to /Users/tstoeger/Projects/rbusa_main/data/out/nih_exporter/prjabs/RePORTER_PRJABS_C_FY2002.zip\n",
      "Succesfully downloaded https://exporter.nih.gov/CSVs/final/RePORTER_PRJABS_C_FY2003.zip to /Users/tstoeger/Projects/rbusa_main/data/out/nih_exporter/prjabs/RePORTER_PRJABS_C_FY2003.zip\n",
      "Succesfully downloaded https://exporter.nih.gov/CSVs/final/RePORTER_PRJABS_C_FY2004.zip to /Users/tstoeger/Projects/rbusa_main/data/out/nih_exporter/prjabs/RePORTER_PRJABS_C_FY2004.zip\n",
      "Succesfully downloaded https://exporter.nih.gov/CSVs/final/RePORTER_PRJABS_C_FY2005.zip to /Users/tstoeger/Projects/rbusa_main/data/out/nih_exporter/prjabs/RePORTER_PRJABS_C_FY2005.zip\n",
      "Succesfully downloaded https://exporter.nih.gov/CSVs/final/RePORTER_PRJABS_C_FY2006.zip to /Users/tstoeger/Projects/rbusa_main/data/out/nih_exporter/prjabs/RePORTER_PRJABS_C_FY2006.zip\n",
      "Succesfully downloaded https://exporter.nih.gov/CSVs/final/RePORTER_PRJABS_C_FY2007.zip to /Users/tstoeger/Projects/rbusa_main/data/out/nih_exporter/prjabs/RePORTER_PRJABS_C_FY2007.zip\n",
      "Succesfully downloaded https://exporter.nih.gov/CSVs/final/RePORTER_PRJABS_C_FY2008.zip to /Users/tstoeger/Projects/rbusa_main/data/out/nih_exporter/prjabs/RePORTER_PRJABS_C_FY2008.zip\n",
      "Succesfully downloaded https://exporter.nih.gov/CSVs/final/RePORTER_PRJABS_C_FY2009.zip to /Users/tstoeger/Projects/rbusa_main/data/out/nih_exporter/prjabs/RePORTER_PRJABS_C_FY2009.zip\n",
      "Succesfully downloaded https://exporter.nih.gov/CSVs/final/RePORTER_PRJABS_C_FY2010.zip to /Users/tstoeger/Projects/rbusa_main/data/out/nih_exporter/prjabs/RePORTER_PRJABS_C_FY2010.zip\n",
      "Succesfully downloaded https://exporter.nih.gov/CSVs/final/RePORTER_PRJABS_C_FY2011.zip to /Users/tstoeger/Projects/rbusa_main/data/out/nih_exporter/prjabs/RePORTER_PRJABS_C_FY2011.zip\n",
      "Succesfully downloaded https://exporter.nih.gov/CSVs/final/RePORTER_PRJABS_C_FY2012.zip to /Users/tstoeger/Projects/rbusa_main/data/out/nih_exporter/prjabs/RePORTER_PRJABS_C_FY2012.zip\n"
     ]
    },
    {
     "name": "stdout",
     "output_type": "stream",
     "text": [
      "Succesfully downloaded https://exporter.nih.gov/CSVs/final/RePORTER_PRJABS_C_FY2013.zip to /Users/tstoeger/Projects/rbusa_main/data/out/nih_exporter/prjabs/RePORTER_PRJABS_C_FY2013.zip\n",
      "Succesfully downloaded https://exporter.nih.gov/CSVs/final/RePORTER_PRJABS_C_FY2014.zip to /Users/tstoeger/Projects/rbusa_main/data/out/nih_exporter/prjabs/RePORTER_PRJABS_C_FY2014.zip\n",
      "Succesfully downloaded https://exporter.nih.gov/CSVs/final/RePORTER_PRJABS_C_FY2015.zip to /Users/tstoeger/Projects/rbusa_main/data/out/nih_exporter/prjabs/RePORTER_PRJABS_C_FY2015.zip\n",
      "Succesfully downloaded https://exporter.nih.gov/CSVs/final/RePORTER_PRJABS_C_FY2016.zip to /Users/tstoeger/Projects/rbusa_main/data/out/nih_exporter/prjabs/RePORTER_PRJABS_C_FY2016.zip\n",
      "Succesfully downloaded https://exporter.nih.gov/CSVs/final/RePORTER_PRJABS_C_FY2017_001.zip to /Users/tstoeger/Projects/rbusa_main/data/out/nih_exporter/prjabs/RePORTER_PRJABS_C_FY2017_001.zip\n",
      "Succesfully downloaded https://exporter.nih.gov/CSVs/final/RePORTER_PRJABS_C_FY2017_002.zip to /Users/tstoeger/Projects/rbusa_main/data/out/nih_exporter/prjabs/RePORTER_PRJABS_C_FY2017_002.zip\n",
      "Succesfully downloaded https://exporter.nih.gov/CSVs/final/RePORTER_PUB_C_1980.zip to /Users/tstoeger/Projects/rbusa_main/data/out/nih_exporter/pub/RePORTER_PUB_C_1980.zip\n",
      "Succesfully downloaded https://exporter.nih.gov/CSVs/final/RePORTER_PUB_C_1981.zip to /Users/tstoeger/Projects/rbusa_main/data/out/nih_exporter/pub/RePORTER_PUB_C_1981.zip\n",
      "Succesfully downloaded https://exporter.nih.gov/CSVs/final/RePORTER_PUB_C_1982.zip to /Users/tstoeger/Projects/rbusa_main/data/out/nih_exporter/pub/RePORTER_PUB_C_1982.zip\n",
      "Succesfully downloaded https://exporter.nih.gov/CSVs/final/RePORTER_PUB_C_1983.zip to /Users/tstoeger/Projects/rbusa_main/data/out/nih_exporter/pub/RePORTER_PUB_C_1983.zip\n",
      "Succesfully downloaded https://exporter.nih.gov/CSVs/final/RePORTER_PUB_C_1984.zip to /Users/tstoeger/Projects/rbusa_main/data/out/nih_exporter/pub/RePORTER_PUB_C_1984.zip\n",
      "Succesfully downloaded https://exporter.nih.gov/CSVs/final/RePORTER_PUB_C_1985.zip to /Users/tstoeger/Projects/rbusa_main/data/out/nih_exporter/pub/RePORTER_PUB_C_1985.zip\n",
      "Succesfully downloaded https://exporter.nih.gov/CSVs/final/RePORTER_PUB_C_1986.zip to /Users/tstoeger/Projects/rbusa_main/data/out/nih_exporter/pub/RePORTER_PUB_C_1986.zip\n",
      "Succesfully downloaded https://exporter.nih.gov/CSVs/final/RePORTER_PUB_C_1987.zip to /Users/tstoeger/Projects/rbusa_main/data/out/nih_exporter/pub/RePORTER_PUB_C_1987.zip\n",
      "Succesfully downloaded https://exporter.nih.gov/CSVs/final/RePORTER_PUB_C_1988.zip to /Users/tstoeger/Projects/rbusa_main/data/out/nih_exporter/pub/RePORTER_PUB_C_1988.zip\n",
      "Succesfully downloaded https://exporter.nih.gov/CSVs/final/RePORTER_PUB_C_1989.zip to /Users/tstoeger/Projects/rbusa_main/data/out/nih_exporter/pub/RePORTER_PUB_C_1989.zip\n",
      "Succesfully downloaded https://exporter.nih.gov/CSVs/final/RePORTER_PUB_C_1990.zip to /Users/tstoeger/Projects/rbusa_main/data/out/nih_exporter/pub/RePORTER_PUB_C_1990.zip\n",
      "Succesfully downloaded https://exporter.nih.gov/CSVs/final/RePORTER_PUB_C_1991.zip to /Users/tstoeger/Projects/rbusa_main/data/out/nih_exporter/pub/RePORTER_PUB_C_1991.zip\n",
      "Succesfully downloaded https://exporter.nih.gov/CSVs/final/RePORTER_PUB_C_1992.zip to /Users/tstoeger/Projects/rbusa_main/data/out/nih_exporter/pub/RePORTER_PUB_C_1992.zip\n",
      "Succesfully downloaded https://exporter.nih.gov/CSVs/final/RePORTER_PUB_C_1993.zip to /Users/tstoeger/Projects/rbusa_main/data/out/nih_exporter/pub/RePORTER_PUB_C_1993.zip\n",
      "Succesfully downloaded https://exporter.nih.gov/CSVs/final/RePORTER_PUB_C_1994.zip to /Users/tstoeger/Projects/rbusa_main/data/out/nih_exporter/pub/RePORTER_PUB_C_1994.zip\n",
      "Succesfully downloaded https://exporter.nih.gov/CSVs/final/RePORTER_PUB_C_1995.zip to /Users/tstoeger/Projects/rbusa_main/data/out/nih_exporter/pub/RePORTER_PUB_C_1995.zip\n",
      "Succesfully downloaded https://exporter.nih.gov/CSVs/final/RePORTER_PUB_C_1996.zip to /Users/tstoeger/Projects/rbusa_main/data/out/nih_exporter/pub/RePORTER_PUB_C_1996.zip\n",
      "Succesfully downloaded https://exporter.nih.gov/CSVs/final/RePORTER_PUB_C_1997.zip to /Users/tstoeger/Projects/rbusa_main/data/out/nih_exporter/pub/RePORTER_PUB_C_1997.zip\n",
      "Succesfully downloaded https://exporter.nih.gov/CSVs/final/RePORTER_PUB_C_1998.zip to /Users/tstoeger/Projects/rbusa_main/data/out/nih_exporter/pub/RePORTER_PUB_C_1998.zip\n",
      "Succesfully downloaded https://exporter.nih.gov/CSVs/final/RePORTER_PUB_C_1999.zip to /Users/tstoeger/Projects/rbusa_main/data/out/nih_exporter/pub/RePORTER_PUB_C_1999.zip\n",
      "Succesfully downloaded https://exporter.nih.gov/CSVs/final/RePORTER_PUB_C_2000.zip to /Users/tstoeger/Projects/rbusa_main/data/out/nih_exporter/pub/RePORTER_PUB_C_2000.zip\n",
      "Succesfully downloaded https://exporter.nih.gov/CSVs/final/RePORTER_PUB_C_2001.zip to /Users/tstoeger/Projects/rbusa_main/data/out/nih_exporter/pub/RePORTER_PUB_C_2001.zip\n",
      "Succesfully downloaded https://exporter.nih.gov/CSVs/final/RePORTER_PUB_C_2002.zip to /Users/tstoeger/Projects/rbusa_main/data/out/nih_exporter/pub/RePORTER_PUB_C_2002.zip\n",
      "Succesfully downloaded https://exporter.nih.gov/CSVs/final/RePORTER_PUB_C_2003.zip to /Users/tstoeger/Projects/rbusa_main/data/out/nih_exporter/pub/RePORTER_PUB_C_2003.zip\n",
      "Succesfully downloaded https://exporter.nih.gov/CSVs/final/RePORTER_PUB_C_2004.zip to /Users/tstoeger/Projects/rbusa_main/data/out/nih_exporter/pub/RePORTER_PUB_C_2004.zip\n",
      "Succesfully downloaded https://exporter.nih.gov/CSVs/final/RePORTER_PUB_C_2005.zip to /Users/tstoeger/Projects/rbusa_main/data/out/nih_exporter/pub/RePORTER_PUB_C_2005.zip\n",
      "Succesfully downloaded https://exporter.nih.gov/CSVs/final/RePORTER_PUB_C_2006.zip to /Users/tstoeger/Projects/rbusa_main/data/out/nih_exporter/pub/RePORTER_PUB_C_2006.zip\n",
      "Succesfully downloaded https://exporter.nih.gov/CSVs/final/RePORTER_PUB_C_2007.zip to /Users/tstoeger/Projects/rbusa_main/data/out/nih_exporter/pub/RePORTER_PUB_C_2007.zip\n",
      "Succesfully downloaded https://exporter.nih.gov/CSVs/final/RePORTER_PUB_C_2008.zip to /Users/tstoeger/Projects/rbusa_main/data/out/nih_exporter/pub/RePORTER_PUB_C_2008.zip\n",
      "Succesfully downloaded https://exporter.nih.gov/CSVs/final/RePORTER_PUB_C_2009.zip to /Users/tstoeger/Projects/rbusa_main/data/out/nih_exporter/pub/RePORTER_PUB_C_2009.zip\n",
      "Succesfully downloaded https://exporter.nih.gov/CSVs/final/RePORTER_PUB_C_2010.zip to /Users/tstoeger/Projects/rbusa_main/data/out/nih_exporter/pub/RePORTER_PUB_C_2010.zip\n",
      "Succesfully downloaded https://exporter.nih.gov/CSVs/final/RePORTER_PUB_C_2011.zip to /Users/tstoeger/Projects/rbusa_main/data/out/nih_exporter/pub/RePORTER_PUB_C_2011.zip\n",
      "Succesfully downloaded https://exporter.nih.gov/CSVs/final/RePORTER_PUB_C_2012.zip to /Users/tstoeger/Projects/rbusa_main/data/out/nih_exporter/pub/RePORTER_PUB_C_2012.zip\n",
      "Succesfully downloaded https://exporter.nih.gov/CSVs/final/RePORTER_PUB_C_2013.zip to /Users/tstoeger/Projects/rbusa_main/data/out/nih_exporter/pub/RePORTER_PUB_C_2013.zip\n",
      "Succesfully downloaded https://exporter.nih.gov/CSVs/final/RePORTER_PUB_C_2014.zip to /Users/tstoeger/Projects/rbusa_main/data/out/nih_exporter/pub/RePORTER_PUB_C_2014.zip\n",
      "Succesfully downloaded https://exporter.nih.gov/CSVs/final/RePORTER_PUB_C_2015.zip to /Users/tstoeger/Projects/rbusa_main/data/out/nih_exporter/pub/RePORTER_PUB_C_2015.zip\n",
      "Succesfully downloaded https://exporter.nih.gov/CSVs/final/RePORTER_PUB_C_2016.zip to /Users/tstoeger/Projects/rbusa_main/data/out/nih_exporter/pub/RePORTER_PUB_C_2016.zip\n",
      "Succesfully downloaded https://exporter.nih.gov/CSVs/final/RePORTER_PATENTS_C_ALL.zip to /Users/tstoeger/Projects/rbusa_main/data/out/nih_exporter/RePORTER_PATENTS_C_ALL.zip\n",
      "Succesfully downloaded https://exporter.nih.gov/CSVs/final/RePORTER_CLINICAL_STUDIES_C_ALL.zip to /Users/tstoeger/Projects/rbusa_main/data/out/nih_exporter/RePORTER_CLINICAL_STUDIES_C_ALL.zip\n",
      "Succesfully downloaded https://exporter.nih.gov/CSVs/final/RePORTER_PUBLNK_C_1980.zip to /Users/tstoeger/Projects/rbusa_main/data/out/nih_exporter/publnk/RePORTER_PUBLNK_C_1980.zip\n",
      "Succesfully downloaded https://exporter.nih.gov/CSVs/final/RePORTER_PUBLNK_C_1981.zip to /Users/tstoeger/Projects/rbusa_main/data/out/nih_exporter/publnk/RePORTER_PUBLNK_C_1981.zip\n"
     ]
    },
    {
     "name": "stdout",
     "output_type": "stream",
     "text": [
      "Succesfully downloaded https://exporter.nih.gov/CSVs/final/RePORTER_PUBLNK_C_1982.zip to /Users/tstoeger/Projects/rbusa_main/data/out/nih_exporter/publnk/RePORTER_PUBLNK_C_1982.zip\n",
      "Succesfully downloaded https://exporter.nih.gov/CSVs/final/RePORTER_PUBLNK_C_1983.zip to /Users/tstoeger/Projects/rbusa_main/data/out/nih_exporter/publnk/RePORTER_PUBLNK_C_1983.zip\n",
      "Succesfully downloaded https://exporter.nih.gov/CSVs/final/RePORTER_PUBLNK_C_1984.zip to /Users/tstoeger/Projects/rbusa_main/data/out/nih_exporter/publnk/RePORTER_PUBLNK_C_1984.zip\n",
      "Succesfully downloaded https://exporter.nih.gov/CSVs/final/RePORTER_PUBLNK_C_1985.zip to /Users/tstoeger/Projects/rbusa_main/data/out/nih_exporter/publnk/RePORTER_PUBLNK_C_1985.zip\n",
      "Succesfully downloaded https://exporter.nih.gov/CSVs/final/RePORTER_PUBLNK_C_1986.zip to /Users/tstoeger/Projects/rbusa_main/data/out/nih_exporter/publnk/RePORTER_PUBLNK_C_1986.zip\n",
      "Succesfully downloaded https://exporter.nih.gov/CSVs/final/RePORTER_PUBLNK_C_1987.zip to /Users/tstoeger/Projects/rbusa_main/data/out/nih_exporter/publnk/RePORTER_PUBLNK_C_1987.zip\n",
      "Succesfully downloaded https://exporter.nih.gov/CSVs/final/RePORTER_PUBLNK_C_1988.zip to /Users/tstoeger/Projects/rbusa_main/data/out/nih_exporter/publnk/RePORTER_PUBLNK_C_1988.zip\n",
      "Succesfully downloaded https://exporter.nih.gov/CSVs/final/RePORTER_PUBLNK_C_1989.zip to /Users/tstoeger/Projects/rbusa_main/data/out/nih_exporter/publnk/RePORTER_PUBLNK_C_1989.zip\n",
      "Succesfully downloaded https://exporter.nih.gov/CSVs/final/RePORTER_PUBLNK_C_1990.zip to /Users/tstoeger/Projects/rbusa_main/data/out/nih_exporter/publnk/RePORTER_PUBLNK_C_1990.zip\n",
      "Succesfully downloaded https://exporter.nih.gov/CSVs/final/RePORTER_PUBLNK_C_1991.zip to /Users/tstoeger/Projects/rbusa_main/data/out/nih_exporter/publnk/RePORTER_PUBLNK_C_1991.zip\n",
      "Succesfully downloaded https://exporter.nih.gov/CSVs/final/RePORTER_PUBLNK_C_1992.zip to /Users/tstoeger/Projects/rbusa_main/data/out/nih_exporter/publnk/RePORTER_PUBLNK_C_1992.zip\n",
      "Succesfully downloaded https://exporter.nih.gov/CSVs/final/RePORTER_PUBLNK_C_1993.zip to /Users/tstoeger/Projects/rbusa_main/data/out/nih_exporter/publnk/RePORTER_PUBLNK_C_1993.zip\n",
      "Succesfully downloaded https://exporter.nih.gov/CSVs/final/RePORTER_PUBLNK_C_1994.zip to /Users/tstoeger/Projects/rbusa_main/data/out/nih_exporter/publnk/RePORTER_PUBLNK_C_1994.zip\n",
      "Succesfully downloaded https://exporter.nih.gov/CSVs/final/RePORTER_PUBLNK_C_1995.zip to /Users/tstoeger/Projects/rbusa_main/data/out/nih_exporter/publnk/RePORTER_PUBLNK_C_1995.zip\n",
      "Succesfully downloaded https://exporter.nih.gov/CSVs/final/RePORTER_PUBLNK_C_1996.zip to /Users/tstoeger/Projects/rbusa_main/data/out/nih_exporter/publnk/RePORTER_PUBLNK_C_1996.zip\n",
      "Succesfully downloaded https://exporter.nih.gov/CSVs/final/RePORTER_PUBLNK_C_1997.zip to /Users/tstoeger/Projects/rbusa_main/data/out/nih_exporter/publnk/RePORTER_PUBLNK_C_1997.zip\n",
      "Succesfully downloaded https://exporter.nih.gov/CSVs/final/RePORTER_PUBLNK_C_1998.zip to /Users/tstoeger/Projects/rbusa_main/data/out/nih_exporter/publnk/RePORTER_PUBLNK_C_1998.zip\n",
      "Succesfully downloaded https://exporter.nih.gov/CSVs/final/RePORTER_PUBLNK_C_1999.zip to /Users/tstoeger/Projects/rbusa_main/data/out/nih_exporter/publnk/RePORTER_PUBLNK_C_1999.zip\n",
      "Succesfully downloaded https://exporter.nih.gov/CSVs/final/RePORTER_PUBLNK_C_2000.zip to /Users/tstoeger/Projects/rbusa_main/data/out/nih_exporter/publnk/RePORTER_PUBLNK_C_2000.zip\n",
      "Succesfully downloaded https://exporter.nih.gov/CSVs/final/RePORTER_PUBLNK_C_2001.zip to /Users/tstoeger/Projects/rbusa_main/data/out/nih_exporter/publnk/RePORTER_PUBLNK_C_2001.zip\n",
      "Succesfully downloaded https://exporter.nih.gov/CSVs/final/RePORTER_PUBLNK_C_2002.zip to /Users/tstoeger/Projects/rbusa_main/data/out/nih_exporter/publnk/RePORTER_PUBLNK_C_2002.zip\n",
      "Succesfully downloaded https://exporter.nih.gov/CSVs/final/RePORTER_PUBLNK_C_2003.zip to /Users/tstoeger/Projects/rbusa_main/data/out/nih_exporter/publnk/RePORTER_PUBLNK_C_2003.zip\n",
      "Succesfully downloaded https://exporter.nih.gov/CSVs/final/RePORTER_PUBLNK_C_2004.zip to /Users/tstoeger/Projects/rbusa_main/data/out/nih_exporter/publnk/RePORTER_PUBLNK_C_2004.zip\n",
      "Succesfully downloaded https://exporter.nih.gov/CSVs/final/RePORTER_PUBLNK_C_2005.zip to /Users/tstoeger/Projects/rbusa_main/data/out/nih_exporter/publnk/RePORTER_PUBLNK_C_2005.zip\n",
      "Succesfully downloaded https://exporter.nih.gov/CSVs/final/RePORTER_PUBLNK_C_2006.zip to /Users/tstoeger/Projects/rbusa_main/data/out/nih_exporter/publnk/RePORTER_PUBLNK_C_2006.zip\n",
      "Succesfully downloaded https://exporter.nih.gov/CSVs/final/RePORTER_PUBLNK_C_2007.zip to /Users/tstoeger/Projects/rbusa_main/data/out/nih_exporter/publnk/RePORTER_PUBLNK_C_2007.zip\n",
      "Succesfully downloaded https://exporter.nih.gov/CSVs/final/RePORTER_PUBLNK_C_2008.zip to /Users/tstoeger/Projects/rbusa_main/data/out/nih_exporter/publnk/RePORTER_PUBLNK_C_2008.zip\n",
      "Succesfully downloaded https://exporter.nih.gov/CSVs/final/RePORTER_PUBLNK_C_2009.zip to /Users/tstoeger/Projects/rbusa_main/data/out/nih_exporter/publnk/RePORTER_PUBLNK_C_2009.zip\n",
      "Succesfully downloaded https://exporter.nih.gov/CSVs/final/RePORTER_PUBLNK_C_2010.zip to /Users/tstoeger/Projects/rbusa_main/data/out/nih_exporter/publnk/RePORTER_PUBLNK_C_2010.zip\n",
      "Succesfully downloaded https://exporter.nih.gov/CSVs/final/RePORTER_PUBLNK_C_2011.zip to /Users/tstoeger/Projects/rbusa_main/data/out/nih_exporter/publnk/RePORTER_PUBLNK_C_2011.zip\n",
      "Succesfully downloaded https://exporter.nih.gov/CSVs/final/RePORTER_PUBLNK_C_2012.zip to /Users/tstoeger/Projects/rbusa_main/data/out/nih_exporter/publnk/RePORTER_PUBLNK_C_2012.zip\n",
      "Succesfully downloaded https://exporter.nih.gov/CSVs/final/RePORTER_PUBLNK_C_2013.zip to /Users/tstoeger/Projects/rbusa_main/data/out/nih_exporter/publnk/RePORTER_PUBLNK_C_2013.zip\n",
      "Succesfully downloaded https://exporter.nih.gov/CSVs/final/RePORTER_PUBLNK_C_2014.zip to /Users/tstoeger/Projects/rbusa_main/data/out/nih_exporter/publnk/RePORTER_PUBLNK_C_2014.zip\n",
      "Succesfully downloaded https://exporter.nih.gov/CSVs/final/RePORTER_PUBLNK_C_2015.zip to /Users/tstoeger/Projects/rbusa_main/data/out/nih_exporter/publnk/RePORTER_PUBLNK_C_2015.zip\n",
      "Succesfully downloaded https://exporter.nih.gov/CSVs/final/RePORTER_PUBLNK_C_2016.zip to /Users/tstoeger/Projects/rbusa_main/data/out/nih_exporter/publnk/RePORTER_PUBLNK_C_2016.zip\n",
      "Succesfully downloaded https://exporter.nih.gov/CSVs/final/RePORTER_PRJ_C_FY2017_004.zip to /Users/tstoeger/Projects/rbusa_main/data/internal/nih_exporter/prj/RePORTER_PRJ_C_FY2017_004.zip\n",
      "Succesfully downloaded https://exporter.nih.gov/CSVs/final/RePORTER_PRJ_C_FY2017_005.zip to /Users/tstoeger/Projects/rbusa_main/data/internal/nih_exporter/prj/RePORTER_PRJ_C_FY2017_005.zip\n",
      "Succesfully downloaded https://exporter.nih.gov/CSVs/final/RePORTER_PRJ_C_FY2017_006.zip to /Users/tstoeger/Projects/rbusa_main/data/internal/nih_exporter/prj/RePORTER_PRJ_C_FY2017_006.zip\n",
      "Succesfully downloaded https://exporter.nih.gov/CSVs/final/RePORTER_PRJ_C_FY2017_007.zip to /Users/tstoeger/Projects/rbusa_main/data/internal/nih_exporter/prj/RePORTER_PRJ_C_FY2017_007.zip\n",
      "Succesfully downloaded https://exporter.nih.gov/CSVs/final/RePORTER_PRJ_C_FY2017_008.zip to /Users/tstoeger/Projects/rbusa_main/data/internal/nih_exporter/prj/RePORTER_PRJ_C_FY2017_008.zip\n",
      "Succesfully downloaded https://exporter.nih.gov/CSVs/final/RePORTER_PRJ_C_FY2017_009.zip to /Users/tstoeger/Projects/rbusa_main/data/internal/nih_exporter/prj/RePORTER_PRJ_C_FY2017_009.zip\n",
      "Succesfully downloaded https://exporter.nih.gov/CSVs/final/RePORTER_PRJ_C_FY2017_010.zip to /Users/tstoeger/Projects/rbusa_main/data/internal/nih_exporter/prj/RePORTER_PRJ_C_FY2017_010.zip\n",
      "Succesfully downloaded https://exporter.nih.gov/CSVs/final/RePORTER_PRJ_C_FY2017_011.zip to /Users/tstoeger/Projects/rbusa_main/data/internal/nih_exporter/prj/RePORTER_PRJ_C_FY2017_011.zip\n",
      "Succesfully downloaded https://exporter.nih.gov/CSVs/final/RePORTER_PRJ_C_FY2017_012.zip to /Users/tstoeger/Projects/rbusa_main/data/internal/nih_exporter/prj/RePORTER_PRJ_C_FY2017_012.zip\n",
      "Succesfully downloaded https://exporter.nih.gov/CSVs/final/RePORTER_PRJ_C_FY2017_013.zip to /Users/tstoeger/Projects/rbusa_main/data/internal/nih_exporter/prj/RePORTER_PRJ_C_FY2017_013.zip\n"
     ]
    },
    {
     "name": "stdout",
     "output_type": "stream",
     "text": [
      "Succesfully downloaded https://exporter.nih.gov/CSVs/final/RePORTER_PRJ_C_FY2017_014.zip to /Users/tstoeger/Projects/rbusa_main/data/internal/nih_exporter/prj/RePORTER_PRJ_C_FY2017_014.zip\n",
      "Succesfully downloaded https://exporter.nih.gov/CSVs/final/RePORTER_PRJ_C_FY2017_015.zip to /Users/tstoeger/Projects/rbusa_main/data/internal/nih_exporter/prj/RePORTER_PRJ_C_FY2017_015.zip\n",
      "Succesfully downloaded https://exporter.nih.gov/CSVs/final/RePORTER_PRJ_C_FY2017_016.zip to /Users/tstoeger/Projects/rbusa_main/data/internal/nih_exporter/prj/RePORTER_PRJ_C_FY2017_016.zip\n",
      "Succesfully downloaded https://exporter.nih.gov/CSVs/final/RePORTER_PRJ_C_FY2017_017.zip to /Users/tstoeger/Projects/rbusa_main/data/internal/nih_exporter/prj/RePORTER_PRJ_C_FY2017_017.zip\n",
      "Succesfully downloaded https://exporter.nih.gov/CSVs/final/RePORTER_PRJ_C_FY2017_018.zip to /Users/tstoeger/Projects/rbusa_main/data/internal/nih_exporter/prj/RePORTER_PRJ_C_FY2017_018.zip\n",
      "Succesfully downloaded https://exporter.nih.gov/CSVs/final/RePORTER_PRJ_C_FY2017_019.zip to /Users/tstoeger/Projects/rbusa_main/data/internal/nih_exporter/prj/RePORTER_PRJ_C_FY2017_019.zip\n",
      "Succesfully downloaded https://exporter.nih.gov/CSVs/final/RePORTER_PRJ_C_FY2017_020.zip to /Users/tstoeger/Projects/rbusa_main/data/internal/nih_exporter/prj/RePORTER_PRJ_C_FY2017_020.zip\n",
      "Succesfully downloaded https://exporter.nih.gov/CSVs/final/RePORTER_PRJ_C_FY2017_021.zip to /Users/tstoeger/Projects/rbusa_main/data/internal/nih_exporter/prj/RePORTER_PRJ_C_FY2017_021.zip\n",
      "Succesfully downloaded https://exporter.nih.gov/CSVs/final/RePORTER_PRJ_C_FY2017_022.zip to /Users/tstoeger/Projects/rbusa_main/data/internal/nih_exporter/prj/RePORTER_PRJ_C_FY2017_022.zip\n",
      "Succesfully downloaded https://exporter.nih.gov/CSVs/final/RePORTER_PRJ_C_FY2017_023.zip to /Users/tstoeger/Projects/rbusa_main/data/internal/nih_exporter/prj/RePORTER_PRJ_C_FY2017_023.zip\n",
      "Succesfully downloaded https://exporter.nih.gov/CSVs/final/RePORTER_PRJ_C_FY2017_024.zip to /Users/tstoeger/Projects/rbusa_main/data/internal/nih_exporter/prj/RePORTER_PRJ_C_FY2017_024.zip\n",
      "Succesfully downloaded https://exporter.nih.gov/CSVs/final/RePORTER_PRJ_C_FY2017_025.zip to /Users/tstoeger/Projects/rbusa_main/data/internal/nih_exporter/prj/RePORTER_PRJ_C_FY2017_025.zip\n",
      "Succesfully downloaded https://exporter.nih.gov/CSVs/final/RePORTER_PRJ_C_FY2017_026.zip to /Users/tstoeger/Projects/rbusa_main/data/internal/nih_exporter/prj/RePORTER_PRJ_C_FY2017_026.zip\n",
      "Succesfully downloaded https://exporter.nih.gov/CSVs/final/RePORTER_PRJ_C_FY2017_027.zip to /Users/tstoeger/Projects/rbusa_main/data/internal/nih_exporter/prj/RePORTER_PRJ_C_FY2017_027.zip\n",
      "Succesfully downloaded https://exporter.nih.gov/CSVs/final/RePORTER_PRJ_C_FY2017_028.zip to /Users/tstoeger/Projects/rbusa_main/data/internal/nih_exporter/prj/RePORTER_PRJ_C_FY2017_028.zip\n",
      "Succesfully downloaded https://exporter.nih.gov/CSVs/final/RePORTER_PRJ_C_FY2017_029.zip to /Users/tstoeger/Projects/rbusa_main/data/internal/nih_exporter/prj/RePORTER_PRJ_C_FY2017_029.zip\n",
      "Succesfully downloaded https://exporter.nih.gov/CSVs/final/RePORTER_PRJ_C_FY2017_030.zip to /Users/tstoeger/Projects/rbusa_main/data/internal/nih_exporter/prj/RePORTER_PRJ_C_FY2017_030.zip\n",
      "Succesfully downloaded https://exporter.nih.gov/CSVs/final/RePORTER_PRJ_C_FY2017_031.zip to /Users/tstoeger/Projects/rbusa_main/data/internal/nih_exporter/prj/RePORTER_PRJ_C_FY2017_031.zip\n",
      "Succesfully downloaded https://exporter.nih.gov/CSVs/final/RePORTER_PRJ_C_FY2017_032.zip to /Users/tstoeger/Projects/rbusa_main/data/internal/nih_exporter/prj/RePORTER_PRJ_C_FY2017_032.zip\n",
      "Succesfully downloaded https://exporter.nih.gov/CSVs/final/RePORTER_PRJ_C_FY2017_033.zip to /Users/tstoeger/Projects/rbusa_main/data/internal/nih_exporter/prj/RePORTER_PRJ_C_FY2017_033.zip\n",
      "Succesfully downloaded https://exporter.nih.gov/CSVs/final/RePORTER_PRJ_C_FY2017_034.zip to /Users/tstoeger/Projects/rbusa_main/data/internal/nih_exporter/prj/RePORTER_PRJ_C_FY2017_034.zip\n",
      "Succesfully downloaded https://exporter.nih.gov/CSVs/final/RePORTER_PRJABS_C_FY2017_004.zip to /Users/tstoeger/Projects/rbusa_main/data/out/nih_exporter/prjabs/RePORTER_PRJABS_C_FY2017_004.zip\n",
      "Succesfully downloaded https://exporter.nih.gov/CSVs/final/RePORTER_PRJABS_C_FY2017_005.zip to /Users/tstoeger/Projects/rbusa_main/data/out/nih_exporter/prjabs/RePORTER_PRJABS_C_FY2017_005.zip\n",
      "Succesfully downloaded https://exporter.nih.gov/CSVs/final/RePORTER_PRJABS_C_FY2017_006.zip to /Users/tstoeger/Projects/rbusa_main/data/out/nih_exporter/prjabs/RePORTER_PRJABS_C_FY2017_006.zip\n",
      "Succesfully downloaded https://exporter.nih.gov/CSVs/final/RePORTER_PRJABS_C_FY2017_007.zip to /Users/tstoeger/Projects/rbusa_main/data/out/nih_exporter/prjabs/RePORTER_PRJABS_C_FY2017_007.zip\n",
      "Succesfully downloaded https://exporter.nih.gov/CSVs/final/RePORTER_PRJABS_C_FY2017_008.zip to /Users/tstoeger/Projects/rbusa_main/data/out/nih_exporter/prjabs/RePORTER_PRJABS_C_FY2017_008.zip\n",
      "Succesfully downloaded https://exporter.nih.gov/CSVs/final/RePORTER_PRJABS_C_FY2017_009.zip to /Users/tstoeger/Projects/rbusa_main/data/out/nih_exporter/prjabs/RePORTER_PRJABS_C_FY2017_009.zip\n",
      "Succesfully downloaded https://exporter.nih.gov/CSVs/final/RePORTER_PRJABS_C_FY2017_010.zip to /Users/tstoeger/Projects/rbusa_main/data/out/nih_exporter/prjabs/RePORTER_PRJABS_C_FY2017_010.zip\n",
      "Succesfully downloaded https://exporter.nih.gov/CSVs/final/RePORTER_PRJABS_C_FY2017_011.zip to /Users/tstoeger/Projects/rbusa_main/data/out/nih_exporter/prjabs/RePORTER_PRJABS_C_FY2017_011.zip\n",
      "Succesfully downloaded https://exporter.nih.gov/CSVs/final/RePORTER_PRJABS_C_FY2017_012.zip to /Users/tstoeger/Projects/rbusa_main/data/out/nih_exporter/prjabs/RePORTER_PRJABS_C_FY2017_012.zip\n",
      "Succesfully downloaded https://exporter.nih.gov/CSVs/final/RePORTER_PRJABS_C_FY2017_013.zip to /Users/tstoeger/Projects/rbusa_main/data/out/nih_exporter/prjabs/RePORTER_PRJABS_C_FY2017_013.zip\n",
      "Succesfully downloaded https://exporter.nih.gov/CSVs/final/RePORTER_PRJABS_C_FY2017_014.zip to /Users/tstoeger/Projects/rbusa_main/data/out/nih_exporter/prjabs/RePORTER_PRJABS_C_FY2017_014.zip\n",
      "Succesfully downloaded https://exporter.nih.gov/CSVs/final/RePORTER_PRJABS_C_FY2017_015.zip to /Users/tstoeger/Projects/rbusa_main/data/out/nih_exporter/prjabs/RePORTER_PRJABS_C_FY2017_015.zip\n",
      "Succesfully downloaded https://exporter.nih.gov/CSVs/final/RePORTER_PRJABS_C_FY2017_016.zip to /Users/tstoeger/Projects/rbusa_main/data/out/nih_exporter/prjabs/RePORTER_PRJABS_C_FY2017_016.zip\n",
      "Succesfully downloaded https://exporter.nih.gov/CSVs/final/RePORTER_PRJABS_C_FY2017_017.zip to /Users/tstoeger/Projects/rbusa_main/data/out/nih_exporter/prjabs/RePORTER_PRJABS_C_FY2017_017.zip\n",
      "Succesfully downloaded https://exporter.nih.gov/CSVs/final/RePORTER_PRJABS_C_FY2017_018.zip to /Users/tstoeger/Projects/rbusa_main/data/out/nih_exporter/prjabs/RePORTER_PRJABS_C_FY2017_018.zip\n",
      "Succesfully downloaded https://exporter.nih.gov/CSVs/final/RePORTER_PRJABS_C_FY2017_019.zip to /Users/tstoeger/Projects/rbusa_main/data/out/nih_exporter/prjabs/RePORTER_PRJABS_C_FY2017_019.zip\n",
      "Succesfully downloaded https://exporter.nih.gov/CSVs/final/RePORTER_PRJABS_C_FY2017_020.zip to /Users/tstoeger/Projects/rbusa_main/data/out/nih_exporter/prjabs/RePORTER_PRJABS_C_FY2017_020.zip\n",
      "Succesfully downloaded https://exporter.nih.gov/CSVs/final/RePORTER_PRJABS_C_FY2017_021.zip to /Users/tstoeger/Projects/rbusa_main/data/out/nih_exporter/prjabs/RePORTER_PRJABS_C_FY2017_021.zip\n",
      "Succesfully downloaded https://exporter.nih.gov/CSVs/final/RePORTER_PRJABS_C_FY2017_022.zip to /Users/tstoeger/Projects/rbusa_main/data/out/nih_exporter/prjabs/RePORTER_PRJABS_C_FY2017_022.zip\n",
      "Succesfully downloaded https://exporter.nih.gov/CSVs/final/RePORTER_PRJABS_C_FY2017_023.zip to /Users/tstoeger/Projects/rbusa_main/data/out/nih_exporter/prjabs/RePORTER_PRJABS_C_FY2017_023.zip\n",
      "Succesfully downloaded https://exporter.nih.gov/CSVs/final/RePORTER_PRJABS_C_FY2017_024.zip to /Users/tstoeger/Projects/rbusa_main/data/out/nih_exporter/prjabs/RePORTER_PRJABS_C_FY2017_024.zip\n",
      "Succesfully downloaded https://exporter.nih.gov/CSVs/final/RePORTER_PRJABS_C_FY2017_025.zip to /Users/tstoeger/Projects/rbusa_main/data/out/nih_exporter/prjabs/RePORTER_PRJABS_C_FY2017_025.zip\n"
     ]
    },
    {
     "name": "stdout",
     "output_type": "stream",
     "text": [
      "Succesfully downloaded https://exporter.nih.gov/CSVs/final/RePORTER_PRJABS_C_FY2017_026.zip to /Users/tstoeger/Projects/rbusa_main/data/out/nih_exporter/prjabs/RePORTER_PRJABS_C_FY2017_026.zip\n",
      "Succesfully downloaded https://exporter.nih.gov/CSVs/final/RePORTER_PRJABS_C_FY2017_027.zip to /Users/tstoeger/Projects/rbusa_main/data/out/nih_exporter/prjabs/RePORTER_PRJABS_C_FY2017_027.zip\n",
      "Succesfully downloaded https://exporter.nih.gov/CSVs/final/RePORTER_PRJABS_C_FY2017_028.zip to /Users/tstoeger/Projects/rbusa_main/data/out/nih_exporter/prjabs/RePORTER_PRJABS_C_FY2017_028.zip\n",
      "Succesfully downloaded https://exporter.nih.gov/CSVs/final/RePORTER_PRJABS_C_FY2017_029.zip to /Users/tstoeger/Projects/rbusa_main/data/out/nih_exporter/prjabs/RePORTER_PRJABS_C_FY2017_029.zip\n",
      "Succesfully downloaded https://exporter.nih.gov/CSVs/final/RePORTER_PRJABS_C_FY2017_030.zip to /Users/tstoeger/Projects/rbusa_main/data/out/nih_exporter/prjabs/RePORTER_PRJABS_C_FY2017_030.zip\n",
      "Succesfully downloaded https://exporter.nih.gov/CSVs/final/RePORTER_PRJABS_C_FY2017_031.zip to /Users/tstoeger/Projects/rbusa_main/data/out/nih_exporter/prjabs/RePORTER_PRJABS_C_FY2017_031.zip\n",
      "Succesfully downloaded https://exporter.nih.gov/CSVs/final/RePORTER_PRJABS_C_FY2017_032.zip to /Users/tstoeger/Projects/rbusa_main/data/out/nih_exporter/prjabs/RePORTER_PRJABS_C_FY2017_032.zip\n",
      "Succesfully downloaded https://exporter.nih.gov/CSVs/final/RePORTER_PRJABS_C_FY2017_033.zip to /Users/tstoeger/Projects/rbusa_main/data/out/nih_exporter/prjabs/RePORTER_PRJABS_C_FY2017_033.zip\n",
      "Succesfully downloaded https://exporter.nih.gov/CSVs/final/RePORTER_PRJABS_C_FY2017_034.zip to /Users/tstoeger/Projects/rbusa_main/data/out/nih_exporter/prjabs/RePORTER_PRJABS_C_FY2017_034.zip\n",
      "CPU times: user 23min 35s, sys: 41.7 s, total: 24min 17s\n",
      "Wall time: 50min 7s\n"
     ]
    }
   ],
   "source": [
    "%%time\n",
    "prepare.nih_exporter()"
   ]
  },
  {
   "cell_type": "code",
   "execution_count": null,
   "metadata": {
    "collapsed": true
   },
   "outputs": [],
   "source": []
  }
 ],
 "metadata": {
  "kernelspec": {
   "display_name": "Python 3",
   "language": "python",
   "name": "python3"
  },
  "language_info": {
   "codemirror_mode": {
    "name": "ipython",
    "version": 3
   },
   "file_extension": ".py",
   "mimetype": "text/x-python",
   "name": "python",
   "nbconvert_exporter": "python",
   "pygments_lexer": "ipython3",
   "version": "3.6.1"
  }
 },
 "nbformat": 4,
 "nbformat_minor": 2
}
